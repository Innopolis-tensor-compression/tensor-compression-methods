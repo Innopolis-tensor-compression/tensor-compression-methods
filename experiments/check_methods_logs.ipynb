{
 "cells": [
  {
   "cell_type": "markdown",
   "id": "8d28abb78bcc4515",
   "metadata": {},
   "source": "чтение и анализ логов бэнчмарка"
  },
  {
   "cell_type": "markdown",
   "id": "7ede56525f3e1cd8",
   "metadata": {},
   "source": "# Импорты"
  },
  {
   "cell_type": "code",
   "id": "3b0ff7de892705ca",
   "metadata": {
    "ExecuteTime": {
     "end_time": "2025-02-20T12:03:53.706982Z",
     "start_time": "2025-02-20T12:03:53.701217Z"
    }
   },
   "source": [
    "import re\n",
    "from pathlib import Path\n",
    "from pprint import pprint\n",
    "\n",
    "import matplotlib.pyplot as plt\n",
    "import numpy as np\n",
    "import pandas as pd\n",
    "import plotly.express as px\n",
    "import plotly.graph_objects as go\n",
    "import seaborn as sns\n",
    "from plotly import colors\n",
    "from sklearn.decomposition import PCA\n",
    "from sklearn.preprocessing import LabelEncoder, MinMaxScaler\n",
    "\n",
    "from src.utils.read_logs import LogReader"
   ],
   "outputs": [],
   "execution_count": 5
  },
  {
   "cell_type": "code",
   "id": "935afb598f29466a",
   "metadata": {
    "ExecuteTime": {
     "end_time": "2025-02-20T12:03:53.771979Z",
     "start_time": "2025-02-20T12:03:53.765734Z"
    }
   },
   "source": [
    "plt.ioff()\n",
    "%matplotlib notebook"
   ],
   "outputs": [],
   "execution_count": 6
  },
  {
   "cell_type": "markdown",
   "id": "1ed7c2f8724f965e",
   "metadata": {},
   "source": "# Чтение логов"
  },
  {
   "cell_type": "code",
   "id": "3626e61a8963db77",
   "metadata": {
    "ExecuteTime": {
     "end_time": "2025-02-20T12:06:02.731472Z",
     "start_time": "2025-02-20T12:03:53.818938Z"
    }
   },
   "source": [
    "log_file_path = \"logs/2024-12-05 method_logs.json\"\n",
    "logs = LogReader.load_logs_from_file(log_file_path)"
   ],
   "outputs": [],
   "execution_count": 7
  },
  {
   "cell_type": "code",
   "id": "5c3b0ebc0585e0cb",
   "metadata": {
    "ExecuteTime": {
     "end_time": "2025-02-20T12:06:02.801958Z",
     "start_time": "2025-02-20T12:06:02.792098Z"
    }
   },
   "source": [
    "logs[0]"
   ],
   "outputs": [
    {
     "data": {
      "text/plain": [
       "{'method_name': 'TensorLy_Tucker_video-0_pytorch_truncated_svd_svd',\n",
       " 'method_args': {'rank': [110, 256, 144, 3],\n",
       "  'n_iter_max': 100,\n",
       "  'init': 'svd',\n",
       "  'svd': 'truncated_svd',\n",
       "  'random_state': 42},\n",
       " 'qualitative_metrics': {'Language': 'Python',\n",
       "  'Library': 'TensorLy',\n",
       "  'TensorLy backend': 'pytorch',\n",
       "  'Tensor type': 'Dense',\n",
       "  'Data type': 'video-0',\n",
       "  'Platform': 'CPU, GPU',\n",
       "  'Decomposition method': 'Tucker'},\n",
       " 'quantitative_metrics': {'gpu_allocated_memory_used_mb': [94.03125,\n",
       "   0.0,\n",
       "   0.0,\n",
       "   0.0,\n",
       "   0.0],\n",
       "  'gpu_cached_memory_used_mb': [1376.0, 1374.0, 1372.0, 1372.0, 1372.0],\n",
       "  'ram_mem_used_mb': [2957.69921875,\n",
       "   2957.703125,\n",
       "   2957.703125,\n",
       "   2957.703125,\n",
       "   2957.71875],\n",
       "  'duration': [4.0693864822387695,\n",
       "   4.067977666854858,\n",
       "   4.028419256210327,\n",
       "   4.106175184249878,\n",
       "   4.1296546459198],\n",
       "  'frobenius_error': [1.9805761176726042,\n",
       "   1.9805761176726042,\n",
       "   1.9805761176726042,\n",
       "   1.9805761176726042,\n",
       "   1.9805761176726042],\n",
       "  'compression_ratio': [50.4540892321654,\n",
       "   50.4540892321654,\n",
       "   50.4540892321654,\n",
       "   50.4540892321654,\n",
       "   50.4540892321654]},\n",
       " 'error_message': ''}"
      ]
     },
     "execution_count": 8,
     "metadata": {},
     "output_type": "execute_result"
    }
   ],
   "execution_count": 8
  },
  {
   "cell_type": "code",
   "id": "c6447dcc3726e292",
   "metadata": {
    "ExecuteTime": {
     "end_time": "2025-02-20T12:06:03.892590Z",
     "start_time": "2025-02-20T12:06:03.033524Z"
    }
   },
   "source": [
    "log_data = []\n",
    "log_errors = []\n",
    "\n",
    "for log in logs:\n",
    "    if log[\"error_message\"] == \"\":\n",
    "        try:\n",
    "            data_entry = {\n",
    "                # Method name\n",
    "                \"method_name\": log[\"method_name\"],\n",
    "                # Some Qualitative Data\n",
    "                \"decomposition_method\": log[\"qualitative_metrics\"][\"Decomposition method\"],\n",
    "                \"data_type\": log[\"qualitative_metrics\"][\"Data type\"],\n",
    "                \"language\": log[\"qualitative_metrics\"][\"Language\"],\n",
    "                \"library\": log[\"qualitative_metrics\"][\"Library\"],\n",
    "                \"tensor_type\": log[\"qualitative_metrics\"][\"Tensor type\"],\n",
    "                \"platform\": log[\"qualitative_metrics\"][\"Platform\"],\n",
    "                \"backend\": log[\"qualitative_metrics\"].get(\n",
    "                    next(key for key in log[\"qualitative_metrics\"] if \"backend\" in key)\n",
    "                ),\n",
    "                # GPU Allocated Memory\n",
    "                \"gpu_allocated_memory_used_min\": np.min(\n",
    "                    [e for e in log[\"quantitative_metrics\"][\"gpu_allocated_memory_used_mb\"] if e >= 0.0]\n",
    "                ),\n",
    "                \"gpu_allocated_memory_used_max\": np.max(\n",
    "                    [e for e in log[\"quantitative_metrics\"][\"gpu_allocated_memory_used_mb\"] if e >= 0.0]\n",
    "                ),\n",
    "                \"gpu_allocated_memory_used_mean\": np.mean(\n",
    "                    [e for e in log[\"quantitative_metrics\"][\"gpu_allocated_memory_used_mb\"] if e >= 0.0]\n",
    "                ),\n",
    "                \"gpu_allocated_memory_used\": np.max(\n",
    "                    [e for e in log[\"quantitative_metrics\"][\"gpu_allocated_memory_used_mb\"] if e >= 0.0]\n",
    "                ),\n",
    "                # GPU Cached Memory\n",
    "                \"gpu_cached_memory_used_min\": np.min(\n",
    "                    [e for e in log[\"quantitative_metrics\"][\"gpu_cached_memory_used_mb\"] if e >= 0.0]\n",
    "                ),\n",
    "                \"gpu_cached_memory_used_max\": np.max(\n",
    "                    [e for e in log[\"quantitative_metrics\"][\"gpu_cached_memory_used_mb\"] if e >= 0.0]\n",
    "                ),\n",
    "                \"gpu_cached_memory_used_mean\": np.mean(\n",
    "                    [e for e in log[\"quantitative_metrics\"][\"gpu_cached_memory_used_mb\"] if e >= 0.0]\n",
    "                ),\n",
    "                \"gpu_cached_memory_used\": np.max(\n",
    "                    [e for e in log[\"quantitative_metrics\"][\"gpu_cached_memory_used_mb\"] if e >= 0.0]\n",
    "                ),\n",
    "                # RAM Memory Usage\n",
    "                \"ram_mem_used_min\": np.min([e for e in log[\"quantitative_metrics\"][\"ram_mem_used_mb\"] if e >= 0.0]),\n",
    "                \"ram_mem_used_max\": np.max([e for e in log[\"quantitative_metrics\"][\"ram_mem_used_mb\"] if e >= 0.0]),\n",
    "                \"ram_mem_used_mean\": np.mean([e for e in log[\"quantitative_metrics\"][\"ram_mem_used_mb\"] if e >= 0.0]),\n",
    "                \"ram_mem_used\": np.max([e for e in log[\"quantitative_metrics\"][\"ram_mem_used_mb\"] if e >= 0.0]),\n",
    "                # Duration\n",
    "                \"duration_min\": np.min([e for e in log[\"quantitative_metrics\"][\"duration\"] if e >= 0.0]),\n",
    "                \"duration_max\": np.max([e for e in log[\"quantitative_metrics\"][\"duration\"] if e >= 0.0]),\n",
    "                \"duration_mean\": np.mean([e for e in log[\"quantitative_metrics\"][\"duration\"] if e >= 0.0]),\n",
    "                \"duration\": np.max([e for e in log[\"quantitative_metrics\"][\"duration\"] if e >= 0.0]),\n",
    "                # Frobenius Error\n",
    "                \"frobenius_error_min\": np.min([e for e in log[\"quantitative_metrics\"][\"frobenius_error\"] if e >= 0.0]),\n",
    "                \"frobenius_error_max\": np.max([e for e in log[\"quantitative_metrics\"][\"frobenius_error\"] if e >= 0.0]),\n",
    "                \"frobenius_error_mean\": np.mean(\n",
    "                    [e for e in log[\"quantitative_metrics\"][\"frobenius_error\"] if e >= 0.0]\n",
    "                ),\n",
    "                \"frobenius_error\": np.max([e for e in log[\"quantitative_metrics\"][\"frobenius_error\"] if e >= 0.0]),\n",
    "                # Compression Ratio\n",
    "                \"compression_ratio_min\": np.min(\n",
    "                    [e for e in log[\"quantitative_metrics\"][\"compression_ratio\"] if e >= 0.0]\n",
    "                ),\n",
    "                \"compression_ratio_max\": np.max(\n",
    "                    [e for e in log[\"quantitative_metrics\"][\"compression_ratio\"] if e >= 0.0]\n",
    "                ),\n",
    "                \"compression_ratio_mean\": np.mean(\n",
    "                    [e for e in log[\"quantitative_metrics\"][\"compression_ratio\"] if e >= 0.0]\n",
    "                ),\n",
    "                \"compression_ratio\": np.max([e for e in log[\"quantitative_metrics\"][\"compression_ratio\"] if e >= 0.0]),\n",
    "            }\n",
    "            log_data.append(data_entry)\n",
    "        except Exception as e:\n",
    "            print(f\"Exception with {log['method_name']}. Error: {e!s}\")\n",
    "    else:\n",
    "        data_entry = {\n",
    "            # method name\n",
    "            \"method_name\": log[\"method_name\"],\n",
    "            # qualitative metrics\n",
    "            \"decomposition_method\": log[\"qualitative_metrics\"][\"Decomposition method\"],\n",
    "            \"data_type\": log[\"qualitative_metrics\"][\"Data type\"],\n",
    "            \"language\": log[\"qualitative_metrics\"][\"Language\"],\n",
    "            \"library\": log[\"qualitative_metrics\"][\"Library\"],\n",
    "            \"tensor_type\": log[\"qualitative_metrics\"][\"Tensor type\"],\n",
    "            \"platform\": log[\"qualitative_metrics\"][\"Platform\"],\n",
    "            \"backend\": log[\"qualitative_metrics\"].get(\n",
    "                next(key for key in log[\"qualitative_metrics\"] if \"backend\" in key)\n",
    "            ),\n",
    "            # Error data\n",
    "            \"error_message\": log[\"error_message\"],\n",
    "        }\n",
    "        log_errors.append(data_entry)\n",
    "\n",
    "df_logs = pd.DataFrame(log_data)\n",
    "df_logs_errors = pd.DataFrame(log_errors)"
   ],
   "outputs": [],
   "execution_count": 9
  },
  {
   "cell_type": "code",
   "id": "972bf6802385d562",
   "metadata": {
    "ExecuteTime": {
     "end_time": "2025-02-20T12:06:03.928533Z",
     "start_time": "2025-02-20T12:06:03.921641Z"
    }
   },
   "source": [
    "df_logs.shape"
   ],
   "outputs": [
    {
     "data": {
      "text/plain": [
       "(4211, 32)"
      ]
     },
     "execution_count": 10,
     "metadata": {},
     "output_type": "execute_result"
    }
   ],
   "execution_count": 10
  },
  {
   "cell_type": "code",
   "id": "f0bc387a18dfe3d5",
   "metadata": {
    "ExecuteTime": {
     "end_time": "2025-02-20T12:06:04.000505Z",
     "start_time": "2025-02-20T12:06:03.994242Z"
    }
   },
   "source": [
    "df_logs_errors.shape"
   ],
   "outputs": [
    {
     "data": {
      "text/plain": [
       "(4142, 9)"
      ]
     },
     "execution_count": 11,
     "metadata": {},
     "output_type": "execute_result"
    }
   ],
   "execution_count": 11
  },
  {
   "cell_type": "markdown",
   "id": "cd2d3dea1a9029d3",
   "metadata": {},
   "source": "## Обработка ошибок"
  },
  {
   "cell_type": "code",
   "id": "4bb0d4a02846c785",
   "metadata": {
    "ExecuteTime": {
     "end_time": "2025-02-20T12:06:04.076742Z",
     "start_time": "2025-02-20T12:06:04.067602Z"
    }
   },
   "source": [
    "def extract_memory_info(error_message):\n",
    "    pattern = r\"(\\d+\\.?\\d*)\\s*(\\w+iB)\"\n",
    "    match = re.search(pattern, error_message)\n",
    "\n",
    "    if match:\n",
    "        value = float(match.group(1))  # Память\n",
    "        unit = match.group(2)  # Тип памяти (единица измерения)\n",
    "\n",
    "        # Конвертация в MiB\n",
    "        conversion_factors = {\n",
    "            \"KiB\": 1 / 1024,  # Килобайты -> Мегабайты\n",
    "            \"MiB\": 1,  # Мегабайты -> Мегабайты\n",
    "            \"GiB\": 1024,  # Гигабайты -> Мегабайты\n",
    "            \"TiB\": 1024**2,  # Терабайты -> Мегабайты\n",
    "            \"PiB\": 1024**3,  # Петабайты -> Мегабайты\n",
    "            \"EiB\": 1024**4,  # Эксабайты -> Мегабайты\n",
    "            \"ZiB\": 1024**5,  # Зеттабайты -> Мегабайты\n",
    "            \"YiB\": 1024**6,  # Йоттабайты -> Мегабайты\n",
    "        }\n",
    "\n",
    "        if unit in conversion_factors:\n",
    "            value_in_mib = value * conversion_factors[unit]\n",
    "        else:\n",
    "            raise ValueError(f\"Неизвестная единица измерения памяти: {unit}\")\n",
    "\n",
    "        return value_in_mib, \"MiB\"\n",
    "\n",
    "    return None, None"
   ],
   "outputs": [],
   "execution_count": 12
  },
  {
   "cell_type": "code",
   "id": "e12e0b9e40047b30",
   "metadata": {
    "ExecuteTime": {
     "end_time": "2025-02-20T12:11:28.624406Z",
     "start_time": "2025-02-20T12:11:28.196847Z"
    }
   },
   "source": [
    "for index, row in df_logs_errors.iterrows():\n",
    "    error_message = row[\"error_message\"]\n",
    "\n",
    "    if \"Tried to allocate\" in error_message:  # pytorch\n",
    "        value, unit = extract_memory_info(error_message)\n",
    "        if not (value and unit):\n",
    "            print(\"Не удалось извлечь информацию о памяти из GPU and RAM ошибки.\")\n",
    "    elif \"Unable to allocate\" in error_message:  # numpy\n",
    "        value, unit = extract_memory_info(error_message)\n",
    "        if not (value and unit):\n",
    "            print(\"Не удалось извлечь информацию о памяти из RAM ошибки.\")\n",
    "    else:\n",
    "        print(error_message)\n",
    "        break\n",
    "\n",
    "    df_logs_errors.at[index, \"memory_tried_to_allocated_error_mib\"] = value"
   ],
   "outputs": [],
   "execution_count": 14
  },
  {
   "cell_type": "code",
   "id": "2f8d8d9ff2b059c4",
   "metadata": {
    "ExecuteTime": {
     "end_time": "2025-02-20T12:11:29.870404Z",
     "start_time": "2025-02-20T12:11:29.841962Z"
    }
   },
   "source": "df_logs_errors.head()",
   "outputs": [
    {
     "data": {
      "text/plain": [
       "                                      method_name decomposition_method  \\\n",
       "0  TensorLy_Tucker_video-0_pytorch_symeig_svd_svd               Tucker   \n",
       "1    TensorLy_Tucker_video-0_numpy_symeig_svd_svd               Tucker   \n",
       "2  TensorLy_Tucker_video-1_pytorch_symeig_svd_svd               Tucker   \n",
       "3    TensorLy_Tucker_video-1_numpy_symeig_svd_svd               Tucker   \n",
       "4  TensorLy_Tucker_video-2_pytorch_symeig_svd_svd               Tucker   \n",
       "\n",
       "  data_type language   library tensor_type  platform  backend  \\\n",
       "0   video-0   Python  TensorLy       Dense  CPU, GPU  pytorch   \n",
       "1   video-0   Python  TensorLy       Dense  CPU, GPU    numpy   \n",
       "2   video-1   Python  TensorLy       Dense  CPU, GPU  pytorch   \n",
       "3   video-1   Python  TensorLy       Dense  CPU, GPU    numpy   \n",
       "4   video-2   Python  TensorLy       Dense  CPU, GPU  pytorch   \n",
       "\n",
       "                                       error_message  \\\n",
       "0  Пропущена итерация из-за ошибки: pytorch, syme...   \n",
       "1  Пропущена итерация из-за ошибки: numpy, symeig...   \n",
       "2  Пропущена итерация из-за ошибки: pytorch, syme...   \n",
       "3  Пропущена итерация из-за ошибки: numpy, symeig...   \n",
       "4  Пропущена итерация из-за ошибки: pytorch, syme...   \n",
       "\n",
       "   memory_tried_to_allocated_error_mib  \n",
       "0                             93306.88  \n",
       "1                             93286.40  \n",
       "2                             52490.24  \n",
       "3                             52531.20  \n",
       "4                             93306.88  "
      ],
      "text/html": [
       "<div>\n",
       "<style scoped>\n",
       "    .dataframe tbody tr th:only-of-type {\n",
       "        vertical-align: middle;\n",
       "    }\n",
       "\n",
       "    .dataframe tbody tr th {\n",
       "        vertical-align: top;\n",
       "    }\n",
       "\n",
       "    .dataframe thead th {\n",
       "        text-align: right;\n",
       "    }\n",
       "</style>\n",
       "<table border=\"1\" class=\"dataframe\">\n",
       "  <thead>\n",
       "    <tr style=\"text-align: right;\">\n",
       "      <th></th>\n",
       "      <th>method_name</th>\n",
       "      <th>decomposition_method</th>\n",
       "      <th>data_type</th>\n",
       "      <th>language</th>\n",
       "      <th>library</th>\n",
       "      <th>tensor_type</th>\n",
       "      <th>platform</th>\n",
       "      <th>backend</th>\n",
       "      <th>error_message</th>\n",
       "      <th>memory_tried_to_allocated_error_mib</th>\n",
       "    </tr>\n",
       "  </thead>\n",
       "  <tbody>\n",
       "    <tr>\n",
       "      <th>0</th>\n",
       "      <td>TensorLy_Tucker_video-0_pytorch_symeig_svd_svd</td>\n",
       "      <td>Tucker</td>\n",
       "      <td>video-0</td>\n",
       "      <td>Python</td>\n",
       "      <td>TensorLy</td>\n",
       "      <td>Dense</td>\n",
       "      <td>CPU, GPU</td>\n",
       "      <td>pytorch</td>\n",
       "      <td>Пропущена итерация из-за ошибки: pytorch, syme...</td>\n",
       "      <td>93306.88</td>\n",
       "    </tr>\n",
       "    <tr>\n",
       "      <th>1</th>\n",
       "      <td>TensorLy_Tucker_video-0_numpy_symeig_svd_svd</td>\n",
       "      <td>Tucker</td>\n",
       "      <td>video-0</td>\n",
       "      <td>Python</td>\n",
       "      <td>TensorLy</td>\n",
       "      <td>Dense</td>\n",
       "      <td>CPU, GPU</td>\n",
       "      <td>numpy</td>\n",
       "      <td>Пропущена итерация из-за ошибки: numpy, symeig...</td>\n",
       "      <td>93286.40</td>\n",
       "    </tr>\n",
       "    <tr>\n",
       "      <th>2</th>\n",
       "      <td>TensorLy_Tucker_video-1_pytorch_symeig_svd_svd</td>\n",
       "      <td>Tucker</td>\n",
       "      <td>video-1</td>\n",
       "      <td>Python</td>\n",
       "      <td>TensorLy</td>\n",
       "      <td>Dense</td>\n",
       "      <td>CPU, GPU</td>\n",
       "      <td>pytorch</td>\n",
       "      <td>Пропущена итерация из-за ошибки: pytorch, syme...</td>\n",
       "      <td>52490.24</td>\n",
       "    </tr>\n",
       "    <tr>\n",
       "      <th>3</th>\n",
       "      <td>TensorLy_Tucker_video-1_numpy_symeig_svd_svd</td>\n",
       "      <td>Tucker</td>\n",
       "      <td>video-1</td>\n",
       "      <td>Python</td>\n",
       "      <td>TensorLy</td>\n",
       "      <td>Dense</td>\n",
       "      <td>CPU, GPU</td>\n",
       "      <td>numpy</td>\n",
       "      <td>Пропущена итерация из-за ошибки: numpy, symeig...</td>\n",
       "      <td>52531.20</td>\n",
       "    </tr>\n",
       "    <tr>\n",
       "      <th>4</th>\n",
       "      <td>TensorLy_Tucker_video-2_pytorch_symeig_svd_svd</td>\n",
       "      <td>Tucker</td>\n",
       "      <td>video-2</td>\n",
       "      <td>Python</td>\n",
       "      <td>TensorLy</td>\n",
       "      <td>Dense</td>\n",
       "      <td>CPU, GPU</td>\n",
       "      <td>pytorch</td>\n",
       "      <td>Пропущена итерация из-за ошибки: pytorch, syme...</td>\n",
       "      <td>93306.88</td>\n",
       "    </tr>\n",
       "  </tbody>\n",
       "</table>\n",
       "</div>"
      ]
     },
     "execution_count": 15,
     "metadata": {},
     "output_type": "execute_result"
    }
   ],
   "execution_count": 15
  },
  {
   "cell_type": "markdown",
   "id": "11d0be430a7939a9",
   "metadata": {},
   "source": "# Функции для анализа логов"
  },
  {
   "cell_type": "code",
   "execution_count": 11,
   "id": "fa260ebbbc5f2edc",
   "metadata": {
    "ExecuteTime": {
     "end_time": "2024-12-05T12:17:39.857246Z",
     "start_time": "2024-12-05T12:17:39.852727Z"
    }
   },
   "outputs": [],
   "source": [
    "# Отрисовка горизонтальных бар-графиков для метрик\n",
    "def plot_barh(ax, x_data, y_data, title, xlabel, best_value=None, best_label=None, color=\"green\"):\n",
    "    ax.barh(y_data, x_data, color=color)\n",
    "    ax.set_title(title, fontsize=14)\n",
    "    ax.set_xlabel(xlabel, fontsize=12)\n",
    "    if best_value is not None and best_label is not None:\n",
    "        ax.axvline(x=best_value, color=\"red\", linestyle=\"--\", label=best_label)\n",
    "        ax.legend()\n",
    "    for i in range(len(x_data)):\n",
    "        ax.text(x_data.iloc[i], i, f\"{x_data.iloc[i]:.6f}\", va=\"center\")"
   ]
  },
  {
   "cell_type": "code",
   "execution_count": 12,
   "id": "202cec82564e67ed",
   "metadata": {
    "ExecuteTime": {
     "end_time": "2024-12-05T12:17:39.912065Z",
     "start_time": "2024-12-05T12:17:39.907284Z"
    }
   },
   "outputs": [],
   "source": [
    "def get_metrics_data(filtered_df):\n",
    "    filtered_df_unique_by_method_name = filtered_df[\"method_name\"].unique()\n",
    "    analysis_data = []\n",
    "\n",
    "    for method in filtered_df_unique_by_method_name:\n",
    "        method_specific_data = filtered_df[filtered_df[\"method_name\"] == method]\n",
    "\n",
    "        compression_ratio = method_specific_data[\"compression_ratio\"].to_numpy()[0]\n",
    "        duration = method_specific_data[\"duration\"].to_numpy()[0]\n",
    "        total_memory = (\n",
    "            method_specific_data[\"ram_mem_used\"].to_numpy()[0]\n",
    "            + method_specific_data[\"gpu_cached_memory_used\"].to_numpy()[0]\n",
    "        )\n",
    "        frobenius_error = method_specific_data[\"frobenius_error\"].to_numpy()[0]\n",
    "\n",
    "        analysis_data.append(\n",
    "            {\n",
    "                \"method_name\": method,\n",
    "                \"duration\": duration,\n",
    "                \"total_memory\": total_memory,\n",
    "                \"frobenius_error\": frobenius_error,\n",
    "                \"compression_ratio\": compression_ratio,\n",
    "            }\n",
    "        )\n",
    "\n",
    "    return pd.DataFrame(analysis_data)"
   ]
  },
  {
   "cell_type": "code",
   "execution_count": 13,
   "id": "9ed06552976e5dfd",
   "metadata": {
    "ExecuteTime": {
     "end_time": "2024-12-05T12:17:39.978460Z",
     "start_time": "2024-12-05T12:17:39.972309Z"
    }
   },
   "outputs": [],
   "source": [
    "# Анализ и визуализация методов по количественным показателям в разрезе качественного показателя\n",
    "def plot_barhs_and_analyze_dfs(df_logs, group_name: str = \"decomposition_method\"):\n",
    "    plt.rcParams.update(\n",
    "        {\n",
    "            \"axes.titlesize\": 16,\n",
    "            \"axes.labelsize\": 14,\n",
    "            \"xtick.labelsize\": 12,\n",
    "            \"ytick.labelsize\": 12,\n",
    "            \"legend.fontsize\": 12,\n",
    "        }\n",
    "    )\n",
    "    groups = df_logs[group_name].unique()\n",
    "    analysis_results = {}\n",
    "\n",
    "    for group in groups:\n",
    "        filtered_df = df_logs[df_logs[group_name] == group]\n",
    "\n",
    "        analysis_df = get_metrics_data(filtered_df)\n",
    "\n",
    "        best_time_method = analysis_df.loc[analysis_df[\"duration\"].idxmin()]\n",
    "        best_memory_method = analysis_df.loc[analysis_df[\"total_memory\"].idxmin()]\n",
    "        best_error_method = analysis_df.loc[analysis_df[\"frobenius_error\"].idxmin()]\n",
    "\n",
    "        analysis_results[group] = {\n",
    "            \"best_time_method\": best_time_method.to_dict(),\n",
    "            \"best_memory_method\": best_memory_method.to_dict(),\n",
    "            \"best_error_method\": best_error_method.to_dict(),\n",
    "        }\n",
    "    #\n",
    "    #     num_methods = len(analysis_df[\"method_name\"])\n",
    "    #     height_per_method = 0.5\n",
    "    #     fig_height = max(36, num_methods * height_per_method)\n",
    "    #     fig_height = 2 ** 16 - 1 if 2 ** 16 < fig_height else fig_height\n",
    "    #\n",
    "    #     fig, axes = plt.subplots(4, 1, figsize=(12, fig_height))\n",
    "    #\n",
    "    #     plot_barh(\n",
    "    #         axes[0],\n",
    "    #         analysis_df[\"compression_ratio\"],\n",
    "    #         analysis_df[\"method_name\"],\n",
    "    #         f\"Сравнение сжатия по {group_name} - {group}\",\n",
    "    #         \"Сжатие (%)\",\n",
    "    #     )\n",
    "    #\n",
    "    #     plot_barh(\n",
    "    #         axes[1],\n",
    "    #         analysis_df[\"duration\"],\n",
    "    #         analysis_df[\"method_name\"],\n",
    "    #         f\"Время исполнения по {group_name} - {group}\",\n",
    "    #         \"Время (с)\",\n",
    "    #         best_time_method[\"duration\"],\n",
    "    #         \"Лучший метод\",\n",
    "    #         color=\"skyblue\",\n",
    "    #     )\n",
    "    #\n",
    "    #     plot_barh(\n",
    "    #         axes[2],\n",
    "    #         analysis_df[\"total_memory\"],\n",
    "    #         analysis_df[\"method_name\"],\n",
    "    #         f\"Сумма затрачиваемой памяти по {group_name} - {group}\",\n",
    "    #         \"Память (МБ)\",\n",
    "    #         best_memory_method[\"total_memory\"],\n",
    "    #         \"Лучший метод\",\n",
    "    #         color=\"lightgreen\",\n",
    "    #     )\n",
    "    #\n",
    "    #     plot_barh(\n",
    "    #         axes[3],\n",
    "    #         analysis_df[\"frobenius_error\"],\n",
    "    #         analysis_df[\"method_name\"],\n",
    "    #         f\"Ошибка Фробениуса по {group_name} - {group}\",\n",
    "    #         \"Ошибка (%)\",\n",
    "    #         best_error_method[\"frobenius_error\"],\n",
    "    #         \"Лучший метод\",\n",
    "    #         color=\"salmon\",\n",
    "    #     )\n",
    "    #\n",
    "    #     plt.tight_layout()\n",
    "    #     plt.subplots_adjust(top=0.95, bottom=0.05, left=0.05, right=0.95)\n",
    "    #     plt.show()\n",
    "\n",
    "    return analysis_results"
   ]
  },
  {
   "cell_type": "code",
   "execution_count": 14,
   "id": "92955ed24cefea6c",
   "metadata": {
    "ExecuteTime": {
     "end_time": "2024-12-05T12:17:40.045920Z",
     "start_time": "2024-12-05T12:17:40.042462Z"
    }
   },
   "outputs": [],
   "source": [
    "# # Отрисовка горизонтальных бар-графиков для метрик\n",
    "# def plot_error_bar(ax, data_mean, data_min, data_max, title, ylabel, label):\n",
    "#     yerr_lower = data_mean - data_min\n",
    "#     yerr_upper = data_max - data_mean\n",
    "#\n",
    "#     yerr_lower = max(yerr_lower, 0)\n",
    "#     yerr_upper = max(yerr_upper, 0)\n",
    "#\n",
    "#     ax.errorbar(\n",
    "#         [0], [data_mean], yerr=[[yerr_lower], [yerr_upper]], fmt=\"o\",\n",
    "#         markersize=10, capsize=10, capthick=3, elinewidth=3, color=\"lightgreen\", label=label\n",
    "#     )\n",
    "#     ax.set_title(title)\n",
    "#     ax.set_ylabel(ylabel)\n",
    "#     ax.set_xticks([0])\n",
    "#     ax.set_xticklabels([label])\n",
    "#\n",
    "#     for val, _lbl in zip([data_mean, data_min, data_max], [\"Mean\", \"Min\", \"Max\"], strict=False):\n",
    "#         ax.text(0, val, f\"{val:.2f}\", ha=\"center\", va=\"bottom\", fontsize=10, fontweight=\"bold\")\n",
    "#\n",
    "#     ax.axhline(y=data_mean, color=\"grey\", linestyle=\"--\")\n",
    "#     ax.axhline(y=data_min, color=\"lightgrey\", linestyle=\":\")\n",
    "#     ax.axhline(y=data_max, color=\"lightgrey\", linestyle=\":\")"
   ]
  },
  {
   "cell_type": "code",
   "execution_count": 15,
   "id": "5d791aa3cda4e058",
   "metadata": {
    "ExecuteTime": {
     "end_time": "2024-12-05T12:17:40.107667Z",
     "start_time": "2024-12-05T12:17:40.102118Z"
    }
   },
   "outputs": [],
   "source": [
    "# # Анализ и визуализация методов по количественным показателям по минимальным, максимальным и средним значениям\n",
    "# def plot_error_bars(method_data, method):\n",
    "#     fig, axes = plt.subplots(3, 2, figsize=(16, 16))\n",
    "#     fig.suptitle(f\"Графики для метода: {method}\", fontsize=16, fontweight=\"bold\", color=\"green\")\n",
    "#\n",
    "#     plot_error_bar(\n",
    "#         axes[0, 0],\n",
    "#         method_data[\"gpu_allocated_memory_used\"].to_numpy()[0],\n",
    "#         method_data[\"gpu_allocated_memory_used_min\"].to_numpy()[0],\n",
    "#         method_data[\"gpu_allocated_memory_used_max\"].to_numpy()[0],\n",
    "#         \"GPU Allocated Memory\",\n",
    "#         \"Memory (MB)\",\n",
    "#         method,\n",
    "#     )\n",
    "#\n",
    "#     plot_error_bar(\n",
    "#         axes[0, 1],\n",
    "#         method_data[\"gpu_cached_memory_used\"].to_numpy()[0],\n",
    "#         method_data[\"gpu_cached_memory_used_min\"].to_numpy()[0],\n",
    "#         method_data[\"gpu_cached_memory_used_max\"].to_numpy()[0],\n",
    "#         \"GPU Cached Memory\",\n",
    "#         \"Memory (MB)\",\n",
    "#         method,\n",
    "#     )\n",
    "#\n",
    "#     plot_error_bar(\n",
    "#         axes[1, 0],\n",
    "#         method_data[\"ram_mem_used\"].to_numpy()[0],\n",
    "#         method_data[\"ram_mem_used_min\"].to_numpy()[0],\n",
    "#         method_data[\"ram_mem_used_max\"].to_numpy()[0],\n",
    "#         \"RAM Memory Usage\",\n",
    "#         \"Memory (MB)\",\n",
    "#         method,\n",
    "#     )\n",
    "#\n",
    "#     plot_error_bar(\n",
    "#         axes[1, 1],\n",
    "#         method_data[\"duration\"].to_numpy()[0],\n",
    "#         method_data[\"duration_min\"].to_numpy()[0],\n",
    "#         method_data[\"duration_max\"].to_numpy()[0],\n",
    "#         \"Duration\",\n",
    "#         \"Time (s)\",\n",
    "#         method,\n",
    "#     )\n",
    "#\n",
    "#     plot_error_bar(\n",
    "#         axes[2, 0],\n",
    "#         method_data[\"frobenius_error\"].to_numpy()[0],\n",
    "#         method_data[\"frobenius_error_min\"].to_numpy()[0],\n",
    "#         method_data[\"frobenius_error_max\"].to_numpy()[0],\n",
    "#         \"Frobenius Error\",\n",
    "#         \"Error (%)\",\n",
    "#         method,\n",
    "#     )\n",
    "#\n",
    "#     plot_error_bar(\n",
    "#         axes[2, 1],\n",
    "#         method_data[\"compression_ratio\"].to_numpy()[0],\n",
    "#         method_data[\"compression_ratio_min\"].to_numpy()[0],\n",
    "#         method_data[\"compression_ratio_max\"].to_numpy()[0],\n",
    "#         \"Compression Ratio\",\n",
    "#         \"Ratio\",\n",
    "#         method,\n",
    "#     )\n",
    "#\n",
    "#     plt.tight_layout(rect=[0, 0, 1, 0.95])\n",
    "#     plt.show()"
   ]
  },
  {
   "cell_type": "markdown",
   "id": "6e8d85a7fca7b45b",
   "metadata": {},
   "source": "# Расчет лучших метрик"
  },
  {
   "cell_type": "markdown",
   "id": "c661bceea743c914",
   "metadata": {},
   "source": "## Сравнение методов по типам данных"
  },
  {
   "cell_type": "code",
   "execution_count": 16,
   "id": "5baf0580862e7c0c",
   "metadata": {
    "ExecuteTime": {
     "end_time": "2024-12-05T12:17:40.852017Z",
     "start_time": "2024-12-05T12:17:40.152480Z"
    }
   },
   "outputs": [],
   "source": [
    "analysis_results_data_type = plot_barhs_and_analyze_dfs(df_logs, group_name=\"data_type\")"
   ]
  },
  {
   "cell_type": "markdown",
   "id": "d435586be626edc2",
   "metadata": {},
   "source": "## Сравнение метрик по методам"
  },
  {
   "cell_type": "code",
   "execution_count": 17,
   "id": "b9ae151b287c3eec",
   "metadata": {
    "ExecuteTime": {
     "end_time": "2024-12-05T12:17:41.802438Z",
     "start_time": "2024-12-05T12:17:40.870243Z"
    }
   },
   "outputs": [],
   "source": [
    "analysis_results_decomposition_method = plot_barhs_and_analyze_dfs(df_logs, group_name=\"decomposition_method\")"
   ]
  },
  {
   "cell_type": "markdown",
   "id": "805813f556cd92d6",
   "metadata": {},
   "source": "## Сравнение метрик по методам и типам данных"
  },
  {
   "cell_type": "code",
   "execution_count": 18,
   "id": "faacd31a05caf6ca",
   "metadata": {
    "ExecuteTime": {
     "end_time": "2024-12-05T12:17:42.514203Z",
     "start_time": "2024-12-05T12:17:41.820069Z"
    }
   },
   "outputs": [],
   "source": [
    "data_types = df_logs[\"data_type\"].unique()\n",
    "\n",
    "df_logs_by_data_types_dict = {data_type: df_logs[df_logs[\"data_type\"] == data_type] for data_type in data_types}\n",
    "\n",
    "analysis_results_data_types_decompositions_methods = {\n",
    "    data_type: plot_barhs_and_analyze_dfs(df_logs_by_data_types_dict[data_type], group_name=\"decomposition_method\")\n",
    "    for data_type in data_types\n",
    "}"
   ]
  },
  {
   "cell_type": "markdown",
   "id": "17331aa2c148183a",
   "metadata": {},
   "source": "# Сравнение метрик"
  },
  {
   "cell_type": "markdown",
   "id": "840364a37648ad3a",
   "metadata": {},
   "source": "## Метрики в разрезе типов данных"
  },
  {
   "cell_type": "code",
   "execution_count": 19,
   "id": "2eca483412c9406d",
   "metadata": {
    "ExecuteTime": {
     "end_time": "2024-12-05T12:17:42.540715Z",
     "start_time": "2024-12-05T12:17:42.533566Z"
    }
   },
   "outputs": [
    {
     "name": "stdout",
     "output_type": "stream",
     "text": [
      "{   'eeg-0': {   'best_error_method': {   'compression_ratio': 51.84972227630668,\n",
      "                                          'duration': 161.12948322296143,\n",
      "                                          'frobenius_error': 2.628242508687997e-13,\n",
      "                                          'method_name': 'TensorLy_Tucker_eeg-0_numpy_truncated_svd_random',\n",
      "                                          'total_memory': 7250.796875},\n",
      "                 'best_memory_method': {   'compression_ratio': 51.84972227630668,\n",
      "                                           'duration': 222.25582098960876,\n",
      "                                           'frobenius_error': 2.9611494187299367e-13,\n",
      "                                           'method_name': 'TensorLy_Tucker_eeg-0_numpy_truncated_svd_svd',\n",
      "                                           'total_memory': 7248.21484375},\n",
      "                 'best_time_method': {   'compression_ratio': 51.84972227630668,\n",
      "                                         'duration': 10.071362257003784,\n",
      "                                         'frobenius_error': 1.7888925194612287e-11,\n",
      "                                         'method_name': 'TensorLy_Tucker_eeg-0_pytorch_randomized_svd_random',\n",
      "                                         'total_memory': 9788.140625}},\n",
      "    'image-0': {   'best_error_method': {   'compression_ratio': 50.177304964539005,\n",
      "                                            'duration': 4.232781410217285,\n",
      "                                            'frobenius_error': 0.3198430778080272,\n",
      "                                            'method_name': 'TensorLy_CP_image-0_pytorch_truncated_svd_random_True_True_abs_rec_error_0.0001_1e-08',\n",
      "                                            'total_memory': 5040.83984375},\n",
      "                   'best_memory_method': {   'compression_ratio': 50.119146421206175,\n",
      "                                             'duration': 1.4014248847961426,\n",
      "                                             'frobenius_error': 3.406406262439579,\n",
      "                                             'method_name': 'TensorLy_Tucker_image-0_pytorch_truncated_svd_random',\n",
      "                                             'total_memory': 3267.765625},\n",
      "                   'best_time_method': {   'compression_ratio': 50.119146421206175,\n",
      "                                           'duration': 0.10639333724975586,\n",
      "                                           'frobenius_error': 0.9180813664809205,\n",
      "                                           'method_name': 'TensorLy_TensorTrain_image-0_pytorch_randomized_svd',\n",
      "                                           'total_memory': 3402.1796875}},\n",
      "    'image-1': {   'best_error_method': {   'compression_ratio': 50.696836830566866,\n",
      "                                            'duration': 3.7510015964508057,\n",
      "                                            'frobenius_error': 0.8217801192413183,\n",
      "                                            'method_name': 'TensorLy_CP_image-1_pytorch_truncated_svd_random_False_True_abs_rec_error_0.0001_1e-08',\n",
      "                                            'total_memory': 3998.3359375},\n",
      "                   'best_memory_method': {   'compression_ratio': 50.77630754776072,\n",
      "                                             'duration': 2.0591440200805664,\n",
      "                                             'frobenius_error': 3.7379062715737077,\n",
      "                                             'method_name': 'TensorLy_Tucker_image-1_pytorch_truncated_svd_svd',\n",
      "                                             'total_memory': 3279.1171875},\n",
      "                   'best_time_method': {   'compression_ratio': 50.40309531266312,\n",
      "                                           'duration': 0.07936501502990723,\n",
      "                                           'frobenius_error': 3.692697441042207,\n",
      "                                           'method_name': 'TensorLy_TensorTrain_image-1_pytorch_randomized_svd',\n",
      "                                           'total_memory': 3402.1796875}},\n",
      "    'image-2': {   'best_error_method': {   'compression_ratio': 50.17961065801912,\n",
      "                                            'duration': 0.2318418025970459,\n",
      "                                            'frobenius_error': 7.318256302833867e-13,\n",
      "                                            'method_name': 'TensorLy_TensorTrain_image-2_pytorch_randomized_svd',\n",
      "                                            'total_memory': 3352.80859375},\n",
      "                   'best_memory_method': {   'compression_ratio': 50.257867707934814,\n",
      "                                             'duration': 6.0007781982421875,\n",
      "                                             'frobenius_error': 0.0027988875664400896,\n",
      "                                             'method_name': 'TensorLy_Tucker_image-2_pytorch_symeig_svd_random',\n",
      "                                             'total_memory': 3282.2578125},\n",
      "                   'best_time_method': {   'compression_ratio': 50.17961065801912,\n",
      "                                           'duration': 0.2318418025970459,\n",
      "                                           'frobenius_error': 7.318256302833867e-13,\n",
      "                                           'method_name': 'TensorLy_TensorTrain_image-2_pytorch_randomized_svd',\n",
      "                                           'total_memory': 3352.80859375}},\n",
      "    'video-0': {   'best_error_method': {   'compression_ratio': 50.34923206676137,\n",
      "                                            'duration': 0.9326269626617432,\n",
      "                                            'frobenius_error': 0.3259185481673732,\n",
      "                                            'method_name': 'TensorLy_TensorTrain_video-0_pytorch_truncated_svd',\n",
      "                                            'total_memory': 4399.39453125},\n",
      "                   'best_memory_method': {   'compression_ratio': 50.34923206676137,\n",
      "                                             'duration': 11.084824085235596,\n",
      "                                             'frobenius_error': 0.32591854816737353,\n",
      "                                             'method_name': 'TensorLy_TensorTrain_video-0_numpy_truncated_svd',\n",
      "                                             'total_memory': 3956.1640625},\n",
      "                   'best_time_method': {   'compression_ratio': 50.34923206676137,\n",
      "                                           'duration': 0.9326269626617432,\n",
      "                                           'frobenius_error': 0.3259185481673732,\n",
      "                                           'method_name': 'TensorLy_TensorTrain_video-0_pytorch_truncated_svd',\n",
      "                                           'total_memory': 4399.39453125}},\n",
      "    'video-1': {   'best_error_method': {   'compression_ratio': 50.31511622299383,\n",
      "                                            'duration': 0.872427225112915,\n",
      "                                            'frobenius_error': 0.6181153117831715,\n",
      "                                            'method_name': 'TensorLy_TensorTrain_video-1_pytorch_truncated_svd',\n",
      "                                            'total_memory': 3860.12890625},\n",
      "                   'best_memory_method': {   'compression_ratio': 50.31511622299383,\n",
      "                                             'duration': 3.5824391841888428,\n",
      "                                             'frobenius_error': 0.6181153117831715,\n",
      "                                             'method_name': 'TensorLy_TensorTrain_video-1_numpy_truncated_svd',\n",
      "                                             'total_memory': 3526.859375},\n",
      "                   'best_time_method': {   'compression_ratio': 50.31511622299383,\n",
      "                                           'duration': 0.7746901512145996,\n",
      "                                           'frobenius_error': 0.6316475747603899,\n",
      "                                           'method_name': 'TensorLy_TensorTrain_video-1_pytorch_randomized_svd',\n",
      "                                           'total_memory': 3594.1875}},\n",
      "    'video-2': {   'best_error_method': {   'compression_ratio': 50.14126505362166,\n",
      "                                            'duration': 11.41536283493042,\n",
      "                                            'frobenius_error': 0.16791040121800702,\n",
      "                                            'method_name': 'TensorLy_TensorTrain_video-2_numpy_truncated_svd',\n",
      "                                            'total_memory': 3995.5234375},\n",
      "                   'best_memory_method': {   'compression_ratio': 50.14126505362166,\n",
      "                                             'duration': 11.41536283493042,\n",
      "                                             'frobenius_error': 0.16791040121800702,\n",
      "                                             'method_name': 'TensorLy_TensorTrain_video-2_numpy_truncated_svd',\n",
      "                                             'total_memory': 3995.5234375},\n",
      "                   'best_time_method': {   'compression_ratio': 50.14126505362166,\n",
      "                                           'duration': 2.3022587299346924,\n",
      "                                           'frobenius_error': 0.16791040121800707,\n",
      "                                           'method_name': 'TensorLy_TensorTrain_video-2_pytorch_truncated_svd',\n",
      "                                           'total_memory': 4408.1796875}}}\n"
     ]
    }
   ],
   "source": [
    "pprint(analysis_results_data_type, indent=4)"
   ]
  },
  {
   "cell_type": "markdown",
   "id": "ed5c535708e56584",
   "metadata": {},
   "source": "## Метрики в разрезе методов"
  },
  {
   "cell_type": "code",
   "execution_count": 20,
   "id": "878a47b3aae9d0a5",
   "metadata": {
    "ExecuteTime": {
     "end_time": "2024-12-05T12:17:42.598457Z",
     "start_time": "2024-12-05T12:17:42.591978Z"
    }
   },
   "outputs": [
    {
     "name": "stdout",
     "output_type": "stream",
     "text": [
      "{   'CP': {   'best_error_method': {   'compression_ratio': 50.44725543659782,\n",
      "                                       'duration': 13.776263952255249,\n",
      "                                       'frobenius_error': 4.157637582053939e-08,\n",
      "                                       'method_name': 'TensorLy_CP_image-2_pytorch_truncated_svd_random_False_True_abs_rec_error_0_1e-09',\n",
      "                                       'total_memory': 10885.953125},\n",
      "              'best_memory_method': {   'compression_ratio': 50.696836830566866,\n",
      "                                        'duration': 3.1465892791748047,\n",
      "                                        'frobenius_error': 0.8227858028294301,\n",
      "                                        'method_name': 'TensorLy_CP_image-1_pytorch_truncated_svd_random_False_True_abs_rec_error_0_1e-08',\n",
      "                                        'total_memory': 3801.22265625},\n",
      "              'best_time_method': {   'compression_ratio': 50.696836830566866,\n",
      "                                      'duration': 0.12123274803161621,\n",
      "                                      'frobenius_error': 8.482056804655489,\n",
      "                                      'method_name': 'TensorLy_CP_image-1_pytorch_symeig_svd_random_True_False_rec_error_0.1_1e-05',\n",
      "                                      'total_memory': 3972.31640625}},\n",
      "    'TensorTrain': {   'best_error_method': {   'compression_ratio': 50.17961065801912,\n",
      "                                                'duration': 0.2318418025970459,\n",
      "                                                'frobenius_error': 7.318256302833867e-13,\n",
      "                                                'method_name': 'TensorLy_TensorTrain_image-2_pytorch_randomized_svd',\n",
      "                                                'total_memory': 3352.80859375},\n",
      "                       'best_memory_method': {   'compression_ratio': 50.17961065801912,\n",
      "                                                 'duration': 0.8476488590240479,\n",
      "                                                 'frobenius_error': 7.807758348538947e-05,\n",
      "                                                 'method_name': 'TensorLy_TensorTrain_image-2_pytorch_truncated_svd',\n",
      "                                                 'total_memory': 3327.05859375},\n",
      "                       'best_time_method': {   'compression_ratio': 50.40309531266312,\n",
      "                                               'duration': 0.07936501502990723,\n",
      "                                               'frobenius_error': 3.692697441042207,\n",
      "                                               'method_name': 'TensorLy_TensorTrain_image-1_pytorch_randomized_svd',\n",
      "                                               'total_memory': 3402.1796875}},\n",
      "    'Tucker': {   'best_error_method': {   'compression_ratio': 51.84972227630668,\n",
      "                                           'duration': 161.12948322296143,\n",
      "                                           'frobenius_error': 2.628242508687997e-13,\n",
      "                                           'method_name': 'TensorLy_Tucker_eeg-0_numpy_truncated_svd_random',\n",
      "                                           'total_memory': 7250.796875},\n",
      "                  'best_memory_method': {   'compression_ratio': 50.119146421206175,\n",
      "                                            'duration': 1.4014248847961426,\n",
      "                                            'frobenius_error': 3.406406262439579,\n",
      "                                            'method_name': 'TensorLy_Tucker_image-0_pytorch_truncated_svd_random',\n",
      "                                            'total_memory': 3267.765625},\n",
      "                  'best_time_method': {   'compression_ratio': 50.75483458719136,\n",
      "                                          'duration': 1.1212694644927979,\n",
      "                                          'frobenius_error': 1.2442350484624034,\n",
      "                                          'method_name': 'TensorLy_Tucker_video-1_pytorch_truncated_svd_random',\n",
      "                                          'total_memory': 3708.015625}}}\n"
     ]
    }
   ],
   "source": [
    "pprint(analysis_results_decomposition_method, indent=4)"
   ]
  },
  {
   "cell_type": "markdown",
   "id": "2e82b1f5277143ce",
   "metadata": {},
   "source": "## Метрики в разрезе типов данных и методов"
  },
  {
   "cell_type": "code",
   "execution_count": 21,
   "id": "5faa4664cedd79e7",
   "metadata": {
    "ExecuteTime": {
     "end_time": "2024-12-05T12:17:42.661522Z",
     "start_time": "2024-12-05T12:17:42.650112Z"
    }
   },
   "outputs": [
    {
     "name": "stdout",
     "output_type": "stream",
     "text": [
      "\n",
      "video-0\n",
      "\n",
      "{   'TensorTrain': {   'best_error_method': {   'compression_ratio': 50.34923206676137,\n",
      "                                                'duration': 0.9326269626617432,\n",
      "                                                'frobenius_error': 0.3259185481673732,\n",
      "                                                'method_name': 'TensorLy_TensorTrain_video-0_pytorch_truncated_svd',\n",
      "                                                'total_memory': 4399.39453125},\n",
      "                       'best_memory_method': {   'compression_ratio': 50.34923206676137,\n",
      "                                                 'duration': 11.084824085235596,\n",
      "                                                 'frobenius_error': 0.32591854816737353,\n",
      "                                                 'method_name': 'TensorLy_TensorTrain_video-0_numpy_truncated_svd',\n",
      "                                                 'total_memory': 3956.1640625},\n",
      "                       'best_time_method': {   'compression_ratio': 50.34923206676137,\n",
      "                                               'duration': 0.9326269626617432,\n",
      "                                               'frobenius_error': 0.3259185481673732,\n",
      "                                               'method_name': 'TensorLy_TensorTrain_video-0_pytorch_truncated_svd',\n",
      "                                               'total_memory': 4399.39453125}},\n",
      "    'Tucker': {   'best_error_method': {   'compression_ratio': 50.4540892321654,\n",
      "                                           'duration': 94.48067736625671,\n",
      "                                           'frobenius_error': 1.9805761176726036,\n",
      "                                           'method_name': 'TensorLy_Tucker_video-0_numpy_truncated_svd_svd',\n",
      "                                           'total_memory': 3969.4921875},\n",
      "                  'best_memory_method': {   'compression_ratio': 50.4540892321654,\n",
      "                                            'duration': 103.89271402359009,\n",
      "                                            'frobenius_error': 1.9805761176726036,\n",
      "                                            'method_name': 'TensorLy_Tucker_video-0_numpy_randomized_svd_svd',\n",
      "                                            'total_memory': 3965.37109375},\n",
      "                  'best_time_method': {   'compression_ratio': 50.4540892321654,\n",
      "                                          'duration': 3.127741575241089,\n",
      "                                          'frobenius_error': 1.9805761176726042,\n",
      "                                          'method_name': 'TensorLy_Tucker_video-0_pytorch_randomized_svd_random',\n",
      "                                          'total_memory': 4491.2421875}}}\n",
      "\n",
      "video-1\n",
      "\n",
      "{   'TensorTrain': {   'best_error_method': {   'compression_ratio': 50.31511622299383,\n",
      "                                                'duration': 0.872427225112915,\n",
      "                                                'frobenius_error': 0.6181153117831715,\n",
      "                                                'method_name': 'TensorLy_TensorTrain_video-1_pytorch_truncated_svd',\n",
      "                                                'total_memory': 3860.12890625},\n",
      "                       'best_memory_method': {   'compression_ratio': 50.31511622299383,\n",
      "                                                 'duration': 3.5824391841888428,\n",
      "                                                 'frobenius_error': 0.6181153117831715,\n",
      "                                                 'method_name': 'TensorLy_TensorTrain_video-1_numpy_truncated_svd',\n",
      "                                                 'total_memory': 3526.859375},\n",
      "                       'best_time_method': {   'compression_ratio': 50.31511622299383,\n",
      "                                               'duration': 0.7746901512145996,\n",
      "                                               'frobenius_error': 0.6316475747603899,\n",
      "                                               'method_name': 'TensorLy_TensorTrain_video-1_pytorch_randomized_svd',\n",
      "                                               'total_memory': 3594.1875}},\n",
      "    'Tucker': {   'best_error_method': {   'compression_ratio': 50.75483458719136,\n",
      "                                           'duration': 29.290882349014282,\n",
      "                                           'frobenius_error': 1.2442350484624023,\n",
      "                                           'method_name': 'TensorLy_Tucker_video-1_numpy_truncated_svd_svd',\n",
      "                                           'total_memory': 3574.1953125},\n",
      "                  'best_memory_method': {   'compression_ratio': 50.75483458719136,\n",
      "                                            'duration': 19.166367530822754,\n",
      "                                            'frobenius_error': 1.2442350484624027,\n",
      "                                            'method_name': 'TensorLy_Tucker_video-1_numpy_symeig_svd_random',\n",
      "                                            'total_memory': 3548.1640625},\n",
      "                  'best_time_method': {   'compression_ratio': 50.75483458719136,\n",
      "                                          'duration': 1.1212694644927979,\n",
      "                                          'frobenius_error': 1.2442350484624034,\n",
      "                                          'method_name': 'TensorLy_Tucker_video-1_pytorch_truncated_svd_random',\n",
      "                                          'total_memory': 3708.015625}}}\n",
      "\n",
      "video-2\n",
      "\n",
      "{   'TensorTrain': {   'best_error_method': {   'compression_ratio': 50.14126505362166,\n",
      "                                                'duration': 11.41536283493042,\n",
      "                                                'frobenius_error': 0.16791040121800702,\n",
      "                                                'method_name': 'TensorLy_TensorTrain_video-2_numpy_truncated_svd',\n",
      "                                                'total_memory': 3995.5234375},\n",
      "                       'best_memory_method': {   'compression_ratio': 50.14126505362166,\n",
      "                                                 'duration': 11.41536283493042,\n",
      "                                                 'frobenius_error': 0.16791040121800702,\n",
      "                                                 'method_name': 'TensorLy_TensorTrain_video-2_numpy_truncated_svd',\n",
      "                                                 'total_memory': 3995.5234375},\n",
      "                       'best_time_method': {   'compression_ratio': 50.14126505362166,\n",
      "                                               'duration': 2.3022587299346924,\n",
      "                                               'frobenius_error': 0.16791040121800707,\n",
      "                                               'method_name': 'TensorLy_TensorTrain_video-2_pytorch_truncated_svd',\n",
      "                                               'total_memory': 4408.1796875}},\n",
      "    'Tucker': {   'best_error_method': {   'compression_ratio': 50.224915361531096,\n",
      "                                           'duration': 113.29929947853088,\n",
      "                                           'frobenius_error': 1.6471167057829652,\n",
      "                                           'method_name': 'TensorLy_Tucker_video-2_numpy_randomized_svd_svd',\n",
      "                                           'total_memory': 4058.6015625},\n",
      "                  'best_memory_method': {   'compression_ratio': 50.224915361531096,\n",
      "                                            'duration': 57.37735652923584,\n",
      "                                            'frobenius_error': 1.6471167057829659,\n",
      "                                            'method_name': 'TensorLy_Tucker_video-2_numpy_truncated_svd_random',\n",
      "                                            'total_memory': 4057.9140625},\n",
      "                  'best_time_method': {   'compression_ratio': 50.224915361531096,\n",
      "                                          'duration': 3.310884475708008,\n",
      "                                          'frobenius_error': 1.6471167057829663,\n",
      "                                          'method_name': 'TensorLy_Tucker_video-2_pytorch_symeig_svd_random',\n",
      "                                          'total_memory': 4965.3359375}}}\n",
      "\n",
      "image-0\n",
      "\n",
      "{   'CP': {   'best_error_method': {   'compression_ratio': 50.177304964539005,\n",
      "                                       'duration': 4.232781410217285,\n",
      "                                       'frobenius_error': 0.3198430778080272,\n",
      "                                       'method_name': 'TensorLy_CP_image-0_pytorch_truncated_svd_random_True_True_abs_rec_error_0.0001_1e-08',\n",
      "                                       'total_memory': 5040.83984375},\n",
      "              'best_memory_method': {   'compression_ratio': 50.177304964539005,\n",
      "                                        'duration': 6.524778604507446,\n",
      "                                        'frobenius_error': 0.33012848518195737,\n",
      "                                        'method_name': 'TensorLy_CP_image-0_pytorch_symeig_svd_random_True_True_abs_rec_error_0.001_1e-07',\n",
      "                                        'total_memory': 4584.7734375},\n",
      "              'best_time_method': {   'compression_ratio': 50.177304964539005,\n",
      "                                      'duration': 0.1325690746307373,\n",
      "                                      'frobenius_error': 6.814853506072143,\n",
      "                                      'method_name': 'TensorLy_CP_image-0_pytorch_randomized_svd_random_True_False_rec_error_1.0_1e-05',\n",
      "                                      'total_memory': 5036.1640625}},\n",
      "    'TensorTrain': {   'best_error_method': {   'compression_ratio': 50.119146421206175,\n",
      "                                                'duration': 0.42330050468444824,\n",
      "                                                'frobenius_error': 0.8930696901696014,\n",
      "                                                'method_name': 'TensorLy_TensorTrain_image-0_pytorch_truncated_svd',\n",
      "                                                'total_memory': 3400.1796875},\n",
      "                       'best_memory_method': {   'compression_ratio': 50.119146421206175,\n",
      "                                                 'duration': 0.42330050468444824,\n",
      "                                                 'frobenius_error': 0.8930696901696014,\n",
      "                                                 'method_name': 'TensorLy_TensorTrain_image-0_pytorch_truncated_svd',\n",
      "                                                 'total_memory': 3400.1796875},\n",
      "                       'best_time_method': {   'compression_ratio': 50.119146421206175,\n",
      "                                               'duration': 0.10639333724975586,\n",
      "                                               'frobenius_error': 0.9180813664809205,\n",
      "                                               'method_name': 'TensorLy_TensorTrain_image-0_pytorch_randomized_svd',\n",
      "                                               'total_memory': 3402.1796875}},\n",
      "    'Tucker': {   'best_error_method': {   'compression_ratio': 50.119146421206175,\n",
      "                                           'duration': 2.1666252613067627,\n",
      "                                           'frobenius_error': 3.4064062624395786,\n",
      "                                           'method_name': 'TensorLy_Tucker_image-0_pytorch_truncated_svd_svd',\n",
      "                                           'total_memory': 3465.99609375},\n",
      "                  'best_memory_method': {   'compression_ratio': 50.119146421206175,\n",
      "                                            'duration': 1.4014248847961426,\n",
      "                                            'frobenius_error': 3.406406262439579,\n",
      "                                            'method_name': 'TensorLy_Tucker_image-0_pytorch_truncated_svd_random',\n",
      "                                            'total_memory': 3267.765625},\n",
      "                  'best_time_method': {   'compression_ratio': 50.119146421206175,\n",
      "                                          'duration': 1.4014248847961426,\n",
      "                                          'frobenius_error': 3.406406262439579,\n",
      "                                          'method_name': 'TensorLy_Tucker_image-0_pytorch_truncated_svd_random',\n",
      "                                          'total_memory': 3267.765625}}}\n",
      "\n",
      "image-1\n",
      "\n",
      "{   'CP': {   'best_error_method': {   'compression_ratio': 50.696836830566866,\n",
      "                                       'duration': 3.7510015964508057,\n",
      "                                       'frobenius_error': 0.8217801192413183,\n",
      "                                       'method_name': 'TensorLy_CP_image-1_pytorch_truncated_svd_random_False_True_abs_rec_error_0.0001_1e-08',\n",
      "                                       'total_memory': 3998.3359375},\n",
      "              'best_memory_method': {   'compression_ratio': 50.696836830566866,\n",
      "                                        'duration': 3.1465892791748047,\n",
      "                                        'frobenius_error': 0.8227858028294301,\n",
      "                                        'method_name': 'TensorLy_CP_image-1_pytorch_truncated_svd_random_False_True_abs_rec_error_0_1e-08',\n",
      "                                        'total_memory': 3801.22265625},\n",
      "              'best_time_method': {   'compression_ratio': 50.696836830566866,\n",
      "                                      'duration': 0.12123274803161621,\n",
      "                                      'frobenius_error': 8.482056804655489,\n",
      "                                      'method_name': 'TensorLy_CP_image-1_pytorch_symeig_svd_random_True_False_rec_error_0.1_1e-05',\n",
      "                                      'total_memory': 3972.31640625}},\n",
      "    'TensorTrain': {   'best_error_method': {   'compression_ratio': 50.40309531266312,\n",
      "                                                'duration': 0.21625208854675293,\n",
      "                                                'frobenius_error': 3.5757067097050497,\n",
      "                                                'method_name': 'TensorLy_TensorTrain_image-1_pytorch_truncated_svd',\n",
      "                                                'total_memory': 3400.1796875},\n",
      "                       'best_memory_method': {   'compression_ratio': 50.40309531266312,\n",
      "                                                 'duration': 0.21625208854675293,\n",
      "                                                 'frobenius_error': 3.5757067097050497,\n",
      "                                                 'method_name': 'TensorLy_TensorTrain_image-1_pytorch_truncated_svd',\n",
      "                                                 'total_memory': 3400.1796875},\n",
      "                       'best_time_method': {   'compression_ratio': 50.40309531266312,\n",
      "                                               'duration': 0.07936501502990723,\n",
      "                                               'frobenius_error': 3.692697441042207,\n",
      "                                               'method_name': 'TensorLy_TensorTrain_image-1_pytorch_randomized_svd',\n",
      "                                               'total_memory': 3402.1796875}},\n",
      "    'Tucker': {   'best_error_method': {   'compression_ratio': 50.77630754776072,\n",
      "                                           'duration': 1.6438100337982178,\n",
      "                                           'frobenius_error': 3.7379061719782793,\n",
      "                                           'method_name': 'TensorLy_Tucker_image-1_pytorch_randomized_svd_svd',\n",
      "                                           'total_memory': 3282.09375},\n",
      "                  'best_memory_method': {   'compression_ratio': 50.77630754776072,\n",
      "                                            'duration': 2.0591440200805664,\n",
      "                                            'frobenius_error': 3.7379062715737077,\n",
      "                                            'method_name': 'TensorLy_Tucker_image-1_pytorch_truncated_svd_svd',\n",
      "                                            'total_memory': 3279.1171875},\n",
      "                  'best_time_method': {   'compression_ratio': 50.77630754776072,\n",
      "                                          'duration': 1.5901000499725342,\n",
      "                                          'frobenius_error': 3.7485515065144166,\n",
      "                                          'method_name': 'TensorLy_Tucker_image-1_numpy_randomized_svd_random',\n",
      "                                          'total_memory': 3288.92578125}}}\n",
      "\n",
      "image-2\n",
      "\n",
      "{   'CP': {   'best_error_method': {   'compression_ratio': 50.44725543659782,\n",
      "                                       'duration': 13.776263952255249,\n",
      "                                       'frobenius_error': 4.157637582053939e-08,\n",
      "                                       'method_name': 'TensorLy_CP_image-2_pytorch_truncated_svd_random_False_True_abs_rec_error_0_1e-09',\n",
      "                                       'total_memory': 10885.953125},\n",
      "              'best_memory_method': {   'compression_ratio': 50.44725543659782,\n",
      "                                        'duration': 16.11466646194458,\n",
      "                                        'frobenius_error': 0.0028387403215448135,\n",
      "                                        'method_name': 'TensorLy_CP_image-2_pytorch_truncated_svd_random_False_False_rec_error_0.1_1e-07',\n",
      "                                        'total_memory': 10800.44140625},\n",
      "              'best_time_method': {   'compression_ratio': 50.44725543659782,\n",
      "                                      'duration': 0.5214395523071289,\n",
      "                                      'frobenius_error': 7.083465316481126e-08,\n",
      "                                      'method_name': 'TensorLy_CP_image-2_pytorch_randomized_svd_random_False_False_abs_rec_error_0_1e-06',\n",
      "                                      'total_memory': 10900.515625}},\n",
      "    'TensorTrain': {   'best_error_method': {   'compression_ratio': 50.17961065801912,\n",
      "                                                'duration': 0.2318418025970459,\n",
      "                                                'frobenius_error': 7.318256302833867e-13,\n",
      "                                                'method_name': 'TensorLy_TensorTrain_image-2_pytorch_randomized_svd',\n",
      "                                                'total_memory': 3352.80859375},\n",
      "                       'best_memory_method': {   'compression_ratio': 50.17961065801912,\n",
      "                                                 'duration': 0.8476488590240479,\n",
      "                                                 'frobenius_error': 7.807758348538947e-05,\n",
      "                                                 'method_name': 'TensorLy_TensorTrain_image-2_pytorch_truncated_svd',\n",
      "                                                 'total_memory': 3327.05859375},\n",
      "                       'best_time_method': {   'compression_ratio': 50.17961065801912,\n",
      "                                               'duration': 0.2318418025970459,\n",
      "                                               'frobenius_error': 7.318256302833867e-13,\n",
      "                                               'method_name': 'TensorLy_TensorTrain_image-2_pytorch_randomized_svd',\n",
      "                                               'total_memory': 3352.80859375}},\n",
      "    'Tucker': {   'best_error_method': {   'compression_ratio': 50.257867707934814,\n",
      "                                           'duration': 3.708529233932495,\n",
      "                                           'frobenius_error': 0.002798887566440064,\n",
      "                                           'method_name': 'TensorLy_Tucker_image-2_numpy_truncated_svd_random',\n",
      "                                           'total_memory': 3394.6796875},\n",
      "                  'best_memory_method': {   'compression_ratio': 50.257867707934814,\n",
      "                                            'duration': 6.0007781982421875,\n",
      "                                            'frobenius_error': 0.0027988875664400896,\n",
      "                                            'method_name': 'TensorLy_Tucker_image-2_pytorch_symeig_svd_random',\n",
      "                                            'total_memory': 3282.2578125},\n",
      "                  'best_time_method': {   'compression_ratio': 50.257867707934814,\n",
      "                                          'duration': 2.942230224609375,\n",
      "                                          'frobenius_error': 0.002798887566440064,\n",
      "                                          'method_name': 'TensorLy_Tucker_image-2_numpy_symeig_svd_random',\n",
      "                                          'total_memory': 3399.69921875}}}\n",
      "\n",
      "eeg-0\n",
      "\n",
      "{   'Tucker': {   'best_error_method': {   'compression_ratio': 51.84972227630668,\n",
      "                                           'duration': 161.12948322296143,\n",
      "                                           'frobenius_error': 2.628242508687997e-13,\n",
      "                                           'method_name': 'TensorLy_Tucker_eeg-0_numpy_truncated_svd_random',\n",
      "                                           'total_memory': 7250.796875},\n",
      "                  'best_memory_method': {   'compression_ratio': 51.84972227630668,\n",
      "                                            'duration': 222.25582098960876,\n",
      "                                            'frobenius_error': 2.9611494187299367e-13,\n",
      "                                            'method_name': 'TensorLy_Tucker_eeg-0_numpy_truncated_svd_svd',\n",
      "                                            'total_memory': 7248.21484375},\n",
      "                  'best_time_method': {   'compression_ratio': 51.84972227630668,\n",
      "                                          'duration': 10.071362257003784,\n",
      "                                          'frobenius_error': 1.7888925194612287e-11,\n",
      "                                          'method_name': 'TensorLy_Tucker_eeg-0_pytorch_randomized_svd_random',\n",
      "                                          'total_memory': 9788.140625}}}\n"
     ]
    }
   ],
   "source": [
    "for data_type, metrics in analysis_results_data_types_decompositions_methods.items():\n",
    "    print(f\"\\n{data_type}\\n\")\n",
    "    pprint(metrics, indent=4)"
   ]
  },
  {
   "cell_type": "markdown",
   "id": "e47ca0cd30bd524",
   "metadata": {},
   "source": "# Аналитика логов количественных и качественных метрик"
  },
  {
   "cell_type": "markdown",
   "id": "bfa413c0482f23c0",
   "metadata": {},
   "source": "## Обработка данных"
  },
  {
   "cell_type": "code",
   "execution_count": 22,
   "id": "759b7c84c41ff4eb",
   "metadata": {
    "ExecuteTime": {
     "end_time": "2024-12-05T12:17:42.725154Z",
     "start_time": "2024-12-05T12:17:42.720670Z"
    }
   },
   "outputs": [
    {
     "data": {
      "text/plain": [
       "(4211, 32)"
      ]
     },
     "execution_count": 22,
     "metadata": {},
     "output_type": "execute_result"
    }
   ],
   "source": [
    "df_logs.shape"
   ]
  },
  {
   "cell_type": "code",
   "execution_count": 23,
   "id": "6db7d11d30f20222",
   "metadata": {
    "ExecuteTime": {
     "end_time": "2024-12-05T12:17:42.806228Z",
     "start_time": "2024-12-05T12:17:42.783499Z"
    }
   },
   "outputs": [
    {
     "data": {
      "text/html": [
       "<div>\n",
       "<style scoped>\n",
       "    .dataframe tbody tr th:only-of-type {\n",
       "        vertical-align: middle;\n",
       "    }\n",
       "\n",
       "    .dataframe tbody tr th {\n",
       "        vertical-align: top;\n",
       "    }\n",
       "\n",
       "    .dataframe thead th {\n",
       "        text-align: right;\n",
       "    }\n",
       "</style>\n",
       "<table border=\"1\" class=\"dataframe\">\n",
       "  <thead>\n",
       "    <tr style=\"text-align: right;\">\n",
       "      <th></th>\n",
       "      <th>method_name</th>\n",
       "      <th>decomposition_method</th>\n",
       "      <th>data_type</th>\n",
       "      <th>language</th>\n",
       "      <th>library</th>\n",
       "      <th>tensor_type</th>\n",
       "      <th>platform</th>\n",
       "      <th>backend</th>\n",
       "      <th>gpu_allocated_memory_used_min</th>\n",
       "      <th>gpu_allocated_memory_used_max</th>\n",
       "      <th>...</th>\n",
       "      <th>duration_mean</th>\n",
       "      <th>duration</th>\n",
       "      <th>frobenius_error_min</th>\n",
       "      <th>frobenius_error_max</th>\n",
       "      <th>frobenius_error_mean</th>\n",
       "      <th>frobenius_error</th>\n",
       "      <th>compression_ratio_min</th>\n",
       "      <th>compression_ratio_max</th>\n",
       "      <th>compression_ratio_mean</th>\n",
       "      <th>compression_ratio</th>\n",
       "    </tr>\n",
       "  </thead>\n",
       "  <tbody>\n",
       "    <tr>\n",
       "      <th>0</th>\n",
       "      <td>TensorLy_Tucker_video-0_pytorch_truncated_svd_svd</td>\n",
       "      <td>Tucker</td>\n",
       "      <td>video-0</td>\n",
       "      <td>Python</td>\n",
       "      <td>TensorLy</td>\n",
       "      <td>Dense</td>\n",
       "      <td>CPU, GPU</td>\n",
       "      <td>pytorch</td>\n",
       "      <td>0.0</td>\n",
       "      <td>94.03125</td>\n",
       "      <td>...</td>\n",
       "      <td>4.080323</td>\n",
       "      <td>4.129655</td>\n",
       "      <td>1.980576</td>\n",
       "      <td>1.980576</td>\n",
       "      <td>1.980576</td>\n",
       "      <td>1.980576</td>\n",
       "      <td>50.454089</td>\n",
       "      <td>50.454089</td>\n",
       "      <td>50.454089</td>\n",
       "      <td>50.454089</td>\n",
       "    </tr>\n",
       "    <tr>\n",
       "      <th>1</th>\n",
       "      <td>TensorLy_Tucker_video-0_pytorch_truncated_svd_...</td>\n",
       "      <td>Tucker</td>\n",
       "      <td>video-0</td>\n",
       "      <td>Python</td>\n",
       "      <td>TensorLy</td>\n",
       "      <td>Dense</td>\n",
       "      <td>CPU, GPU</td>\n",
       "      <td>pytorch</td>\n",
       "      <td>0.0</td>\n",
       "      <td>93.65625</td>\n",
       "      <td>...</td>\n",
       "      <td>2.671328</td>\n",
       "      <td>3.271829</td>\n",
       "      <td>1.980576</td>\n",
       "      <td>1.980576</td>\n",
       "      <td>1.980576</td>\n",
       "      <td>1.980576</td>\n",
       "      <td>50.454089</td>\n",
       "      <td>50.454089</td>\n",
       "      <td>50.454089</td>\n",
       "      <td>50.454089</td>\n",
       "    </tr>\n",
       "    <tr>\n",
       "      <th>2</th>\n",
       "      <td>TensorLy_Tucker_video-0_pytorch_symeig_svd_random</td>\n",
       "      <td>Tucker</td>\n",
       "      <td>video-0</td>\n",
       "      <td>Python</td>\n",
       "      <td>TensorLy</td>\n",
       "      <td>Dense</td>\n",
       "      <td>CPU, GPU</td>\n",
       "      <td>pytorch</td>\n",
       "      <td>0.0</td>\n",
       "      <td>94.03125</td>\n",
       "      <td>...</td>\n",
       "      <td>3.091334</td>\n",
       "      <td>3.148221</td>\n",
       "      <td>1.980576</td>\n",
       "      <td>1.980576</td>\n",
       "      <td>1.980576</td>\n",
       "      <td>1.980576</td>\n",
       "      <td>50.454089</td>\n",
       "      <td>50.454089</td>\n",
       "      <td>50.454089</td>\n",
       "      <td>50.454089</td>\n",
       "    </tr>\n",
       "    <tr>\n",
       "      <th>3</th>\n",
       "      <td>TensorLy_Tucker_video-0_pytorch_randomized_svd...</td>\n",
       "      <td>Tucker</td>\n",
       "      <td>video-0</td>\n",
       "      <td>Python</td>\n",
       "      <td>TensorLy</td>\n",
       "      <td>Dense</td>\n",
       "      <td>CPU, GPU</td>\n",
       "      <td>pytorch</td>\n",
       "      <td>0.0</td>\n",
       "      <td>93.65625</td>\n",
       "      <td>...</td>\n",
       "      <td>8.001925</td>\n",
       "      <td>8.403675</td>\n",
       "      <td>1.980576</td>\n",
       "      <td>1.980576</td>\n",
       "      <td>1.980576</td>\n",
       "      <td>1.980576</td>\n",
       "      <td>50.454089</td>\n",
       "      <td>50.454089</td>\n",
       "      <td>50.454089</td>\n",
       "      <td>50.454089</td>\n",
       "    </tr>\n",
       "    <tr>\n",
       "      <th>4</th>\n",
       "      <td>TensorLy_Tucker_video-0_pytorch_randomized_svd...</td>\n",
       "      <td>Tucker</td>\n",
       "      <td>video-0</td>\n",
       "      <td>Python</td>\n",
       "      <td>TensorLy</td>\n",
       "      <td>Dense</td>\n",
       "      <td>CPU, GPU</td>\n",
       "      <td>pytorch</td>\n",
       "      <td>0.0</td>\n",
       "      <td>94.03125</td>\n",
       "      <td>...</td>\n",
       "      <td>3.088294</td>\n",
       "      <td>3.127742</td>\n",
       "      <td>1.980576</td>\n",
       "      <td>1.980576</td>\n",
       "      <td>1.980576</td>\n",
       "      <td>1.980576</td>\n",
       "      <td>50.454089</td>\n",
       "      <td>50.454089</td>\n",
       "      <td>50.454089</td>\n",
       "      <td>50.454089</td>\n",
       "    </tr>\n",
       "  </tbody>\n",
       "</table>\n",
       "<p>5 rows × 32 columns</p>\n",
       "</div>"
      ],
      "text/plain": [
       "                                         method_name decomposition_method  \\\n",
       "0  TensorLy_Tucker_video-0_pytorch_truncated_svd_svd               Tucker   \n",
       "1  TensorLy_Tucker_video-0_pytorch_truncated_svd_...               Tucker   \n",
       "2  TensorLy_Tucker_video-0_pytorch_symeig_svd_random               Tucker   \n",
       "3  TensorLy_Tucker_video-0_pytorch_randomized_svd...               Tucker   \n",
       "4  TensorLy_Tucker_video-0_pytorch_randomized_svd...               Tucker   \n",
       "\n",
       "  data_type language   library tensor_type  platform  backend  \\\n",
       "0   video-0   Python  TensorLy       Dense  CPU, GPU  pytorch   \n",
       "1   video-0   Python  TensorLy       Dense  CPU, GPU  pytorch   \n",
       "2   video-0   Python  TensorLy       Dense  CPU, GPU  pytorch   \n",
       "3   video-0   Python  TensorLy       Dense  CPU, GPU  pytorch   \n",
       "4   video-0   Python  TensorLy       Dense  CPU, GPU  pytorch   \n",
       "\n",
       "   gpu_allocated_memory_used_min  gpu_allocated_memory_used_max  ...  \\\n",
       "0                            0.0                       94.03125  ...   \n",
       "1                            0.0                       93.65625  ...   \n",
       "2                            0.0                       94.03125  ...   \n",
       "3                            0.0                       93.65625  ...   \n",
       "4                            0.0                       94.03125  ...   \n",
       "\n",
       "   duration_mean  duration  frobenius_error_min  frobenius_error_max  \\\n",
       "0       4.080323  4.129655             1.980576             1.980576   \n",
       "1       2.671328  3.271829             1.980576             1.980576   \n",
       "2       3.091334  3.148221             1.980576             1.980576   \n",
       "3       8.001925  8.403675             1.980576             1.980576   \n",
       "4       3.088294  3.127742             1.980576             1.980576   \n",
       "\n",
       "   frobenius_error_mean  frobenius_error  compression_ratio_min  \\\n",
       "0              1.980576         1.980576              50.454089   \n",
       "1              1.980576         1.980576              50.454089   \n",
       "2              1.980576         1.980576              50.454089   \n",
       "3              1.980576         1.980576              50.454089   \n",
       "4              1.980576         1.980576              50.454089   \n",
       "\n",
       "   compression_ratio_max  compression_ratio_mean  compression_ratio  \n",
       "0              50.454089               50.454089          50.454089  \n",
       "1              50.454089               50.454089          50.454089  \n",
       "2              50.454089               50.454089          50.454089  \n",
       "3              50.454089               50.454089          50.454089  \n",
       "4              50.454089               50.454089          50.454089  \n",
       "\n",
       "[5 rows x 32 columns]"
      ]
     },
     "execution_count": 23,
     "metadata": {},
     "output_type": "execute_result"
    }
   ],
   "source": [
    "df_logs.head()"
   ]
  },
  {
   "cell_type": "code",
   "execution_count": 24,
   "id": "1e3b86330faacd1c",
   "metadata": {
    "ExecuteTime": {
     "end_time": "2024-12-05T12:17:42.861883Z",
     "start_time": "2024-12-05T12:17:42.852981Z"
    }
   },
   "outputs": [],
   "source": [
    "df_filtered_for_analytics = df_logs[\n",
    "    [\n",
    "        \"method_name\",\n",
    "        \"data_type\",\n",
    "        \"backend\",\n",
    "        \"decomposition_method\",\n",
    "        \"gpu_allocated_memory_used\",\n",
    "        \"gpu_allocated_memory_used_mean\",\n",
    "        \"gpu_cached_memory_used\",\n",
    "        \"gpu_cached_memory_used_mean\",\n",
    "        \"ram_mem_used\",\n",
    "        \"ram_mem_used_mean\",\n",
    "        \"duration\",\n",
    "        \"duration_mean\",\n",
    "        \"frobenius_error\",\n",
    "        \"frobenius_error_mean\",\n",
    "        \"compression_ratio\",\n",
    "        \"compression_ratio_mean\",\n",
    "    ]\n",
    "]"
   ]
  },
  {
   "cell_type": "code",
   "execution_count": 25,
   "id": "29fe889dd2f01f14",
   "metadata": {
    "ExecuteTime": {
     "end_time": "2024-12-05T12:17:42.922552Z",
     "start_time": "2024-12-05T12:17:42.912487Z"
    }
   },
   "outputs": [],
   "source": [
    "dfs_by_decomposition_method = {\n",
    "    decomposition_method: df_filtered_for_analytics[\n",
    "        df_filtered_for_analytics[\"decomposition_method\"] == decomposition_method\n",
    "    ]\n",
    "    for decomposition_method in df_filtered_for_analytics[\"decomposition_method\"].unique()\n",
    "}"
   ]
  },
  {
   "cell_type": "code",
   "execution_count": 26,
   "id": "324effdf120738b3",
   "metadata": {
    "ExecuteTime": {
     "end_time": "2024-12-05T12:18:19.596175Z",
     "start_time": "2024-12-05T12:17:43.105821Z"
    }
   },
   "outputs": [],
   "source": [
    "for decomposition_method, df_by_decomposition_method in dfs_by_decomposition_method.items():\n",
    "    enriched_rows = []\n",
    "    for _, row in df_by_decomposition_method.iterrows():\n",
    "        matching_log = next((log for log in logs if row[\"method_name\"] == log[\"method_name\"]), None)\n",
    "\n",
    "        enriched_row = row.copy()\n",
    "\n",
    "        if row[\"decomposition_method\"] == \"Tucker\":\n",
    "            enriched_row[\"init\"] = matching_log[\"method_args\"].get(\"init\")\n",
    "            enriched_row[\"svd\"] = matching_log[\"method_args\"].get(\"svd\")\n",
    "        elif row[\"decomposition_method\"] == \"TensorTrain\":\n",
    "            enriched_row[\"svd\"] = matching_log[\"method_args\"].get(\"svd\")\n",
    "        elif row[\"decomposition_method\"] == \"CP\":\n",
    "            enriched_row[\"init\"] = matching_log[\"method_args\"].get(\"init\")\n",
    "            enriched_row[\"svd\"] = matching_log[\"method_args\"].get(\"svd\")\n",
    "            enriched_row[\"normalize_factors\"] = matching_log[\"method_args\"].get(\"normalize_factors\")\n",
    "            enriched_row[\"orthogonalise\"] = matching_log[\"method_args\"].get(\"orthogonalise\")\n",
    "            enriched_row[\"tol\"] = matching_log[\"method_args\"].get(\"tol\")\n",
    "            enriched_row[\"l2_reg\"] = matching_log[\"method_args\"].get(\"l2_reg\")\n",
    "            enriched_row[\"cvg_criterion\"] = matching_log[\"method_args\"].get(\"cvg_criterion\")\n",
    "\n",
    "        enriched_rows.append(enriched_row)\n",
    "\n",
    "    dfs_by_decomposition_method[decomposition_method] = pd.DataFrame(enriched_rows)"
   ]
  },
  {
   "cell_type": "code",
   "execution_count": 27,
   "id": "c961043851513607",
   "metadata": {
    "ExecuteTime": {
     "end_time": "2024-12-05T12:18:19.723774Z",
     "start_time": "2024-12-05T12:18:19.719618Z"
    }
   },
   "outputs": [
    {
     "data": {
      "text/plain": [
       "dict_keys(['Tucker', 'TensorTrain', 'CP'])"
      ]
     },
     "execution_count": 27,
     "metadata": {},
     "output_type": "execute_result"
    }
   ],
   "source": [
    "dfs_by_decomposition_method.keys()"
   ]
  },
  {
   "metadata": {},
   "cell_type": "markdown",
   "source": "## Обработка ошибок",
   "id": "5a95e534bc893d7c"
  },
  {
   "metadata": {
    "ExecuteTime": {
     "end_time": "2025-02-20T12:17:43.341056Z",
     "start_time": "2025-02-20T12:17:43.327551Z"
    }
   },
   "cell_type": "code",
   "source": "df_logs_errors.head()",
   "id": "7c73ff95e09679e4",
   "outputs": [
    {
     "data": {
      "text/plain": [
       "                                      method_name decomposition_method  \\\n",
       "0  TensorLy_Tucker_video-0_pytorch_symeig_svd_svd               Tucker   \n",
       "1    TensorLy_Tucker_video-0_numpy_symeig_svd_svd               Tucker   \n",
       "2  TensorLy_Tucker_video-1_pytorch_symeig_svd_svd               Tucker   \n",
       "3    TensorLy_Tucker_video-1_numpy_symeig_svd_svd               Tucker   \n",
       "4  TensorLy_Tucker_video-2_pytorch_symeig_svd_svd               Tucker   \n",
       "\n",
       "  data_type language   library tensor_type  platform  backend  \\\n",
       "0   video-0   Python  TensorLy       Dense  CPU, GPU  pytorch   \n",
       "1   video-0   Python  TensorLy       Dense  CPU, GPU    numpy   \n",
       "2   video-1   Python  TensorLy       Dense  CPU, GPU  pytorch   \n",
       "3   video-1   Python  TensorLy       Dense  CPU, GPU    numpy   \n",
       "4   video-2   Python  TensorLy       Dense  CPU, GPU  pytorch   \n",
       "\n",
       "                                       error_message  \\\n",
       "0  Пропущена итерация из-за ошибки: pytorch, syme...   \n",
       "1  Пропущена итерация из-за ошибки: numpy, symeig...   \n",
       "2  Пропущена итерация из-за ошибки: pytorch, syme...   \n",
       "3  Пропущена итерация из-за ошибки: numpy, symeig...   \n",
       "4  Пропущена итерация из-за ошибки: pytorch, syme...   \n",
       "\n",
       "   memory_tried_to_allocated_error_mib  \n",
       "0                             93306.88  \n",
       "1                             93286.40  \n",
       "2                             52490.24  \n",
       "3                             52531.20  \n",
       "4                             93306.88  "
      ],
      "text/html": [
       "<div>\n",
       "<style scoped>\n",
       "    .dataframe tbody tr th:only-of-type {\n",
       "        vertical-align: middle;\n",
       "    }\n",
       "\n",
       "    .dataframe tbody tr th {\n",
       "        vertical-align: top;\n",
       "    }\n",
       "\n",
       "    .dataframe thead th {\n",
       "        text-align: right;\n",
       "    }\n",
       "</style>\n",
       "<table border=\"1\" class=\"dataframe\">\n",
       "  <thead>\n",
       "    <tr style=\"text-align: right;\">\n",
       "      <th></th>\n",
       "      <th>method_name</th>\n",
       "      <th>decomposition_method</th>\n",
       "      <th>data_type</th>\n",
       "      <th>language</th>\n",
       "      <th>library</th>\n",
       "      <th>tensor_type</th>\n",
       "      <th>platform</th>\n",
       "      <th>backend</th>\n",
       "      <th>error_message</th>\n",
       "      <th>memory_tried_to_allocated_error_mib</th>\n",
       "    </tr>\n",
       "  </thead>\n",
       "  <tbody>\n",
       "    <tr>\n",
       "      <th>0</th>\n",
       "      <td>TensorLy_Tucker_video-0_pytorch_symeig_svd_svd</td>\n",
       "      <td>Tucker</td>\n",
       "      <td>video-0</td>\n",
       "      <td>Python</td>\n",
       "      <td>TensorLy</td>\n",
       "      <td>Dense</td>\n",
       "      <td>CPU, GPU</td>\n",
       "      <td>pytorch</td>\n",
       "      <td>Пропущена итерация из-за ошибки: pytorch, syme...</td>\n",
       "      <td>93306.88</td>\n",
       "    </tr>\n",
       "    <tr>\n",
       "      <th>1</th>\n",
       "      <td>TensorLy_Tucker_video-0_numpy_symeig_svd_svd</td>\n",
       "      <td>Tucker</td>\n",
       "      <td>video-0</td>\n",
       "      <td>Python</td>\n",
       "      <td>TensorLy</td>\n",
       "      <td>Dense</td>\n",
       "      <td>CPU, GPU</td>\n",
       "      <td>numpy</td>\n",
       "      <td>Пропущена итерация из-за ошибки: numpy, symeig...</td>\n",
       "      <td>93286.40</td>\n",
       "    </tr>\n",
       "    <tr>\n",
       "      <th>2</th>\n",
       "      <td>TensorLy_Tucker_video-1_pytorch_symeig_svd_svd</td>\n",
       "      <td>Tucker</td>\n",
       "      <td>video-1</td>\n",
       "      <td>Python</td>\n",
       "      <td>TensorLy</td>\n",
       "      <td>Dense</td>\n",
       "      <td>CPU, GPU</td>\n",
       "      <td>pytorch</td>\n",
       "      <td>Пропущена итерация из-за ошибки: pytorch, syme...</td>\n",
       "      <td>52490.24</td>\n",
       "    </tr>\n",
       "    <tr>\n",
       "      <th>3</th>\n",
       "      <td>TensorLy_Tucker_video-1_numpy_symeig_svd_svd</td>\n",
       "      <td>Tucker</td>\n",
       "      <td>video-1</td>\n",
       "      <td>Python</td>\n",
       "      <td>TensorLy</td>\n",
       "      <td>Dense</td>\n",
       "      <td>CPU, GPU</td>\n",
       "      <td>numpy</td>\n",
       "      <td>Пропущена итерация из-за ошибки: numpy, symeig...</td>\n",
       "      <td>52531.20</td>\n",
       "    </tr>\n",
       "    <tr>\n",
       "      <th>4</th>\n",
       "      <td>TensorLy_Tucker_video-2_pytorch_symeig_svd_svd</td>\n",
       "      <td>Tucker</td>\n",
       "      <td>video-2</td>\n",
       "      <td>Python</td>\n",
       "      <td>TensorLy</td>\n",
       "      <td>Dense</td>\n",
       "      <td>CPU, GPU</td>\n",
       "      <td>pytorch</td>\n",
       "      <td>Пропущена итерация из-за ошибки: pytorch, syme...</td>\n",
       "      <td>93306.88</td>\n",
       "    </tr>\n",
       "  </tbody>\n",
       "</table>\n",
       "</div>"
      ]
     },
     "execution_count": 17,
     "metadata": {},
     "output_type": "execute_result"
    }
   ],
   "execution_count": 17
  },
  {
   "cell_type": "markdown",
   "id": "46d68d555110472f",
   "metadata": {},
   "source": "## Методы для графиков"
  },
  {
   "cell_type": "code",
   "execution_count": 28,
   "id": "7333cb891d5db954",
   "metadata": {
    "ExecuteTime": {
     "end_time": "2024-12-05T12:18:19.759389Z",
     "start_time": "2024-12-05T12:18:19.752639Z"
    }
   },
   "outputs": [],
   "source": [
    "def preprocess_dataframe(df):\n",
    "    df_encoded = df.copy()\n",
    "    for column in df_encoded.columns:\n",
    "        if df_encoded[column].dtype == \"object\" and column != \"method_name\":\n",
    "            df_encoded[column] = LabelEncoder().fit_transform(df_encoded[column])\n",
    "\n",
    "    scaler = MinMaxScaler()\n",
    "    df_encoded[df_encoded.columns.difference([\"method_name\"])] = scaler.fit_transform(\n",
    "        df_encoded[df_encoded.columns.difference([\"method_name\"])]\n",
    "    )\n",
    "    return df_encoded"
   ]
  },
  {
   "cell_type": "code",
   "execution_count": 29,
   "id": "a1b0f94b3a14cc85",
   "metadata": {
    "ExecuteTime": {
     "end_time": "2024-12-05T12:18:20.186588Z",
     "start_time": "2024-12-05T12:18:20.179754Z"
    }
   },
   "outputs": [],
   "source": [
    "def plot_heatmap(df, title):\n",
    "    folder_path = Path(\"../.cache/data_analyze/\")\n",
    "\n",
    "    corr_matrix = df.drop(columns=[\"method_name\"]).corr()\n",
    "\n",
    "    fig = go.Figure(\n",
    "        data=go.Heatmap(\n",
    "            z=corr_matrix.values,\n",
    "            x=corr_matrix.columns,\n",
    "            y=corr_matrix.index,\n",
    "            colorscale=colors.sequential.RdBu,\n",
    "            colorbar={\n",
    "                \"title\": \"Correlation\",\n",
    "                \"titlefont\": {\"color\": \"black\"},\n",
    "                \"tickfont\": {\"color\": \"black\"},\n",
    "            },\n",
    "            text=corr_matrix.values,\n",
    "            texttemplate=\"%{text:.2f}\",\n",
    "            textfont={\"size\": 12, \"color\": \"black\"},\n",
    "            hovertemplate=\"<b>%{x}</b> vs. <b>%{y}</b> <b>Correlation:</b> %{z:.8f}<extra></extra>\",\n",
    "        )\n",
    "    )\n",
    "\n",
    "    fig.update_layout(\n",
    "        title=f\"Heatmap: {title}\",\n",
    "        title_font={\"color\": \"black\"},\n",
    "        xaxis={\"tickangle\": -45, \"tickfont\": {\"size\": 12, \"color\": \"black\"}},\n",
    "        yaxis={\"tickfont\": {\"size\": 12, \"color\": \"black\"}},\n",
    "        width=1400,\n",
    "        height=1400,\n",
    "        plot_bgcolor=\"white\",\n",
    "        paper_bgcolor=\"white\",\n",
    "    )\n",
    "\n",
    "    folder_path.mkdir(parents=True, exist_ok=True)\n",
    "\n",
    "    fig.write_html(folder_path / f\"heatmap_{title}.html\")"
   ]
  },
  {
   "cell_type": "code",
   "execution_count": 30,
   "id": "dcc3878c5f66eb6f",
   "metadata": {
    "ExecuteTime": {
     "end_time": "2024-12-05T12:18:20.268352Z",
     "start_time": "2024-12-05T12:18:20.259982Z"
    }
   },
   "outputs": [],
   "source": [
    "def plot_pca(df, title):\n",
    "    folder_path = Path(\"../.cache/data_analyze/\")\n",
    "    folder_path.mkdir(parents=True, exist_ok=True)\n",
    "\n",
    "    pca_df = df.drop(columns=[\"method_name\"])\n",
    "    pca = PCA(n_components=3)\n",
    "    pca_components = pca.fit_transform(pca_df)\n",
    "\n",
    "    pca_df = pd.DataFrame(\n",
    "        {\n",
    "            \"PCA1\": pca_components[:, 0],\n",
    "            \"PCA2\": pca_components[:, 1],\n",
    "            \"PCA3\": pca_components[:, 2],\n",
    "            \"method_name\": df[\"method_name\"].to_numpy(),\n",
    "        }\n",
    "    )\n",
    "\n",
    "    fig1 = px.scatter(\n",
    "        pca_df, x=\"PCA1\", y=\"PCA2\", color=\"method_name\", title=f\"PCA 2D Projection: {title}\", hover_name=\"method_name\"\n",
    "    )\n",
    "    fig1.update_traces(marker={\"size\": 10})\n",
    "    fig1.update_layout(\n",
    "        width=1800,\n",
    "        height=1400,\n",
    "        plot_bgcolor=\"white\",\n",
    "        paper_bgcolor=\"white\",\n",
    "        title_font={\"color\": \"black\"},\n",
    "        xaxis={\n",
    "            \"titlefont\": {\"size\": 12, \"color\": \"black\"},\n",
    "            \"tickfont\": {\"size\": 12, \"color\": \"black\"},\n",
    "        },\n",
    "        yaxis={\n",
    "            \"titlefont\": {\"size\": 12, \"color\": \"black\"},\n",
    "            \"tickfont\": {\"size\": 12, \"color\": \"black\"},\n",
    "        },\n",
    "        showlegend=False,\n",
    "    )\n",
    "\n",
    "    fig1.write_html(folder_path / f\"pca_2d_{title}.html\")\n",
    "\n",
    "    fig2 = px.scatter_3d(\n",
    "        pca_df,\n",
    "        x=\"PCA1\",\n",
    "        y=\"PCA2\",\n",
    "        z=\"PCA3\",\n",
    "        color=\"method_name\",\n",
    "        title=f\"PCA 3D Projection: {title}\",\n",
    "        hover_name=\"method_name\",\n",
    "    )\n",
    "    fig2.update_traces(marker={\"size\": 5})\n",
    "    fig2.update_layout(\n",
    "        scene={\n",
    "            \"xaxis_title\": \"PCA1\",\n",
    "            \"yaxis_title\": \"PCA2\",\n",
    "            \"zaxis_title\": \"PCA3\",\n",
    "            \"xaxis_backgroundcolor\": \"white\",\n",
    "            \"yaxis_backgroundcolor\": \"white\",\n",
    "            \"zaxis_backgroundcolor\": \"white\",\n",
    "            \"xaxis\": {\n",
    "                \"titlefont\": {\"size\": 12, \"color\": \"black\"},\n",
    "                \"tickfont\": {\"size\": 12, \"color\": \"black\"},\n",
    "            },\n",
    "            \"yaxis\": {\n",
    "                \"titlefont\": {\"size\": 12, \"color\": \"black\"},\n",
    "                \"tickfont\": {\"size\": 12, \"color\": \"black\"},\n",
    "            },\n",
    "            \"zaxis\": {\n",
    "                \"titlefont\": {\"size\": 12, \"color\": \"black\"},\n",
    "                \"tickfont\": {\"size\": 12, \"color\": \"black\"},\n",
    "            },\n",
    "            \"bgcolor\": \"white\",\n",
    "        },\n",
    "        width=1800,\n",
    "        height=1400,\n",
    "        plot_bgcolor=\"white\",\n",
    "        paper_bgcolor=\"white\",\n",
    "        title_font={\"color\": \"black\"},\n",
    "        showlegend=False,\n",
    "    )\n",
    "\n",
    "    fig2.write_html(folder_path / f\"pca_3d_{title}.html\")"
   ]
  },
  {
   "cell_type": "code",
   "execution_count": 31,
   "id": "e08b5981dce7be22",
   "metadata": {
    "ExecuteTime": {
     "end_time": "2024-12-05T12:18:20.322818Z",
     "start_time": "2024-12-05T12:18:20.315439Z"
    }
   },
   "outputs": [],
   "source": [
    "def plot_pairplot(df, title, sample_size=1000, num_axes=100):\n",
    "    folder_path = Path(\"../.cache/data_analyze/\")\n",
    "    folder_path.mkdir(parents=True, exist_ok=True)\n",
    "\n",
    "    pairplot_df = df.drop(columns=[\"method_name\"])\n",
    "\n",
    "    if len(pairplot_df) > sample_size:\n",
    "        pairplot_df = pairplot_df.sample(n=sample_size, random_state=42)\n",
    "\n",
    "    selected_axes = pairplot_df.columns[:num_axes]\n",
    "\n",
    "    sns.set(style=\"white\")\n",
    "    g = sns.pairplot(pairplot_df[selected_axes], diag_kind=\"kde\", markers=\"+\", plot_kws={\"s\": 50})\n",
    "    g.fig.suptitle(f\"Pairplot: {title}\", y=1.02, fontsize=16, color=\"black\")\n",
    "\n",
    "    for ax in g.axes.flatten():\n",
    "        ax.tick_params(axis=\"x\", labelsize=12, labelcolor=\"black\")\n",
    "        ax.tick_params(axis=\"y\", labelsize=12, labelcolor=\"black\")\n",
    "        ax.set_facecolor(\"white\")\n",
    "        ax.set_xticks(ax.get_xticks())\n",
    "        ax.set_xticklabels(ax.get_xticklabels(), rotation=45, ha=\"right\")\n",
    "\n",
    "    plt.savefig(folder_path / f\"pairplot_{title}.png\", dpi=300, bbox_inches=\"tight\")\n",
    "    plt.close(\"all\")"
   ]
  },
  {
   "cell_type": "code",
   "execution_count": 32,
   "id": "f4b9817caaf3c585",
   "metadata": {
    "ExecuteTime": {
     "end_time": "2024-12-05T12:18:20.380064Z",
     "start_time": "2024-12-05T12:18:20.376394Z"
    }
   },
   "outputs": [],
   "source": [
    "dfs_by_decomposition_method_encoded = {}"
   ]
  },
  {
   "cell_type": "code",
   "execution_count": 33,
   "id": "77f4ac2eb1730ec1",
   "metadata": {
    "ExecuteTime": {
     "end_time": "2024-12-05T12:18:20.432794Z",
     "start_time": "2024-12-05T12:18:20.426431Z"
    }
   },
   "outputs": [
    {
     "data": {
      "text/plain": [
       "dict_keys(['Tucker', 'TensorTrain', 'CP'])"
      ]
     },
     "execution_count": 33,
     "metadata": {},
     "output_type": "execute_result"
    }
   ],
   "source": [
    "dfs_by_decomposition_method.keys()"
   ]
  },
  {
   "cell_type": "code",
   "execution_count": 34,
   "id": "dec7f997bcfbdc45",
   "metadata": {
    "ExecuteTime": {
     "end_time": "2024-12-05T12:18:20.576695Z",
     "start_time": "2024-12-05T12:18:20.525338Z"
    }
   },
   "outputs": [],
   "source": [
    "for key, df_by_decomposition_method in dfs_by_decomposition_method.items():\n",
    "    dfs_by_decomposition_method_encoded[key] = preprocess_dataframe(\n",
    "        df_by_decomposition_method.drop(\"decomposition_method\", axis=1)\n",
    "    )"
   ]
  },
  {
   "cell_type": "code",
   "execution_count": 35,
   "id": "8d2cb88071365ebd",
   "metadata": {
    "ExecuteTime": {
     "end_time": "2024-12-05T12:18:20.585129Z",
     "start_time": "2024-12-05T12:18:20.581665Z"
    }
   },
   "outputs": [],
   "source": [
    "# dfs_by_decomposition_method['CP']"
   ]
  },
  {
   "cell_type": "code",
   "execution_count": 36,
   "id": "9c355691189462ad",
   "metadata": {
    "ExecuteTime": {
     "end_time": "2024-12-05T12:18:20.640718Z",
     "start_time": "2024-12-05T12:18:20.636926Z"
    }
   },
   "outputs": [],
   "source": [
    "# dfs_by_decomposition_method_encoded['CP']"
   ]
  },
  {
   "cell_type": "code",
   "execution_count": 37,
   "id": "213e750351d0dcc1",
   "metadata": {
    "ExecuteTime": {
     "end_time": "2024-12-05T12:18:20.692652Z",
     "start_time": "2024-12-05T12:18:20.686711Z"
    }
   },
   "outputs": [
    {
     "data": {
      "text/plain": [
       "dict_keys(['Tucker', 'TensorTrain', 'CP'])"
      ]
     },
     "execution_count": 37,
     "metadata": {},
     "output_type": "execute_result"
    }
   ],
   "source": [
    "dfs_by_decomposition_method_encoded.keys()"
   ]
  },
  {
   "cell_type": "markdown",
   "id": "ca26b51fe96d11de",
   "metadata": {},
   "source": "## Heatmap"
  },
  {
   "cell_type": "code",
   "execution_count": 38,
   "id": "6ab045ad7537a8e8",
   "metadata": {
    "ExecuteTime": {
     "end_time": "2024-12-05T12:18:20.939386Z",
     "start_time": "2024-12-05T12:18:20.785152Z"
    }
   },
   "outputs": [],
   "source": [
    "method_name = \"Tucker\"\n",
    "plot_heatmap(dfs_by_decomposition_method_encoded[method_name], title=method_name)"
   ]
  },
  {
   "cell_type": "code",
   "execution_count": 39,
   "id": "e8e947093973e1fe",
   "metadata": {
    "ExecuteTime": {
     "end_time": "2024-12-05T12:18:20.994908Z",
     "start_time": "2024-12-05T12:18:20.966532Z"
    }
   },
   "outputs": [],
   "source": [
    "method_name = \"TensorTrain\"\n",
    "plot_heatmap(dfs_by_decomposition_method_encoded[method_name], title=method_name)"
   ]
  },
  {
   "cell_type": "code",
   "execution_count": 40,
   "id": "22d065e19053aed9",
   "metadata": {
    "ExecuteTime": {
     "end_time": "2024-12-05T12:18:21.243331Z",
     "start_time": "2024-12-05T12:18:21.021935Z"
    }
   },
   "outputs": [],
   "source": [
    "method_name = \"CP\"\n",
    "plot_heatmap(dfs_by_decomposition_method_encoded[method_name], title=method_name)"
   ]
  },
  {
   "cell_type": "markdown",
   "id": "3a7f26551f4d2b7d",
   "metadata": {},
   "source": "## PCA"
  },
  {
   "cell_type": "code",
   "execution_count": 41,
   "id": "b171cc771cb61f43",
   "metadata": {
    "ExecuteTime": {
     "end_time": "2024-12-05T12:18:22.114993Z",
     "start_time": "2024-12-05T12:18:21.281788Z"
    }
   },
   "outputs": [],
   "source": [
    "method_name = \"Tucker\"\n",
    "plot_pca(dfs_by_decomposition_method_encoded[method_name], title=method_name)"
   ]
  },
  {
   "cell_type": "code",
   "execution_count": 42,
   "id": "42dd3361086155e1",
   "metadata": {
    "ExecuteTime": {
     "end_time": "2024-12-05T12:18:22.329431Z",
     "start_time": "2024-12-05T12:18:22.143503Z"
    }
   },
   "outputs": [],
   "source": [
    "method_name = \"TensorTrain\"\n",
    "plot_pca(dfs_by_decomposition_method_encoded[method_name], title=method_name)"
   ]
  },
  {
   "cell_type": "code",
   "execution_count": 43,
   "id": "46af3d7059647139",
   "metadata": {
    "ExecuteTime": {
     "end_time": "2024-12-05T12:18:30.870086Z",
     "start_time": "2024-12-05T12:18:22.349992Z"
    }
   },
   "outputs": [],
   "source": [
    "method_name = \"CP\"\n",
    "plot_pca(dfs_by_decomposition_method_encoded[method_name], title=method_name)"
   ]
  },
  {
   "cell_type": "markdown",
   "id": "b752597699ebe659",
   "metadata": {},
   "source": "## Pairplot"
  },
  {
   "cell_type": "code",
   "execution_count": 44,
   "id": "45ab87fc304ab2a2",
   "metadata": {
    "ExecuteTime": {
     "end_time": "2024-12-05T12:19:04.823366Z",
     "start_time": "2024-12-05T12:18:30.893739Z"
    }
   },
   "outputs": [
    {
     "data": {
      "application/javascript": "/* Put everything inside the global mpl namespace */\n/* global mpl */\nwindow.mpl = {};\n\nmpl.get_websocket_type = function () {\n    if (typeof WebSocket !== 'undefined') {\n        return WebSocket;\n    } else if (typeof MozWebSocket !== 'undefined') {\n        return MozWebSocket;\n    } else {\n        alert(\n            'Your browser does not have WebSocket support. ' +\n                'Please try Chrome, Safari or Firefox ≥ 6. ' +\n                'Firefox 4 and 5 are also supported but you ' +\n                'have to enable WebSockets in about:config.'\n        );\n    }\n};\n\nmpl.figure = function (figure_id, websocket, ondownload, parent_element) {\n    this.id = figure_id;\n\n    this.ws = websocket;\n\n    this.supports_binary = this.ws.binaryType !== undefined;\n\n    if (!this.supports_binary) {\n        var warnings = document.getElementById('mpl-warnings');\n        if (warnings) {\n            warnings.style.display = 'block';\n            warnings.textContent =\n                'This browser does not support binary websocket messages. ' +\n                'Performance may be slow.';\n        }\n    }\n\n    this.imageObj = new Image();\n\n    this.context = undefined;\n    this.message = undefined;\n    this.canvas = undefined;\n    this.rubberband_canvas = undefined;\n    this.rubberband_context = undefined;\n    this.format_dropdown = undefined;\n\n    this.image_mode = 'full';\n\n    this.root = document.createElement('div');\n    this.root.setAttribute('style', 'display: inline-block');\n    this._root_extra_style(this.root);\n\n    parent_element.appendChild(this.root);\n\n    this._init_header(this);\n    this._init_canvas(this);\n    this._init_toolbar(this);\n\n    var fig = this;\n\n    this.waiting = false;\n\n    this.ws.onopen = function () {\n        fig.send_message('supports_binary', { value: fig.supports_binary });\n        fig.send_message('send_image_mode', {});\n        if (fig.ratio !== 1) {\n            fig.send_message('set_device_pixel_ratio', {\n                device_pixel_ratio: fig.ratio,\n            });\n        }\n        fig.send_message('refresh', {});\n    };\n\n    this.imageObj.onload = function () {\n        if (fig.image_mode === 'full') {\n            // Full images could contain transparency (where diff images\n            // almost always do), so we need to clear the canvas so that\n            // there is no ghosting.\n            fig.context.clearRect(0, 0, fig.canvas.width, fig.canvas.height);\n        }\n        fig.context.drawImage(fig.imageObj, 0, 0);\n    };\n\n    this.imageObj.onunload = function () {\n        fig.ws.close();\n    };\n\n    this.ws.onmessage = this._make_on_message_function(this);\n\n    this.ondownload = ondownload;\n};\n\nmpl.figure.prototype._init_header = function () {\n    var titlebar = document.createElement('div');\n    titlebar.classList =\n        'ui-dialog-titlebar ui-widget-header ui-corner-all ui-helper-clearfix';\n    var titletext = document.createElement('div');\n    titletext.classList = 'ui-dialog-title';\n    titletext.setAttribute(\n        'style',\n        'width: 100%; text-align: center; padding: 3px;'\n    );\n    titlebar.appendChild(titletext);\n    this.root.appendChild(titlebar);\n    this.header = titletext;\n};\n\nmpl.figure.prototype._canvas_extra_style = function (_canvas_div) {};\n\nmpl.figure.prototype._root_extra_style = function (_canvas_div) {};\n\nmpl.figure.prototype._init_canvas = function () {\n    var fig = this;\n\n    var canvas_div = (this.canvas_div = document.createElement('div'));\n    canvas_div.setAttribute('tabindex', '0');\n    canvas_div.setAttribute(\n        'style',\n        'border: 1px solid #ddd;' +\n            'box-sizing: content-box;' +\n            'clear: both;' +\n            'min-height: 1px;' +\n            'min-width: 1px;' +\n            'outline: 0;' +\n            'overflow: hidden;' +\n            'position: relative;' +\n            'resize: both;' +\n            'z-index: 2;'\n    );\n\n    function on_keyboard_event_closure(name) {\n        return function (event) {\n            return fig.key_event(event, name);\n        };\n    }\n\n    canvas_div.addEventListener(\n        'keydown',\n        on_keyboard_event_closure('key_press')\n    );\n    canvas_div.addEventListener(\n        'keyup',\n        on_keyboard_event_closure('key_release')\n    );\n\n    this._canvas_extra_style(canvas_div);\n    this.root.appendChild(canvas_div);\n\n    var canvas = (this.canvas = document.createElement('canvas'));\n    canvas.classList.add('mpl-canvas');\n    canvas.setAttribute(\n        'style',\n        'box-sizing: content-box;' +\n            'pointer-events: none;' +\n            'position: relative;' +\n            'z-index: 0;'\n    );\n\n    this.context = canvas.getContext('2d');\n\n    var backingStore =\n        this.context.backingStorePixelRatio ||\n        this.context.webkitBackingStorePixelRatio ||\n        this.context.mozBackingStorePixelRatio ||\n        this.context.msBackingStorePixelRatio ||\n        this.context.oBackingStorePixelRatio ||\n        this.context.backingStorePixelRatio ||\n        1;\n\n    this.ratio = (window.devicePixelRatio || 1) / backingStore;\n\n    var rubberband_canvas = (this.rubberband_canvas = document.createElement(\n        'canvas'\n    ));\n    rubberband_canvas.setAttribute(\n        'style',\n        'box-sizing: content-box;' +\n            'left: 0;' +\n            'pointer-events: none;' +\n            'position: absolute;' +\n            'top: 0;' +\n            'z-index: 1;'\n    );\n\n    // Apply a ponyfill if ResizeObserver is not implemented by browser.\n    if (this.ResizeObserver === undefined) {\n        if (window.ResizeObserver !== undefined) {\n            this.ResizeObserver = window.ResizeObserver;\n        } else {\n            var obs = _JSXTOOLS_RESIZE_OBSERVER({});\n            this.ResizeObserver = obs.ResizeObserver;\n        }\n    }\n\n    this.resizeObserverInstance = new this.ResizeObserver(function (entries) {\n        // There's no need to resize if the WebSocket is not connected:\n        // - If it is still connecting, then we will get an initial resize from\n        //   Python once it connects.\n        // - If it has disconnected, then resizing will clear the canvas and\n        //   never get anything back to refill it, so better to not resize and\n        //   keep something visible.\n        if (fig.ws.readyState != 1) {\n            return;\n        }\n        var nentries = entries.length;\n        for (var i = 0; i < nentries; i++) {\n            var entry = entries[i];\n            var width, height;\n            if (entry.contentBoxSize) {\n                if (entry.contentBoxSize instanceof Array) {\n                    // Chrome 84 implements new version of spec.\n                    width = entry.contentBoxSize[0].inlineSize;\n                    height = entry.contentBoxSize[0].blockSize;\n                } else {\n                    // Firefox implements old version of spec.\n                    width = entry.contentBoxSize.inlineSize;\n                    height = entry.contentBoxSize.blockSize;\n                }\n            } else {\n                // Chrome <84 implements even older version of spec.\n                width = entry.contentRect.width;\n                height = entry.contentRect.height;\n            }\n\n            // Keep the size of the canvas and rubber band canvas in sync with\n            // the canvas container.\n            if (entry.devicePixelContentBoxSize) {\n                // Chrome 84 implements new version of spec.\n                canvas.setAttribute(\n                    'width',\n                    entry.devicePixelContentBoxSize[0].inlineSize\n                );\n                canvas.setAttribute(\n                    'height',\n                    entry.devicePixelContentBoxSize[0].blockSize\n                );\n            } else {\n                canvas.setAttribute('width', width * fig.ratio);\n                canvas.setAttribute('height', height * fig.ratio);\n            }\n            /* This rescales the canvas back to display pixels, so that it\n             * appears correct on HiDPI screens. */\n            canvas.style.width = width + 'px';\n            canvas.style.height = height + 'px';\n\n            rubberband_canvas.setAttribute('width', width);\n            rubberband_canvas.setAttribute('height', height);\n\n            // And update the size in Python. We ignore the initial 0/0 size\n            // that occurs as the element is placed into the DOM, which should\n            // otherwise not happen due to the minimum size styling.\n            if (width != 0 && height != 0) {\n                fig.request_resize(width, height);\n            }\n        }\n    });\n    this.resizeObserverInstance.observe(canvas_div);\n\n    function on_mouse_event_closure(name) {\n        /* User Agent sniffing is bad, but WebKit is busted:\n         * https://bugs.webkit.org/show_bug.cgi?id=144526\n         * https://bugs.webkit.org/show_bug.cgi?id=181818\n         * The worst that happens here is that they get an extra browser\n         * selection when dragging, if this check fails to catch them.\n         */\n        var UA = navigator.userAgent;\n        var isWebKit = /AppleWebKit/.test(UA) && !/Chrome/.test(UA);\n        if(isWebKit) {\n            return function (event) {\n                /* This prevents the web browser from automatically changing to\n                 * the text insertion cursor when the button is pressed. We\n                 * want to control all of the cursor setting manually through\n                 * the 'cursor' event from matplotlib */\n                event.preventDefault()\n                return fig.mouse_event(event, name);\n            };\n        } else {\n            return function (event) {\n                return fig.mouse_event(event, name);\n            };\n        }\n    }\n\n    canvas_div.addEventListener(\n        'mousedown',\n        on_mouse_event_closure('button_press')\n    );\n    canvas_div.addEventListener(\n        'mouseup',\n        on_mouse_event_closure('button_release')\n    );\n    canvas_div.addEventListener(\n        'dblclick',\n        on_mouse_event_closure('dblclick')\n    );\n    // Throttle sequential mouse events to 1 every 20ms.\n    canvas_div.addEventListener(\n        'mousemove',\n        on_mouse_event_closure('motion_notify')\n    );\n\n    canvas_div.addEventListener(\n        'mouseenter',\n        on_mouse_event_closure('figure_enter')\n    );\n    canvas_div.addEventListener(\n        'mouseleave',\n        on_mouse_event_closure('figure_leave')\n    );\n\n    canvas_div.addEventListener('wheel', function (event) {\n        if (event.deltaY < 0) {\n            event.step = 1;\n        } else {\n            event.step = -1;\n        }\n        on_mouse_event_closure('scroll')(event);\n    });\n\n    canvas_div.appendChild(canvas);\n    canvas_div.appendChild(rubberband_canvas);\n\n    this.rubberband_context = rubberband_canvas.getContext('2d');\n    this.rubberband_context.strokeStyle = '#000000';\n\n    this._resize_canvas = function (width, height, forward) {\n        if (forward) {\n            canvas_div.style.width = width + 'px';\n            canvas_div.style.height = height + 'px';\n        }\n    };\n\n    // Disable right mouse context menu.\n    canvas_div.addEventListener('contextmenu', function (_e) {\n        event.preventDefault();\n        return false;\n    });\n\n    function set_focus() {\n        canvas.focus();\n        canvas_div.focus();\n    }\n\n    window.setTimeout(set_focus, 100);\n};\n\nmpl.figure.prototype._init_toolbar = function () {\n    var fig = this;\n\n    var toolbar = document.createElement('div');\n    toolbar.classList = 'mpl-toolbar';\n    this.root.appendChild(toolbar);\n\n    function on_click_closure(name) {\n        return function (_event) {\n            return fig.toolbar_button_onclick(name);\n        };\n    }\n\n    function on_mouseover_closure(tooltip) {\n        return function (event) {\n            if (!event.currentTarget.disabled) {\n                return fig.toolbar_button_onmouseover(tooltip);\n            }\n        };\n    }\n\n    fig.buttons = {};\n    var buttonGroup = document.createElement('div');\n    buttonGroup.classList = 'mpl-button-group';\n    for (var toolbar_ind in mpl.toolbar_items) {\n        var name = mpl.toolbar_items[toolbar_ind][0];\n        var tooltip = mpl.toolbar_items[toolbar_ind][1];\n        var image = mpl.toolbar_items[toolbar_ind][2];\n        var method_name = mpl.toolbar_items[toolbar_ind][3];\n\n        if (!name) {\n            /* Instead of a spacer, we start a new button group. */\n            if (buttonGroup.hasChildNodes()) {\n                toolbar.appendChild(buttonGroup);\n            }\n            buttonGroup = document.createElement('div');\n            buttonGroup.classList = 'mpl-button-group';\n            continue;\n        }\n\n        var button = (fig.buttons[name] = document.createElement('button'));\n        button.classList = 'mpl-widget';\n        button.setAttribute('role', 'button');\n        button.setAttribute('aria-disabled', 'false');\n        button.addEventListener('click', on_click_closure(method_name));\n        button.addEventListener('mouseover', on_mouseover_closure(tooltip));\n\n        var icon_img = document.createElement('img');\n        icon_img.src = '_images/' + image + '.png';\n        icon_img.srcset = '_images/' + image + '_large.png 2x';\n        icon_img.alt = tooltip;\n        button.appendChild(icon_img);\n\n        buttonGroup.appendChild(button);\n    }\n\n    if (buttonGroup.hasChildNodes()) {\n        toolbar.appendChild(buttonGroup);\n    }\n\n    var fmt_picker = document.createElement('select');\n    fmt_picker.classList = 'mpl-widget';\n    toolbar.appendChild(fmt_picker);\n    this.format_dropdown = fmt_picker;\n\n    for (var ind in mpl.extensions) {\n        var fmt = mpl.extensions[ind];\n        var option = document.createElement('option');\n        option.selected = fmt === mpl.default_extension;\n        option.innerHTML = fmt;\n        fmt_picker.appendChild(option);\n    }\n\n    var status_bar = document.createElement('span');\n    status_bar.classList = 'mpl-message';\n    toolbar.appendChild(status_bar);\n    this.message = status_bar;\n};\n\nmpl.figure.prototype.request_resize = function (x_pixels, y_pixels) {\n    // Request matplotlib to resize the figure. Matplotlib will then trigger a resize in the client,\n    // which will in turn request a refresh of the image.\n    this.send_message('resize', { width: x_pixels, height: y_pixels });\n};\n\nmpl.figure.prototype.send_message = function (type, properties) {\n    properties['type'] = type;\n    properties['figure_id'] = this.id;\n    this.ws.send(JSON.stringify(properties));\n};\n\nmpl.figure.prototype.send_draw_message = function () {\n    if (!this.waiting) {\n        this.waiting = true;\n        this.ws.send(JSON.stringify({ type: 'draw', figure_id: this.id }));\n    }\n};\n\nmpl.figure.prototype.handle_save = function (fig, _msg) {\n    var format_dropdown = fig.format_dropdown;\n    var format = format_dropdown.options[format_dropdown.selectedIndex].value;\n    fig.ondownload(fig, format);\n};\n\nmpl.figure.prototype.handle_resize = function (fig, msg) {\n    var size = msg['size'];\n    if (size[0] !== fig.canvas.width || size[1] !== fig.canvas.height) {\n        fig._resize_canvas(size[0], size[1], msg['forward']);\n        fig.send_message('refresh', {});\n    }\n};\n\nmpl.figure.prototype.handle_rubberband = function (fig, msg) {\n    var x0 = msg['x0'] / fig.ratio;\n    var y0 = (fig.canvas.height - msg['y0']) / fig.ratio;\n    var x1 = msg['x1'] / fig.ratio;\n    var y1 = (fig.canvas.height - msg['y1']) / fig.ratio;\n    x0 = Math.floor(x0) + 0.5;\n    y0 = Math.floor(y0) + 0.5;\n    x1 = Math.floor(x1) + 0.5;\n    y1 = Math.floor(y1) + 0.5;\n    var min_x = Math.min(x0, x1);\n    var min_y = Math.min(y0, y1);\n    var width = Math.abs(x1 - x0);\n    var height = Math.abs(y1 - y0);\n\n    fig.rubberband_context.clearRect(\n        0,\n        0,\n        fig.canvas.width / fig.ratio,\n        fig.canvas.height / fig.ratio\n    );\n\n    fig.rubberband_context.strokeRect(min_x, min_y, width, height);\n};\n\nmpl.figure.prototype.handle_figure_label = function (fig, msg) {\n    // Updates the figure title.\n    fig.header.textContent = msg['label'];\n};\n\nmpl.figure.prototype.handle_cursor = function (fig, msg) {\n    fig.canvas_div.style.cursor = msg['cursor'];\n};\n\nmpl.figure.prototype.handle_message = function (fig, msg) {\n    fig.message.textContent = msg['message'];\n};\n\nmpl.figure.prototype.handle_draw = function (fig, _msg) {\n    // Request the server to send over a new figure.\n    fig.send_draw_message();\n};\n\nmpl.figure.prototype.handle_image_mode = function (fig, msg) {\n    fig.image_mode = msg['mode'];\n};\n\nmpl.figure.prototype.handle_history_buttons = function (fig, msg) {\n    for (var key in msg) {\n        if (!(key in fig.buttons)) {\n            continue;\n        }\n        fig.buttons[key].disabled = !msg[key];\n        fig.buttons[key].setAttribute('aria-disabled', !msg[key]);\n    }\n};\n\nmpl.figure.prototype.handle_navigate_mode = function (fig, msg) {\n    if (msg['mode'] === 'PAN') {\n        fig.buttons['Pan'].classList.add('active');\n        fig.buttons['Zoom'].classList.remove('active');\n    } else if (msg['mode'] === 'ZOOM') {\n        fig.buttons['Pan'].classList.remove('active');\n        fig.buttons['Zoom'].classList.add('active');\n    } else {\n        fig.buttons['Pan'].classList.remove('active');\n        fig.buttons['Zoom'].classList.remove('active');\n    }\n};\n\nmpl.figure.prototype.updated_canvas_event = function () {\n    // Called whenever the canvas gets updated.\n    this.send_message('ack', {});\n};\n\n// A function to construct a web socket function for onmessage handling.\n// Called in the figure constructor.\nmpl.figure.prototype._make_on_message_function = function (fig) {\n    return function socket_on_message(evt) {\n        if (evt.data instanceof Blob) {\n            var img = evt.data;\n            if (img.type !== 'image/png') {\n                /* FIXME: We get \"Resource interpreted as Image but\n                 * transferred with MIME type text/plain:\" errors on\n                 * Chrome.  But how to set the MIME type?  It doesn't seem\n                 * to be part of the websocket stream */\n                img.type = 'image/png';\n            }\n\n            /* Free the memory for the previous frames */\n            if (fig.imageObj.src) {\n                (window.URL || window.webkitURL).revokeObjectURL(\n                    fig.imageObj.src\n                );\n            }\n\n            fig.imageObj.src = (window.URL || window.webkitURL).createObjectURL(\n                img\n            );\n            fig.updated_canvas_event();\n            fig.waiting = false;\n            return;\n        } else if (\n            typeof evt.data === 'string' &&\n            evt.data.slice(0, 21) === 'data:image/png;base64'\n        ) {\n            fig.imageObj.src = evt.data;\n            fig.updated_canvas_event();\n            fig.waiting = false;\n            return;\n        }\n\n        var msg = JSON.parse(evt.data);\n        var msg_type = msg['type'];\n\n        // Call the  \"handle_{type}\" callback, which takes\n        // the figure and JSON message as its only arguments.\n        try {\n            var callback = fig['handle_' + msg_type];\n        } catch (e) {\n            console.log(\n                \"No handler for the '\" + msg_type + \"' message type: \",\n                msg\n            );\n            return;\n        }\n\n        if (callback) {\n            try {\n                // console.log(\"Handling '\" + msg_type + \"' message: \", msg);\n                callback(fig, msg);\n            } catch (e) {\n                console.log(\n                    \"Exception inside the 'handler_\" + msg_type + \"' callback:\",\n                    e,\n                    e.stack,\n                    msg\n                );\n            }\n        }\n    };\n};\n\nfunction getModifiers(event) {\n    var mods = [];\n    if (event.ctrlKey) {\n        mods.push('ctrl');\n    }\n    if (event.altKey) {\n        mods.push('alt');\n    }\n    if (event.shiftKey) {\n        mods.push('shift');\n    }\n    if (event.metaKey) {\n        mods.push('meta');\n    }\n    return mods;\n}\n\n/*\n * return a copy of an object with only non-object keys\n * we need this to avoid circular references\n * https://stackoverflow.com/a/24161582/3208463\n */\nfunction simpleKeys(original) {\n    return Object.keys(original).reduce(function (obj, key) {\n        if (typeof original[key] !== 'object') {\n            obj[key] = original[key];\n        }\n        return obj;\n    }, {});\n}\n\nmpl.figure.prototype.mouse_event = function (event, name) {\n    if (name === 'button_press') {\n        this.canvas.focus();\n        this.canvas_div.focus();\n    }\n\n    // from https://stackoverflow.com/q/1114465\n    var boundingRect = this.canvas.getBoundingClientRect();\n    var x = (event.clientX - boundingRect.left) * this.ratio;\n    var y = (event.clientY - boundingRect.top) * this.ratio;\n\n    this.send_message(name, {\n        x: x,\n        y: y,\n        button: event.button,\n        step: event.step,\n        modifiers: getModifiers(event),\n        guiEvent: simpleKeys(event),\n    });\n\n    return false;\n};\n\nmpl.figure.prototype._key_event_extra = function (_event, _name) {\n    // Handle any extra behaviour associated with a key event\n};\n\nmpl.figure.prototype.key_event = function (event, name) {\n    // Prevent repeat events\n    if (name === 'key_press') {\n        if (event.key === this._key) {\n            return;\n        } else {\n            this._key = event.key;\n        }\n    }\n    if (name === 'key_release') {\n        this._key = null;\n    }\n\n    var value = '';\n    if (event.ctrlKey && event.key !== 'Control') {\n        value += 'ctrl+';\n    }\n    else if (event.altKey && event.key !== 'Alt') {\n        value += 'alt+';\n    }\n    else if (event.shiftKey && event.key !== 'Shift') {\n        value += 'shift+';\n    }\n\n    value += 'k' + event.key;\n\n    this._key_event_extra(event, name);\n\n    this.send_message(name, { key: value, guiEvent: simpleKeys(event) });\n    return false;\n};\n\nmpl.figure.prototype.toolbar_button_onclick = function (name) {\n    if (name === 'download') {\n        this.handle_save(this, null);\n    } else {\n        this.send_message('toolbar_button', { name: name });\n    }\n};\n\nmpl.figure.prototype.toolbar_button_onmouseover = function (tooltip) {\n    this.message.textContent = tooltip;\n};\n\n///////////////// REMAINING CONTENT GENERATED BY embed_js.py /////////////////\n// prettier-ignore\nvar _JSXTOOLS_RESIZE_OBSERVER=function(A){var t,i=new WeakMap,n=new WeakMap,a=new WeakMap,r=new WeakMap,o=new Set;function s(e){if(!(this instanceof s))throw new TypeError(\"Constructor requires 'new' operator\");i.set(this,e)}function h(){throw new TypeError(\"Function is not a constructor\")}function c(e,t,i,n){e=0 in arguments?Number(arguments[0]):0,t=1 in arguments?Number(arguments[1]):0,i=2 in arguments?Number(arguments[2]):0,n=3 in arguments?Number(arguments[3]):0,this.right=(this.x=this.left=e)+(this.width=i),this.bottom=(this.y=this.top=t)+(this.height=n),Object.freeze(this)}function d(){t=requestAnimationFrame(d);var s=new WeakMap,p=new Set;o.forEach((function(t){r.get(t).forEach((function(i){var r=t instanceof window.SVGElement,o=a.get(t),d=r?0:parseFloat(o.paddingTop),f=r?0:parseFloat(o.paddingRight),l=r?0:parseFloat(o.paddingBottom),u=r?0:parseFloat(o.paddingLeft),g=r?0:parseFloat(o.borderTopWidth),m=r?0:parseFloat(o.borderRightWidth),w=r?0:parseFloat(o.borderBottomWidth),b=u+f,F=d+l,v=(r?0:parseFloat(o.borderLeftWidth))+m,W=g+w,y=r?0:t.offsetHeight-W-t.clientHeight,E=r?0:t.offsetWidth-v-t.clientWidth,R=b+v,z=F+W,M=r?t.width:parseFloat(o.width)-R-E,O=r?t.height:parseFloat(o.height)-z-y;if(n.has(t)){var k=n.get(t);if(k[0]===M&&k[1]===O)return}n.set(t,[M,O]);var S=Object.create(h.prototype);S.target=t,S.contentRect=new c(u,d,M,O),s.has(i)||(s.set(i,[]),p.add(i)),s.get(i).push(S)}))})),p.forEach((function(e){i.get(e).call(e,s.get(e),e)}))}return s.prototype.observe=function(i){if(i instanceof window.Element){r.has(i)||(r.set(i,new Set),o.add(i),a.set(i,window.getComputedStyle(i)));var n=r.get(i);n.has(this)||n.add(this),cancelAnimationFrame(t),t=requestAnimationFrame(d)}},s.prototype.unobserve=function(i){if(i instanceof window.Element&&r.has(i)){var n=r.get(i);n.has(this)&&(n.delete(this),n.size||(r.delete(i),o.delete(i))),n.size||r.delete(i),o.size||cancelAnimationFrame(t)}},A.DOMRectReadOnly=c,A.ResizeObserver=s,A.ResizeObserverEntry=h,A}; // eslint-disable-line\nmpl.toolbar_items = [[\"Home\", \"Reset original view\", \"fa fa-home\", \"home\"], [\"Back\", \"Back to previous view\", \"fa fa-arrow-left\", \"back\"], [\"Forward\", \"Forward to next view\", \"fa fa-arrow-right\", \"forward\"], [\"\", \"\", \"\", \"\"], [\"Pan\", \"Left button pans, Right button zooms\\nx/y fixes axis, CTRL fixes aspect\", \"fa fa-arrows\", \"pan\"], [\"Zoom\", \"Zoom to rectangle\\nx/y fixes axis\", \"fa fa-square-o\", \"zoom\"], [\"\", \"\", \"\", \"\"], [\"Download\", \"Download plot\", \"fa fa-floppy-o\", \"download\"]];\n\nmpl.extensions = [\"eps\", \"jpeg\", \"pgf\", \"pdf\", \"png\", \"ps\", \"raw\", \"svg\", \"tif\", \"webp\"];\n\nmpl.default_extension = \"png\";/* global mpl */\n\nvar comm_websocket_adapter = function (comm) {\n    // Create a \"websocket\"-like object which calls the given IPython comm\n    // object with the appropriate methods. Currently this is a non binary\n    // socket, so there is still some room for performance tuning.\n    var ws = {};\n\n    ws.binaryType = comm.kernel.ws.binaryType;\n    ws.readyState = comm.kernel.ws.readyState;\n    function updateReadyState(_event) {\n        if (comm.kernel.ws) {\n            ws.readyState = comm.kernel.ws.readyState;\n        } else {\n            ws.readyState = 3; // Closed state.\n        }\n    }\n    comm.kernel.ws.addEventListener('open', updateReadyState);\n    comm.kernel.ws.addEventListener('close', updateReadyState);\n    comm.kernel.ws.addEventListener('error', updateReadyState);\n\n    ws.close = function () {\n        comm.close();\n    };\n    ws.send = function (m) {\n        //console.log('sending', m);\n        comm.send(m);\n    };\n    // Register the callback with on_msg.\n    comm.on_msg(function (msg) {\n        //console.log('receiving', msg['content']['data'], msg);\n        var data = msg['content']['data'];\n        if (data['blob'] !== undefined) {\n            data = {\n                data: new Blob(msg['buffers'], { type: data['blob'] }),\n            };\n        }\n        // Pass the mpl event to the overridden (by mpl) onmessage function.\n        ws.onmessage(data);\n    });\n    return ws;\n};\n\nmpl.mpl_figure_comm = function (comm, msg) {\n    // This is the function which gets called when the mpl process\n    // starts-up an IPython Comm through the \"matplotlib\" channel.\n\n    var id = msg.content.data.id;\n    // Get hold of the div created by the display call when the Comm\n    // socket was opened in Python.\n    var element = document.getElementById(id);\n    var ws_proxy = comm_websocket_adapter(comm);\n\n    function ondownload(figure, _format) {\n        window.open(figure.canvas.toDataURL());\n    }\n\n    var fig = new mpl.figure(id, ws_proxy, ondownload, element);\n\n    // Call onopen now - mpl needs it, as it is assuming we've passed it a real\n    // web socket which is closed, not our websocket->open comm proxy.\n    ws_proxy.onopen();\n\n    fig.parent_element = element;\n    fig.cell_info = mpl.find_output_cell(\"<div id='\" + id + \"'></div>\");\n    if (!fig.cell_info) {\n        console.error('Failed to find cell for figure', id, fig);\n        return;\n    }\n    fig.cell_info[0].output_area.element.on(\n        'cleared',\n        { fig: fig },\n        fig._remove_fig_handler\n    );\n};\n\nmpl.figure.prototype.handle_close = function (fig, msg) {\n    var width = fig.canvas.width / fig.ratio;\n    fig.cell_info[0].output_area.element.off(\n        'cleared',\n        fig._remove_fig_handler\n    );\n    fig.resizeObserverInstance.unobserve(fig.canvas_div);\n\n    // Update the output cell to use the data from the current canvas.\n    fig.push_to_output();\n    var dataURL = fig.canvas.toDataURL();\n    // Re-enable the keyboard manager in IPython - without this line, in FF,\n    // the notebook keyboard shortcuts fail.\n    IPython.keyboard_manager.enable();\n    fig.parent_element.innerHTML =\n        '<img src=\"' + dataURL + '\" width=\"' + width + '\">';\n    fig.close_ws(fig, msg);\n};\n\nmpl.figure.prototype.close_ws = function (fig, msg) {\n    fig.send_message('closing', msg);\n    // fig.ws.close()\n};\n\nmpl.figure.prototype.push_to_output = function (_remove_interactive) {\n    // Turn the data on the canvas into data in the output cell.\n    var width = this.canvas.width / this.ratio;\n    var dataURL = this.canvas.toDataURL();\n    this.cell_info[1]['text/html'] =\n        '<img src=\"' + dataURL + '\" width=\"' + width + '\">';\n};\n\nmpl.figure.prototype.updated_canvas_event = function () {\n    // Tell IPython that the notebook contents must change.\n    IPython.notebook.set_dirty(true);\n    this.send_message('ack', {});\n    var fig = this;\n    // Wait a second, then push the new image to the DOM so\n    // that it is saved nicely (might be nice to debounce this).\n    setTimeout(function () {\n        fig.push_to_output();\n    }, 1000);\n};\n\nmpl.figure.prototype._init_toolbar = function () {\n    var fig = this;\n\n    var toolbar = document.createElement('div');\n    toolbar.classList = 'btn-toolbar';\n    this.root.appendChild(toolbar);\n\n    function on_click_closure(name) {\n        return function (_event) {\n            return fig.toolbar_button_onclick(name);\n        };\n    }\n\n    function on_mouseover_closure(tooltip) {\n        return function (event) {\n            if (!event.currentTarget.disabled) {\n                return fig.toolbar_button_onmouseover(tooltip);\n            }\n        };\n    }\n\n    fig.buttons = {};\n    var buttonGroup = document.createElement('div');\n    buttonGroup.classList = 'btn-group';\n    var button;\n    for (var toolbar_ind in mpl.toolbar_items) {\n        var name = mpl.toolbar_items[toolbar_ind][0];\n        var tooltip = mpl.toolbar_items[toolbar_ind][1];\n        var image = mpl.toolbar_items[toolbar_ind][2];\n        var method_name = mpl.toolbar_items[toolbar_ind][3];\n\n        if (!name) {\n            /* Instead of a spacer, we start a new button group. */\n            if (buttonGroup.hasChildNodes()) {\n                toolbar.appendChild(buttonGroup);\n            }\n            buttonGroup = document.createElement('div');\n            buttonGroup.classList = 'btn-group';\n            continue;\n        }\n\n        button = fig.buttons[name] = document.createElement('button');\n        button.classList = 'btn btn-default';\n        button.href = '#';\n        button.title = name;\n        button.innerHTML = '<i class=\"fa ' + image + ' fa-lg\"></i>';\n        button.addEventListener('click', on_click_closure(method_name));\n        button.addEventListener('mouseover', on_mouseover_closure(tooltip));\n        buttonGroup.appendChild(button);\n    }\n\n    if (buttonGroup.hasChildNodes()) {\n        toolbar.appendChild(buttonGroup);\n    }\n\n    // Add the status bar.\n    var status_bar = document.createElement('span');\n    status_bar.classList = 'mpl-message pull-right';\n    toolbar.appendChild(status_bar);\n    this.message = status_bar;\n\n    // Add the close button to the window.\n    var buttongrp = document.createElement('div');\n    buttongrp.classList = 'btn-group inline pull-right';\n    button = document.createElement('button');\n    button.classList = 'btn btn-mini btn-primary';\n    button.href = '#';\n    button.title = 'Stop Interaction';\n    button.innerHTML = '<i class=\"fa fa-power-off icon-remove icon-large\"></i>';\n    button.addEventListener('click', function (_evt) {\n        fig.handle_close(fig, {});\n    });\n    button.addEventListener(\n        'mouseover',\n        on_mouseover_closure('Stop Interaction')\n    );\n    buttongrp.appendChild(button);\n    var titlebar = this.root.querySelector('.ui-dialog-titlebar');\n    titlebar.insertBefore(buttongrp, titlebar.firstChild);\n};\n\nmpl.figure.prototype._remove_fig_handler = function (event) {\n    var fig = event.data.fig;\n    if (event.target !== this) {\n        // Ignore bubbled events from children.\n        return;\n    }\n    fig.close_ws(fig, {});\n};\n\nmpl.figure.prototype._root_extra_style = function (el) {\n    el.style.boxSizing = 'content-box'; // override notebook setting of border-box.\n};\n\nmpl.figure.prototype._canvas_extra_style = function (el) {\n    // this is important to make the div 'focusable\n    el.setAttribute('tabindex', 0);\n    // reach out to IPython and tell the keyboard manager to turn it's self\n    // off when our div gets focus\n\n    // location in version 3\n    if (IPython.notebook.keyboard_manager) {\n        IPython.notebook.keyboard_manager.register_events(el);\n    } else {\n        // location in version 2\n        IPython.keyboard_manager.register_events(el);\n    }\n};\n\nmpl.figure.prototype._key_event_extra = function (event, _name) {\n    // Check for shift+enter\n    if (event.shiftKey && event.which === 13) {\n        this.canvas_div.blur();\n        // select the cell after this one\n        var index = IPython.notebook.find_cell_index(this.cell_info[0]);\n        IPython.notebook.select(index + 1);\n    }\n};\n\nmpl.figure.prototype.handle_save = function (fig, _msg) {\n    fig.ondownload(fig, null);\n};\n\nmpl.find_output_cell = function (html_output) {\n    // Return the cell and output element which can be found *uniquely* in the notebook.\n    // Note - this is a bit hacky, but it is done because the \"notebook_saving.Notebook\"\n    // IPython event is triggered only after the cells have been serialised, which for\n    // our purposes (turning an active figure into a static one), is too late.\n    var cells = IPython.notebook.get_cells();\n    var ncells = cells.length;\n    for (var i = 0; i < ncells; i++) {\n        var cell = cells[i];\n        if (cell.cell_type === 'code') {\n            for (var j = 0; j < cell.output_area.outputs.length; j++) {\n                var data = cell.output_area.outputs[j];\n                if (data.data) {\n                    // IPython >= 3 moved mimebundle to data attribute of output\n                    data = data.data;\n                }\n                if (data['text/html'] === html_output) {\n                    return [cell, data, j];\n                }\n            }\n        }\n    }\n};\n\n// Register the function which deals with the matplotlib target/channel.\n// The kernel may be null if the page has been refreshed.\nif (IPython.notebook.kernel !== null) {\n    IPython.notebook.kernel.comm_manager.register_target(\n        'matplotlib',\n        mpl.mpl_figure_comm\n    );\n}\n",
      "text/plain": [
       "<IPython.core.display.Javascript object>"
      ]
     },
     "metadata": {},
     "output_type": "display_data"
    },
    {
     "data": {
      "text/html": [
       "<div id='5ea27b13-7351-4073-ac2d-d13ffc7ad659'></div>"
      ],
      "text/plain": [
       "<IPython.core.display.HTML object>"
      ]
     },
     "metadata": {},
     "output_type": "display_data"
    }
   ],
   "source": [
    "method_name = \"Tucker\"\n",
    "plot_pairplot(dfs_by_decomposition_method_encoded[method_name], title=method_name)"
   ]
  },
  {
   "cell_type": "code",
   "execution_count": 45,
   "id": "624aadafac339317",
   "metadata": {
    "ExecuteTime": {
     "end_time": "2024-12-05T12:19:35.136332Z",
     "start_time": "2024-12-05T12:19:04.877747Z"
    }
   },
   "outputs": [
    {
     "data": {
      "application/javascript": "/* Put everything inside the global mpl namespace */\n/* global mpl */\nwindow.mpl = {};\n\nmpl.get_websocket_type = function () {\n    if (typeof WebSocket !== 'undefined') {\n        return WebSocket;\n    } else if (typeof MozWebSocket !== 'undefined') {\n        return MozWebSocket;\n    } else {\n        alert(\n            'Your browser does not have WebSocket support. ' +\n                'Please try Chrome, Safari or Firefox ≥ 6. ' +\n                'Firefox 4 and 5 are also supported but you ' +\n                'have to enable WebSockets in about:config.'\n        );\n    }\n};\n\nmpl.figure = function (figure_id, websocket, ondownload, parent_element) {\n    this.id = figure_id;\n\n    this.ws = websocket;\n\n    this.supports_binary = this.ws.binaryType !== undefined;\n\n    if (!this.supports_binary) {\n        var warnings = document.getElementById('mpl-warnings');\n        if (warnings) {\n            warnings.style.display = 'block';\n            warnings.textContent =\n                'This browser does not support binary websocket messages. ' +\n                'Performance may be slow.';\n        }\n    }\n\n    this.imageObj = new Image();\n\n    this.context = undefined;\n    this.message = undefined;\n    this.canvas = undefined;\n    this.rubberband_canvas = undefined;\n    this.rubberband_context = undefined;\n    this.format_dropdown = undefined;\n\n    this.image_mode = 'full';\n\n    this.root = document.createElement('div');\n    this.root.setAttribute('style', 'display: inline-block');\n    this._root_extra_style(this.root);\n\n    parent_element.appendChild(this.root);\n\n    this._init_header(this);\n    this._init_canvas(this);\n    this._init_toolbar(this);\n\n    var fig = this;\n\n    this.waiting = false;\n\n    this.ws.onopen = function () {\n        fig.send_message('supports_binary', { value: fig.supports_binary });\n        fig.send_message('send_image_mode', {});\n        if (fig.ratio !== 1) {\n            fig.send_message('set_device_pixel_ratio', {\n                device_pixel_ratio: fig.ratio,\n            });\n        }\n        fig.send_message('refresh', {});\n    };\n\n    this.imageObj.onload = function () {\n        if (fig.image_mode === 'full') {\n            // Full images could contain transparency (where diff images\n            // almost always do), so we need to clear the canvas so that\n            // there is no ghosting.\n            fig.context.clearRect(0, 0, fig.canvas.width, fig.canvas.height);\n        }\n        fig.context.drawImage(fig.imageObj, 0, 0);\n    };\n\n    this.imageObj.onunload = function () {\n        fig.ws.close();\n    };\n\n    this.ws.onmessage = this._make_on_message_function(this);\n\n    this.ondownload = ondownload;\n};\n\nmpl.figure.prototype._init_header = function () {\n    var titlebar = document.createElement('div');\n    titlebar.classList =\n        'ui-dialog-titlebar ui-widget-header ui-corner-all ui-helper-clearfix';\n    var titletext = document.createElement('div');\n    titletext.classList = 'ui-dialog-title';\n    titletext.setAttribute(\n        'style',\n        'width: 100%; text-align: center; padding: 3px;'\n    );\n    titlebar.appendChild(titletext);\n    this.root.appendChild(titlebar);\n    this.header = titletext;\n};\n\nmpl.figure.prototype._canvas_extra_style = function (_canvas_div) {};\n\nmpl.figure.prototype._root_extra_style = function (_canvas_div) {};\n\nmpl.figure.prototype._init_canvas = function () {\n    var fig = this;\n\n    var canvas_div = (this.canvas_div = document.createElement('div'));\n    canvas_div.setAttribute('tabindex', '0');\n    canvas_div.setAttribute(\n        'style',\n        'border: 1px solid #ddd;' +\n            'box-sizing: content-box;' +\n            'clear: both;' +\n            'min-height: 1px;' +\n            'min-width: 1px;' +\n            'outline: 0;' +\n            'overflow: hidden;' +\n            'position: relative;' +\n            'resize: both;' +\n            'z-index: 2;'\n    );\n\n    function on_keyboard_event_closure(name) {\n        return function (event) {\n            return fig.key_event(event, name);\n        };\n    }\n\n    canvas_div.addEventListener(\n        'keydown',\n        on_keyboard_event_closure('key_press')\n    );\n    canvas_div.addEventListener(\n        'keyup',\n        on_keyboard_event_closure('key_release')\n    );\n\n    this._canvas_extra_style(canvas_div);\n    this.root.appendChild(canvas_div);\n\n    var canvas = (this.canvas = document.createElement('canvas'));\n    canvas.classList.add('mpl-canvas');\n    canvas.setAttribute(\n        'style',\n        'box-sizing: content-box;' +\n            'pointer-events: none;' +\n            'position: relative;' +\n            'z-index: 0;'\n    );\n\n    this.context = canvas.getContext('2d');\n\n    var backingStore =\n        this.context.backingStorePixelRatio ||\n        this.context.webkitBackingStorePixelRatio ||\n        this.context.mozBackingStorePixelRatio ||\n        this.context.msBackingStorePixelRatio ||\n        this.context.oBackingStorePixelRatio ||\n        this.context.backingStorePixelRatio ||\n        1;\n\n    this.ratio = (window.devicePixelRatio || 1) / backingStore;\n\n    var rubberband_canvas = (this.rubberband_canvas = document.createElement(\n        'canvas'\n    ));\n    rubberband_canvas.setAttribute(\n        'style',\n        'box-sizing: content-box;' +\n            'left: 0;' +\n            'pointer-events: none;' +\n            'position: absolute;' +\n            'top: 0;' +\n            'z-index: 1;'\n    );\n\n    // Apply a ponyfill if ResizeObserver is not implemented by browser.\n    if (this.ResizeObserver === undefined) {\n        if (window.ResizeObserver !== undefined) {\n            this.ResizeObserver = window.ResizeObserver;\n        } else {\n            var obs = _JSXTOOLS_RESIZE_OBSERVER({});\n            this.ResizeObserver = obs.ResizeObserver;\n        }\n    }\n\n    this.resizeObserverInstance = new this.ResizeObserver(function (entries) {\n        // There's no need to resize if the WebSocket is not connected:\n        // - If it is still connecting, then we will get an initial resize from\n        //   Python once it connects.\n        // - If it has disconnected, then resizing will clear the canvas and\n        //   never get anything back to refill it, so better to not resize and\n        //   keep something visible.\n        if (fig.ws.readyState != 1) {\n            return;\n        }\n        var nentries = entries.length;\n        for (var i = 0; i < nentries; i++) {\n            var entry = entries[i];\n            var width, height;\n            if (entry.contentBoxSize) {\n                if (entry.contentBoxSize instanceof Array) {\n                    // Chrome 84 implements new version of spec.\n                    width = entry.contentBoxSize[0].inlineSize;\n                    height = entry.contentBoxSize[0].blockSize;\n                } else {\n                    // Firefox implements old version of spec.\n                    width = entry.contentBoxSize.inlineSize;\n                    height = entry.contentBoxSize.blockSize;\n                }\n            } else {\n                // Chrome <84 implements even older version of spec.\n                width = entry.contentRect.width;\n                height = entry.contentRect.height;\n            }\n\n            // Keep the size of the canvas and rubber band canvas in sync with\n            // the canvas container.\n            if (entry.devicePixelContentBoxSize) {\n                // Chrome 84 implements new version of spec.\n                canvas.setAttribute(\n                    'width',\n                    entry.devicePixelContentBoxSize[0].inlineSize\n                );\n                canvas.setAttribute(\n                    'height',\n                    entry.devicePixelContentBoxSize[0].blockSize\n                );\n            } else {\n                canvas.setAttribute('width', width * fig.ratio);\n                canvas.setAttribute('height', height * fig.ratio);\n            }\n            /* This rescales the canvas back to display pixels, so that it\n             * appears correct on HiDPI screens. */\n            canvas.style.width = width + 'px';\n            canvas.style.height = height + 'px';\n\n            rubberband_canvas.setAttribute('width', width);\n            rubberband_canvas.setAttribute('height', height);\n\n            // And update the size in Python. We ignore the initial 0/0 size\n            // that occurs as the element is placed into the DOM, which should\n            // otherwise not happen due to the minimum size styling.\n            if (width != 0 && height != 0) {\n                fig.request_resize(width, height);\n            }\n        }\n    });\n    this.resizeObserverInstance.observe(canvas_div);\n\n    function on_mouse_event_closure(name) {\n        /* User Agent sniffing is bad, but WebKit is busted:\n         * https://bugs.webkit.org/show_bug.cgi?id=144526\n         * https://bugs.webkit.org/show_bug.cgi?id=181818\n         * The worst that happens here is that they get an extra browser\n         * selection when dragging, if this check fails to catch them.\n         */\n        var UA = navigator.userAgent;\n        var isWebKit = /AppleWebKit/.test(UA) && !/Chrome/.test(UA);\n        if(isWebKit) {\n            return function (event) {\n                /* This prevents the web browser from automatically changing to\n                 * the text insertion cursor when the button is pressed. We\n                 * want to control all of the cursor setting manually through\n                 * the 'cursor' event from matplotlib */\n                event.preventDefault()\n                return fig.mouse_event(event, name);\n            };\n        } else {\n            return function (event) {\n                return fig.mouse_event(event, name);\n            };\n        }\n    }\n\n    canvas_div.addEventListener(\n        'mousedown',\n        on_mouse_event_closure('button_press')\n    );\n    canvas_div.addEventListener(\n        'mouseup',\n        on_mouse_event_closure('button_release')\n    );\n    canvas_div.addEventListener(\n        'dblclick',\n        on_mouse_event_closure('dblclick')\n    );\n    // Throttle sequential mouse events to 1 every 20ms.\n    canvas_div.addEventListener(\n        'mousemove',\n        on_mouse_event_closure('motion_notify')\n    );\n\n    canvas_div.addEventListener(\n        'mouseenter',\n        on_mouse_event_closure('figure_enter')\n    );\n    canvas_div.addEventListener(\n        'mouseleave',\n        on_mouse_event_closure('figure_leave')\n    );\n\n    canvas_div.addEventListener('wheel', function (event) {\n        if (event.deltaY < 0) {\n            event.step = 1;\n        } else {\n            event.step = -1;\n        }\n        on_mouse_event_closure('scroll')(event);\n    });\n\n    canvas_div.appendChild(canvas);\n    canvas_div.appendChild(rubberband_canvas);\n\n    this.rubberband_context = rubberband_canvas.getContext('2d');\n    this.rubberband_context.strokeStyle = '#000000';\n\n    this._resize_canvas = function (width, height, forward) {\n        if (forward) {\n            canvas_div.style.width = width + 'px';\n            canvas_div.style.height = height + 'px';\n        }\n    };\n\n    // Disable right mouse context menu.\n    canvas_div.addEventListener('contextmenu', function (_e) {\n        event.preventDefault();\n        return false;\n    });\n\n    function set_focus() {\n        canvas.focus();\n        canvas_div.focus();\n    }\n\n    window.setTimeout(set_focus, 100);\n};\n\nmpl.figure.prototype._init_toolbar = function () {\n    var fig = this;\n\n    var toolbar = document.createElement('div');\n    toolbar.classList = 'mpl-toolbar';\n    this.root.appendChild(toolbar);\n\n    function on_click_closure(name) {\n        return function (_event) {\n            return fig.toolbar_button_onclick(name);\n        };\n    }\n\n    function on_mouseover_closure(tooltip) {\n        return function (event) {\n            if (!event.currentTarget.disabled) {\n                return fig.toolbar_button_onmouseover(tooltip);\n            }\n        };\n    }\n\n    fig.buttons = {};\n    var buttonGroup = document.createElement('div');\n    buttonGroup.classList = 'mpl-button-group';\n    for (var toolbar_ind in mpl.toolbar_items) {\n        var name = mpl.toolbar_items[toolbar_ind][0];\n        var tooltip = mpl.toolbar_items[toolbar_ind][1];\n        var image = mpl.toolbar_items[toolbar_ind][2];\n        var method_name = mpl.toolbar_items[toolbar_ind][3];\n\n        if (!name) {\n            /* Instead of a spacer, we start a new button group. */\n            if (buttonGroup.hasChildNodes()) {\n                toolbar.appendChild(buttonGroup);\n            }\n            buttonGroup = document.createElement('div');\n            buttonGroup.classList = 'mpl-button-group';\n            continue;\n        }\n\n        var button = (fig.buttons[name] = document.createElement('button'));\n        button.classList = 'mpl-widget';\n        button.setAttribute('role', 'button');\n        button.setAttribute('aria-disabled', 'false');\n        button.addEventListener('click', on_click_closure(method_name));\n        button.addEventListener('mouseover', on_mouseover_closure(tooltip));\n\n        var icon_img = document.createElement('img');\n        icon_img.src = '_images/' + image + '.png';\n        icon_img.srcset = '_images/' + image + '_large.png 2x';\n        icon_img.alt = tooltip;\n        button.appendChild(icon_img);\n\n        buttonGroup.appendChild(button);\n    }\n\n    if (buttonGroup.hasChildNodes()) {\n        toolbar.appendChild(buttonGroup);\n    }\n\n    var fmt_picker = document.createElement('select');\n    fmt_picker.classList = 'mpl-widget';\n    toolbar.appendChild(fmt_picker);\n    this.format_dropdown = fmt_picker;\n\n    for (var ind in mpl.extensions) {\n        var fmt = mpl.extensions[ind];\n        var option = document.createElement('option');\n        option.selected = fmt === mpl.default_extension;\n        option.innerHTML = fmt;\n        fmt_picker.appendChild(option);\n    }\n\n    var status_bar = document.createElement('span');\n    status_bar.classList = 'mpl-message';\n    toolbar.appendChild(status_bar);\n    this.message = status_bar;\n};\n\nmpl.figure.prototype.request_resize = function (x_pixels, y_pixels) {\n    // Request matplotlib to resize the figure. Matplotlib will then trigger a resize in the client,\n    // which will in turn request a refresh of the image.\n    this.send_message('resize', { width: x_pixels, height: y_pixels });\n};\n\nmpl.figure.prototype.send_message = function (type, properties) {\n    properties['type'] = type;\n    properties['figure_id'] = this.id;\n    this.ws.send(JSON.stringify(properties));\n};\n\nmpl.figure.prototype.send_draw_message = function () {\n    if (!this.waiting) {\n        this.waiting = true;\n        this.ws.send(JSON.stringify({ type: 'draw', figure_id: this.id }));\n    }\n};\n\nmpl.figure.prototype.handle_save = function (fig, _msg) {\n    var format_dropdown = fig.format_dropdown;\n    var format = format_dropdown.options[format_dropdown.selectedIndex].value;\n    fig.ondownload(fig, format);\n};\n\nmpl.figure.prototype.handle_resize = function (fig, msg) {\n    var size = msg['size'];\n    if (size[0] !== fig.canvas.width || size[1] !== fig.canvas.height) {\n        fig._resize_canvas(size[0], size[1], msg['forward']);\n        fig.send_message('refresh', {});\n    }\n};\n\nmpl.figure.prototype.handle_rubberband = function (fig, msg) {\n    var x0 = msg['x0'] / fig.ratio;\n    var y0 = (fig.canvas.height - msg['y0']) / fig.ratio;\n    var x1 = msg['x1'] / fig.ratio;\n    var y1 = (fig.canvas.height - msg['y1']) / fig.ratio;\n    x0 = Math.floor(x0) + 0.5;\n    y0 = Math.floor(y0) + 0.5;\n    x1 = Math.floor(x1) + 0.5;\n    y1 = Math.floor(y1) + 0.5;\n    var min_x = Math.min(x0, x1);\n    var min_y = Math.min(y0, y1);\n    var width = Math.abs(x1 - x0);\n    var height = Math.abs(y1 - y0);\n\n    fig.rubberband_context.clearRect(\n        0,\n        0,\n        fig.canvas.width / fig.ratio,\n        fig.canvas.height / fig.ratio\n    );\n\n    fig.rubberband_context.strokeRect(min_x, min_y, width, height);\n};\n\nmpl.figure.prototype.handle_figure_label = function (fig, msg) {\n    // Updates the figure title.\n    fig.header.textContent = msg['label'];\n};\n\nmpl.figure.prototype.handle_cursor = function (fig, msg) {\n    fig.canvas_div.style.cursor = msg['cursor'];\n};\n\nmpl.figure.prototype.handle_message = function (fig, msg) {\n    fig.message.textContent = msg['message'];\n};\n\nmpl.figure.prototype.handle_draw = function (fig, _msg) {\n    // Request the server to send over a new figure.\n    fig.send_draw_message();\n};\n\nmpl.figure.prototype.handle_image_mode = function (fig, msg) {\n    fig.image_mode = msg['mode'];\n};\n\nmpl.figure.prototype.handle_history_buttons = function (fig, msg) {\n    for (var key in msg) {\n        if (!(key in fig.buttons)) {\n            continue;\n        }\n        fig.buttons[key].disabled = !msg[key];\n        fig.buttons[key].setAttribute('aria-disabled', !msg[key]);\n    }\n};\n\nmpl.figure.prototype.handle_navigate_mode = function (fig, msg) {\n    if (msg['mode'] === 'PAN') {\n        fig.buttons['Pan'].classList.add('active');\n        fig.buttons['Zoom'].classList.remove('active');\n    } else if (msg['mode'] === 'ZOOM') {\n        fig.buttons['Pan'].classList.remove('active');\n        fig.buttons['Zoom'].classList.add('active');\n    } else {\n        fig.buttons['Pan'].classList.remove('active');\n        fig.buttons['Zoom'].classList.remove('active');\n    }\n};\n\nmpl.figure.prototype.updated_canvas_event = function () {\n    // Called whenever the canvas gets updated.\n    this.send_message('ack', {});\n};\n\n// A function to construct a web socket function for onmessage handling.\n// Called in the figure constructor.\nmpl.figure.prototype._make_on_message_function = function (fig) {\n    return function socket_on_message(evt) {\n        if (evt.data instanceof Blob) {\n            var img = evt.data;\n            if (img.type !== 'image/png') {\n                /* FIXME: We get \"Resource interpreted as Image but\n                 * transferred with MIME type text/plain:\" errors on\n                 * Chrome.  But how to set the MIME type?  It doesn't seem\n                 * to be part of the websocket stream */\n                img.type = 'image/png';\n            }\n\n            /* Free the memory for the previous frames */\n            if (fig.imageObj.src) {\n                (window.URL || window.webkitURL).revokeObjectURL(\n                    fig.imageObj.src\n                );\n            }\n\n            fig.imageObj.src = (window.URL || window.webkitURL).createObjectURL(\n                img\n            );\n            fig.updated_canvas_event();\n            fig.waiting = false;\n            return;\n        } else if (\n            typeof evt.data === 'string' &&\n            evt.data.slice(0, 21) === 'data:image/png;base64'\n        ) {\n            fig.imageObj.src = evt.data;\n            fig.updated_canvas_event();\n            fig.waiting = false;\n            return;\n        }\n\n        var msg = JSON.parse(evt.data);\n        var msg_type = msg['type'];\n\n        // Call the  \"handle_{type}\" callback, which takes\n        // the figure and JSON message as its only arguments.\n        try {\n            var callback = fig['handle_' + msg_type];\n        } catch (e) {\n            console.log(\n                \"No handler for the '\" + msg_type + \"' message type: \",\n                msg\n            );\n            return;\n        }\n\n        if (callback) {\n            try {\n                // console.log(\"Handling '\" + msg_type + \"' message: \", msg);\n                callback(fig, msg);\n            } catch (e) {\n                console.log(\n                    \"Exception inside the 'handler_\" + msg_type + \"' callback:\",\n                    e,\n                    e.stack,\n                    msg\n                );\n            }\n        }\n    };\n};\n\nfunction getModifiers(event) {\n    var mods = [];\n    if (event.ctrlKey) {\n        mods.push('ctrl');\n    }\n    if (event.altKey) {\n        mods.push('alt');\n    }\n    if (event.shiftKey) {\n        mods.push('shift');\n    }\n    if (event.metaKey) {\n        mods.push('meta');\n    }\n    return mods;\n}\n\n/*\n * return a copy of an object with only non-object keys\n * we need this to avoid circular references\n * https://stackoverflow.com/a/24161582/3208463\n */\nfunction simpleKeys(original) {\n    return Object.keys(original).reduce(function (obj, key) {\n        if (typeof original[key] !== 'object') {\n            obj[key] = original[key];\n        }\n        return obj;\n    }, {});\n}\n\nmpl.figure.prototype.mouse_event = function (event, name) {\n    if (name === 'button_press') {\n        this.canvas.focus();\n        this.canvas_div.focus();\n    }\n\n    // from https://stackoverflow.com/q/1114465\n    var boundingRect = this.canvas.getBoundingClientRect();\n    var x = (event.clientX - boundingRect.left) * this.ratio;\n    var y = (event.clientY - boundingRect.top) * this.ratio;\n\n    this.send_message(name, {\n        x: x,\n        y: y,\n        button: event.button,\n        step: event.step,\n        modifiers: getModifiers(event),\n        guiEvent: simpleKeys(event),\n    });\n\n    return false;\n};\n\nmpl.figure.prototype._key_event_extra = function (_event, _name) {\n    // Handle any extra behaviour associated with a key event\n};\n\nmpl.figure.prototype.key_event = function (event, name) {\n    // Prevent repeat events\n    if (name === 'key_press') {\n        if (event.key === this._key) {\n            return;\n        } else {\n            this._key = event.key;\n        }\n    }\n    if (name === 'key_release') {\n        this._key = null;\n    }\n\n    var value = '';\n    if (event.ctrlKey && event.key !== 'Control') {\n        value += 'ctrl+';\n    }\n    else if (event.altKey && event.key !== 'Alt') {\n        value += 'alt+';\n    }\n    else if (event.shiftKey && event.key !== 'Shift') {\n        value += 'shift+';\n    }\n\n    value += 'k' + event.key;\n\n    this._key_event_extra(event, name);\n\n    this.send_message(name, { key: value, guiEvent: simpleKeys(event) });\n    return false;\n};\n\nmpl.figure.prototype.toolbar_button_onclick = function (name) {\n    if (name === 'download') {\n        this.handle_save(this, null);\n    } else {\n        this.send_message('toolbar_button', { name: name });\n    }\n};\n\nmpl.figure.prototype.toolbar_button_onmouseover = function (tooltip) {\n    this.message.textContent = tooltip;\n};\n\n///////////////// REMAINING CONTENT GENERATED BY embed_js.py /////////////////\n// prettier-ignore\nvar _JSXTOOLS_RESIZE_OBSERVER=function(A){var t,i=new WeakMap,n=new WeakMap,a=new WeakMap,r=new WeakMap,o=new Set;function s(e){if(!(this instanceof s))throw new TypeError(\"Constructor requires 'new' operator\");i.set(this,e)}function h(){throw new TypeError(\"Function is not a constructor\")}function c(e,t,i,n){e=0 in arguments?Number(arguments[0]):0,t=1 in arguments?Number(arguments[1]):0,i=2 in arguments?Number(arguments[2]):0,n=3 in arguments?Number(arguments[3]):0,this.right=(this.x=this.left=e)+(this.width=i),this.bottom=(this.y=this.top=t)+(this.height=n),Object.freeze(this)}function d(){t=requestAnimationFrame(d);var s=new WeakMap,p=new Set;o.forEach((function(t){r.get(t).forEach((function(i){var r=t instanceof window.SVGElement,o=a.get(t),d=r?0:parseFloat(o.paddingTop),f=r?0:parseFloat(o.paddingRight),l=r?0:parseFloat(o.paddingBottom),u=r?0:parseFloat(o.paddingLeft),g=r?0:parseFloat(o.borderTopWidth),m=r?0:parseFloat(o.borderRightWidth),w=r?0:parseFloat(o.borderBottomWidth),b=u+f,F=d+l,v=(r?0:parseFloat(o.borderLeftWidth))+m,W=g+w,y=r?0:t.offsetHeight-W-t.clientHeight,E=r?0:t.offsetWidth-v-t.clientWidth,R=b+v,z=F+W,M=r?t.width:parseFloat(o.width)-R-E,O=r?t.height:parseFloat(o.height)-z-y;if(n.has(t)){var k=n.get(t);if(k[0]===M&&k[1]===O)return}n.set(t,[M,O]);var S=Object.create(h.prototype);S.target=t,S.contentRect=new c(u,d,M,O),s.has(i)||(s.set(i,[]),p.add(i)),s.get(i).push(S)}))})),p.forEach((function(e){i.get(e).call(e,s.get(e),e)}))}return s.prototype.observe=function(i){if(i instanceof window.Element){r.has(i)||(r.set(i,new Set),o.add(i),a.set(i,window.getComputedStyle(i)));var n=r.get(i);n.has(this)||n.add(this),cancelAnimationFrame(t),t=requestAnimationFrame(d)}},s.prototype.unobserve=function(i){if(i instanceof window.Element&&r.has(i)){var n=r.get(i);n.has(this)&&(n.delete(this),n.size||(r.delete(i),o.delete(i))),n.size||r.delete(i),o.size||cancelAnimationFrame(t)}},A.DOMRectReadOnly=c,A.ResizeObserver=s,A.ResizeObserverEntry=h,A}; // eslint-disable-line\nmpl.toolbar_items = [[\"Home\", \"Reset original view\", \"fa fa-home\", \"home\"], [\"Back\", \"Back to previous view\", \"fa fa-arrow-left\", \"back\"], [\"Forward\", \"Forward to next view\", \"fa fa-arrow-right\", \"forward\"], [\"\", \"\", \"\", \"\"], [\"Pan\", \"Left button pans, Right button zooms\\nx/y fixes axis, CTRL fixes aspect\", \"fa fa-arrows\", \"pan\"], [\"Zoom\", \"Zoom to rectangle\\nx/y fixes axis\", \"fa fa-square-o\", \"zoom\"], [\"\", \"\", \"\", \"\"], [\"Download\", \"Download plot\", \"fa fa-floppy-o\", \"download\"]];\n\nmpl.extensions = [\"eps\", \"jpeg\", \"pgf\", \"pdf\", \"png\", \"ps\", \"raw\", \"svg\", \"tif\", \"webp\"];\n\nmpl.default_extension = \"png\";/* global mpl */\n\nvar comm_websocket_adapter = function (comm) {\n    // Create a \"websocket\"-like object which calls the given IPython comm\n    // object with the appropriate methods. Currently this is a non binary\n    // socket, so there is still some room for performance tuning.\n    var ws = {};\n\n    ws.binaryType = comm.kernel.ws.binaryType;\n    ws.readyState = comm.kernel.ws.readyState;\n    function updateReadyState(_event) {\n        if (comm.kernel.ws) {\n            ws.readyState = comm.kernel.ws.readyState;\n        } else {\n            ws.readyState = 3; // Closed state.\n        }\n    }\n    comm.kernel.ws.addEventListener('open', updateReadyState);\n    comm.kernel.ws.addEventListener('close', updateReadyState);\n    comm.kernel.ws.addEventListener('error', updateReadyState);\n\n    ws.close = function () {\n        comm.close();\n    };\n    ws.send = function (m) {\n        //console.log('sending', m);\n        comm.send(m);\n    };\n    // Register the callback with on_msg.\n    comm.on_msg(function (msg) {\n        //console.log('receiving', msg['content']['data'], msg);\n        var data = msg['content']['data'];\n        if (data['blob'] !== undefined) {\n            data = {\n                data: new Blob(msg['buffers'], { type: data['blob'] }),\n            };\n        }\n        // Pass the mpl event to the overridden (by mpl) onmessage function.\n        ws.onmessage(data);\n    });\n    return ws;\n};\n\nmpl.mpl_figure_comm = function (comm, msg) {\n    // This is the function which gets called when the mpl process\n    // starts-up an IPython Comm through the \"matplotlib\" channel.\n\n    var id = msg.content.data.id;\n    // Get hold of the div created by the display call when the Comm\n    // socket was opened in Python.\n    var element = document.getElementById(id);\n    var ws_proxy = comm_websocket_adapter(comm);\n\n    function ondownload(figure, _format) {\n        window.open(figure.canvas.toDataURL());\n    }\n\n    var fig = new mpl.figure(id, ws_proxy, ondownload, element);\n\n    // Call onopen now - mpl needs it, as it is assuming we've passed it a real\n    // web socket which is closed, not our websocket->open comm proxy.\n    ws_proxy.onopen();\n\n    fig.parent_element = element;\n    fig.cell_info = mpl.find_output_cell(\"<div id='\" + id + \"'></div>\");\n    if (!fig.cell_info) {\n        console.error('Failed to find cell for figure', id, fig);\n        return;\n    }\n    fig.cell_info[0].output_area.element.on(\n        'cleared',\n        { fig: fig },\n        fig._remove_fig_handler\n    );\n};\n\nmpl.figure.prototype.handle_close = function (fig, msg) {\n    var width = fig.canvas.width / fig.ratio;\n    fig.cell_info[0].output_area.element.off(\n        'cleared',\n        fig._remove_fig_handler\n    );\n    fig.resizeObserverInstance.unobserve(fig.canvas_div);\n\n    // Update the output cell to use the data from the current canvas.\n    fig.push_to_output();\n    var dataURL = fig.canvas.toDataURL();\n    // Re-enable the keyboard manager in IPython - without this line, in FF,\n    // the notebook keyboard shortcuts fail.\n    IPython.keyboard_manager.enable();\n    fig.parent_element.innerHTML =\n        '<img src=\"' + dataURL + '\" width=\"' + width + '\">';\n    fig.close_ws(fig, msg);\n};\n\nmpl.figure.prototype.close_ws = function (fig, msg) {\n    fig.send_message('closing', msg);\n    // fig.ws.close()\n};\n\nmpl.figure.prototype.push_to_output = function (_remove_interactive) {\n    // Turn the data on the canvas into data in the output cell.\n    var width = this.canvas.width / this.ratio;\n    var dataURL = this.canvas.toDataURL();\n    this.cell_info[1]['text/html'] =\n        '<img src=\"' + dataURL + '\" width=\"' + width + '\">';\n};\n\nmpl.figure.prototype.updated_canvas_event = function () {\n    // Tell IPython that the notebook contents must change.\n    IPython.notebook.set_dirty(true);\n    this.send_message('ack', {});\n    var fig = this;\n    // Wait a second, then push the new image to the DOM so\n    // that it is saved nicely (might be nice to debounce this).\n    setTimeout(function () {\n        fig.push_to_output();\n    }, 1000);\n};\n\nmpl.figure.prototype._init_toolbar = function () {\n    var fig = this;\n\n    var toolbar = document.createElement('div');\n    toolbar.classList = 'btn-toolbar';\n    this.root.appendChild(toolbar);\n\n    function on_click_closure(name) {\n        return function (_event) {\n            return fig.toolbar_button_onclick(name);\n        };\n    }\n\n    function on_mouseover_closure(tooltip) {\n        return function (event) {\n            if (!event.currentTarget.disabled) {\n                return fig.toolbar_button_onmouseover(tooltip);\n            }\n        };\n    }\n\n    fig.buttons = {};\n    var buttonGroup = document.createElement('div');\n    buttonGroup.classList = 'btn-group';\n    var button;\n    for (var toolbar_ind in mpl.toolbar_items) {\n        var name = mpl.toolbar_items[toolbar_ind][0];\n        var tooltip = mpl.toolbar_items[toolbar_ind][1];\n        var image = mpl.toolbar_items[toolbar_ind][2];\n        var method_name = mpl.toolbar_items[toolbar_ind][3];\n\n        if (!name) {\n            /* Instead of a spacer, we start a new button group. */\n            if (buttonGroup.hasChildNodes()) {\n                toolbar.appendChild(buttonGroup);\n            }\n            buttonGroup = document.createElement('div');\n            buttonGroup.classList = 'btn-group';\n            continue;\n        }\n\n        button = fig.buttons[name] = document.createElement('button');\n        button.classList = 'btn btn-default';\n        button.href = '#';\n        button.title = name;\n        button.innerHTML = '<i class=\"fa ' + image + ' fa-lg\"></i>';\n        button.addEventListener('click', on_click_closure(method_name));\n        button.addEventListener('mouseover', on_mouseover_closure(tooltip));\n        buttonGroup.appendChild(button);\n    }\n\n    if (buttonGroup.hasChildNodes()) {\n        toolbar.appendChild(buttonGroup);\n    }\n\n    // Add the status bar.\n    var status_bar = document.createElement('span');\n    status_bar.classList = 'mpl-message pull-right';\n    toolbar.appendChild(status_bar);\n    this.message = status_bar;\n\n    // Add the close button to the window.\n    var buttongrp = document.createElement('div');\n    buttongrp.classList = 'btn-group inline pull-right';\n    button = document.createElement('button');\n    button.classList = 'btn btn-mini btn-primary';\n    button.href = '#';\n    button.title = 'Stop Interaction';\n    button.innerHTML = '<i class=\"fa fa-power-off icon-remove icon-large\"></i>';\n    button.addEventListener('click', function (_evt) {\n        fig.handle_close(fig, {});\n    });\n    button.addEventListener(\n        'mouseover',\n        on_mouseover_closure('Stop Interaction')\n    );\n    buttongrp.appendChild(button);\n    var titlebar = this.root.querySelector('.ui-dialog-titlebar');\n    titlebar.insertBefore(buttongrp, titlebar.firstChild);\n};\n\nmpl.figure.prototype._remove_fig_handler = function (event) {\n    var fig = event.data.fig;\n    if (event.target !== this) {\n        // Ignore bubbled events from children.\n        return;\n    }\n    fig.close_ws(fig, {});\n};\n\nmpl.figure.prototype._root_extra_style = function (el) {\n    el.style.boxSizing = 'content-box'; // override notebook setting of border-box.\n};\n\nmpl.figure.prototype._canvas_extra_style = function (el) {\n    // this is important to make the div 'focusable\n    el.setAttribute('tabindex', 0);\n    // reach out to IPython and tell the keyboard manager to turn it's self\n    // off when our div gets focus\n\n    // location in version 3\n    if (IPython.notebook.keyboard_manager) {\n        IPython.notebook.keyboard_manager.register_events(el);\n    } else {\n        // location in version 2\n        IPython.keyboard_manager.register_events(el);\n    }\n};\n\nmpl.figure.prototype._key_event_extra = function (event, _name) {\n    // Check for shift+enter\n    if (event.shiftKey && event.which === 13) {\n        this.canvas_div.blur();\n        // select the cell after this one\n        var index = IPython.notebook.find_cell_index(this.cell_info[0]);\n        IPython.notebook.select(index + 1);\n    }\n};\n\nmpl.figure.prototype.handle_save = function (fig, _msg) {\n    fig.ondownload(fig, null);\n};\n\nmpl.find_output_cell = function (html_output) {\n    // Return the cell and output element which can be found *uniquely* in the notebook.\n    // Note - this is a bit hacky, but it is done because the \"notebook_saving.Notebook\"\n    // IPython event is triggered only after the cells have been serialised, which for\n    // our purposes (turning an active figure into a static one), is too late.\n    var cells = IPython.notebook.get_cells();\n    var ncells = cells.length;\n    for (var i = 0; i < ncells; i++) {\n        var cell = cells[i];\n        if (cell.cell_type === 'code') {\n            for (var j = 0; j < cell.output_area.outputs.length; j++) {\n                var data = cell.output_area.outputs[j];\n                if (data.data) {\n                    // IPython >= 3 moved mimebundle to data attribute of output\n                    data = data.data;\n                }\n                if (data['text/html'] === html_output) {\n                    return [cell, data, j];\n                }\n            }\n        }\n    }\n};\n\n// Register the function which deals with the matplotlib target/channel.\n// The kernel may be null if the page has been refreshed.\nif (IPython.notebook.kernel !== null) {\n    IPython.notebook.kernel.comm_manager.register_target(\n        'matplotlib',\n        mpl.mpl_figure_comm\n    );\n}\n",
      "text/plain": [
       "<IPython.core.display.Javascript object>"
      ]
     },
     "metadata": {},
     "output_type": "display_data"
    },
    {
     "data": {
      "text/html": [
       "<div id='5b2f6763-1585-44e0-9bf6-93943e3af12b'></div>"
      ],
      "text/plain": [
       "<IPython.core.display.HTML object>"
      ]
     },
     "metadata": {},
     "output_type": "display_data"
    }
   ],
   "source": [
    "method_name = \"TensorTrain\"\n",
    "plot_pairplot(dfs_by_decomposition_method_encoded[method_name], title=method_name)"
   ]
  },
  {
   "cell_type": "code",
   "execution_count": 46,
   "id": "4c2f8ce970b7d7f5",
   "metadata": {
    "ExecuteTime": {
     "end_time": "2024-12-05T12:20:36.219052Z",
     "start_time": "2024-12-05T12:19:35.189013Z"
    }
   },
   "outputs": [
    {
     "data": {
      "application/javascript": "/* Put everything inside the global mpl namespace */\n/* global mpl */\nwindow.mpl = {};\n\nmpl.get_websocket_type = function () {\n    if (typeof WebSocket !== 'undefined') {\n        return WebSocket;\n    } else if (typeof MozWebSocket !== 'undefined') {\n        return MozWebSocket;\n    } else {\n        alert(\n            'Your browser does not have WebSocket support. ' +\n                'Please try Chrome, Safari or Firefox ≥ 6. ' +\n                'Firefox 4 and 5 are also supported but you ' +\n                'have to enable WebSockets in about:config.'\n        );\n    }\n};\n\nmpl.figure = function (figure_id, websocket, ondownload, parent_element) {\n    this.id = figure_id;\n\n    this.ws = websocket;\n\n    this.supports_binary = this.ws.binaryType !== undefined;\n\n    if (!this.supports_binary) {\n        var warnings = document.getElementById('mpl-warnings');\n        if (warnings) {\n            warnings.style.display = 'block';\n            warnings.textContent =\n                'This browser does not support binary websocket messages. ' +\n                'Performance may be slow.';\n        }\n    }\n\n    this.imageObj = new Image();\n\n    this.context = undefined;\n    this.message = undefined;\n    this.canvas = undefined;\n    this.rubberband_canvas = undefined;\n    this.rubberband_context = undefined;\n    this.format_dropdown = undefined;\n\n    this.image_mode = 'full';\n\n    this.root = document.createElement('div');\n    this.root.setAttribute('style', 'display: inline-block');\n    this._root_extra_style(this.root);\n\n    parent_element.appendChild(this.root);\n\n    this._init_header(this);\n    this._init_canvas(this);\n    this._init_toolbar(this);\n\n    var fig = this;\n\n    this.waiting = false;\n\n    this.ws.onopen = function () {\n        fig.send_message('supports_binary', { value: fig.supports_binary });\n        fig.send_message('send_image_mode', {});\n        if (fig.ratio !== 1) {\n            fig.send_message('set_device_pixel_ratio', {\n                device_pixel_ratio: fig.ratio,\n            });\n        }\n        fig.send_message('refresh', {});\n    };\n\n    this.imageObj.onload = function () {\n        if (fig.image_mode === 'full') {\n            // Full images could contain transparency (where diff images\n            // almost always do), so we need to clear the canvas so that\n            // there is no ghosting.\n            fig.context.clearRect(0, 0, fig.canvas.width, fig.canvas.height);\n        }\n        fig.context.drawImage(fig.imageObj, 0, 0);\n    };\n\n    this.imageObj.onunload = function () {\n        fig.ws.close();\n    };\n\n    this.ws.onmessage = this._make_on_message_function(this);\n\n    this.ondownload = ondownload;\n};\n\nmpl.figure.prototype._init_header = function () {\n    var titlebar = document.createElement('div');\n    titlebar.classList =\n        'ui-dialog-titlebar ui-widget-header ui-corner-all ui-helper-clearfix';\n    var titletext = document.createElement('div');\n    titletext.classList = 'ui-dialog-title';\n    titletext.setAttribute(\n        'style',\n        'width: 100%; text-align: center; padding: 3px;'\n    );\n    titlebar.appendChild(titletext);\n    this.root.appendChild(titlebar);\n    this.header = titletext;\n};\n\nmpl.figure.prototype._canvas_extra_style = function (_canvas_div) {};\n\nmpl.figure.prototype._root_extra_style = function (_canvas_div) {};\n\nmpl.figure.prototype._init_canvas = function () {\n    var fig = this;\n\n    var canvas_div = (this.canvas_div = document.createElement('div'));\n    canvas_div.setAttribute('tabindex', '0');\n    canvas_div.setAttribute(\n        'style',\n        'border: 1px solid #ddd;' +\n            'box-sizing: content-box;' +\n            'clear: both;' +\n            'min-height: 1px;' +\n            'min-width: 1px;' +\n            'outline: 0;' +\n            'overflow: hidden;' +\n            'position: relative;' +\n            'resize: both;' +\n            'z-index: 2;'\n    );\n\n    function on_keyboard_event_closure(name) {\n        return function (event) {\n            return fig.key_event(event, name);\n        };\n    }\n\n    canvas_div.addEventListener(\n        'keydown',\n        on_keyboard_event_closure('key_press')\n    );\n    canvas_div.addEventListener(\n        'keyup',\n        on_keyboard_event_closure('key_release')\n    );\n\n    this._canvas_extra_style(canvas_div);\n    this.root.appendChild(canvas_div);\n\n    var canvas = (this.canvas = document.createElement('canvas'));\n    canvas.classList.add('mpl-canvas');\n    canvas.setAttribute(\n        'style',\n        'box-sizing: content-box;' +\n            'pointer-events: none;' +\n            'position: relative;' +\n            'z-index: 0;'\n    );\n\n    this.context = canvas.getContext('2d');\n\n    var backingStore =\n        this.context.backingStorePixelRatio ||\n        this.context.webkitBackingStorePixelRatio ||\n        this.context.mozBackingStorePixelRatio ||\n        this.context.msBackingStorePixelRatio ||\n        this.context.oBackingStorePixelRatio ||\n        this.context.backingStorePixelRatio ||\n        1;\n\n    this.ratio = (window.devicePixelRatio || 1) / backingStore;\n\n    var rubberband_canvas = (this.rubberband_canvas = document.createElement(\n        'canvas'\n    ));\n    rubberband_canvas.setAttribute(\n        'style',\n        'box-sizing: content-box;' +\n            'left: 0;' +\n            'pointer-events: none;' +\n            'position: absolute;' +\n            'top: 0;' +\n            'z-index: 1;'\n    );\n\n    // Apply a ponyfill if ResizeObserver is not implemented by browser.\n    if (this.ResizeObserver === undefined) {\n        if (window.ResizeObserver !== undefined) {\n            this.ResizeObserver = window.ResizeObserver;\n        } else {\n            var obs = _JSXTOOLS_RESIZE_OBSERVER({});\n            this.ResizeObserver = obs.ResizeObserver;\n        }\n    }\n\n    this.resizeObserverInstance = new this.ResizeObserver(function (entries) {\n        // There's no need to resize if the WebSocket is not connected:\n        // - If it is still connecting, then we will get an initial resize from\n        //   Python once it connects.\n        // - If it has disconnected, then resizing will clear the canvas and\n        //   never get anything back to refill it, so better to not resize and\n        //   keep something visible.\n        if (fig.ws.readyState != 1) {\n            return;\n        }\n        var nentries = entries.length;\n        for (var i = 0; i < nentries; i++) {\n            var entry = entries[i];\n            var width, height;\n            if (entry.contentBoxSize) {\n                if (entry.contentBoxSize instanceof Array) {\n                    // Chrome 84 implements new version of spec.\n                    width = entry.contentBoxSize[0].inlineSize;\n                    height = entry.contentBoxSize[0].blockSize;\n                } else {\n                    // Firefox implements old version of spec.\n                    width = entry.contentBoxSize.inlineSize;\n                    height = entry.contentBoxSize.blockSize;\n                }\n            } else {\n                // Chrome <84 implements even older version of spec.\n                width = entry.contentRect.width;\n                height = entry.contentRect.height;\n            }\n\n            // Keep the size of the canvas and rubber band canvas in sync with\n            // the canvas container.\n            if (entry.devicePixelContentBoxSize) {\n                // Chrome 84 implements new version of spec.\n                canvas.setAttribute(\n                    'width',\n                    entry.devicePixelContentBoxSize[0].inlineSize\n                );\n                canvas.setAttribute(\n                    'height',\n                    entry.devicePixelContentBoxSize[0].blockSize\n                );\n            } else {\n                canvas.setAttribute('width', width * fig.ratio);\n                canvas.setAttribute('height', height * fig.ratio);\n            }\n            /* This rescales the canvas back to display pixels, so that it\n             * appears correct on HiDPI screens. */\n            canvas.style.width = width + 'px';\n            canvas.style.height = height + 'px';\n\n            rubberband_canvas.setAttribute('width', width);\n            rubberband_canvas.setAttribute('height', height);\n\n            // And update the size in Python. We ignore the initial 0/0 size\n            // that occurs as the element is placed into the DOM, which should\n            // otherwise not happen due to the minimum size styling.\n            if (width != 0 && height != 0) {\n                fig.request_resize(width, height);\n            }\n        }\n    });\n    this.resizeObserverInstance.observe(canvas_div);\n\n    function on_mouse_event_closure(name) {\n        /* User Agent sniffing is bad, but WebKit is busted:\n         * https://bugs.webkit.org/show_bug.cgi?id=144526\n         * https://bugs.webkit.org/show_bug.cgi?id=181818\n         * The worst that happens here is that they get an extra browser\n         * selection when dragging, if this check fails to catch them.\n         */\n        var UA = navigator.userAgent;\n        var isWebKit = /AppleWebKit/.test(UA) && !/Chrome/.test(UA);\n        if(isWebKit) {\n            return function (event) {\n                /* This prevents the web browser from automatically changing to\n                 * the text insertion cursor when the button is pressed. We\n                 * want to control all of the cursor setting manually through\n                 * the 'cursor' event from matplotlib */\n                event.preventDefault()\n                return fig.mouse_event(event, name);\n            };\n        } else {\n            return function (event) {\n                return fig.mouse_event(event, name);\n            };\n        }\n    }\n\n    canvas_div.addEventListener(\n        'mousedown',\n        on_mouse_event_closure('button_press')\n    );\n    canvas_div.addEventListener(\n        'mouseup',\n        on_mouse_event_closure('button_release')\n    );\n    canvas_div.addEventListener(\n        'dblclick',\n        on_mouse_event_closure('dblclick')\n    );\n    // Throttle sequential mouse events to 1 every 20ms.\n    canvas_div.addEventListener(\n        'mousemove',\n        on_mouse_event_closure('motion_notify')\n    );\n\n    canvas_div.addEventListener(\n        'mouseenter',\n        on_mouse_event_closure('figure_enter')\n    );\n    canvas_div.addEventListener(\n        'mouseleave',\n        on_mouse_event_closure('figure_leave')\n    );\n\n    canvas_div.addEventListener('wheel', function (event) {\n        if (event.deltaY < 0) {\n            event.step = 1;\n        } else {\n            event.step = -1;\n        }\n        on_mouse_event_closure('scroll')(event);\n    });\n\n    canvas_div.appendChild(canvas);\n    canvas_div.appendChild(rubberband_canvas);\n\n    this.rubberband_context = rubberband_canvas.getContext('2d');\n    this.rubberband_context.strokeStyle = '#000000';\n\n    this._resize_canvas = function (width, height, forward) {\n        if (forward) {\n            canvas_div.style.width = width + 'px';\n            canvas_div.style.height = height + 'px';\n        }\n    };\n\n    // Disable right mouse context menu.\n    canvas_div.addEventListener('contextmenu', function (_e) {\n        event.preventDefault();\n        return false;\n    });\n\n    function set_focus() {\n        canvas.focus();\n        canvas_div.focus();\n    }\n\n    window.setTimeout(set_focus, 100);\n};\n\nmpl.figure.prototype._init_toolbar = function () {\n    var fig = this;\n\n    var toolbar = document.createElement('div');\n    toolbar.classList = 'mpl-toolbar';\n    this.root.appendChild(toolbar);\n\n    function on_click_closure(name) {\n        return function (_event) {\n            return fig.toolbar_button_onclick(name);\n        };\n    }\n\n    function on_mouseover_closure(tooltip) {\n        return function (event) {\n            if (!event.currentTarget.disabled) {\n                return fig.toolbar_button_onmouseover(tooltip);\n            }\n        };\n    }\n\n    fig.buttons = {};\n    var buttonGroup = document.createElement('div');\n    buttonGroup.classList = 'mpl-button-group';\n    for (var toolbar_ind in mpl.toolbar_items) {\n        var name = mpl.toolbar_items[toolbar_ind][0];\n        var tooltip = mpl.toolbar_items[toolbar_ind][1];\n        var image = mpl.toolbar_items[toolbar_ind][2];\n        var method_name = mpl.toolbar_items[toolbar_ind][3];\n\n        if (!name) {\n            /* Instead of a spacer, we start a new button group. */\n            if (buttonGroup.hasChildNodes()) {\n                toolbar.appendChild(buttonGroup);\n            }\n            buttonGroup = document.createElement('div');\n            buttonGroup.classList = 'mpl-button-group';\n            continue;\n        }\n\n        var button = (fig.buttons[name] = document.createElement('button'));\n        button.classList = 'mpl-widget';\n        button.setAttribute('role', 'button');\n        button.setAttribute('aria-disabled', 'false');\n        button.addEventListener('click', on_click_closure(method_name));\n        button.addEventListener('mouseover', on_mouseover_closure(tooltip));\n\n        var icon_img = document.createElement('img');\n        icon_img.src = '_images/' + image + '.png';\n        icon_img.srcset = '_images/' + image + '_large.png 2x';\n        icon_img.alt = tooltip;\n        button.appendChild(icon_img);\n\n        buttonGroup.appendChild(button);\n    }\n\n    if (buttonGroup.hasChildNodes()) {\n        toolbar.appendChild(buttonGroup);\n    }\n\n    var fmt_picker = document.createElement('select');\n    fmt_picker.classList = 'mpl-widget';\n    toolbar.appendChild(fmt_picker);\n    this.format_dropdown = fmt_picker;\n\n    for (var ind in mpl.extensions) {\n        var fmt = mpl.extensions[ind];\n        var option = document.createElement('option');\n        option.selected = fmt === mpl.default_extension;\n        option.innerHTML = fmt;\n        fmt_picker.appendChild(option);\n    }\n\n    var status_bar = document.createElement('span');\n    status_bar.classList = 'mpl-message';\n    toolbar.appendChild(status_bar);\n    this.message = status_bar;\n};\n\nmpl.figure.prototype.request_resize = function (x_pixels, y_pixels) {\n    // Request matplotlib to resize the figure. Matplotlib will then trigger a resize in the client,\n    // which will in turn request a refresh of the image.\n    this.send_message('resize', { width: x_pixels, height: y_pixels });\n};\n\nmpl.figure.prototype.send_message = function (type, properties) {\n    properties['type'] = type;\n    properties['figure_id'] = this.id;\n    this.ws.send(JSON.stringify(properties));\n};\n\nmpl.figure.prototype.send_draw_message = function () {\n    if (!this.waiting) {\n        this.waiting = true;\n        this.ws.send(JSON.stringify({ type: 'draw', figure_id: this.id }));\n    }\n};\n\nmpl.figure.prototype.handle_save = function (fig, _msg) {\n    var format_dropdown = fig.format_dropdown;\n    var format = format_dropdown.options[format_dropdown.selectedIndex].value;\n    fig.ondownload(fig, format);\n};\n\nmpl.figure.prototype.handle_resize = function (fig, msg) {\n    var size = msg['size'];\n    if (size[0] !== fig.canvas.width || size[1] !== fig.canvas.height) {\n        fig._resize_canvas(size[0], size[1], msg['forward']);\n        fig.send_message('refresh', {});\n    }\n};\n\nmpl.figure.prototype.handle_rubberband = function (fig, msg) {\n    var x0 = msg['x0'] / fig.ratio;\n    var y0 = (fig.canvas.height - msg['y0']) / fig.ratio;\n    var x1 = msg['x1'] / fig.ratio;\n    var y1 = (fig.canvas.height - msg['y1']) / fig.ratio;\n    x0 = Math.floor(x0) + 0.5;\n    y0 = Math.floor(y0) + 0.5;\n    x1 = Math.floor(x1) + 0.5;\n    y1 = Math.floor(y1) + 0.5;\n    var min_x = Math.min(x0, x1);\n    var min_y = Math.min(y0, y1);\n    var width = Math.abs(x1 - x0);\n    var height = Math.abs(y1 - y0);\n\n    fig.rubberband_context.clearRect(\n        0,\n        0,\n        fig.canvas.width / fig.ratio,\n        fig.canvas.height / fig.ratio\n    );\n\n    fig.rubberband_context.strokeRect(min_x, min_y, width, height);\n};\n\nmpl.figure.prototype.handle_figure_label = function (fig, msg) {\n    // Updates the figure title.\n    fig.header.textContent = msg['label'];\n};\n\nmpl.figure.prototype.handle_cursor = function (fig, msg) {\n    fig.canvas_div.style.cursor = msg['cursor'];\n};\n\nmpl.figure.prototype.handle_message = function (fig, msg) {\n    fig.message.textContent = msg['message'];\n};\n\nmpl.figure.prototype.handle_draw = function (fig, _msg) {\n    // Request the server to send over a new figure.\n    fig.send_draw_message();\n};\n\nmpl.figure.prototype.handle_image_mode = function (fig, msg) {\n    fig.image_mode = msg['mode'];\n};\n\nmpl.figure.prototype.handle_history_buttons = function (fig, msg) {\n    for (var key in msg) {\n        if (!(key in fig.buttons)) {\n            continue;\n        }\n        fig.buttons[key].disabled = !msg[key];\n        fig.buttons[key].setAttribute('aria-disabled', !msg[key]);\n    }\n};\n\nmpl.figure.prototype.handle_navigate_mode = function (fig, msg) {\n    if (msg['mode'] === 'PAN') {\n        fig.buttons['Pan'].classList.add('active');\n        fig.buttons['Zoom'].classList.remove('active');\n    } else if (msg['mode'] === 'ZOOM') {\n        fig.buttons['Pan'].classList.remove('active');\n        fig.buttons['Zoom'].classList.add('active');\n    } else {\n        fig.buttons['Pan'].classList.remove('active');\n        fig.buttons['Zoom'].classList.remove('active');\n    }\n};\n\nmpl.figure.prototype.updated_canvas_event = function () {\n    // Called whenever the canvas gets updated.\n    this.send_message('ack', {});\n};\n\n// A function to construct a web socket function for onmessage handling.\n// Called in the figure constructor.\nmpl.figure.prototype._make_on_message_function = function (fig) {\n    return function socket_on_message(evt) {\n        if (evt.data instanceof Blob) {\n            var img = evt.data;\n            if (img.type !== 'image/png') {\n                /* FIXME: We get \"Resource interpreted as Image but\n                 * transferred with MIME type text/plain:\" errors on\n                 * Chrome.  But how to set the MIME type?  It doesn't seem\n                 * to be part of the websocket stream */\n                img.type = 'image/png';\n            }\n\n            /* Free the memory for the previous frames */\n            if (fig.imageObj.src) {\n                (window.URL || window.webkitURL).revokeObjectURL(\n                    fig.imageObj.src\n                );\n            }\n\n            fig.imageObj.src = (window.URL || window.webkitURL).createObjectURL(\n                img\n            );\n            fig.updated_canvas_event();\n            fig.waiting = false;\n            return;\n        } else if (\n            typeof evt.data === 'string' &&\n            evt.data.slice(0, 21) === 'data:image/png;base64'\n        ) {\n            fig.imageObj.src = evt.data;\n            fig.updated_canvas_event();\n            fig.waiting = false;\n            return;\n        }\n\n        var msg = JSON.parse(evt.data);\n        var msg_type = msg['type'];\n\n        // Call the  \"handle_{type}\" callback, which takes\n        // the figure and JSON message as its only arguments.\n        try {\n            var callback = fig['handle_' + msg_type];\n        } catch (e) {\n            console.log(\n                \"No handler for the '\" + msg_type + \"' message type: \",\n                msg\n            );\n            return;\n        }\n\n        if (callback) {\n            try {\n                // console.log(\"Handling '\" + msg_type + \"' message: \", msg);\n                callback(fig, msg);\n            } catch (e) {\n                console.log(\n                    \"Exception inside the 'handler_\" + msg_type + \"' callback:\",\n                    e,\n                    e.stack,\n                    msg\n                );\n            }\n        }\n    };\n};\n\nfunction getModifiers(event) {\n    var mods = [];\n    if (event.ctrlKey) {\n        mods.push('ctrl');\n    }\n    if (event.altKey) {\n        mods.push('alt');\n    }\n    if (event.shiftKey) {\n        mods.push('shift');\n    }\n    if (event.metaKey) {\n        mods.push('meta');\n    }\n    return mods;\n}\n\n/*\n * return a copy of an object with only non-object keys\n * we need this to avoid circular references\n * https://stackoverflow.com/a/24161582/3208463\n */\nfunction simpleKeys(original) {\n    return Object.keys(original).reduce(function (obj, key) {\n        if (typeof original[key] !== 'object') {\n            obj[key] = original[key];\n        }\n        return obj;\n    }, {});\n}\n\nmpl.figure.prototype.mouse_event = function (event, name) {\n    if (name === 'button_press') {\n        this.canvas.focus();\n        this.canvas_div.focus();\n    }\n\n    // from https://stackoverflow.com/q/1114465\n    var boundingRect = this.canvas.getBoundingClientRect();\n    var x = (event.clientX - boundingRect.left) * this.ratio;\n    var y = (event.clientY - boundingRect.top) * this.ratio;\n\n    this.send_message(name, {\n        x: x,\n        y: y,\n        button: event.button,\n        step: event.step,\n        modifiers: getModifiers(event),\n        guiEvent: simpleKeys(event),\n    });\n\n    return false;\n};\n\nmpl.figure.prototype._key_event_extra = function (_event, _name) {\n    // Handle any extra behaviour associated with a key event\n};\n\nmpl.figure.prototype.key_event = function (event, name) {\n    // Prevent repeat events\n    if (name === 'key_press') {\n        if (event.key === this._key) {\n            return;\n        } else {\n            this._key = event.key;\n        }\n    }\n    if (name === 'key_release') {\n        this._key = null;\n    }\n\n    var value = '';\n    if (event.ctrlKey && event.key !== 'Control') {\n        value += 'ctrl+';\n    }\n    else if (event.altKey && event.key !== 'Alt') {\n        value += 'alt+';\n    }\n    else if (event.shiftKey && event.key !== 'Shift') {\n        value += 'shift+';\n    }\n\n    value += 'k' + event.key;\n\n    this._key_event_extra(event, name);\n\n    this.send_message(name, { key: value, guiEvent: simpleKeys(event) });\n    return false;\n};\n\nmpl.figure.prototype.toolbar_button_onclick = function (name) {\n    if (name === 'download') {\n        this.handle_save(this, null);\n    } else {\n        this.send_message('toolbar_button', { name: name });\n    }\n};\n\nmpl.figure.prototype.toolbar_button_onmouseover = function (tooltip) {\n    this.message.textContent = tooltip;\n};\n\n///////////////// REMAINING CONTENT GENERATED BY embed_js.py /////////////////\n// prettier-ignore\nvar _JSXTOOLS_RESIZE_OBSERVER=function(A){var t,i=new WeakMap,n=new WeakMap,a=new WeakMap,r=new WeakMap,o=new Set;function s(e){if(!(this instanceof s))throw new TypeError(\"Constructor requires 'new' operator\");i.set(this,e)}function h(){throw new TypeError(\"Function is not a constructor\")}function c(e,t,i,n){e=0 in arguments?Number(arguments[0]):0,t=1 in arguments?Number(arguments[1]):0,i=2 in arguments?Number(arguments[2]):0,n=3 in arguments?Number(arguments[3]):0,this.right=(this.x=this.left=e)+(this.width=i),this.bottom=(this.y=this.top=t)+(this.height=n),Object.freeze(this)}function d(){t=requestAnimationFrame(d);var s=new WeakMap,p=new Set;o.forEach((function(t){r.get(t).forEach((function(i){var r=t instanceof window.SVGElement,o=a.get(t),d=r?0:parseFloat(o.paddingTop),f=r?0:parseFloat(o.paddingRight),l=r?0:parseFloat(o.paddingBottom),u=r?0:parseFloat(o.paddingLeft),g=r?0:parseFloat(o.borderTopWidth),m=r?0:parseFloat(o.borderRightWidth),w=r?0:parseFloat(o.borderBottomWidth),b=u+f,F=d+l,v=(r?0:parseFloat(o.borderLeftWidth))+m,W=g+w,y=r?0:t.offsetHeight-W-t.clientHeight,E=r?0:t.offsetWidth-v-t.clientWidth,R=b+v,z=F+W,M=r?t.width:parseFloat(o.width)-R-E,O=r?t.height:parseFloat(o.height)-z-y;if(n.has(t)){var k=n.get(t);if(k[0]===M&&k[1]===O)return}n.set(t,[M,O]);var S=Object.create(h.prototype);S.target=t,S.contentRect=new c(u,d,M,O),s.has(i)||(s.set(i,[]),p.add(i)),s.get(i).push(S)}))})),p.forEach((function(e){i.get(e).call(e,s.get(e),e)}))}return s.prototype.observe=function(i){if(i instanceof window.Element){r.has(i)||(r.set(i,new Set),o.add(i),a.set(i,window.getComputedStyle(i)));var n=r.get(i);n.has(this)||n.add(this),cancelAnimationFrame(t),t=requestAnimationFrame(d)}},s.prototype.unobserve=function(i){if(i instanceof window.Element&&r.has(i)){var n=r.get(i);n.has(this)&&(n.delete(this),n.size||(r.delete(i),o.delete(i))),n.size||r.delete(i),o.size||cancelAnimationFrame(t)}},A.DOMRectReadOnly=c,A.ResizeObserver=s,A.ResizeObserverEntry=h,A}; // eslint-disable-line\nmpl.toolbar_items = [[\"Home\", \"Reset original view\", \"fa fa-home\", \"home\"], [\"Back\", \"Back to previous view\", \"fa fa-arrow-left\", \"back\"], [\"Forward\", \"Forward to next view\", \"fa fa-arrow-right\", \"forward\"], [\"\", \"\", \"\", \"\"], [\"Pan\", \"Left button pans, Right button zooms\\nx/y fixes axis, CTRL fixes aspect\", \"fa fa-arrows\", \"pan\"], [\"Zoom\", \"Zoom to rectangle\\nx/y fixes axis\", \"fa fa-square-o\", \"zoom\"], [\"\", \"\", \"\", \"\"], [\"Download\", \"Download plot\", \"fa fa-floppy-o\", \"download\"]];\n\nmpl.extensions = [\"eps\", \"jpeg\", \"pgf\", \"pdf\", \"png\", \"ps\", \"raw\", \"svg\", \"tif\", \"webp\"];\n\nmpl.default_extension = \"png\";/* global mpl */\n\nvar comm_websocket_adapter = function (comm) {\n    // Create a \"websocket\"-like object which calls the given IPython comm\n    // object with the appropriate methods. Currently this is a non binary\n    // socket, so there is still some room for performance tuning.\n    var ws = {};\n\n    ws.binaryType = comm.kernel.ws.binaryType;\n    ws.readyState = comm.kernel.ws.readyState;\n    function updateReadyState(_event) {\n        if (comm.kernel.ws) {\n            ws.readyState = comm.kernel.ws.readyState;\n        } else {\n            ws.readyState = 3; // Closed state.\n        }\n    }\n    comm.kernel.ws.addEventListener('open', updateReadyState);\n    comm.kernel.ws.addEventListener('close', updateReadyState);\n    comm.kernel.ws.addEventListener('error', updateReadyState);\n\n    ws.close = function () {\n        comm.close();\n    };\n    ws.send = function (m) {\n        //console.log('sending', m);\n        comm.send(m);\n    };\n    // Register the callback with on_msg.\n    comm.on_msg(function (msg) {\n        //console.log('receiving', msg['content']['data'], msg);\n        var data = msg['content']['data'];\n        if (data['blob'] !== undefined) {\n            data = {\n                data: new Blob(msg['buffers'], { type: data['blob'] }),\n            };\n        }\n        // Pass the mpl event to the overridden (by mpl) onmessage function.\n        ws.onmessage(data);\n    });\n    return ws;\n};\n\nmpl.mpl_figure_comm = function (comm, msg) {\n    // This is the function which gets called when the mpl process\n    // starts-up an IPython Comm through the \"matplotlib\" channel.\n\n    var id = msg.content.data.id;\n    // Get hold of the div created by the display call when the Comm\n    // socket was opened in Python.\n    var element = document.getElementById(id);\n    var ws_proxy = comm_websocket_adapter(comm);\n\n    function ondownload(figure, _format) {\n        window.open(figure.canvas.toDataURL());\n    }\n\n    var fig = new mpl.figure(id, ws_proxy, ondownload, element);\n\n    // Call onopen now - mpl needs it, as it is assuming we've passed it a real\n    // web socket which is closed, not our websocket->open comm proxy.\n    ws_proxy.onopen();\n\n    fig.parent_element = element;\n    fig.cell_info = mpl.find_output_cell(\"<div id='\" + id + \"'></div>\");\n    if (!fig.cell_info) {\n        console.error('Failed to find cell for figure', id, fig);\n        return;\n    }\n    fig.cell_info[0].output_area.element.on(\n        'cleared',\n        { fig: fig },\n        fig._remove_fig_handler\n    );\n};\n\nmpl.figure.prototype.handle_close = function (fig, msg) {\n    var width = fig.canvas.width / fig.ratio;\n    fig.cell_info[0].output_area.element.off(\n        'cleared',\n        fig._remove_fig_handler\n    );\n    fig.resizeObserverInstance.unobserve(fig.canvas_div);\n\n    // Update the output cell to use the data from the current canvas.\n    fig.push_to_output();\n    var dataURL = fig.canvas.toDataURL();\n    // Re-enable the keyboard manager in IPython - without this line, in FF,\n    // the notebook keyboard shortcuts fail.\n    IPython.keyboard_manager.enable();\n    fig.parent_element.innerHTML =\n        '<img src=\"' + dataURL + '\" width=\"' + width + '\">';\n    fig.close_ws(fig, msg);\n};\n\nmpl.figure.prototype.close_ws = function (fig, msg) {\n    fig.send_message('closing', msg);\n    // fig.ws.close()\n};\n\nmpl.figure.prototype.push_to_output = function (_remove_interactive) {\n    // Turn the data on the canvas into data in the output cell.\n    var width = this.canvas.width / this.ratio;\n    var dataURL = this.canvas.toDataURL();\n    this.cell_info[1]['text/html'] =\n        '<img src=\"' + dataURL + '\" width=\"' + width + '\">';\n};\n\nmpl.figure.prototype.updated_canvas_event = function () {\n    // Tell IPython that the notebook contents must change.\n    IPython.notebook.set_dirty(true);\n    this.send_message('ack', {});\n    var fig = this;\n    // Wait a second, then push the new image to the DOM so\n    // that it is saved nicely (might be nice to debounce this).\n    setTimeout(function () {\n        fig.push_to_output();\n    }, 1000);\n};\n\nmpl.figure.prototype._init_toolbar = function () {\n    var fig = this;\n\n    var toolbar = document.createElement('div');\n    toolbar.classList = 'btn-toolbar';\n    this.root.appendChild(toolbar);\n\n    function on_click_closure(name) {\n        return function (_event) {\n            return fig.toolbar_button_onclick(name);\n        };\n    }\n\n    function on_mouseover_closure(tooltip) {\n        return function (event) {\n            if (!event.currentTarget.disabled) {\n                return fig.toolbar_button_onmouseover(tooltip);\n            }\n        };\n    }\n\n    fig.buttons = {};\n    var buttonGroup = document.createElement('div');\n    buttonGroup.classList = 'btn-group';\n    var button;\n    for (var toolbar_ind in mpl.toolbar_items) {\n        var name = mpl.toolbar_items[toolbar_ind][0];\n        var tooltip = mpl.toolbar_items[toolbar_ind][1];\n        var image = mpl.toolbar_items[toolbar_ind][2];\n        var method_name = mpl.toolbar_items[toolbar_ind][3];\n\n        if (!name) {\n            /* Instead of a spacer, we start a new button group. */\n            if (buttonGroup.hasChildNodes()) {\n                toolbar.appendChild(buttonGroup);\n            }\n            buttonGroup = document.createElement('div');\n            buttonGroup.classList = 'btn-group';\n            continue;\n        }\n\n        button = fig.buttons[name] = document.createElement('button');\n        button.classList = 'btn btn-default';\n        button.href = '#';\n        button.title = name;\n        button.innerHTML = '<i class=\"fa ' + image + ' fa-lg\"></i>';\n        button.addEventListener('click', on_click_closure(method_name));\n        button.addEventListener('mouseover', on_mouseover_closure(tooltip));\n        buttonGroup.appendChild(button);\n    }\n\n    if (buttonGroup.hasChildNodes()) {\n        toolbar.appendChild(buttonGroup);\n    }\n\n    // Add the status bar.\n    var status_bar = document.createElement('span');\n    status_bar.classList = 'mpl-message pull-right';\n    toolbar.appendChild(status_bar);\n    this.message = status_bar;\n\n    // Add the close button to the window.\n    var buttongrp = document.createElement('div');\n    buttongrp.classList = 'btn-group inline pull-right';\n    button = document.createElement('button');\n    button.classList = 'btn btn-mini btn-primary';\n    button.href = '#';\n    button.title = 'Stop Interaction';\n    button.innerHTML = '<i class=\"fa fa-power-off icon-remove icon-large\"></i>';\n    button.addEventListener('click', function (_evt) {\n        fig.handle_close(fig, {});\n    });\n    button.addEventListener(\n        'mouseover',\n        on_mouseover_closure('Stop Interaction')\n    );\n    buttongrp.appendChild(button);\n    var titlebar = this.root.querySelector('.ui-dialog-titlebar');\n    titlebar.insertBefore(buttongrp, titlebar.firstChild);\n};\n\nmpl.figure.prototype._remove_fig_handler = function (event) {\n    var fig = event.data.fig;\n    if (event.target !== this) {\n        // Ignore bubbled events from children.\n        return;\n    }\n    fig.close_ws(fig, {});\n};\n\nmpl.figure.prototype._root_extra_style = function (el) {\n    el.style.boxSizing = 'content-box'; // override notebook setting of border-box.\n};\n\nmpl.figure.prototype._canvas_extra_style = function (el) {\n    // this is important to make the div 'focusable\n    el.setAttribute('tabindex', 0);\n    // reach out to IPython and tell the keyboard manager to turn it's self\n    // off when our div gets focus\n\n    // location in version 3\n    if (IPython.notebook.keyboard_manager) {\n        IPython.notebook.keyboard_manager.register_events(el);\n    } else {\n        // location in version 2\n        IPython.keyboard_manager.register_events(el);\n    }\n};\n\nmpl.figure.prototype._key_event_extra = function (event, _name) {\n    // Check for shift+enter\n    if (event.shiftKey && event.which === 13) {\n        this.canvas_div.blur();\n        // select the cell after this one\n        var index = IPython.notebook.find_cell_index(this.cell_info[0]);\n        IPython.notebook.select(index + 1);\n    }\n};\n\nmpl.figure.prototype.handle_save = function (fig, _msg) {\n    fig.ondownload(fig, null);\n};\n\nmpl.find_output_cell = function (html_output) {\n    // Return the cell and output element which can be found *uniquely* in the notebook.\n    // Note - this is a bit hacky, but it is done because the \"notebook_saving.Notebook\"\n    // IPython event is triggered only after the cells have been serialised, which for\n    // our purposes (turning an active figure into a static one), is too late.\n    var cells = IPython.notebook.get_cells();\n    var ncells = cells.length;\n    for (var i = 0; i < ncells; i++) {\n        var cell = cells[i];\n        if (cell.cell_type === 'code') {\n            for (var j = 0; j < cell.output_area.outputs.length; j++) {\n                var data = cell.output_area.outputs[j];\n                if (data.data) {\n                    // IPython >= 3 moved mimebundle to data attribute of output\n                    data = data.data;\n                }\n                if (data['text/html'] === html_output) {\n                    return [cell, data, j];\n                }\n            }\n        }\n    }\n};\n\n// Register the function which deals with the matplotlib target/channel.\n// The kernel may be null if the page has been refreshed.\nif (IPython.notebook.kernel !== null) {\n    IPython.notebook.kernel.comm_manager.register_target(\n        'matplotlib',\n        mpl.mpl_figure_comm\n    );\n}\n",
      "text/plain": [
       "<IPython.core.display.Javascript object>"
      ]
     },
     "metadata": {},
     "output_type": "display_data"
    },
    {
     "data": {
      "text/html": [
       "<div id='b80049b9-d5be-48ec-a749-93f531beb4cc'></div>"
      ],
      "text/plain": [
       "<IPython.core.display.HTML object>"
      ]
     },
     "metadata": {},
     "output_type": "display_data"
    }
   ],
   "source": [
    "method_name = \"CP\"\n",
    "plot_pairplot(dfs_by_decomposition_method_encoded[method_name], title=method_name)"
   ]
  },
  {
   "cell_type": "markdown",
   "id": "f05b3caf862b14c",
   "metadata": {},
   "source": "# Аналитика логов ошибок"
  },
  {
   "cell_type": "code",
   "execution_count": null,
   "id": "62dd45a4c0cece4b",
   "metadata": {
    "ExecuteTime": {
     "end_time": "2024-12-05T12:20:36.776488Z",
     "start_time": "2024-12-05T12:20:36.773658Z"
    }
   },
   "outputs": [],
   "source": []
  }
 ],
 "metadata": {
  "kernelspec": {
   "display_name": "Python 3",
   "language": "python",
   "name": "python3"
  },
  "language_info": {
   "codemirror_mode": {
    "name": "ipython",
    "version": 2
   },
   "file_extension": ".py",
   "mimetype": "text/x-python",
   "name": "python",
   "nbconvert_exporter": "python",
   "pygments_lexer": "ipython2",
   "version": "2.7.6"
  }
 },
 "nbformat": 4,
 "nbformat_minor": 5
}
