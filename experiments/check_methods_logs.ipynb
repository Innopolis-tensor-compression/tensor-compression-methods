{
 "cells": [
  {
   "cell_type": "code",
   "execution_count": 1,
   "id": "3b0ff7de892705ca",
   "metadata": {
    "ExecuteTime": {
     "end_time": "2024-10-01T14:56:54.989868Z",
     "start_time": "2024-10-01T14:56:54.973939Z"
    }
   },
   "outputs": [],
   "source": [
    "from pathlib import Path\n",
    "from pprint import pprint\n",
    "\n",
    "import json5"
   ]
  },
  {
   "cell_type": "code",
   "execution_count": 2,
   "id": "initial_id",
   "metadata": {
    "ExecuteTime": {
     "end_time": "2024-10-01T14:56:55.019882Z",
     "start_time": "2024-10-01T14:56:55.012879Z"
    },
    "collapsed": true
   },
   "outputs": [],
   "source": [
    "def load_logs_from_file(log_file_path):\n",
    "    log_file_path = Path(log_file_path)\n",
    "    if log_file_path.exists():\n",
    "        with log_file_path.open(encoding=\"utf-8\") as f:\n",
    "            logs = json5.load(f)\n",
    "            print(\"Загруженные логи:\")\n",
    "            pprint(logs, indent=4, width=100)\n",
    "            return logs\n",
    "    else:\n",
    "        print(f\"Файл {log_file_path} не найден.\")\n",
    "        return None"
   ]
  },
  {
   "cell_type": "code",
   "execution_count": 3,
   "id": "3626e61a8963db77",
   "metadata": {
    "ExecuteTime": {
     "end_time": "2024-10-01T14:56:55.078708Z",
     "start_time": "2024-10-01T14:56:55.037879Z"
    }
   },
   "outputs": [
    {
     "name": "stdout",
     "output_type": "stream",
     "text": [
      "Загруженные логи:\n",
      "[   {   'method_args': {   'init': 'svd',\n",
      "                           'n_iter_max': 100,\n",
      "                           'random_state': 42,\n",
      "                           'rank': [220, 360, 202, 3],\n",
      "                           'svd': 'truncated_svd'},\n",
      "        'method_name': 'TensorLy_Tucker_pytorch_truncated_svd_svd',\n",
      "        'qualitative_metrics': {   'Decomposition method': 'Tucker',\n",
      "                                   'Language': 'Python',\n",
      "                                   'Library': 'TensorLy',\n",
      "                                   'Platform': 'CPU, GPU',\n",
      "                                   'Tensor type': 'Dense',\n",
      "                                   'TensorLy backend': 'pytorch'},\n",
      "        'quantitative_metrics': {   'compression_ratio': 50.27837471247125,\n",
      "                                    'duration': {   'max': 7.773032903671265,\n",
      "                                                    'mean': 7.773032903671265,\n",
      "                                                    'min': 7.773032903671265},\n",
      "                                    'frobenius_error': 1.3289964199066162,\n",
      "                                    'gpu_allocated_mem_usage': {   'max': 184.10791015625,\n",
      "                                                                   'mean': 184.10791015625,\n",
      "                                                                   'min': 184.10791015625},\n",
      "                                    'gpu_cached_mem_usages': {   'max': 2334.0,\n",
      "                                                                 'mean': 2334.0,\n",
      "                                                                 'min': 2334.0},\n",
      "                                    'ram_mem_usage': {   'max': 3595.92578125,\n",
      "                                                         'mean': 3595.92578125,\n",
      "                                                         'min': 3595.92578125}}}]\n"
     ]
    }
   ],
   "source": [
    "log_file_path = \"../.cache/method_logs.json\"\n",
    "logs_dict = load_logs_from_file(log_file_path)"
   ]
  },
  {
   "cell_type": "code",
   "execution_count": null,
   "id": "c6447dcc3726e292",
   "metadata": {},
   "outputs": [],
   "source": []
  }
 ],
 "metadata": {
  "kernelspec": {
   "display_name": "Python 3",
   "language": "python",
   "name": "python3"
  },
  "language_info": {
   "codemirror_mode": {
    "name": "ipython",
    "version": 2
   },
   "file_extension": ".py",
   "mimetype": "text/x-python",
   "name": "python",
   "nbconvert_exporter": "python",
   "pygments_lexer": "ipython2",
   "version": "2.7.6"
  }
 },
 "nbformat": 4,
 "nbformat_minor": 5
}
