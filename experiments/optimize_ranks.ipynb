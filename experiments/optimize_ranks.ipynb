{
 "cells": [
  {
   "cell_type": "markdown",
   "id": "273f4c8655bb5e6a",
   "metadata": {},
   "source": "# Imports"
  },
  {
   "cell_type": "code",
   "id": "initial_id",
   "metadata": {
    "collapsed": true,
    "ExecuteTime": {
     "end_time": "2025-02-03T15:11:45.160623Z",
     "start_time": "2025-02-03T15:11:45.109211Z"
    }
   },
   "source": [
    "import sys\n",
    "\n",
    "modules_to_reload = [\n",
    "    \"src.utils.method_loggers\",\n",
    "    \"src.utils.method_runners\",\n",
    "    \"src.utils.metrics_calculators\",\n",
    "    \"src.utils.tensor_handlers\",\n",
    "    \"src.utils.trackers\",\n",
    "    \"src.utils.video_controller\",\n",
    "    \"src.utils.optimal_rank_finders\",\n",
    "]\n",
    "\n",
    "for module in modules_to_reload:\n",
    "    if module in sys.modules:\n",
    "        del sys.modules[module]\n",
    "\n",
    "%load_ext memory_profiler\n",
    "%load_ext autoreload\n",
    "%autoreload 2\n",
    "\n",
    "import gc\n",
    "import os\n",
    "\n",
    "import numpy as np\n",
    "import plotly.graph_objects as go\n",
    "import plotly.io as pio\n",
    "import tensorflow as tf\n",
    "import torch\n",
    "from tqdm import tqdm\n",
    "from scipy.signal import argrelextrema\n",
    "\n",
    "np.random.seed(42)\n",
    "os.environ[\"OPENBLAS_NUM_THREADS\"] = \"8\"\n",
    "os.environ[\"MKL_NUM_THREADS\"] = \"8\"\n",
    "\n",
    "tf.random.set_seed(42)\n",
    "\n",
    "import time\n",
    "from itertools import product\n",
    "\n",
    "import tensorly as tl\n",
    "from dotenv import load_dotenv\n",
    "from scipy.optimize import minimize\n",
    "\n",
    "from src.utils.image_controller import download_image, extract_image_frames\n",
    "from src.utils.metrics_calculators import IMetricCalculator\n",
    "from src.utils.optimal_rank_finders import (\n",
    "    find_optimal_rank_tensor_train_by_compression_ratio,\n",
    ")\n",
    "\n",
    "load_dotenv()"
   ],
   "outputs": [
    {
     "name": "stdout",
     "output_type": "stream",
     "text": [
      "The memory_profiler extension is already loaded. To reload it, use:\n",
      "  %reload_ext memory_profiler\n",
      "The autoreload extension is already loaded. To reload it, use:\n",
      "  %reload_ext autoreload\n"
     ]
    },
    {
     "data": {
      "text/plain": [
       "True"
      ]
     },
     "execution_count": 268,
     "metadata": {},
     "output_type": "execute_result"
    }
   ],
   "execution_count": 268
  },
  {
   "cell_type": "markdown",
   "id": "c0b1f5e0c6358294",
   "metadata": {},
   "source": "# get tensor"
  },
  {
   "cell_type": "code",
   "id": "809b47fabc3a13ea",
   "metadata": {
    "ExecuteTime": {
     "end_time": "2025-02-03T15:11:45.465155Z",
     "start_time": "2025-02-03T15:11:45.385213Z"
    }
   },
   "source": [
    "cache_dir_image = \"../.cache/image\"\n",
    "\n",
    "image_urls = [\n",
    "    # \"https://i.pinimg.com/564x/04/b2/68/04b26838bdd5e2ba54d0144558685bae.jpg\",\n",
    "    \"https://cdnstatic.rg.ru/crop620x412/uploads/images/187/94/47/iStock-644032024.jpg\",\n",
    "    # \"https://i.sstatic.net/uQggz.png\",\n",
    "]\n",
    "\n",
    "images = {}"
   ],
   "outputs": [],
   "execution_count": 269
  },
  {
   "cell_type": "code",
   "id": "3e185b08a92c48f7",
   "metadata": {
    "ExecuteTime": {
     "end_time": "2025-02-03T15:11:45.613642Z",
     "start_time": "2025-02-03T15:11:45.533210Z"
    }
   },
   "source": [
    "image_paths = [download_image(image_url, cache_dir_image) for image_url in image_urls]"
   ],
   "outputs": [
    {
     "name": "stdout",
     "output_type": "stream",
     "text": [
      "Изображение уже загружено и закешировано: ../.cache/image/iStock-644032024.jpg\n"
     ]
    }
   ],
   "execution_count": 270
  },
  {
   "cell_type": "code",
   "id": "14cda59b88be3d9a",
   "metadata": {
    "ExecuteTime": {
     "end_time": "2025-02-03T15:11:45.704449Z",
     "start_time": "2025-02-03T15:11:45.655768Z"
    }
   },
   "source": [
    "for image_index, image_path in enumerate(image_paths):\n",
    "    image_frames = extract_image_frames(image_path)\n",
    "\n",
    "    images[f\"image-{image_index}\"] = {\n",
    "        \"image_url\": image_urls[image_index],\n",
    "        \"image_path\": image_path,\n",
    "        \"frames\": image_frames,\n",
    "    }\n",
    "\n",
    "    print(f\"iamge-{image_index} - {image_frames.shape}\")"
   ],
   "outputs": [
    {
     "name": "stdout",
     "output_type": "stream",
     "text": [
      "iamge-0 - (412, 620, 3)\n"
     ]
    }
   ],
   "execution_count": 271
  },
  {
   "cell_type": "code",
   "id": "530cd98318647a93",
   "metadata": {
    "ExecuteTime": {
     "end_time": "2025-02-03T15:11:45.813907Z",
     "start_time": "2025-02-03T15:11:45.772023Z"
    }
   },
   "source": [
    "tensor_train_args = {\"svd\": \"truncated_svd\"}"
   ],
   "outputs": [],
   "execution_count": 272
  },
  {
   "cell_type": "code",
   "id": "2cff606859a140f",
   "metadata": {
    "ExecuteTime": {
     "end_time": "2025-02-03T15:11:45.970977Z",
     "start_time": "2025-02-03T15:11:45.918328Z"
    }
   },
   "source": [
    "example_tensor = images[\"image-0\"][\"frames\"].copy().astype(np.float32)"
   ],
   "outputs": [],
   "execution_count": 273
  },
  {
   "cell_type": "markdown",
   "id": "721e79cc4fff1ab6",
   "metadata": {},
   "source": "# func for calculate bounds for tensor train factors"
  },
  {
   "cell_type": "code",
   "id": "8ebf0275c05b969c",
   "metadata": {
    "ExecuteTime": {
     "end_time": "2025-02-03T15:11:46.027045Z",
     "start_time": "2025-02-03T15:11:45.977647Z"
    }
   },
   "source": [
    "def calculate_tt_bounds(shape: tuple | list) -> list:\n",
    "    \"\"\"\n",
    "    Calculates the bounds for TT-ranks of a tensor based on its shape.\n",
    "\n",
    "    Parameters\n",
    "    ----------\n",
    "    shape : tuple or list\n",
    "        List or tuple of tensor dimensions. Each element represents the size of the tensor along that dimension.\n",
    "\n",
    "    Returns\n",
    "    -------\n",
    "    list\n",
    "        List of rank bounds in the format [(1, 1), (1, r1_max), ..., (1, 1)].\n",
    "\n",
    "    \"\"\"\n",
    "    d = len(shape)\n",
    "    bounds = [(1, 1)]\n",
    "\n",
    "    for k in range(1, d):\n",
    "        prod_left = 1\n",
    "        for i in range(k):\n",
    "            prod_left *= shape[i]\n",
    "\n",
    "        prod_right = 1\n",
    "        for j in range(k, d):\n",
    "            prod_right *= shape[j]\n",
    "\n",
    "        rk_max = min(prod_left, prod_right)\n",
    "        bounds.append((1, rk_max))\n",
    "\n",
    "    bounds.append((1, 1))\n",
    "    return bounds"
   ],
   "outputs": [],
   "execution_count": 274
  },
  {
   "cell_type": "code",
   "id": "6d0b5cd3a375abf4",
   "metadata": {
    "ExecuteTime": {
     "end_time": "2025-02-03T15:11:46.119215Z",
     "start_time": "2025-02-03T15:11:46.059493Z"
    }
   },
   "source": [
    "tt_bounds_example_tensor = calculate_tt_bounds(example_tensor.shape)"
   ],
   "outputs": [],
   "execution_count": 275
  },
  {
   "cell_type": "code",
   "id": "9a77bfc2805246da",
   "metadata": {
    "ExecuteTime": {
     "end_time": "2025-02-03T15:11:46.219494Z",
     "start_time": "2025-02-03T15:11:46.154458Z"
    }
   },
   "source": [
    "example_tensor.shape"
   ],
   "outputs": [
    {
     "data": {
      "text/plain": [
       "(412, 620, 3)"
      ]
     },
     "execution_count": 276,
     "metadata": {},
     "output_type": "execute_result"
    }
   ],
   "execution_count": 276
  },
  {
   "cell_type": "code",
   "id": "df3c5c3cd7db5367",
   "metadata": {
    "ExecuteTime": {
     "end_time": "2025-02-03T15:11:46.351579Z",
     "start_time": "2025-02-03T15:11:46.313631Z"
    }
   },
   "source": [
    "tt_bounds_example_tensor"
   ],
   "outputs": [
    {
     "data": {
      "text/plain": [
       "[(1, 1), (1, 412), (1, 3), (1, 1)]"
      ]
     },
     "execution_count": 277,
     "metadata": {},
     "output_type": "execute_result"
    }
   ],
   "execution_count": 277
  },
  {
   "cell_type": "markdown",
   "id": "9302d92e5e08cfa7",
   "metadata": {},
   "source": "# func for calculate optimal initial rank of tensor train"
  },
  {
   "cell_type": "code",
   "id": "7632d8c7be8d18c0",
   "metadata": {
    "ExecuteTime": {
     "end_time": "2025-02-03T15:11:46.445681Z",
     "start_time": "2025-02-03T15:11:46.411514Z"
    }
   },
   "source": [
    "# def calculate_tensor_train_initial_rank(bounds: tuple) -> list[int]:\n",
    "#     return [max(1, round(max_bound / 2)) for min_bound, max_bound in bounds]\n",
    "\n",
    "def calculate_tensor_train_initial_rank(bounds: tuple) -> list[int]:\n",
    "    return [min_bound for min_bound, max_bound in bounds]"
   ],
   "outputs": [],
   "execution_count": 278
  },
  {
   "cell_type": "code",
   "id": "8863bec8bf98216",
   "metadata": {
    "ExecuteTime": {
     "end_time": "2025-02-03T15:11:46.559691Z",
     "start_time": "2025-02-03T15:11:46.527308Z"
    }
   },
   "source": "example_tensor_initial_rank = calculate_tensor_train_initial_rank(tt_bounds_example_tensor)",
   "outputs": [],
   "execution_count": 279
  },
  {
   "cell_type": "code",
   "id": "e6ba1314eba90cac",
   "metadata": {
    "ExecuteTime": {
     "end_time": "2025-02-03T15:11:46.624154Z",
     "start_time": "2025-02-03T15:11:46.587521Z"
    }
   },
   "source": [
    "example_tensor_initial_rank"
   ],
   "outputs": [
    {
     "data": {
      "text/plain": [
       "[1, 1, 1, 1]"
      ]
     },
     "execution_count": 280,
     "metadata": {},
     "output_type": "execute_result"
    }
   ],
   "execution_count": 280
  },
  {
   "cell_type": "markdown",
   "id": "f9b105646a8271b9",
   "metadata": {},
   "source": "# calculate metrics for the entire search area for example tensor"
  },
  {
   "cell_type": "code",
   "id": "ec8a296b32f0ca6a",
   "metadata": {
    "ExecuteTime": {
     "end_time": "2025-02-03T15:11:46.686254Z",
     "start_time": "2025-02-03T15:11:46.654513Z"
    }
   },
   "source": [
    "target_compression_ratio_for_graphs = 50.0\n",
    "frobenius_error_coef_for_graphs = 1.0\n",
    "compression_ratio_coef_for_graphs = 10.0"
   ],
   "outputs": [],
   "execution_count": 281
  },
  {
   "cell_type": "code",
   "id": "90e34b4f03f70d64",
   "metadata": {
    "ExecuteTime": {
     "end_time": "2025-02-03T15:11:46.754800Z",
     "start_time": "2025-02-03T15:11:46.723217Z"
    }
   },
   "source": [
    "rank_ranges = [range(bound[0], bound[1] + 1) for bound in tt_bounds_example_tensor]"
   ],
   "outputs": [],
   "execution_count": 282
  },
  {
   "cell_type": "code",
   "id": "62bf6e0aae109a51",
   "metadata": {
    "ExecuteTime": {
     "end_time": "2025-02-03T14:55:15.026136Z",
     "start_time": "2025-02-03T14:45:23.647035Z"
    }
   },
   "source": [
    "search_area_example_results = {}\n",
    "\n",
    "for rank_combination in tqdm(\n",
    "    product(*rank_ranges), total=np.prod([len(r) for r in rank_ranges]), desc=\"Processing Ranks\"\n",
    "):\n",
    "    test_rank = list(rank_combination)\n",
    "    internal_indices = test_rank[1:-1]\n",
    "\n",
    "    try:\n",
    "        with tl.backend_context(\"pytorch\"):\n",
    "            example_tensor_cuda = tl.tensor(example_tensor).to(\"cuda\")\n",
    "            method_result = tl.decomposition.tensor_train(example_tensor_cuda, rank=test_rank, **tensor_train_args)\n",
    "            tt_factors = method_result\n",
    "            reconstructed_tensor = tl.tt_to_tensor(tt_factors)\n",
    "\n",
    "            frobenius_error = (\n",
    "                tl.norm(reconstructed_tensor - example_tensor_cuda) / tl.norm(example_tensor_cuda)\n",
    "            ).item()\n",
    "            compression_ratio = IMetricCalculator.get_tensors_size(*tt_factors) / IMetricCalculator.get_tensors_size(\n",
    "                example_tensor_cuda\n",
    "            )\n",
    "            compression_penalty = (target_compression_ratio_for_graphs / 100 - compression_ratio) ** 2\n",
    "            loss_function_result = (\n",
    "                frobenius_error_coef_for_graphs * frobenius_error\n",
    "                + compression_ratio_coef_for_graphs * compression_penalty\n",
    "            )\n",
    "\n",
    "            search_area_example_results[tuple(internal_indices)] = {\n",
    "                \"rank\": test_rank,\n",
    "                \"frobenius_error\": frobenius_error,\n",
    "                \"compression_ratio\": compression_ratio,\n",
    "                \"compression_penalty\": compression_penalty,\n",
    "                \"loss_function_result\": loss_function_result,\n",
    "            }\n",
    "\n",
    "            del tt_factors, reconstructed_tensor\n",
    "    except Exception as e:\n",
    "        search_area_example_results[tuple(internal_indices)] = {\"rank\": test_rank, \"error\": str(e)}\n",
    "    finally:\n",
    "        torch.cuda.empty_cache()\n",
    "        gc.collect()"
   ],
   "outputs": [
    {
     "name": "stderr",
     "output_type": "stream",
     "text": [
      "Processing Ranks: 100%|██████████| 2067/2067 [09:51<00:00,  3.50it/s]\n"
     ]
    }
   ],
   "execution_count": 231
  },
  {
   "cell_type": "markdown",
   "id": "ccc816b81f0045d1",
   "metadata": {},
   "source": "# Optimization algs test"
  },
  {
   "cell_type": "markdown",
   "id": "ac23775b52c71d70",
   "metadata": {},
   "source": "## optimize with custom algorithm"
  },
  {
   "cell_type": "code",
   "id": "d2ef17fad4428646",
   "metadata": {
    "ExecuteTime": {
     "end_time": "2025-02-03T14:56:34.125436Z",
     "start_time": "2025-02-03T14:55:15.064884Z"
    }
   },
   "source": [
    "start_time = time.perf_counter()\n",
    "best_rank, compression_ratio, frobenius_error, find_rank_logs = find_optimal_rank_tensor_train_by_compression_ratio(\n",
    "    tensor=example_tensor,\n",
    "    target_compression_ratio=50.0,\n",
    "    tensor_train_args=tensor_train_args,\n",
    "    search_strategy=\"custom\",\n",
    ")\n",
    "elapsed_time = time.perf_counter() - start_time"
   ],
   "outputs": [
    {
     "name": "stdout",
     "output_type": "stream",
     "text": [
      "Optimal rank search process for TensorTrain:\n",
      "step | rank | compression ratio (%) | frobenius error (%)\n",
      "1 | [1, 2, 1, 1] | 0.152668 % | 40.194961 %\n",
      "2 | [1, 2, 2, 1] | 0.249548 % | 25.621590 %\n",
      "3 | [1, 3, 2, 1] | 0.374201 % | 22.926879 %\n",
      "4 | [1, 3, 3, 1] | 0.519460 % | 8.690936 %\n",
      "5 | [1, 4, 3, 1] | 0.692492 % | 6.977586 %\n",
      "6 | [1, 5, 3, 1] | 0.865524 % | 6.360334 %\n",
      "7 | [1, 6, 3, 1] | 1.038556 % | 5.764327 %\n",
      "8 | [1, 7, 3, 1] | 1.211588 % | 5.361496 %\n",
      "9 | [1, 8, 3, 1] | 1.384619 % | 5.057926 %\n",
      "10 | [1, 9, 3, 1] | 1.557651 % | 4.793444 %\n",
      "11 | [1, 10, 3, 1] | 1.730683 % | 4.531646 %\n",
      "12 | [1, 11, 3, 1] | 1.903715 % | 4.337652 %\n",
      "13 | [1, 12, 3, 1] | 2.076747 % | 4.144634 %\n",
      "14 | [1, 13, 3, 1] | 2.249779 % | 3.987119 %\n",
      "15 | [1, 14, 3, 1] | 2.422811 % | 3.841257 %\n",
      "16 | [1, 15, 3, 1] | 2.595843 % | 3.700722 %\n",
      "17 | [1, 16, 3, 1] | 2.768875 % | 3.558835 %\n",
      "18 | [1, 17, 3, 1] | 2.941906 % | 3.425606 %\n",
      "19 | [1, 18, 3, 1] | 3.114938 % | 3.308032 %\n",
      "20 | [1, 19, 3, 1] | 3.287970 % | 3.201620 %\n",
      "21 | [1, 20, 3, 1] | 3.461002 % | 3.097698 %\n",
      "22 | [1, 21, 3, 1] | 3.634034 % | 2.997855 %\n",
      "23 | [1, 22, 3, 1] | 3.807066 % | 2.901325 %\n",
      "24 | [1, 23, 3, 1] | 3.980098 % | 2.814870 %\n",
      "25 | [1, 24, 3, 1] | 4.153130 % | 2.727560 %\n",
      "26 | [1, 25, 3, 1] | 4.326161 % | 2.642103 %\n",
      "27 | [1, 26, 3, 1] | 4.499193 % | 2.562929 %\n",
      "28 | [1, 27, 3, 1] | 4.672225 % | 2.485874 %\n",
      "29 | [1, 28, 3, 1] | 4.845257 % | 2.415005 %\n",
      "30 | [1, 29, 3, 1] | 5.018289 % | 2.344955 %\n",
      "31 | [1, 30, 3, 1] | 5.191321 % | 2.277290 %\n",
      "32 | [1, 31, 3, 1] | 5.364353 % | 2.212568 %\n",
      "33 | [1, 32, 3, 1] | 5.537385 % | 2.148784 %\n",
      "34 | [1, 33, 3, 1] | 5.710417 % | 2.084205 %\n",
      "35 | [1, 34, 3, 1] | 5.883448 % | 2.026916 %\n",
      "36 | [1, 35, 3, 1] | 6.056480 % | 1.968612 %\n",
      "37 | [1, 36, 3, 1] | 6.229512 % | 1.913317 %\n",
      "38 | [1, 37, 3, 1] | 6.402544 % | 1.858428 %\n",
      "39 | [1, 38, 3, 1] | 6.575576 % | 1.806282 %\n",
      "40 | [1, 39, 3, 1] | 6.748608 % | 1.755301 %\n",
      "41 | [1, 40, 3, 1] | 6.921640 % | 1.704329 %\n",
      "42 | [1, 41, 3, 1] | 7.094672 % | 1.654154 %\n",
      "43 | [1, 42, 3, 1] | 7.267703 % | 1.606781 %\n",
      "44 | [1, 43, 3, 1] | 7.440735 % | 1.558694 %\n",
      "45 | [1, 44, 3, 1] | 7.613767 % | 1.513635 %\n",
      "46 | [1, 45, 3, 1] | 7.786799 % | 1.473751 %\n",
      "47 | [1, 46, 3, 1] | 7.959831 % | 1.435911 %\n",
      "48 | [1, 47, 3, 1] | 8.132863 % | 1.398494 %\n",
      "49 | [1, 48, 3, 1] | 8.305895 % | 1.362580 %\n",
      "50 | [1, 49, 3, 1] | 8.478927 % | 1.326482 %\n",
      "51 | [1, 50, 3, 1] | 8.651959 % | 1.292172 %\n",
      "52 | [1, 51, 3, 1] | 8.824990 % | 1.258401 %\n",
      "53 | [1, 52, 3, 1] | 8.998022 % | 1.225063 %\n",
      "54 | [1, 53, 3, 1] | 9.171054 % | 1.191436 %\n",
      "55 | [1, 54, 3, 1] | 9.344086 % | 1.158783 %\n",
      "56 | [1, 55, 3, 1] | 9.517118 % | 1.126746 %\n",
      "57 | [1, 56, 3, 1] | 9.690150 % | 1.094735 %\n",
      "58 | [1, 57, 3, 1] | 9.863182 % | 1.063696 %\n",
      "59 | [1, 58, 3, 1] | 10.036214 % | 1.033450 %\n",
      "60 | [1, 59, 3, 1] | 10.209246 % | 1.005684 %\n",
      "61 | [1, 60, 3, 1] | 10.382277 % | 0.977936 %\n",
      "62 | [1, 61, 3, 1] | 10.555309 % | 0.950186 %\n",
      "63 | [1, 62, 3, 1] | 10.728341 % | 0.922813 %\n",
      "64 | [1, 63, 3, 1] | 10.901373 % | 0.896570 %\n",
      "65 | [1, 64, 3, 1] | 11.074405 % | 0.871038 %\n",
      "66 | [1, 65, 3, 1] | 11.247437 % | 0.845632 %\n",
      "67 | [1, 66, 3, 1] | 11.420469 % | 0.820134 %\n",
      "68 | [1, 67, 3, 1] | 11.593501 % | 0.794992 %\n",
      "69 | [1, 68, 3, 1] | 11.766532 % | 0.770424 %\n",
      "70 | [1, 69, 3, 1] | 11.939564 % | 0.747083 %\n",
      "71 | [1, 70, 3, 1] | 12.112596 % | 0.723828 %\n",
      "72 | [1, 71, 3, 1] | 12.285628 % | 0.701984 %\n",
      "73 | [1, 72, 3, 1] | 12.458660 % | 0.681914 %\n",
      "74 | [1, 73, 3, 1] | 12.631692 % | 0.662093 %\n",
      "75 | [1, 74, 3, 1] | 12.804724 % | 0.641836 %\n",
      "76 | [1, 75, 3, 1] | 12.977756 % | 0.622666 %\n",
      "77 | [1, 76, 3, 1] | 13.150788 % | 0.603566 %\n",
      "78 | [1, 77, 3, 1] | 13.323819 % | 0.584023 %\n",
      "79 | [1, 78, 3, 1] | 13.496851 % | 0.565382 %\n",
      "80 | [1, 79, 3, 1] | 13.669883 % | 0.547456 %\n",
      "81 | [1, 80, 3, 1] | 13.842915 % | 0.529640 %\n",
      "82 | [1, 81, 3, 1] | 14.015947 % | 0.512334 %\n",
      "83 | [1, 82, 3, 1] | 14.188979 % | 0.495818 %\n",
      "84 | [1, 83, 3, 1] | 14.362011 % | 0.479840 %\n",
      "85 | [1, 84, 3, 1] | 14.535043 % | 0.464172 %\n",
      "86 | [1, 85, 3, 1] | 14.708074 % | 0.449829 %\n",
      "87 | [1, 86, 3, 1] | 14.881106 % | 0.435549 %\n",
      "88 | [1, 87, 3, 1] | 15.054138 % | 0.421281 %\n",
      "89 | [1, 88, 3, 1] | 15.227170 % | 0.407531 %\n",
      "90 | [1, 89, 3, 1] | 15.400202 % | 0.394226 %\n",
      "91 | [1, 90, 3, 1] | 15.573234 % | 0.381686 %\n",
      "92 | [1, 91, 3, 1] | 15.746266 % | 0.370411 %\n",
      "93 | [1, 92, 3, 1] | 15.919298 % | 0.359377 %\n",
      "94 | [1, 93, 3, 1] | 16.092330 % | 0.348694 %\n",
      "95 | [1, 94, 3, 1] | 16.265361 % | 0.338249 %\n",
      "96 | [1, 95, 3, 1] | 16.438393 % | 0.327745 %\n",
      "97 | [1, 96, 3, 1] | 16.611425 % | 0.317138 %\n",
      "98 | [1, 97, 3, 1] | 16.784457 % | 0.306641 %\n",
      "99 | [1, 98, 3, 1] | 16.957489 % | 0.296213 %\n",
      "100 | [1, 99, 3, 1] | 17.130521 % | 0.286592 %\n",
      "101 | [1, 100, 3, 1] | 17.303553 % | 0.276986 %\n",
      "102 | [1, 101, 3, 1] | 17.476585 % | 0.268074 %\n",
      "103 | [1, 102, 3, 1] | 17.649617 % | 0.259546 %\n",
      "104 | [1, 103, 3, 1] | 17.822648 % | 0.250923 %\n",
      "105 | [1, 104, 3, 1] | 17.995680 % | 0.242479 %\n",
      "106 | [1, 105, 3, 1] | 18.168712 % | 0.234173 %\n",
      "107 | [1, 106, 3, 1] | 18.341744 % | 0.226115 %\n",
      "108 | [1, 107, 3, 1] | 18.514776 % | 0.218584 %\n",
      "109 | [1, 108, 3, 1] | 18.687808 % | 0.211161 %\n",
      "110 | [1, 109, 3, 1] | 18.860840 % | 0.203873 %\n",
      "111 | [1, 110, 3, 1] | 19.033872 % | 0.196455 %\n",
      "112 | [1, 111, 3, 1] | 19.206903 % | 0.189339 %\n",
      "113 | [1, 112, 3, 1] | 19.379935 % | 0.182243 %\n",
      "114 | [1, 113, 3, 1] | 19.552967 % | 0.175377 %\n",
      "115 | [1, 114, 3, 1] | 19.725999 % | 0.168529 %\n",
      "116 | [1, 115, 3, 1] | 19.899031 % | 0.161814 %\n",
      "117 | [1, 116, 3, 1] | 20.072063 % | 0.155895 %\n",
      "118 | [1, 117, 3, 1] | 20.245095 % | 0.149916 %\n",
      "119 | [1, 118, 3, 1] | 20.418127 % | 0.144469 %\n",
      "120 | [1, 119, 3, 1] | 20.591159 % | 0.139223 %\n",
      "121 | [1, 120, 3, 1] | 20.764190 % | 0.134216 %\n",
      "122 | [1, 121, 3, 1] | 20.937222 % | 0.129157 %\n",
      "123 | [1, 122, 3, 1] | 21.110254 % | 0.124527 %\n",
      "124 | [1, 123, 3, 1] | 21.283286 % | 0.119953 %\n",
      "125 | [1, 124, 3, 1] | 21.456318 % | 0.115438 %\n",
      "126 | [1, 125, 3, 1] | 21.629350 % | 0.111404 %\n",
      "127 | [1, 126, 3, 1] | 21.802382 % | 0.107624 %\n",
      "128 | [1, 127, 3, 1] | 21.975414 % | 0.104037 %\n",
      "129 | [1, 128, 3, 1] | 22.148445 % | 0.100352 %\n",
      "130 | [1, 129, 3, 1] | 22.321477 % | 0.096939 %\n",
      "131 | [1, 130, 3, 1] | 22.494509 % | 0.093538 %\n",
      "132 | [1, 131, 3, 1] | 22.667541 % | 0.090210 %\n",
      "133 | [1, 132, 3, 1] | 22.840573 % | 0.086968 %\n",
      "134 | [1, 133, 3, 1] | 23.013605 % | 0.083739 %\n",
      "135 | [1, 134, 3, 1] | 23.186637 % | 0.080611 %\n",
      "136 | [1, 135, 3, 1] | 23.359669 % | 0.077427 %\n",
      "137 | [1, 136, 3, 1] | 23.532701 % | 0.074213 %\n",
      "138 | [1, 137, 3, 1] | 23.705732 % | 0.071301 %\n",
      "139 | [1, 138, 3, 1] | 23.878764 % | 0.068376 %\n",
      "140 | [1, 139, 3, 1] | 24.051796 % | 0.065508 %\n",
      "141 | [1, 140, 3, 1] | 24.224828 % | 0.062522 %\n",
      "142 | [1, 141, 3, 1] | 24.397860 % | 0.059610 %\n",
      "143 | [1, 142, 3, 1] | 24.570892 % | 0.056833 %\n",
      "144 | [1, 143, 3, 1] | 24.743924 % | 0.054064 %\n",
      "145 | [1, 144, 3, 1] | 24.916956 % | 0.051417 %\n",
      "146 | [1, 145, 3, 1] | 25.089988 % | 0.048773 %\n",
      "147 | [1, 146, 3, 1] | 25.263019 % | 0.046091 %\n",
      "148 | [1, 147, 3, 1] | 25.436051 % | 0.043715 %\n",
      "149 | [1, 148, 3, 1] | 25.609083 % | 0.041384 %\n",
      "150 | [1, 149, 3, 1] | 25.782115 % | 0.039143 %\n",
      "151 | [1, 150, 3, 1] | 25.955147 % | 0.036985 %\n",
      "152 | [1, 151, 3, 1] | 26.128179 % | 0.034987 %\n",
      "153 | [1, 152, 3, 1] | 26.301211 % | 0.033149 %\n",
      "154 | [1, 153, 3, 1] | 26.474243 % | 0.031342 %\n",
      "155 | [1, 154, 3, 1] | 26.647274 % | 0.029862 %\n",
      "156 | [1, 155, 3, 1] | 26.820306 % | 0.028512 %\n",
      "157 | [1, 156, 3, 1] | 26.993338 % | 0.027238 %\n",
      "158 | [1, 157, 3, 1] | 27.166370 % | 0.025963 %\n",
      "159 | [1, 158, 3, 1] | 27.339402 % | 0.024726 %\n",
      "160 | [1, 159, 3, 1] | 27.512434 % | 0.023528 %\n",
      "161 | [1, 160, 3, 1] | 27.685466 % | 0.022321 %\n",
      "162 | [1, 161, 3, 1] | 27.858498 % | 0.021135 %\n",
      "163 | [1, 162, 3, 1] | 28.031530 % | 0.019953 %\n",
      "164 | [1, 163, 3, 1] | 28.204561 % | 0.018904 %\n",
      "165 | [1, 164, 3, 1] | 28.377593 % | 0.017806 %\n",
      "166 | [1, 165, 3, 1] | 28.550625 % | 0.016745 %\n",
      "167 | [1, 166, 3, 1] | 28.723657 % | 0.015906 %\n",
      "168 | [1, 167, 3, 1] | 28.896689 % | 0.015134 %\n",
      "169 | [1, 168, 3, 1] | 29.069721 % | 0.014482 %\n",
      "170 | [1, 169, 3, 1] | 29.242753 % | 0.013805 %\n",
      "171 | [1, 170, 3, 1] | 29.415785 % | 0.013175 %\n",
      "172 | [1, 171, 3, 1] | 29.588816 % | 0.012597 %\n",
      "173 | [1, 172, 3, 1] | 29.761848 % | 0.012005 %\n",
      "174 | [1, 173, 3, 1] | 29.934880 % | 0.011537 %\n",
      "175 | [1, 174, 3, 1] | 30.107912 % | 0.011277 %\n",
      "176 | [1, 175, 3, 1] | 30.280944 % | 0.011036 %\n",
      "177 | [1, 176, 3, 1] | 30.453976 % | 0.010800 %\n",
      "178 | [1, 177, 3, 1] | 30.627008 % | 0.010597 %\n",
      "179 | [1, 178, 3, 1] | 30.800040 % | 0.010407 %\n",
      "180 | [1, 179, 3, 1] | 30.973072 % | 0.010286 %\n",
      "181 | [1, 180, 3, 1] | 31.146103 % | 0.010288 %\n",
      "182 | [1, 181, 3, 1] | 31.319135 % | 0.010288 %\n",
      "183 | [1, 182, 3, 1] | 31.492167 % | 0.010288 %\n",
      "184 | [1, 183, 3, 1] | 31.665199 % | 0.010288 %\n",
      "185 | [1, 184, 3, 1] | 31.838231 % | 0.010288 %\n",
      "186 | [1, 185, 3, 1] | 32.011263 % | 0.010288 %\n",
      "187 | [1, 186, 3, 1] | 32.184295 % | 0.010288 %\n",
      "188 | [1, 187, 3, 1] | 32.357327 % | 0.010288 %\n",
      "189 | [1, 188, 3, 1] | 32.530359 % | 0.010288 %\n",
      "190 | [1, 189, 3, 1] | 32.703390 % | 0.010288 %\n",
      "191 | [1, 190, 3, 1] | 32.876422 % | 0.010288 %\n",
      "192 | [1, 191, 3, 1] | 33.049454 % | 0.010288 %\n",
      "193 | [1, 192, 3, 1] | 33.222486 % | 0.010288 %\n",
      "194 | [1, 193, 3, 1] | 33.395518 % | 0.010288 %\n",
      "195 | [1, 194, 3, 1] | 33.568550 % | 0.010288 %\n",
      "196 | [1, 195, 3, 1] | 33.741582 % | 0.010288 %\n",
      "197 | [1, 196, 3, 1] | 33.914614 % | 0.010288 %\n",
      "198 | [1, 197, 3, 1] | 34.087645 % | 0.010288 %\n",
      "199 | [1, 198, 3, 1] | 34.260677 % | 0.010288 %\n",
      "200 | [1, 199, 3, 1] | 34.433709 % | 0.010288 %\n",
      "201 | [1, 200, 3, 1] | 34.606741 % | 0.010288 %\n",
      "202 | [1, 201, 3, 1] | 34.779773 % | 0.010288 %\n",
      "203 | [1, 202, 3, 1] | 34.952805 % | 0.010288 %\n",
      "204 | [1, 203, 3, 1] | 35.125837 % | 0.010288 %\n",
      "205 | [1, 204, 3, 1] | 35.298869 % | 0.010288 %\n",
      "206 | [1, 205, 3, 1] | 35.471901 % | 0.010288 %\n",
      "207 | [1, 206, 3, 1] | 35.644932 % | 0.010288 %\n",
      "208 | [1, 207, 3, 1] | 35.817964 % | 0.010288 %\n",
      "209 | [1, 208, 3, 1] | 35.990996 % | 0.010288 %\n",
      "210 | [1, 209, 3, 1] | 36.164028 % | 0.010288 %\n",
      "211 | [1, 210, 3, 1] | 36.337060 % | 0.010288 %\n",
      "212 | [1, 211, 3, 1] | 36.510092 % | 0.010288 %\n",
      "213 | [1, 212, 3, 1] | 36.683124 % | 0.010288 %\n",
      "214 | [1, 213, 3, 1] | 36.856156 % | 0.010288 %\n",
      "215 | [1, 214, 3, 1] | 37.029187 % | 0.010288 %\n",
      "216 | [1, 215, 3, 1] | 37.202219 % | 0.010288 %\n",
      "217 | [1, 216, 3, 1] | 37.375251 % | 0.010288 %\n",
      "218 | [1, 217, 3, 1] | 37.548283 % | 0.010288 %\n",
      "219 | [1, 218, 3, 1] | 37.721315 % | 0.010288 %\n",
      "220 | [1, 219, 3, 1] | 37.894347 % | 0.010288 %\n",
      "221 | [1, 220, 3, 1] | 38.067379 % | 0.010288 %\n",
      "222 | [1, 221, 3, 1] | 38.240411 % | 0.010288 %\n",
      "223 | [1, 222, 3, 1] | 38.413443 % | 0.010288 %\n",
      "224 | [1, 223, 3, 1] | 38.586474 % | 0.010288 %\n",
      "225 | [1, 224, 3, 1] | 38.759506 % | 0.010288 %\n",
      "226 | [1, 225, 3, 1] | 38.932538 % | 0.010288 %\n",
      "227 | [1, 226, 3, 1] | 39.105570 % | 0.010288 %\n",
      "228 | [1, 227, 3, 1] | 39.278602 % | 0.010288 %\n",
      "229 | [1, 228, 3, 1] | 39.451634 % | 0.010288 %\n",
      "230 | [1, 229, 3, 1] | 39.624666 % | 0.010288 %\n",
      "231 | [1, 230, 3, 1] | 39.797698 % | 0.010288 %\n",
      "232 | [1, 231, 3, 1] | 39.970730 % | 0.010288 %\n",
      "233 | [1, 232, 3, 1] | 40.143761 % | 0.010288 %\n",
      "234 | [1, 233, 3, 1] | 40.316793 % | 0.010288 %\n",
      "235 | [1, 234, 3, 1] | 40.489825 % | 0.010288 %\n",
      "236 | [1, 235, 3, 1] | 40.662857 % | 0.010288 %\n",
      "237 | [1, 236, 3, 1] | 40.835889 % | 0.010288 %\n",
      "238 | [1, 237, 3, 1] | 41.008921 % | 0.010288 %\n",
      "239 | [1, 238, 3, 1] | 41.181953 % | 0.010288 %\n",
      "240 | [1, 239, 3, 1] | 41.354985 % | 0.010288 %\n",
      "241 | [1, 240, 3, 1] | 41.528016 % | 0.010288 %\n",
      "242 | [1, 241, 3, 1] | 41.701048 % | 0.010288 %\n",
      "243 | [1, 242, 3, 1] | 41.874080 % | 0.010288 %\n",
      "244 | [1, 243, 3, 1] | 42.047112 % | 0.010288 %\n",
      "245 | [1, 244, 3, 1] | 42.220144 % | 0.010288 %\n",
      "246 | [1, 245, 3, 1] | 42.393176 % | 0.010288 %\n",
      "247 | [1, 246, 3, 1] | 42.566208 % | 0.010288 %\n",
      "248 | [1, 247, 3, 1] | 42.739240 % | 0.010288 %\n",
      "249 | [1, 248, 3, 1] | 42.912272 % | 0.010288 %\n",
      "250 | [1, 249, 3, 1] | 43.085303 % | 0.010288 %\n",
      "251 | [1, 250, 3, 1] | 43.258335 % | 0.010288 %\n",
      "252 | [1, 251, 3, 1] | 43.431367 % | 0.010288 %\n",
      "253 | [1, 252, 3, 1] | 43.604399 % | 0.010288 %\n",
      "254 | [1, 253, 3, 1] | 43.777431 % | 0.010288 %\n",
      "255 | [1, 254, 3, 1] | 43.950463 % | 0.010288 %\n",
      "256 | [1, 255, 3, 1] | 44.123495 % | 0.010288 %\n",
      "257 | [1, 256, 3, 1] | 44.296527 % | 0.010288 %\n",
      "258 | [1, 257, 3, 1] | 44.469558 % | 0.010288 %\n",
      "259 | [1, 258, 3, 1] | 44.642590 % | 0.010288 %\n",
      "260 | [1, 259, 3, 1] | 44.815622 % | 0.010288 %\n",
      "261 | [1, 260, 3, 1] | 44.988654 % | 0.010288 %\n",
      "262 | [1, 261, 3, 1] | 45.161686 % | 0.010288 %\n",
      "263 | [1, 262, 3, 1] | 45.334718 % | 0.010288 %\n",
      "264 | [1, 263, 3, 1] | 45.507750 % | 0.010288 %\n",
      "265 | [1, 264, 3, 1] | 45.680782 % | 0.010288 %\n",
      "266 | [1, 265, 3, 1] | 45.853814 % | 0.010288 %\n",
      "267 | [1, 266, 3, 1] | 46.026845 % | 0.010288 %\n",
      "268 | [1, 267, 3, 1] | 46.199877 % | 0.010288 %\n",
      "269 | [1, 268, 3, 1] | 46.372909 % | 0.010288 %\n",
      "270 | [1, 269, 3, 1] | 46.545941 % | 0.010288 %\n",
      "271 | [1, 270, 3, 1] | 46.718973 % | 0.010288 %\n",
      "272 | [1, 271, 3, 1] | 46.892005 % | 0.010288 %\n",
      "273 | [1, 272, 3, 1] | 47.065037 % | 0.010288 %\n",
      "274 | [1, 273, 3, 1] | 47.238069 % | 0.010288 %\n",
      "275 | [1, 274, 3, 1] | 47.411101 % | 0.010288 %\n",
      "276 | [1, 275, 3, 1] | 47.584132 % | 0.010288 %\n",
      "277 | [1, 276, 3, 1] | 47.757164 % | 0.010288 %\n",
      "278 | [1, 277, 3, 1] | 47.930196 % | 0.010288 %\n",
      "279 | [1, 278, 3, 1] | 48.103228 % | 0.010288 %\n",
      "280 | [1, 279, 3, 1] | 48.276260 % | 0.010288 %\n",
      "281 | [1, 280, 3, 1] | 48.449292 % | 0.010288 %\n",
      "282 | [1, 281, 3, 1] | 48.622324 % | 0.010288 %\n",
      "283 | [1, 282, 3, 1] | 48.795356 % | 0.010288 %\n",
      "284 | [1, 283, 3, 1] | 48.968387 % | 0.010288 %\n",
      "285 | [1, 284, 3, 1] | 49.141419 % | 0.010288 %\n",
      "286 | [1, 285, 3, 1] | 49.314451 % | 0.010288 %\n",
      "287 | [1, 286, 3, 1] | 49.487483 % | 0.010288 %\n",
      "288 | [1, 287, 3, 1] | 49.660515 % | 0.010288 %\n",
      "289 | [1, 288, 3, 1] | 49.833547 % | 0.010288 %\n",
      "290 | [1, 289, 3, 1] | 50.006579 % | 0.010288 %\n",
      "Target compression ratio reached. Stopping search.\n",
      "Optimal rank: [1, 289, 3, 1], Compression: 50.00657877424278%, Error: 0.01028834594762884%\n"
     ]
    }
   ],
   "execution_count": 232
  },
  {
   "cell_type": "code",
   "id": "34e1a0bb37026ebf",
   "metadata": {
    "ExecuteTime": {
     "end_time": "2025-02-03T14:56:34.183317Z",
     "start_time": "2025-02-03T14:56:34.148417Z"
    }
   },
   "source": [
    "print(\n",
    "    f\"Tensor shape = {list(example_tensor.shape)}\",\n",
    "    f\"Best Rank = {best_rank}\",\n",
    "    f\"Frobenius Error = {frobenius_error:.6f}%\",\n",
    "    f\"Compression Ratio = {compression_ratio:.6f}%\",\n",
    "    f\"Elapsed Time = {elapsed_time:.6f} seconds\",\n",
    "    sep=\"\\n\",\n",
    ")\n",
    "\n",
    "# Tensor shape = [564, 564, 3]\n",
    "# Best Rank = [1, 212, 3, 1]\n",
    "# Frobenius Error = 0.893109%\n",
    "# Compression Ratio = 50.119146%\n",
    "# Elapsed Time = 55.487687 seconds"
   ],
   "outputs": [
    {
     "name": "stdout",
     "output_type": "stream",
     "text": [
      "Tensor shape = [689, 1195, 3]\n",
      "Best Rank = [1, 289, 3, 1]\n",
      "Frobenius Error = 0.010288%\n",
      "Compression Ratio = 50.006579%\n",
      "Elapsed Time = 79.026014 seconds\n"
     ]
    }
   ],
   "execution_count": 233
  },
  {
   "cell_type": "markdown",
   "id": "216f70918e1c8a88",
   "metadata": {},
   "source": "## scipy algs"
  },
  {
   "cell_type": "markdown",
   "id": "f9427aa76a63cf25",
   "metadata": {},
   "source": "### Funcs for check scipy algs"
  },
  {
   "cell_type": "code",
   "id": "5fb46639b1953452",
   "metadata": {
    "ExecuteTime": {
     "end_time": "2025-02-03T14:56:34.263681Z",
     "start_time": "2025-02-03T14:56:34.228411Z"
    }
   },
   "source": [
    "def loss_function(\n",
    "    rank: list,\n",
    "    tensor: np.ndarray,\n",
    "    target_compression_ratio: float,\n",
    "    tensor_train_args: dict[str, str],\n",
    "    frobenius_error_coef: float = 1.0,\n",
    "    compression_ratio_coef: float = 10.0,\n",
    "):\n",
    "    try:\n",
    "        tt_factors = tl.decomposition.tensor_train(tensor, rank=rank, **tensor_train_args)\n",
    "        reconstructed_tensor = tl.tt_to_tensor(tt_factors)\n",
    "\n",
    "        frobenius_error = (tl.norm(reconstructed_tensor - tensor) / tl.norm(tensor)).item()\n",
    "        compression_ratio = IMetricCalculator.get_tensors_size(*tt_factors) / IMetricCalculator.get_tensors_size(tensor)\n",
    "\n",
    "        target_compression_ratio /= 100\n",
    "\n",
    "        compression_penalty = (target_compression_ratio - compression_ratio) ** 2\n",
    "\n",
    "        # compression_penalty = target_compression_ratio - compression_ratio\n",
    "        #\n",
    "        # if compression_ratio > 1.0 or compression_ratio < 0.0 or compression_penalty < 0.0 or compression_penalty > 1.0:\n",
    "        #     compression_penalty = float(\"inf\")\n",
    "\n",
    "        return frobenius_error_coef * frobenius_error + compression_ratio_coef * compression_penalty\n",
    "\n",
    "    except Exception:\n",
    "        return float(\"inf\")"
   ],
   "outputs": [],
   "execution_count": 234
  },
  {
   "cell_type": "code",
   "id": "4c83578ff8fa7ab7",
   "metadata": {
    "ExecuteTime": {
     "end_time": "2025-02-03T14:56:34.330831Z",
     "start_time": "2025-02-03T14:56:34.292821Z"
    }
   },
   "source": [
    "def optimize_rank(\n",
    "    tensor: np.ndarray,\n",
    "    target_compression_ratio: float,\n",
    "    tensor_train_args: dict[str, str],\n",
    "    initial_rank: list[int],\n",
    "    frobenius_error_coef: float = 1.0,\n",
    "    compression_ratio_coef: float = 2.0,\n",
    "    optimization_method: str = \"nelder-mead\",\n",
    "    jac: str | None = None,\n",
    "    hess: str | None = None,\n",
    "):\n",
    "    def loss_wrapper(free_rank: list):\n",
    "        full_rank = [1] + list(np.clip(np.round(free_rank).astype(int), 1, None)) + [1]  # noqa: RUF005\n",
    "        return loss_function(\n",
    "            rank=full_rank,\n",
    "            tensor=tensor,\n",
    "            target_compression_ratio=target_compression_ratio,\n",
    "            tensor_train_args=tensor_train_args,\n",
    "            frobenius_error_coef=frobenius_error_coef,\n",
    "            compression_ratio_coef=compression_ratio_coef,\n",
    "        )\n",
    "\n",
    "    def calculate_tt_bounds(tensor_shape: tuple | list) -> list:\n",
    "        \"\"\"\n",
    "        Calculates the bounds for TT-ranks of a tensor based on its shape.\n",
    "\n",
    "        Parameters\n",
    "        ----------\n",
    "        tensor_shape : tuple or list\n",
    "            List or tuple of tensor dimensions. Each element represents the size of the tensor along that dimension.\n",
    "\n",
    "        Returns\n",
    "        -------\n",
    "        list\n",
    "            List of rank bounds in the format [(1, 1), (1, r1_max), ..., (1, 1)].\n",
    "\n",
    "        \"\"\"\n",
    "        d = len(tensor_shape)\n",
    "        bounds = [(1, 1)]\n",
    "\n",
    "        for k in range(1, d):\n",
    "            prod_left = 1\n",
    "            for i in range(k):\n",
    "                prod_left *= tensor_shape[i]\n",
    "\n",
    "            prod_right = 1\n",
    "            for j in range(k, d):\n",
    "                prod_right *= tensor_shape[j]\n",
    "\n",
    "            rk_max = min(prod_left, prod_right)\n",
    "            bounds.append((1, rk_max))\n",
    "\n",
    "        bounds.append((1, 1))\n",
    "        return bounds\n",
    "\n",
    "    class OptimizationLogger:\n",
    "        def __init__(self):\n",
    "            self.logs = []\n",
    "            self.current_iteration = -1\n",
    "\n",
    "        def callback(self, xk):\n",
    "            self.current_iteration += 1\n",
    "            rank = [1] + list(np.round(xk).astype(int)) + [1] # noqa: RUF005\n",
    "            self.logs.append(\n",
    "                {\n",
    "                    \"step\": self.current_iteration,\n",
    "                    \"rank\": rank,\n",
    "                    \"loss_evals\": [],\n",
    "                    \"raw_xk\": xk,\n",
    "                }\n",
    "            )\n",
    "            print(f\"\\n=== Iteration {self.current_iteration} complete ===\", f\"New rank estimate: {rank}\\n\", sep=\"\\n\")\n",
    "\n",
    "    optimization_logger = OptimizationLogger()\n",
    "\n",
    "    free_rank = initial_rank[1:-1]\n",
    "\n",
    "    # params\n",
    "    is_bounds_variable_usable = [\n",
    "        \"nelder-mead\",\n",
    "        \"l-bfgs-b\",\n",
    "        \"tnc\",\n",
    "        \"slsqp\",\n",
    "        \"powell\",\n",
    "        \"trust-constr\",\n",
    "        \"cobyla\",\n",
    "        \"cobyqa\",\n",
    "    ]\n",
    "\n",
    "    is_adaptive_variable_usable = [\"nelder-mead\"]\n",
    "\n",
    "    is_jac_variable_usable = [\n",
    "        \"cg\",\n",
    "        \"bfgs\",\n",
    "        \"newton-cg\",\n",
    "        \"l-bfgs-b\",\n",
    "        \"tnc\",\n",
    "        \"slsqp\",\n",
    "        \"trust-ncg\",\n",
    "        \"trust-krylov\",\n",
    "        \"trust-exact\",\n",
    "        \"trust-constr\",\n",
    "    ]\n",
    "\n",
    "    is_hess_variable_usable = [\"newton-cg\", \"dogleg\", \"trust-ncg\", \"trust-krylov\", \"trust-exact\", \" trust-constr\"]\n",
    "\n",
    "    is_callback_variable_not_usable = [\"tnc\", \"slsqp\", \"cobyla\"]\n",
    "\n",
    "    free_bounds = calculate_tt_bounds(tensor.shape)[1:-1] if optimization_method in is_bounds_variable_usable else None\n",
    "\n",
    "    callback_param = (\n",
    "        optimization_logger.callback if optimization_method not in is_callback_variable_not_usable else None\n",
    "    )\n",
    "\n",
    "    adaptive = optimization_method.lower() in is_adaptive_variable_usable\n",
    "\n",
    "    jac = jac if optimization_method.lower() in is_jac_variable_usable else None\n",
    "\n",
    "    hess = hess if optimization_method.lower() in is_hess_variable_usable else None\n",
    "\n",
    "    minimize_kwargs = {\n",
    "        \"fun\": loss_wrapper,\n",
    "        \"x0\": free_rank,\n",
    "        \"method\": optimization_method,\n",
    "        \"jac\": jac,\n",
    "        \"hess\": hess,\n",
    "        \"bounds\": free_bounds,\n",
    "        \"callback\": callback_param,\n",
    "        \"options\": {\n",
    "            \"disp\": True,\n",
    "            # \"maxiter\": 1000,\n",
    "        },\n",
    "    }\n",
    "\n",
    "    if adaptive:\n",
    "        minimize_kwargs[\"options\"][\"adaptive\"] = adaptive\n",
    "\n",
    "    if jac:\n",
    "        minimize_kwargs[\"jac\"] = jac\n",
    "\n",
    "    if hess:\n",
    "        minimize_kwargs[\"hess\"] = hess\n",
    "\n",
    "    # params\n",
    "\n",
    "    result = minimize(**minimize_kwargs)\n",
    "\n",
    "    optimal_rank = [1] + list(np.clip(np.round(result.x).astype(int), 1, None)) + [1]  # noqa: RUF005\n",
    "    final_loss = result.fun\n",
    "\n",
    "    return optimal_rank, final_loss, result, optimization_logger.logs"
   ],
   "outputs": [],
   "execution_count": 235
  },
  {
   "cell_type": "markdown",
   "id": "c5e8778bf1c8039e",
   "metadata": {},
   "source": "### args for algs"
  },
  {
   "cell_type": "code",
   "id": "ff2f1a80323dce02",
   "metadata": {
    "ExecuteTime": {
     "end_time": "2025-02-03T14:56:34.394173Z",
     "start_time": "2025-02-03T14:56:34.353990Z"
    }
   },
   "source": [
    "example_tensor_initial_rank"
   ],
   "outputs": [
    {
     "data": {
      "text/plain": [
       "[1, 1, 1, 1]"
      ]
     },
     "execution_count": 236,
     "metadata": {},
     "output_type": "execute_result"
    }
   ],
   "execution_count": 236
  },
  {
   "cell_type": "markdown",
   "id": "8a1d3afa3b42f0dc",
   "metadata": {},
   "source": "### check algs"
  },
  {
   "cell_type": "markdown",
   "id": "507524217c8835c5",
   "metadata": {},
   "source": "https://docs.scipy.org/doc/scipy-1.15.0/tutorial/optimize.html#"
  },
  {
   "cell_type": "markdown",
   "id": "8d94cd9ca1f2b93d",
   "metadata": {},
   "source": "#### nelder-mead"
  },
  {
   "cell_type": "code",
   "id": "d5102823305656d0",
   "metadata": {
    "ExecuteTime": {
     "end_time": "2025-02-03T14:56:34.454595Z",
     "start_time": "2025-02-03T14:56:34.421424Z"
    }
   },
   "source": [
    "method = \"nelder-mead\"\n",
    "frobenius_error_coef = 1.0\n",
    "compression_ratio_coef = 10.0"
   ],
   "outputs": [],
   "execution_count": 237
  },
  {
   "cell_type": "code",
   "id": "1380a61aaa1e4fe3",
   "metadata": {
    "ExecuteTime": {
     "end_time": "2025-02-03T14:56:34.509458Z",
     "start_time": "2025-02-03T14:56:34.477948Z"
    }
   },
   "source": [
    "# print(\n",
    "#     f\"Testing optimization method: {method}\",\n",
    "#     f\"Tensor shape: {example_tensor.shape}\",\n",
    "#     f\"Initial rank: {example_tensor_initial_rank}\",\n",
    "#     sep=\"\\n\",\n",
    "# )\n",
    "# try:\n",
    "#     # check optimizer method\n",
    "#     start_time = time.perf_counter()\n",
    "#     optimal_rank, final_loss, minimize_result_nelder_mead, iteration_logs_nelder_mead = optimize_rank(\n",
    "#         tensor=example_tensor,\n",
    "#         target_compression_ratio=50.0,\n",
    "#         tensor_train_args=tensor_train_args,\n",
    "#         initial_rank=example_tensor_initial_rank,\n",
    "#         optimization_method=method,\n",
    "#         frobenius_error_coef=frobenius_error_coef,\n",
    "#         compression_ratio_coef=compression_ratio_coef,\n",
    "#     )\n",
    "#     elapsed_time = time.perf_counter() - start_time\n",
    "# \n",
    "#     # check final frobenius error and compression ratio\n",
    "#     tt_factors = tl.decomposition.tensor_train(example_tensor, rank=optimal_rank, **tensor_train_args)\n",
    "#     reconstructed_tensor = tl.tt_to_tensor(tt_factors)\n",
    "# \n",
    "#     frobenius_error = 100.0 * (tl.norm(reconstructed_tensor - example_tensor) / tl.norm(example_tensor)).item()\n",
    "#     compression_ratio = (\n",
    "#         100.0 * IMetricCalculator.get_tensors_size(*tt_factors) / IMetricCalculator.get_tensors_size(example_tensor)\n",
    "#     )\n",
    "# \n",
    "#     print(\n",
    "#         f\"Optimal rank: {optimal_rank}\",\n",
    "#         f\"Elapsed time: {elapsed_time:.6f} seconds\",\n",
    "#         f\"Frobenius Error: {frobenius_error:.6f}%\",\n",
    "#         f\"Compression Ratio: {compression_ratio:.6f}%\",\n",
    "#         sep=\"\\n\",\n",
    "#         end=\"\\n\\n\",\n",
    "#     )\n",
    "# except Exception as e:\n",
    "#     print(f\"Error with method {method}: {e}\")"
   ],
   "outputs": [],
   "execution_count": 238
  },
  {
   "cell_type": "code",
   "id": "bf3a5c5f9a9d67df",
   "metadata": {
    "ExecuteTime": {
     "end_time": "2025-02-03T14:56:34.565288Z",
     "start_time": "2025-02-03T14:56:34.534593Z"
    }
   },
   "source": "# minimize_result_nelder_mead",
   "outputs": [],
   "execution_count": 239
  },
  {
   "cell_type": "code",
   "id": "106066278c6f6c89",
   "metadata": {
    "ExecuteTime": {
     "end_time": "2025-02-03T14:56:34.618398Z",
     "start_time": "2025-02-03T14:56:34.588224Z"
    }
   },
   "source": "# iteration_logs_nelder_mead",
   "outputs": [],
   "execution_count": 240
  },
  {
   "cell_type": "markdown",
   "id": "a29300ad6d9542a7",
   "metadata": {},
   "source": "#### powell"
  },
  {
   "cell_type": "code",
   "id": "f91a5d4ff2441701",
   "metadata": {
    "ExecuteTime": {
     "end_time": "2025-02-03T15:11:48.919216Z",
     "start_time": "2025-02-03T15:11:48.881067Z"
    }
   },
   "source": [
    "method = \"powell\"\n",
    "frobenius_error_coef = 1.0\n",
    "compression_ratio_coef = 10.0"
   ],
   "outputs": [],
   "execution_count": 283
  },
  {
   "cell_type": "code",
   "id": "8d7614caf309c4d4",
   "metadata": {
    "ExecuteTime": {
     "end_time": "2025-02-03T15:12:21.570291Z",
     "start_time": "2025-02-03T15:11:49.216324Z"
    }
   },
   "source": [
    "print(\n",
    "    f\"Testing optimization method: {method}\",\n",
    "    f\"Tensor shape: {example_tensor.shape}\",\n",
    "    f\"Initial rank: {example_tensor_initial_rank}\",\n",
    "    sep=\"\\n\",\n",
    ")\n",
    "try:\n",
    "    # check optimizer method\n",
    "    start_time = time.perf_counter()\n",
    "    optimal_rank, final_loss, minimize_result_powell, iteration_logs_powell = optimize_rank(\n",
    "        tensor=example_tensor,\n",
    "        target_compression_ratio=50.0,\n",
    "        tensor_train_args=tensor_train_args,\n",
    "        initial_rank=example_tensor_initial_rank,\n",
    "        optimization_method=method,\n",
    "        frobenius_error_coef=frobenius_error_coef,\n",
    "        compression_ratio_coef=compression_ratio_coef,\n",
    "    )\n",
    "    elapsed_time = time.perf_counter() - start_time\n",
    "\n",
    "    # check final frobenius error and compression ratio\n",
    "    tt_factors = tl.decomposition.tensor_train(example_tensor, rank=optimal_rank, **tensor_train_args)\n",
    "    reconstructed_tensor = tl.tt_to_tensor(tt_factors)\n",
    "\n",
    "    frobenius_error = 100.0 * (tl.norm(reconstructed_tensor - example_tensor) / tl.norm(example_tensor)).item()\n",
    "    compression_ratio = (\n",
    "        100.0 * IMetricCalculator.get_tensors_size(*tt_factors) / IMetricCalculator.get_tensors_size(example_tensor)\n",
    "    )\n",
    "\n",
    "    print(\n",
    "        f\"Optimal rank: {optimal_rank}\",\n",
    "        f\"Elapsed time: {elapsed_time:.6f} seconds\",\n",
    "        f\"Frobenius Error: {frobenius_error:.6f}%\",\n",
    "        f\"Compression Ratio: {compression_ratio:.6f}%\",\n",
    "        sep=\"\\n\",\n",
    "        end=\"\\n\\n\",\n",
    "    )\n",
    "except Exception as e:\n",
    "    print(f\"Error with method {method}: {e}\")"
   ],
   "outputs": [
    {
     "name": "stdout",
     "output_type": "stream",
     "text": [
      "Testing optimization method: powell\n",
      "Tensor shape: (412, 620, 3)\n",
      "Initial rank: [1, 1, 1, 1]\n",
      "\n",
      "=== Iteration 0 complete ===\n",
      "New rank estimate: [1, 371, 2, 1]\n",
      "\n",
      "\n",
      "=== Iteration 1 complete ===\n",
      "New rank estimate: [1, 233, 2, 1]\n",
      "\n",
      "\n",
      "=== Iteration 2 complete ===\n",
      "New rank estimate: [1, 233, 2, 1]\n",
      "\n",
      "Optimization terminated successfully.\n",
      "         Current function value: 0.034328\n",
      "         Iterations: 3\n",
      "         Function evaluations: 126\n",
      "Optimal rank: [1, 233, 2, 1]\n",
      "Elapsed time: 31.024402 seconds\n",
      "Frobenius Error: 3.427543%\n",
      "Compression Ratio: 50.229930%\n",
      "\n"
     ]
    }
   ],
   "execution_count": 284
  },
  {
   "cell_type": "code",
   "id": "51e286b64f73dbdb",
   "metadata": {
    "ExecuteTime": {
     "end_time": "2025-02-03T14:56:34.780294Z",
     "start_time": "2025-02-03T14:56:34.749780Z"
    }
   },
   "source": "# minimize_result_powell",
   "outputs": [],
   "execution_count": 243
  },
  {
   "cell_type": "code",
   "id": "50aed1e373ab5bd",
   "metadata": {
    "ExecuteTime": {
     "end_time": "2025-02-03T14:56:34.835369Z",
     "start_time": "2025-02-03T14:56:34.804380Z"
    }
   },
   "source": "# iteration_logs_powell",
   "outputs": [],
   "execution_count": 244
  },
  {
   "cell_type": "markdown",
   "id": "b40dfbe474c71fbb",
   "metadata": {},
   "source": "#### SLSQP"
  },
  {
   "cell_type": "code",
   "id": "1b6c94ec1e90c2ca",
   "metadata": {
    "ExecuteTime": {
     "end_time": "2025-02-03T14:56:34.890312Z",
     "start_time": "2025-02-03T14:56:34.858999Z"
    }
   },
   "source": [
    "method = \"slsqp\"\n",
    "frobenius_error_coef = 1.0\n",
    "compression_ratio_coef = 10.0"
   ],
   "outputs": [],
   "execution_count": 245
  },
  {
   "cell_type": "code",
   "id": "59dc3ff48ce74270",
   "metadata": {
    "ExecuteTime": {
     "end_time": "2025-02-03T14:56:34.945821Z",
     "start_time": "2025-02-03T14:56:34.914725Z"
    }
   },
   "source": [
    "# print(\n",
    "#     f\"Testing optimization method: {method}\",\n",
    "#     f\"Tensor shape: {example_tensor.shape}\",\n",
    "#     f\"Initial rank: {example_tensor_initial_rank}\",\n",
    "#     sep=\"\\n\",\n",
    "# )\n",
    "# try:\n",
    "#     # check optimizer method\n",
    "#     start_time = time.perf_counter()\n",
    "#     optimal_rank, final_loss, minimize_result_slsqp, iteration_logs_slsqp = optimize_rank(\n",
    "#         tensor=example_tensor,\n",
    "#         target_compression_ratio=50.0,\n",
    "#         tensor_train_args=tensor_train_args,\n",
    "#         initial_rank=example_tensor_initial_rank,\n",
    "#         optimization_method=method,\n",
    "#         frobenius_error_coef=frobenius_error_coef,\n",
    "#         compression_ratio_coef=compression_ratio_coef,\n",
    "#         jac=None,\n",
    "#     )\n",
    "#     elapsed_time = time.perf_counter() - start_time\n",
    "# \n",
    "#     # check final frobenius error and compression ratio\n",
    "#     tt_factors = tl.decomposition.tensor_train(example_tensor, rank=optimal_rank, **tensor_train_args)\n",
    "#     reconstructed_tensor = tl.tt_to_tensor(tt_factors)\n",
    "# \n",
    "#     frobenius_error = 100.0 * (tl.norm(reconstructed_tensor - example_tensor) / tl.norm(example_tensor)).item()\n",
    "#     compression_ratio = (\n",
    "#         100.0 * IMetricCalculator.get_tensors_size(*tt_factors) / IMetricCalculator.get_tensors_size(example_tensor)\n",
    "#     )\n",
    "# \n",
    "#     print(\n",
    "#         f\"Optimal rank: {optimal_rank}\",\n",
    "#         f\"Elapsed time: {elapsed_time:.6f} seconds\",\n",
    "#         f\"Frobenius Error: {frobenius_error:.6f}%\",\n",
    "#         f\"Compression Ratio: {compression_ratio:.6f}%\",\n",
    "#         sep=\"\\n\",\n",
    "#         end=\"\\n\\n\",\n",
    "#     )\n",
    "# except Exception as e:\n",
    "#     print(f\"Error with method {method}: {e}\")"
   ],
   "outputs": [],
   "execution_count": 246
  },
  {
   "cell_type": "code",
   "id": "7559a24586b872da",
   "metadata": {
    "ExecuteTime": {
     "end_time": "2025-02-03T14:56:34.998253Z",
     "start_time": "2025-02-03T14:56:34.966766Z"
    }
   },
   "source": "# minimize_result_slsqp",
   "outputs": [],
   "execution_count": 247
  },
  {
   "cell_type": "code",
   "id": "7280881b45d74fb5",
   "metadata": {
    "ExecuteTime": {
     "end_time": "2025-02-03T14:56:35.053457Z",
     "start_time": "2025-02-03T14:56:35.022027Z"
    }
   },
   "source": "# iteration_logs_slsqp",
   "outputs": [],
   "execution_count": 248
  },
  {
   "cell_type": "markdown",
   "id": "19310a6838ac0e87",
   "metadata": {},
   "source": "# some graphs"
  },
  {
   "cell_type": "markdown",
   "id": "7f6206d3cb364a6e",
   "metadata": {},
   "source": "## search area example"
  },
  {
   "cell_type": "code",
   "id": "df5c062292b0020f",
   "metadata": {
    "ExecuteTime": {
     "end_time": "2025-02-03T14:56:35.189212Z",
     "start_time": "2025-02-03T14:56:35.076767Z"
    }
   },
   "source": [
    "internal_indices = np.array(list(search_area_example_results.keys()))\n",
    "metrics = [\"frobenius_error\", \"compression_ratio\", \"compression_penalty\", \"loss_function_result\"]\n",
    "\n",
    "metric_dict = {tuple(idx): search_area_example_results[idx] for idx in search_area_example_results}\n",
    "\n",
    "figs = []\n",
    "\n",
    "for metric in metrics:\n",
    "    z_values = np.array([search_area_example_results[key].get(metric, np.nan) for key in search_area_example_results])\n",
    "    x_indices = internal_indices[:, 0]\n",
    "    y_indices = internal_indices[:, 1]\n",
    "\n",
    "    local_min_points = []\n",
    "\n",
    "    for i, (x, y) in enumerate(zip(x_indices, y_indices)):\n",
    "        z = z_values[i]\n",
    "\n",
    "        neighbors = [\n",
    "            (x - 1, y), (x + 1, y),\n",
    "            (x, y - 1), (x, y + 1)\n",
    "        ]\n",
    "\n",
    "        is_local_min = all(\n",
    "            (neighbor not in metric_dict or metric_dict[neighbor].get(metric, np.inf) >= z)\n",
    "            for neighbor in neighbors\n",
    "        )\n",
    "\n",
    "        if is_local_min:\n",
    "            local_min_points.append((x, y, z))\n",
    "\n",
    "    x_min, y_min, z_min = zip(*local_min_points) if local_min_points else ([], [], [])\n",
    "\n",
    "    fig = go.Figure()\n",
    "\n",
    "    fig.add_trace(go.Scatter3d(\n",
    "        x=x_indices,\n",
    "        y=y_indices,\n",
    "        z=z_values,\n",
    "        mode=\"markers\",\n",
    "        marker={\"size\": 5, \"color\": z_values, \"colorscale\": \"Viridis\", \"opacity\": 0.8},\n",
    "        name=metric\n",
    "    ))\n",
    "\n",
    "    fig.add_trace(go.Scatter3d(\n",
    "        x=x_min,\n",
    "        y=y_min,\n",
    "        z=z_min,\n",
    "        mode=\"markers+text\",\n",
    "        marker={\"size\": 6, \"color\": \"red\", \"symbol\": \"diamond\"},\n",
    "        text=[f\"min: {val:.6f}\" for val in z_min],\n",
    "        textposition=\"top center\",\n",
    "        name=\"Local Minima\"\n",
    "    ))\n",
    "\n",
    "    fig.update_layout(\n",
    "        title=f\"Search area for example tensor of {metric.replace('_', ' ').title()}\",\n",
    "        scene={\n",
    "            \"xaxis_title\": \"Rank Index 1\",\n",
    "            \"yaxis_title\": \"Rank Index 2\",\n",
    "            \"zaxis_title\": metric.replace(\"_\", \" \").title(),\n",
    "            \"yaxis\": {\"tickmode\": \"array\", \"tickvals\": list(set(y_indices.astype(int)))}\n",
    "        },\n",
    "        margin={\"l\": 0, \"r\": 0, \"t\": 40, \"b\": 0},\n",
    "        template=\"plotly_white\",\n",
    "        showlegend=False,\n",
    "    )\n",
    "\n",
    "    figs.append(fig)"
   ],
   "outputs": [],
   "execution_count": 249
  },
  {
   "cell_type": "code",
   "id": "e923034ab90c955c",
   "metadata": {
    "ExecuteTime": {
     "end_time": "2025-02-03T14:56:35.297141Z",
     "start_time": "2025-02-03T14:56:35.210972Z"
    }
   },
   "source": [
    "html_str = \"\"\n",
    "for fig in figs:\n",
    "    html_str += go.Figure(fig).to_html(full_html=False, include_plotlyjs=False)\n",
    "\n",
    "html_file = f\"\"\"\n",
    "<!DOCTYPE html>\n",
    "<html>\n",
    "<head>\n",
    "    <script src=\"https://cdn.plot.ly/plotly-latest.min.js\"></script>\n",
    "</head>\n",
    "<body>\n",
    "<h1>Search area by some metrics</h1>\n",
    "{html_str}\n",
    "</body>\n",
    "</html>\n",
    "\"\"\"\n",
    "\n",
    "output_path = \"../.cache/data_analyze/optimization_algs_for_tensor_train_search_area.html\"\n",
    "with open(output_path, \"w\", encoding=\"utf-8\") as f:  # noqa: PTH123\n",
    "    f.write(html_file)"
   ],
   "outputs": [],
   "execution_count": 250
  },
  {
   "cell_type": "markdown",
   "id": "729090dbcf9ea577",
   "metadata": {},
   "source": "## custom alg metrics"
  },
  {
   "cell_type": "code",
   "id": "f49e5d6990140d22",
   "metadata": {
    "ExecuteTime": {
     "end_time": "2025-02-03T14:56:35.351702Z",
     "start_time": "2025-02-03T14:56:35.320153Z"
    }
   },
   "source": [
    "target_compression_ratio_for_graphs_percent = 50.0\n",
    "frobenius_error_coef_for_graphs = 1.0\n",
    "compression_ratio_coef_for_graphs = 10.0"
   ],
   "outputs": [],
   "execution_count": 251
  },
  {
   "cell_type": "code",
   "id": "77d481718c173e29",
   "metadata": {
    "ExecuteTime": {
     "end_time": "2025-02-03T14:56:35.420656Z",
     "start_time": "2025-02-03T14:56:35.375510Z"
    }
   },
   "source": [
    "(\n",
    "    custom_alg_compression_ratios,\n",
    "    custom_alg_frobenius_errors,\n",
    "    custom_alg_compression_penalties,\n",
    "    custom_alg_loss_function_results,\n",
    ") = [], [], [], []\n",
    "for element in find_rank_logs:\n",
    "    compression_ratio = element[\"compression_ratio\"] / 100.0\n",
    "    frobenius_error = element[\"frobenius_error\"] / 100.0\n",
    "    target_compression_ratio_for_graphs = target_compression_ratio_for_graphs_percent / 100.0\n",
    "\n",
    "    custom_alg_compression_ratios.append(compression_ratio)\n",
    "    custom_alg_frobenius_errors.append(frobenius_error)\n",
    "\n",
    "    compression_penalty = (target_compression_ratio_for_graphs - compression_ratio) ** 2\n",
    "    loss_function_result = (\n",
    "        frobenius_error_coef_for_graphs * frobenius_error + compression_ratio_coef_for_graphs * compression_penalty\n",
    "    )\n",
    "\n",
    "    custom_alg_compression_penalties.append(compression_penalty)\n",
    "    custom_alg_loss_function_results.append(loss_function_result)"
   ],
   "outputs": [],
   "execution_count": 252
  },
  {
   "cell_type": "markdown",
   "id": "f2f596fca98a8a9a",
   "metadata": {},
   "source": "## path in search area"
  },
  {
   "cell_type": "code",
   "id": "3a77c92e4b45ae07",
   "metadata": {
    "ExecuteTime": {
     "end_time": "2025-02-03T14:56:35.881081Z",
     "start_time": "2025-02-03T14:56:35.448577Z"
    }
   },
   "source": [
    "figs = []\n",
    "\n",
    "for metric, metric_data in zip(\n",
    "        metrics,\n",
    "        [\n",
    "            custom_alg_frobenius_errors,\n",
    "            custom_alg_compression_ratios,\n",
    "            custom_alg_compression_penalties,\n",
    "            custom_alg_loss_function_results,\n",
    "        ],\n",
    "        strict=False,\n",
    "):\n",
    "    z_values = np.array([search_area_example_results[key].get(metric, np.nan) for key in search_area_example_results])\n",
    "    x_indices = internal_indices[:, 0]\n",
    "    y_indices = internal_indices[:, 1]\n",
    "\n",
    "    # Поиск локальных минимумов\n",
    "    local_min_points = []\n",
    "\n",
    "    metric_dict = {tuple(idx): search_area_example_results[idx] for idx in search_area_example_results}\n",
    "\n",
    "    for i, (x, y) in enumerate(zip(x_indices, y_indices)):\n",
    "        z = z_values[i]\n",
    "\n",
    "        neighbors = [\n",
    "            (x - 1, y), (x + 1, y),  # По оси X\n",
    "            (x, y - 1), (x, y + 1)   # По оси Y\n",
    "        ]\n",
    "\n",
    "        is_local_min = all(\n",
    "            (neighbor not in metric_dict or metric_dict[neighbor].get(metric, np.inf) >= z)\n",
    "            for neighbor in neighbors\n",
    "        )\n",
    "\n",
    "        if is_local_min:\n",
    "            local_min_points.append((x, y, z))\n",
    "\n",
    "    x_min, y_min, z_min = zip(*local_min_points) if local_min_points else ([], [], [])\n",
    "\n",
    "    fig = go.Figure()\n",
    "\n",
    "    # Основные точки\n",
    "    fig.add_trace(go.Scatter3d(\n",
    "        x=x_indices,\n",
    "        y=y_indices,\n",
    "        z=z_values,\n",
    "        mode=\"markers\",\n",
    "        marker={\"size\": 5, \"color\": z_values, \"colorscale\": \"Viridis\", \"opacity\": 0.8},\n",
    "    ))\n",
    "\n",
    "    path_x = []\n",
    "    path_y = []\n",
    "    path_z = []\n",
    "\n",
    "    for i, log in enumerate(find_rank_logs):\n",
    "        rank = log[\"rank\"]\n",
    "        if metric == \"frobenius_error\":\n",
    "            z_value = custom_alg_frobenius_errors[i]\n",
    "        elif metric == \"compression_ratio\":\n",
    "            z_value = custom_alg_compression_ratios[i]\n",
    "        elif metric == \"compression_penalty\":\n",
    "            z_value = custom_alg_compression_penalties[i]\n",
    "        elif metric == \"loss_function_result\":\n",
    "            z_value = custom_alg_loss_function_results[i]\n",
    "\n",
    "        path_x.append(rank[1])\n",
    "        path_y.append(rank[2])\n",
    "        path_z.append(z_value)\n",
    "\n",
    "        fig.add_trace(\n",
    "            go.Scatter3d(\n",
    "                x=[rank[1]],\n",
    "                y=[rank[2]],\n",
    "                z=[z_value],\n",
    "                mode=\"markers\",\n",
    "                marker={\n",
    "                    \"size\": 10 if i == 0 or i == len(find_rank_logs) - 1 else 5,\n",
    "                    \"color\": \"yellow\" if i == 0 or i == len(find_rank_logs) - 1 else \"red\",\n",
    "                    \"opacity\": 0.8,\n",
    "                },\n",
    "            )\n",
    "        )\n",
    "\n",
    "    # Добавляем локальные минимумы (выделенные точки)\n",
    "    fig.add_trace(go.Scatter3d(\n",
    "        x=x_min,\n",
    "        y=y_min,\n",
    "        z=z_min,\n",
    "        mode=\"markers+text\",\n",
    "        marker={\"size\": 8, \"color\": \"blue\", \"symbol\": \"diamond\"},\n",
    "        text=[f\"min: {val:.6f}\" for val in z_min],\n",
    "        textposition=\"top center\",\n",
    "    ))\n",
    "\n",
    "    fig.add_trace(\n",
    "        go.Scatter3d(\n",
    "            x=path_x,\n",
    "            y=path_y,\n",
    "            z=path_z,\n",
    "            mode=\"lines+markers\",\n",
    "            marker={\"size\": 5, \"color\": \"red\", \"opacity\": 0.8},\n",
    "            line={\"color\": \"red\", \"width\": 3},\n",
    "        )\n",
    "    )\n",
    "\n",
    "    fig.update_layout(\n",
    "        title=f\"Search area for example tensor of {metric.replace('_', ' ').title()} with custom alg path\",\n",
    "        scene={\n",
    "            \"xaxis_title\": \"Rank Index 1\",\n",
    "            \"yaxis_title\": \"Rank Index 2\",\n",
    "            \"zaxis_title\": metric.replace(\"_\", \" \").title(),\n",
    "            \"yaxis\": {\"tickmode\": \"array\", \"tickvals\": list(set(y_indices.astype(int)))},\n",
    "        },\n",
    "        margin={\"l\": 0, \"r\": 0, \"t\": 40, \"b\": 0},\n",
    "        template=\"plotly_white\",\n",
    "        showlegend=False,\n",
    "    )\n",
    "\n",
    "    figs.append(fig)\n"
   ],
   "outputs": [],
   "execution_count": 253
  },
  {
   "cell_type": "code",
   "id": "e4db931312136077",
   "metadata": {
    "ExecuteTime": {
     "end_time": "2025-02-03T14:56:36.145532Z",
     "start_time": "2025-02-03T14:56:35.905388Z"
    }
   },
   "source": [
    "html_str = \"\"\n",
    "for fig in figs:\n",
    "    html_str += go.Figure(fig).to_html(full_html=False, include_plotlyjs=False)\n",
    "\n",
    "html_file = f\"\"\"\n",
    "<!DOCTYPE html>\n",
    "<html>\n",
    "<head>\n",
    "    <script src=\"https://cdn.plot.ly/plotly-latest.min.js\"></script>\n",
    "</head>\n",
    "<body>\n",
    "<h1>Search area by some metrics</h1>\n",
    "{html_str}\n",
    "</body>\n",
    "</html>\n",
    "\"\"\"\n",
    "\n",
    "output_path = \"../.cache/data_analyze/optimization_algs_for_tensor_train_search_area_with_custom_alg.html\"\n",
    "with open(output_path, \"w\", encoding=\"utf-8\") as f:  # noqa: PTH123\n",
    "    f.write(html_file)"
   ],
   "outputs": [],
   "execution_count": 254
  },
  {
   "cell_type": "markdown",
   "id": "f27d29ac1fa2f80b",
   "metadata": {},
   "source": "## only path"
  },
  {
   "cell_type": "code",
   "id": "1ce22f9e7c083051",
   "metadata": {
    "ExecuteTime": {
     "end_time": "2025-02-03T14:56:36.201092Z",
     "start_time": "2025-02-03T14:56:36.169190Z"
    }
   },
   "source": [
    "# figs = []\n",
    "# \n",
    "# # График 1: Compression Ratios\n",
    "# fig1 = go.Figure()\n",
    "# fig1.add_trace(\n",
    "#     go.Scatter(\n",
    "#         x=list(range(len(custom_alg_compression_ratios))),\n",
    "#         y=custom_alg_compression_ratios,\n",
    "#         mode=\"lines+markers\",\n",
    "#         marker={\"size\": 5},\n",
    "#         name=\"Compression Ratios\",\n",
    "#     )\n",
    "# )\n",
    "# fig1.update_layout(\n",
    "#     title=\"Compression Ratios\",\n",
    "#     xaxis_title=\"Index\",\n",
    "#     yaxis_title=\"Values\",\n",
    "#     template=\"plotly_white\",\n",
    "#     margin={\"l\": 20, \"r\": 20, \"t\": 40, \"b\": 20},\n",
    "# )\n",
    "# figs.append(fig1)\n",
    "# \n",
    "# # График 2: Frobenius Errors\n",
    "# fig2 = go.Figure()\n",
    "# fig2.add_trace(\n",
    "#     go.Scatter(\n",
    "#         x=list(range(len(custom_alg_frobenius_errors))),\n",
    "#         y=custom_alg_frobenius_errors,\n",
    "#         mode=\"lines+markers\",\n",
    "#         marker={\"size\": 5},\n",
    "#         name=\"Frobenius Errors\",\n",
    "#     )\n",
    "# )\n",
    "# fig2.update_layout(\n",
    "#     title=\"Frobenius Errors\",\n",
    "#     xaxis_title=\"Index\",\n",
    "#     yaxis_title=\"Values\",\n",
    "#     template=\"plotly_white\",\n",
    "#     margin={\"l\": 20, \"r\": 20, \"t\": 40, \"b\": 20},\n",
    "# )\n",
    "# figs.append(fig2)\n",
    "# \n",
    "# # График 3: Compression Penalties\n",
    "# fig3 = go.Figure()\n",
    "# fig3.add_trace(\n",
    "#     go.Scatter(\n",
    "#         x=list(range(len(custom_alg_compression_penalties))),\n",
    "#         y=custom_alg_compression_penalties,\n",
    "#         mode=\"lines+markers\",\n",
    "#         marker={\"size\": 5},\n",
    "#         name=\"Compression Penalties\",\n",
    "#     )\n",
    "# )\n",
    "# fig3.update_layout(\n",
    "#     title=\"Compression Penalties\",\n",
    "#     xaxis_title=\"Index\",\n",
    "#     yaxis_title=\"Values\",\n",
    "#     template=\"plotly_white\",\n",
    "#     margin={\"l\": 20, \"r\": 20, \"t\": 40, \"b\": 20},\n",
    "# )\n",
    "# figs.append(fig3)\n",
    "# \n",
    "# # График 4: Loss Function Results\n",
    "# fig4 = go.Figure()\n",
    "# fig4.add_trace(\n",
    "#     go.Scatter(\n",
    "#         x=list(range(len(custom_alg_loss_function_results))),\n",
    "#         y=custom_alg_loss_function_results,\n",
    "#         mode=\"lines+markers\",\n",
    "#         marker={\"size\": 5},\n",
    "#         name=\"Loss Function Results\",\n",
    "#     )\n",
    "# )\n",
    "# fig4.update_layout(\n",
    "#     title=\"Loss Function Results\",\n",
    "#     xaxis_title=\"Index\",\n",
    "#     yaxis_title=\"Values\",\n",
    "#     template=\"plotly_white\",\n",
    "#     margin={\"l\": 20, \"r\": 20, \"t\": 40, \"b\": 20},\n",
    "# )\n",
    "# figs.append(fig4)"
   ],
   "outputs": [],
   "execution_count": 255
  },
  {
   "cell_type": "code",
   "id": "88a0a964c37f7280",
   "metadata": {
    "ExecuteTime": {
     "end_time": "2025-02-03T14:56:36.256396Z",
     "start_time": "2025-02-03T14:56:36.225306Z"
    }
   },
   "source": [
    "# html_str = \"\"\n",
    "# for i, fig in enumerate(figs):\n",
    "#     html_str += pio.to_html(fig, full_html=False, include_plotlyjs=False)\n",
    "# \n",
    "# html_file = f\"\"\"\n",
    "# <!DOCTYPE html>\n",
    "# <html>\n",
    "# <head>\n",
    "#     <script src=\"https://cdn.plot.ly/plotly-latest.min.js\"></script>\n",
    "# </head>\n",
    "# <body>\n",
    "# <h1>\n",
    "# Custom alg metrics\n",
    "# </h1>\n",
    "# {html_str}\n",
    "# </body>\n",
    "# </html>\n",
    "# \"\"\"\n",
    "# \n",
    "# with open(\"../.cache/data_analyze/optimization_algs_for_tensor_train_custom_alg.html\", \"w\", encoding=\"utf-8\") as f: #noqa: PTH123\n",
    "#     f.write(html_file)"
   ],
   "outputs": [],
   "execution_count": 256
  },
  {
   "cell_type": "markdown",
   "id": "fa0c2306b25992af",
   "metadata": {},
   "source": "# optimize with scipy alg for tensor"
  },
  {
   "cell_type": "code",
   "id": "3cc323b29f6e68e7",
   "metadata": {
    "ExecuteTime": {
     "end_time": "2025-02-03T14:56:36.310926Z",
     "start_time": "2025-02-03T14:56:36.280963Z"
    }
   },
   "source": [
    "# cache_dir_eeg = \"../.cache/eeg\"\n",
    "#\n",
    "# target_tensor = create_eeg_limo_data_tensor(cache_dir_eeg=cache_dir_eeg)"
   ],
   "outputs": [],
   "execution_count": 257
  },
  {
   "cell_type": "code",
   "id": "477ee2cb7c1c193b",
   "metadata": {
    "ExecuteTime": {
     "end_time": "2025-02-03T14:56:36.374818Z",
     "start_time": "2025-02-03T14:56:36.343726Z"
    }
   },
   "source": [
    "# target_initial_rank = calculate_tensor_train_initial_rank(target_tensor.shape)"
   ],
   "outputs": [],
   "execution_count": 258
  },
  {
   "cell_type": "code",
   "id": "4d892902ddb6d7a0",
   "metadata": {
    "ExecuteTime": {
     "end_time": "2025-02-03T14:56:36.429569Z",
     "start_time": "2025-02-03T14:56:36.396175Z"
    }
   },
   "source": [
    "# method = \"powell\"\n",
    "# frobenius_error_coef = 1.0\n",
    "# compression_ratio_coef = 10.0"
   ],
   "outputs": [],
   "execution_count": 259
  },
  {
   "cell_type": "code",
   "id": "aa468b3cc51f4149",
   "metadata": {
    "ExecuteTime": {
     "end_time": "2025-02-03T14:56:36.484018Z",
     "start_time": "2025-02-03T14:56:36.452373Z"
    }
   },
   "source": [
    "# print(\n",
    "#     f\"Testing optimization method: {method}\",\n",
    "#     f\"Tensor shape: {target_tensor.shape}\",\n",
    "#     f\"Initial rank: {target_initial_rank}\",\n",
    "#     sep=\"\\n\",\n",
    "# )\n",
    "# try:\n",
    "#     # check optimizer method\n",
    "#     start_time = time.perf_counter()\n",
    "#     optimal_rank, final_loss = optimize_rank(\n",
    "#         tensor=target_tensor,\n",
    "#         target_compression_ratio=50.0,\n",
    "#         method_max_bound=max(target_tensor.shape),\n",
    "#         tensor_train_args=tensor_train_args,\n",
    "#         initial_rank=target_initial_rank,\n",
    "#         optimization_method=method,\n",
    "#         frobenius_error_coef=frobenius_error_coef,\n",
    "#         compression_ratio_coef=compression_ratio_coef,\n",
    "#     )\n",
    "#     elapsed_time = time.perf_counter() - start_time\n",
    "#\n",
    "#     # check final frobenius error and compression ratio\n",
    "#     tt_factors = tl.decomposition.tensor_train(target_tensor, rank=optimal_rank, **tensor_train_args)\n",
    "#     reconstructed_tensor = tl.tt_to_tensor(tt_factors)\n",
    "#\n",
    "#     frobenius_error = 100.0 * (tl.norm(reconstructed_tensor - target_tensor) / tl.norm(target_tensor)).item()\n",
    "#     compression_ratio = (\n",
    "#         100.0 * IMetricCalculator.get_tensors_size(*tt_factors) / IMetricCalculator.get_tensors_size(target_tensor)\n",
    "#     )\n",
    "#\n",
    "#     print(\n",
    "#         f\"Optimal rank: {optimal_rank}\",\n",
    "#         f\"Elapsed time: {elapsed_time:.6f} seconds\",\n",
    "#         f\"Frobenius Error: {frobenius_error:.6f}%\",\n",
    "#         f\"Compression Ratio: {compression_ratio:.6f}%\",\n",
    "#         sep=\"\\n\",\n",
    "#         end=\"\\n\\n\",\n",
    "#     )\n",
    "# except Exception as e:\n",
    "#     print(f\"Error with method {method}: {e}\")"
   ],
   "outputs": [],
   "execution_count": 260
  },
  {
   "cell_type": "code",
   "id": "bd9288c635449536",
   "metadata": {
    "ExecuteTime": {
     "end_time": "2025-02-03T14:56:36.510563Z",
     "start_time": "2025-02-03T14:56:36.506865Z"
    }
   },
   "source": [],
   "outputs": [],
   "execution_count": null
  }
 ],
 "metadata": {
  "kernelspec": {
   "display_name": "Python 3",
   "language": "python",
   "name": "python3"
  },
  "language_info": {
   "codemirror_mode": {
    "name": "ipython",
    "version": 2
   },
   "file_extension": ".py",
   "mimetype": "text/x-python",
   "name": "python",
   "nbconvert_exporter": "python",
   "pygments_lexer": "ipython2",
   "version": "2.7.6"
  }
 },
 "nbformat": 4,
 "nbformat_minor": 5
}
