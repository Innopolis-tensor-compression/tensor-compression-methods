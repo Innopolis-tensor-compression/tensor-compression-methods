{
 "cells": [
  {
   "cell_type": "markdown",
   "id": "273f4c8655bb5e6a",
   "metadata": {},
   "source": "# Imports"
  },
  {
   "cell_type": "code",
   "execution_count": 21,
   "id": "initial_id",
   "metadata": {
    "ExecuteTime": {
     "end_time": "2025-01-30T14:51:38.532688Z",
     "start_time": "2025-01-30T14:51:38.481875Z"
    },
    "collapsed": true
   },
   "outputs": [
    {
     "name": "stdout",
     "output_type": "stream",
     "text": [
      "The memory_profiler extension is already loaded. To reload it, use:\n",
      "  %reload_ext memory_profiler\n",
      "The autoreload extension is already loaded. To reload it, use:\n",
      "  %reload_ext autoreload\n"
     ]
    },
    {
     "data": {
      "text/plain": [
       "True"
      ]
     },
     "execution_count": 21,
     "metadata": {},
     "output_type": "execute_result"
    }
   ],
   "source": [
    "import sys\n",
    "\n",
    "modules_to_reload = [\n",
    "    \"src.utils.method_loggers\",\n",
    "    \"src.utils.method_runners\",\n",
    "    \"src.utils.metrics_calculators\",\n",
    "    \"src.utils.tensor_handlers\",\n",
    "    \"src.utils.trackers\",\n",
    "    \"src.utils.video_controller\",\n",
    "    \"src.utils.optimal_rank_finders\",\n",
    "]\n",
    "\n",
    "for module in modules_to_reload:\n",
    "    if module in sys.modules:\n",
    "        del sys.modules[module]\n",
    "\n",
    "%load_ext memory_profiler\n",
    "%load_ext autoreload\n",
    "%autoreload 2\n",
    "\n",
    "import gc\n",
    "import os\n",
    "\n",
    "import numpy as np\n",
    "import plotly.graph_objects as go\n",
    "import plotly.io as pio\n",
    "import tensorflow as tf\n",
    "import torch\n",
    "from tqdm import tqdm\n",
    "\n",
    "np.random.seed(42)\n",
    "os.environ[\"OPENBLAS_NUM_THREADS\"] = \"8\"\n",
    "os.environ[\"MKL_NUM_THREADS\"] = \"8\"\n",
    "\n",
    "tf.random.set_seed(42)\n",
    "\n",
    "import time\n",
    "from itertools import product\n",
    "\n",
    "import tensorly as tl\n",
    "from dotenv import load_dotenv\n",
    "from scipy.optimize import minimize\n",
    "\n",
    "from src.utils.image_controller import download_image, extract_image_frames\n",
    "from src.utils.metrics_calculators import IMetricCalculator\n",
    "from src.utils.optimal_rank_finders import (\n",
    "    find_optimal_rank_tensor_train_by_compression_ratio,\n",
    ")\n",
    "\n",
    "load_dotenv()"
   ]
  },
  {
   "cell_type": "markdown",
   "id": "c0b1f5e0c6358294",
   "metadata": {},
   "source": "# get tensor"
  },
  {
   "cell_type": "code",
   "execution_count": 22,
   "id": "809b47fabc3a13ea",
   "metadata": {
    "ExecuteTime": {
     "end_time": "2025-01-30T14:51:38.673404Z",
     "start_time": "2025-01-30T14:51:38.637275Z"
    }
   },
   "outputs": [],
   "source": [
    "cache_dir_image = \"../.cache/image\"\n",
    "\n",
    "image_urls = [\n",
    "    \"https://i.pinimg.com/564x/04/b2/68/04b26838bdd5e2ba54d0144558685bae.jpg\",\n",
    "    # \"https://cdnstatic.rg.ru/crop620x412/uploads/images/187/94/47/iStock-644032024.jpg\",\n",
    "    # \"https://i.sstatic.net/uQggz.png\",\n",
    "]\n",
    "\n",
    "images = {}"
   ]
  },
  {
   "cell_type": "code",
   "execution_count": 23,
   "id": "3e185b08a92c48f7",
   "metadata": {
    "ExecuteTime": {
     "end_time": "2025-01-30T14:51:38.748425Z",
     "start_time": "2025-01-30T14:51:38.704452Z"
    }
   },
   "outputs": [
    {
     "name": "stdout",
     "output_type": "stream",
     "text": [
      "Изображение уже загружено и закешировано: ../.cache/image/04b26838bdd5e2ba54d0144558685bae.jpg\n"
     ]
    }
   ],
   "source": [
    "image_paths = [download_image(image_url, cache_dir_image) for image_url in image_urls]"
   ]
  },
  {
   "cell_type": "code",
   "execution_count": 24,
   "id": "14cda59b88be3d9a",
   "metadata": {
    "ExecuteTime": {
     "end_time": "2025-01-30T14:51:38.841722Z",
     "start_time": "2025-01-30T14:51:38.789400Z"
    }
   },
   "outputs": [
    {
     "name": "stdout",
     "output_type": "stream",
     "text": [
      "iamge-0 - (564, 564, 3)\n"
     ]
    }
   ],
   "source": [
    "for image_index, image_path in enumerate(image_paths):\n",
    "    image_frames = extract_image_frames(image_path)\n",
    "\n",
    "    images[f\"image-{image_index}\"] = {\n",
    "        \"image_url\": image_urls[image_index],\n",
    "        \"image_path\": image_path,\n",
    "        \"frames\": image_frames,\n",
    "    }\n",
    "\n",
    "    print(f\"iamge-{image_index} - {image_frames.shape}\")"
   ]
  },
  {
   "cell_type": "code",
   "execution_count": 25,
   "id": "530cd98318647a93",
   "metadata": {
    "ExecuteTime": {
     "end_time": "2025-01-30T14:51:38.904880Z",
     "start_time": "2025-01-30T14:51:38.868735Z"
    }
   },
   "outputs": [],
   "source": [
    "tensor_train_args = {\"svd\": \"truncated_svd\"}"
   ]
  },
  {
   "cell_type": "code",
   "execution_count": 26,
   "id": "2cff606859a140f",
   "metadata": {
    "ExecuteTime": {
     "end_time": "2025-01-30T14:51:38.975901Z",
     "start_time": "2025-01-30T14:51:38.934052Z"
    }
   },
   "outputs": [],
   "source": [
    "example_tensor = images[\"image-0\"][\"frames\"].copy().astype(np.float32)"
   ]
  },
  {
   "cell_type": "markdown",
   "id": "721e79cc4fff1ab6",
   "metadata": {},
   "source": "# func for calculate bounds for tensor train factors"
  },
  {
   "cell_type": "code",
   "execution_count": 27,
   "id": "8ebf0275c05b969c",
   "metadata": {
    "ExecuteTime": {
     "end_time": "2025-01-30T14:51:39.061648Z",
     "start_time": "2025-01-30T14:51:39.025168Z"
    }
   },
   "outputs": [],
   "source": [
    "def calculate_tt_bounds(shape: tuple | list) -> list:\n",
    "    \"\"\"\n",
    "    Calculates the bounds for TT-ranks of a tensor based on its shape.\n",
    "\n",
    "    Parameters\n",
    "    ----------\n",
    "    shape : tuple or list\n",
    "        List or tuple of tensor dimensions. Each element represents the size of the tensor along that dimension.\n",
    "\n",
    "    Returns\n",
    "    -------\n",
    "    list\n",
    "        List of rank bounds in the format [(1, 1), (1, r1_max), ..., (1, 1)].\n",
    "\n",
    "    \"\"\"\n",
    "    d = len(shape)\n",
    "    bounds = [(1, 1)]\n",
    "\n",
    "    for k in range(1, d):\n",
    "        prod_left = 1\n",
    "        for i in range(k):\n",
    "            prod_left *= shape[i]\n",
    "\n",
    "        prod_right = 1\n",
    "        for j in range(k, d):\n",
    "            prod_right *= shape[j]\n",
    "\n",
    "        rk_max = min(prod_left, prod_right)\n",
    "        bounds.append((1, rk_max))\n",
    "\n",
    "    bounds.append((1, 1))\n",
    "    return bounds"
   ]
  },
  {
   "cell_type": "code",
   "execution_count": 28,
   "id": "6d0b5cd3a375abf4",
   "metadata": {
    "ExecuteTime": {
     "end_time": "2025-01-30T14:51:39.107355Z",
     "start_time": "2025-01-30T14:51:39.068875Z"
    }
   },
   "outputs": [],
   "source": [
    "tt_bounds_example_tensor = calculate_tt_bounds(example_tensor.shape)"
   ]
  },
  {
   "cell_type": "code",
   "execution_count": 29,
   "id": "9a77bfc2805246da",
   "metadata": {
    "ExecuteTime": {
     "end_time": "2025-01-30T14:51:39.182064Z",
     "start_time": "2025-01-30T14:51:39.145480Z"
    }
   },
   "outputs": [
    {
     "data": {
      "text/plain": [
       "(564, 564, 3)"
      ]
     },
     "execution_count": 29,
     "metadata": {},
     "output_type": "execute_result"
    }
   ],
   "source": [
    "example_tensor.shape"
   ]
  },
  {
   "cell_type": "code",
   "execution_count": 30,
   "id": "df3c5c3cd7db5367",
   "metadata": {
    "ExecuteTime": {
     "end_time": "2025-01-30T14:51:39.260401Z",
     "start_time": "2025-01-30T14:51:39.224188Z"
    }
   },
   "outputs": [
    {
     "data": {
      "text/plain": [
       "[(1, 1), (1, 564), (1, 3), (1, 1)]"
      ]
     },
     "execution_count": 30,
     "metadata": {},
     "output_type": "execute_result"
    }
   ],
   "source": [
    "tt_bounds_example_tensor"
   ]
  },
  {
   "cell_type": "markdown",
   "id": "9302d92e5e08cfa7",
   "metadata": {},
   "source": "# func for calculate optimal initial rank of tensor train"
  },
  {
   "cell_type": "code",
   "execution_count": 107,
   "id": "7632d8c7be8d18c0",
   "metadata": {
    "ExecuteTime": {
     "end_time": "2025-01-30T15:24:59.247144Z",
     "start_time": "2025-01-30T15:24:59.211058Z"
    }
   },
   "outputs": [],
   "source": [
    "def calculate_tensor_train_initial_rank(bounds: tuple) -> list[int]:\n",
    "    return [round(max_bound / 2) for min_bound, max_bound in bounds]"
   ]
  },
  {
   "cell_type": "code",
   "execution_count": 108,
   "id": "8863bec8bf98216",
   "metadata": {
    "ExecuteTime": {
     "end_time": "2025-01-30T15:24:59.548828Z",
     "start_time": "2025-01-30T15:24:59.506913Z"
    }
   },
   "outputs": [],
   "source": [
    "example_tensor_initial_rank = calculate_tensor_train_initial_rank(tt_bounds_example_tensor)"
   ]
  },
  {
   "cell_type": "code",
   "execution_count": 109,
   "id": "e6ba1314eba90cac",
   "metadata": {
    "ExecuteTime": {
     "end_time": "2025-01-30T15:24:59.928488Z",
     "start_time": "2025-01-30T15:24:59.883203Z"
    }
   },
   "outputs": [
    {
     "data": {
      "text/plain": [
       "[1, 282, 2, 1]"
      ]
     },
     "execution_count": 109,
     "metadata": {},
     "output_type": "execute_result"
    }
   ],
   "source": [
    "example_tensor_initial_rank"
   ]
  },
  {
   "cell_type": "markdown",
   "id": "f9b105646a8271b9",
   "metadata": {},
   "source": "# calculate metrics for the entire search area for example tensor"
  },
  {
   "cell_type": "code",
   "execution_count": 34,
   "id": "ec8a296b32f0ca6a",
   "metadata": {
    "ExecuteTime": {
     "end_time": "2025-01-30T14:51:39.522920Z",
     "start_time": "2025-01-30T14:51:39.488790Z"
    }
   },
   "outputs": [],
   "source": [
    "target_compression_ratio_for_graphs = 50.0\n",
    "frobenius_error_coef_for_graphs = 1.0\n",
    "compression_ratio_coef_for_graphs = 10.0"
   ]
  },
  {
   "cell_type": "code",
   "execution_count": 35,
   "id": "90e34b4f03f70d64",
   "metadata": {
    "ExecuteTime": {
     "end_time": "2025-01-30T14:51:39.586082Z",
     "start_time": "2025-01-30T14:51:39.550413Z"
    }
   },
   "outputs": [],
   "source": [
    "rank_ranges = [range(bound[0], bound[1] + 1) for bound in tt_bounds_example_tensor]"
   ]
  },
  {
   "cell_type": "code",
   "execution_count": 36,
   "id": "62bf6e0aae109a51",
   "metadata": {
    "ExecuteTime": {
     "end_time": "2025-01-30T14:58:14.929436Z",
     "start_time": "2025-01-30T14:51:39.613985Z"
    }
   },
   "outputs": [
    {
     "name": "stderr",
     "output_type": "stream",
     "text": [
      "Processing Ranks: 100%|██████████| 1692/1692 [06:35<00:00,  4.28it/s]\n"
     ]
    }
   ],
   "source": [
    "search_area_example_results = {}\n",
    "\n",
    "for rank_combination in tqdm(\n",
    "    product(*rank_ranges), total=np.prod([len(r) for r in rank_ranges]), desc=\"Processing Ranks\"\n",
    "):\n",
    "    test_rank = list(rank_combination)\n",
    "    internal_indices = test_rank[1:-1]\n",
    "\n",
    "    try:\n",
    "        with tl.backend_context(\"pytorch\"):\n",
    "            example_tensor_cuda = tl.tensor(example_tensor).to(\"cuda\")\n",
    "            method_result = tl.decomposition.tensor_train(example_tensor_cuda, rank=test_rank, **tensor_train_args)\n",
    "            tt_factors = method_result\n",
    "            reconstructed_tensor = tl.tt_to_tensor(tt_factors)\n",
    "\n",
    "            frobenius_error = (\n",
    "                tl.norm(reconstructed_tensor - example_tensor_cuda) / tl.norm(example_tensor_cuda)\n",
    "            ).item()\n",
    "            compression_ratio = IMetricCalculator.get_tensors_size(*tt_factors) / IMetricCalculator.get_tensors_size(\n",
    "                example_tensor_cuda\n",
    "            )\n",
    "            compression_penalty = (target_compression_ratio_for_graphs / 100 - compression_ratio) ** 2\n",
    "            loss_function_result = (\n",
    "                frobenius_error_coef_for_graphs * frobenius_error\n",
    "                + compression_ratio_coef_for_graphs * compression_penalty\n",
    "            )\n",
    "\n",
    "            search_area_example_results[tuple(internal_indices)] = {\n",
    "                \"rank\": test_rank,\n",
    "                \"frobenius_error\": frobenius_error,\n",
    "                \"compression_ratio\": compression_ratio,\n",
    "                \"compression_penalty\": compression_penalty,\n",
    "                \"loss_function_result\": loss_function_result,\n",
    "            }\n",
    "\n",
    "            del tt_factors, reconstructed_tensor\n",
    "    except Exception as e:\n",
    "        search_area_example_results[tuple(internal_indices)] = {\"rank\": test_rank, \"error\": str(e)}\n",
    "    finally:\n",
    "        torch.cuda.empty_cache()\n",
    "        gc.collect()"
   ]
  },
  {
   "cell_type": "markdown",
   "id": "ccc816b81f0045d1",
   "metadata": {},
   "source": "# Optimization algs test"
  },
  {
   "cell_type": "markdown",
   "id": "ac23775b52c71d70",
   "metadata": {},
   "source": "## optimize with custom algorithm"
  },
  {
   "cell_type": "code",
   "execution_count": 138,
   "id": "d2ef17fad4428646",
   "metadata": {
    "ExecuteTime": {
     "end_time": "2025-01-30T15:58:20.455808Z",
     "start_time": "2025-01-30T15:57:17.394866Z"
    }
   },
   "outputs": [
    {
     "name": "stdout",
     "output_type": "stream",
     "text": [
      "Optimal rank search process for TensorTrain:\n",
      "step | rank | compression ratio (%) | frobenius error (%)\n",
      "1 | [1, 2, 1, 1] | 0.236721 % | 22.747736 %\n",
      "2 | [1, 2, 2, 1] | 0.355239 % | 19.237901 %\n",
      "3 | [1, 3, 2, 1] | 0.532544 % | 15.444270 %\n",
      "4 | [1, 4, 2, 1] | 0.709849 % | 12.865447 %\n",
      "5 | [1, 5, 2, 1] | 0.887154 % | 11.241703 %\n",
      "6 | [1, 6, 2, 1] | 1.064459 % | 9.935276 %\n",
      "7 | [1, 7, 2, 1] | 1.241763 % | 9.348312 %\n",
      "8 | [1, 8, 2, 1] | 1.419068 % | 8.872970 %\n",
      "9 | [1, 9, 2, 1] | 1.596373 % | 8.454144 %\n",
      "10 | [1, 10, 2, 1] | 1.773678 % | 8.136910 %\n",
      "11 | [1, 11, 2, 1] | 1.950983 % | 7.804918 %\n",
      "12 | [1, 12, 2, 1] | 2.128288 % | 7.554773 %\n",
      "13 | [1, 13, 2, 1] | 2.305593 % | 7.316292 %\n",
      "14 | [1, 13, 3, 1] | 3.074229 % | 7.092544 %\n",
      "15 | [1, 14, 3, 1] | 3.310636 % | 6.882996 %\n",
      "16 | [1, 15, 3, 1] | 3.547042 % | 6.697510 %\n",
      "17 | [1, 16, 3, 1] | 3.783449 % | 6.526667 %\n",
      "18 | [1, 17, 3, 1] | 4.019856 % | 6.368013 %\n",
      "19 | [1, 18, 3, 1] | 4.256262 % | 6.219484 %\n",
      "20 | [1, 19, 3, 1] | 4.492669 % | 6.086923 %\n",
      "21 | [1, 20, 3, 1] | 4.729075 % | 5.962847 %\n",
      "22 | [1, 21, 3, 1] | 4.965482 % | 5.854254 %\n",
      "23 | [1, 22, 3, 1] | 5.201889 % | 5.757741 %\n",
      "24 | [1, 23, 3, 1] | 5.438295 % | 5.665830 %\n",
      "25 | [1, 24, 3, 1] | 5.674702 % | 5.578881 %\n",
      "26 | [1, 25, 3, 1] | 5.911109 % | 5.498346 %\n",
      "27 | [1, 26, 3, 1] | 6.147515 % | 5.418858 %\n",
      "28 | [1, 27, 3, 1] | 6.383922 % | 5.340550 %\n",
      "29 | [1, 28, 3, 1] | 6.620328 % | 5.263821 %\n",
      "30 | [1, 29, 3, 1] | 6.856735 % | 5.193681 %\n",
      "31 | [1, 30, 3, 1] | 7.093142 % | 5.128356 %\n",
      "32 | [1, 31, 3, 1] | 7.329548 % | 5.066708 %\n",
      "33 | [1, 32, 3, 1] | 7.565955 % | 5.007410 %\n",
      "34 | [1, 33, 3, 1] | 7.802362 % | 4.949088 %\n",
      "35 | [1, 34, 3, 1] | 8.038768 % | 4.892294 %\n",
      "36 | [1, 35, 3, 1] | 8.275175 % | 4.836930 %\n",
      "37 | [1, 36, 3, 1] | 8.511581 % | 4.782590 %\n",
      "38 | [1, 37, 3, 1] | 8.747988 % | 4.729387 %\n",
      "39 | [1, 38, 3, 1] | 8.984395 % | 4.678412 %\n",
      "40 | [1, 39, 3, 1] | 9.220801 % | 4.628931 %\n",
      "41 | [1, 40, 3, 1] | 9.457208 % | 4.581610 %\n",
      "42 | [1, 41, 3, 1] | 9.693615 % | 4.534112 %\n",
      "43 | [1, 42, 3, 1] | 9.930021 % | 4.487386 %\n",
      "44 | [1, 43, 3, 1] | 10.166428 % | 4.440810 %\n",
      "45 | [1, 44, 3, 1] | 10.402834 % | 4.395419 %\n",
      "46 | [1, 45, 3, 1] | 10.639241 % | 4.350758 %\n",
      "47 | [1, 46, 3, 1] | 10.875648 % | 4.307636 %\n",
      "48 | [1, 47, 3, 1] | 11.112054 % | 4.264336 %\n",
      "49 | [1, 48, 3, 1] | 11.348461 % | 4.222283 %\n",
      "50 | [1, 49, 3, 1] | 11.584867 % | 4.180527 %\n",
      "51 | [1, 50, 3, 1] | 11.821274 % | 4.139886 %\n",
      "52 | [1, 51, 3, 1] | 12.057681 % | 4.099829 %\n",
      "53 | [1, 52, 3, 1] | 12.294087 % | 4.059891 %\n",
      "54 | [1, 53, 3, 1] | 12.530494 % | 4.020786 %\n",
      "55 | [1, 54, 3, 1] | 12.766901 % | 3.983251 %\n",
      "56 | [1, 55, 3, 1] | 13.003307 % | 3.945974 %\n",
      "57 | [1, 56, 3, 1] | 13.239714 % | 3.908707 %\n",
      "58 | [1, 57, 3, 1] | 13.476120 % | 3.871329 %\n",
      "59 | [1, 58, 3, 1] | 13.712527 % | 3.835641 %\n",
      "60 | [1, 59, 3, 1] | 13.948934 % | 3.801167 %\n",
      "61 | [1, 60, 3, 1] | 14.185340 % | 3.766710 %\n",
      "62 | [1, 61, 3, 1] | 14.421747 % | 3.732883 %\n",
      "63 | [1, 62, 3, 1] | 14.658154 % | 3.698935 %\n",
      "64 | [1, 63, 3, 1] | 14.894560 % | 3.665354 %\n",
      "65 | [1, 64, 3, 1] | 15.130967 % | 3.632220 %\n",
      "66 | [1, 65, 3, 1] | 15.367373 % | 3.599505 %\n",
      "67 | [1, 66, 3, 1] | 15.603780 % | 3.566965 %\n",
      "68 | [1, 67, 3, 1] | 15.840187 % | 3.534691 %\n",
      "69 | [1, 68, 3, 1] | 16.076593 % | 3.502476 %\n",
      "70 | [1, 69, 3, 1] | 16.313000 % | 3.470368 %\n",
      "71 | [1, 70, 3, 1] | 16.549406 % | 3.438357 %\n",
      "72 | [1, 71, 3, 1] | 16.785813 % | 3.406416 %\n",
      "73 | [1, 72, 3, 1] | 17.022220 % | 3.375202 %\n",
      "74 | [1, 73, 3, 1] | 17.258626 % | 3.344018 %\n",
      "75 | [1, 74, 3, 1] | 17.495033 % | 3.313259 %\n",
      "76 | [1, 75, 3, 1] | 17.731440 % | 3.282785 %\n",
      "77 | [1, 76, 3, 1] | 17.967846 % | 3.252695 %\n",
      "78 | [1, 77, 3, 1] | 18.204253 % | 3.222605 %\n",
      "79 | [1, 78, 3, 1] | 18.440659 % | 3.193513 %\n",
      "80 | [1, 79, 3, 1] | 18.677066 % | 3.164606 %\n",
      "81 | [1, 80, 3, 1] | 18.913473 % | 3.135802 %\n",
      "82 | [1, 81, 3, 1] | 19.149879 % | 3.106886 %\n",
      "83 | [1, 82, 3, 1] | 19.386286 % | 3.077947 %\n",
      "84 | [1, 83, 3, 1] | 19.622693 % | 3.049133 %\n",
      "85 | [1, 84, 3, 1] | 19.859099 % | 3.020445 %\n",
      "86 | [1, 85, 3, 1] | 20.095506 % | 2.992544 %\n",
      "87 | [1, 86, 3, 1] | 20.331912 % | 2.964550 %\n",
      "88 | [1, 87, 3, 1] | 20.568319 % | 2.937503 %\n",
      "89 | [1, 88, 3, 1] | 20.804726 % | 2.910515 %\n",
      "90 | [1, 89, 3, 1] | 21.041132 % | 2.883890 %\n",
      "91 | [1, 90, 3, 1] | 21.277539 % | 2.857371 %\n",
      "92 | [1, 91, 3, 1] | 21.513945 % | 2.831667 %\n",
      "93 | [1, 92, 3, 1] | 21.750352 % | 2.806263 %\n",
      "94 | [1, 93, 3, 1] | 21.986759 % | 2.781211 %\n",
      "95 | [1, 94, 3, 1] | 22.223165 % | 2.756270 %\n",
      "96 | [1, 95, 3, 1] | 22.459572 % | 2.731436 %\n",
      "97 | [1, 96, 3, 1] | 22.695979 % | 2.706743 %\n",
      "98 | [1, 97, 3, 1] | 22.932385 % | 2.681950 %\n",
      "99 | [1, 98, 3, 1] | 23.168792 % | 2.657675 %\n",
      "100 | [1, 99, 3, 1] | 23.405198 % | 2.633336 %\n",
      "101 | [1, 100, 3, 1] | 23.641605 % | 2.609273 %\n",
      "102 | [1, 101, 3, 1] | 23.878012 % | 2.585259 %\n",
      "103 | [1, 102, 3, 1] | 24.114418 % | 2.561382 %\n",
      "104 | [1, 103, 3, 1] | 24.350825 % | 2.537682 %\n",
      "105 | [1, 104, 3, 1] | 24.587232 % | 2.514564 %\n",
      "106 | [1, 105, 3, 1] | 24.823638 % | 2.491569 %\n",
      "107 | [1, 106, 3, 1] | 25.060045 % | 2.468972 %\n",
      "108 | [1, 107, 3, 1] | 25.296451 % | 2.446415 %\n",
      "109 | [1, 108, 3, 1] | 25.532858 % | 2.423976 %\n",
      "110 | [1, 109, 3, 1] | 25.769265 % | 2.401829 %\n",
      "111 | [1, 110, 3, 1] | 26.005671 % | 2.379549 %\n",
      "112 | [1, 111, 3, 1] | 26.242078 % | 2.357666 %\n",
      "113 | [1, 112, 3, 1] | 26.478484 % | 2.336278 %\n",
      "114 | [1, 113, 3, 1] | 26.714891 % | 2.315132 %\n",
      "115 | [1, 114, 3, 1] | 26.951298 % | 2.294185 %\n",
      "116 | [1, 115, 3, 1] | 27.187704 % | 2.273420 %\n",
      "117 | [1, 116, 3, 1] | 27.424111 % | 2.253040 %\n",
      "118 | [1, 117, 3, 1] | 27.660518 % | 2.232634 %\n",
      "119 | [1, 118, 3, 1] | 27.896924 % | 2.212378 %\n",
      "120 | [1, 119, 3, 1] | 28.133331 % | 2.192290 %\n",
      "121 | [1, 120, 3, 1] | 28.369737 % | 2.172234 %\n",
      "122 | [1, 121, 3, 1] | 28.606144 % | 2.152595 %\n",
      "123 | [1, 122, 3, 1] | 28.842551 % | 2.133006 %\n",
      "124 | [1, 123, 3, 1] | 29.078957 % | 2.113667 %\n",
      "125 | [1, 124, 3, 1] | 29.315364 % | 2.094530 %\n",
      "126 | [1, 125, 3, 1] | 29.551771 % | 2.075466 %\n",
      "127 | [1, 126, 3, 1] | 29.788177 % | 2.056860 %\n",
      "128 | [1, 127, 3, 1] | 30.024584 % | 2.038109 %\n",
      "129 | [1, 128, 3, 1] | 30.260990 % | 2.019228 %\n",
      "130 | [1, 129, 3, 1] | 30.497397 % | 2.000598 %\n",
      "131 | [1, 130, 3, 1] | 30.733804 % | 1.982317 %\n",
      "132 | [1, 131, 3, 1] | 30.970210 % | 1.964249 %\n",
      "133 | [1, 132, 3, 1] | 31.206617 % | 1.946238 %\n",
      "134 | [1, 133, 3, 1] | 31.443023 % | 1.928573 %\n",
      "135 | [1, 134, 3, 1] | 31.679430 % | 1.910972 %\n",
      "136 | [1, 135, 3, 1] | 31.915837 % | 1.893623 %\n",
      "137 | [1, 136, 3, 1] | 32.152243 % | 1.876468 %\n",
      "138 | [1, 137, 3, 1] | 32.388650 % | 1.859403 %\n",
      "139 | [1, 138, 3, 1] | 32.625057 % | 1.842381 %\n",
      "140 | [1, 139, 3, 1] | 32.861463 % | 1.825576 %\n",
      "141 | [1, 140, 3, 1] | 33.097870 % | 1.808794 %\n",
      "142 | [1, 141, 3, 1] | 33.334276 % | 1.792313 %\n",
      "143 | [1, 142, 3, 1] | 33.570683 % | 1.775810 %\n",
      "144 | [1, 143, 3, 1] | 33.807090 % | 1.759313 %\n",
      "145 | [1, 144, 3, 1] | 34.043496 % | 1.742863 %\n",
      "146 | [1, 145, 3, 1] | 34.279903 % | 1.726685 %\n",
      "147 | [1, 146, 3, 1] | 34.516310 % | 1.710595 %\n",
      "148 | [1, 147, 3, 1] | 34.752716 % | 1.694542 %\n",
      "149 | [1, 148, 3, 1] | 34.989123 % | 1.678698 %\n",
      "150 | [1, 149, 3, 1] | 35.225529 % | 1.663112 %\n",
      "151 | [1, 150, 3, 1] | 35.461936 % | 1.647798 %\n",
      "152 | [1, 151, 3, 1] | 35.698343 % | 1.632506 %\n",
      "153 | [1, 152, 3, 1] | 35.934749 % | 1.617283 %\n",
      "154 | [1, 153, 3, 1] | 36.171156 % | 1.602119 %\n",
      "155 | [1, 154, 3, 1] | 36.407562 % | 1.586968 %\n",
      "156 | [1, 155, 3, 1] | 36.643969 % | 1.572134 %\n",
      "157 | [1, 156, 3, 1] | 36.880376 % | 1.557371 %\n",
      "158 | [1, 157, 3, 1] | 37.116782 % | 1.542820 %\n",
      "159 | [1, 158, 3, 1] | 37.353189 % | 1.528389 %\n",
      "160 | [1, 159, 3, 1] | 37.589596 % | 1.513965 %\n",
      "161 | [1, 160, 3, 1] | 37.826002 % | 1.499566 %\n",
      "162 | [1, 161, 3, 1] | 38.062409 % | 1.485373 %\n",
      "163 | [1, 162, 3, 1] | 38.298815 % | 1.471258 %\n",
      "164 | [1, 163, 3, 1] | 38.535222 % | 1.457203 %\n",
      "165 | [1, 164, 3, 1] | 38.771629 % | 1.443372 %\n",
      "166 | [1, 165, 3, 1] | 39.008035 % | 1.429493 %\n",
      "167 | [1, 166, 3, 1] | 39.244442 % | 1.415910 %\n",
      "168 | [1, 167, 3, 1] | 39.480849 % | 1.402587 %\n",
      "169 | [1, 168, 3, 1] | 39.717255 % | 1.389195 %\n",
      "170 | [1, 169, 3, 1] | 39.953662 % | 1.375768 %\n",
      "171 | [1, 170, 3, 1] | 40.190068 % | 1.362429 %\n",
      "172 | [1, 171, 3, 1] | 40.426475 % | 1.349226 %\n",
      "173 | [1, 172, 3, 1] | 40.662882 % | 1.336143 %\n",
      "174 | [1, 173, 3, 1] | 40.899288 % | 1.323020 %\n",
      "175 | [1, 174, 3, 1] | 41.135695 % | 1.310470 %\n",
      "176 | [1, 175, 3, 1] | 41.372102 % | 1.298042 %\n",
      "177 | [1, 176, 3, 1] | 41.608508 % | 1.285600 %\n",
      "178 | [1, 177, 3, 1] | 41.844915 % | 1.273299 %\n",
      "179 | [1, 178, 3, 1] | 42.081321 % | 1.260965 %\n",
      "180 | [1, 179, 3, 1] | 42.317728 % | 1.248753 %\n",
      "181 | [1, 180, 3, 1] | 42.554135 % | 1.236511 %\n",
      "182 | [1, 181, 3, 1] | 42.790541 % | 1.224495 %\n",
      "183 | [1, 182, 3, 1] | 43.026948 % | 1.212492 %\n",
      "184 | [1, 183, 3, 1] | 43.263354 % | 1.200502 %\n",
      "185 | [1, 184, 3, 1] | 43.499761 % | 1.188849 %\n",
      "186 | [1, 185, 3, 1] | 43.736168 % | 1.177194 %\n",
      "187 | [1, 186, 3, 1] | 43.972574 % | 1.165556 %\n",
      "188 | [1, 187, 3, 1] | 44.208981 % | 1.153887 %\n",
      "189 | [1, 188, 3, 1] | 44.445388 % | 1.142438 %\n",
      "190 | [1, 189, 3, 1] | 44.681794 % | 1.130899 %\n",
      "191 | [1, 190, 3, 1] | 44.918201 % | 1.119726 %\n",
      "192 | [1, 191, 3, 1] | 45.154607 % | 1.108554 %\n",
      "193 | [1, 192, 3, 1] | 45.391014 % | 1.097420 %\n",
      "194 | [1, 193, 3, 1] | 45.627421 % | 1.086402 %\n",
      "195 | [1, 194, 3, 1] | 45.863827 % | 1.075462 %\n",
      "196 | [1, 195, 3, 1] | 46.100234 % | 1.064673 %\n",
      "197 | [1, 196, 3, 1] | 46.336641 % | 1.054027 %\n",
      "198 | [1, 197, 3, 1] | 46.573047 % | 1.043398 %\n",
      "199 | [1, 198, 3, 1] | 46.809454 % | 1.032840 %\n",
      "200 | [1, 199, 3, 1] | 47.045860 % | 1.022447 %\n",
      "201 | [1, 200, 3, 1] | 47.282267 % | 1.012052 %\n",
      "202 | [1, 201, 3, 1] | 47.518674 % | 1.001734 %\n",
      "203 | [1, 202, 3, 1] | 47.755080 % | 0.991437 %\n",
      "204 | [1, 203, 3, 1] | 47.991487 % | 0.981268 %\n",
      "205 | [1, 204, 3, 1] | 48.227893 % | 0.971142 %\n",
      "206 | [1, 205, 3, 1] | 48.464300 % | 0.961249 %\n",
      "207 | [1, 206, 3, 1] | 48.700707 % | 0.951293 %\n",
      "208 | [1, 207, 3, 1] | 48.937113 % | 0.941385 %\n",
      "209 | [1, 208, 3, 1] | 49.173520 % | 0.931477 %\n",
      "210 | [1, 209, 3, 1] | 49.409927 % | 0.921773 %\n",
      "211 | [1, 210, 3, 1] | 49.646333 % | 0.912099 %\n",
      "212 | [1, 211, 3, 1] | 49.882740 % | 0.902451 %\n",
      "213 | [1, 212, 3, 1] | 50.119146 % | 0.893109 %\n",
      "Target compression ratio reached. Stopping search.\n",
      "Optimal rank: [1, 212, 3, 1], Compression: 50.119146421206175%, Error: 0.893108919262886%\n"
     ]
    }
   ],
   "source": [
    "start_time = time.perf_counter()\n",
    "best_rank, compression_ratio, frobenius_error, find_rank_logs = find_optimal_rank_tensor_train_by_compression_ratio(\n",
    "    tensor=example_tensor,\n",
    "    target_compression_ratio=50.0,\n",
    "    tensor_train_args=tensor_train_args,\n",
    "    search_strategy=\"custom\",\n",
    ")\n",
    "elapsed_time = time.perf_counter() - start_time"
   ]
  },
  {
   "cell_type": "code",
   "execution_count": 139,
   "id": "34e1a0bb37026ebf",
   "metadata": {
    "ExecuteTime": {
     "end_time": "2025-01-30T15:58:20.530586Z",
     "start_time": "2025-01-30T15:58:20.485764Z"
    }
   },
   "outputs": [
    {
     "name": "stdout",
     "output_type": "stream",
     "text": [
      "Tensor shape = [564, 564, 3]\n",
      "Best Rank = [1, 212, 3, 1]\n",
      "Frobenius Error = 0.893109%\n",
      "Compression Ratio = 50.119146%\n",
      "Elapsed Time = 63.022034 seconds\n"
     ]
    }
   ],
   "source": [
    "print(\n",
    "    f\"Tensor shape = {list(example_tensor.shape)}\",\n",
    "    f\"Best Rank = {best_rank}\",\n",
    "    f\"Frobenius Error = {frobenius_error:.6f}%\",\n",
    "    f\"Compression Ratio = {compression_ratio:.6f}%\",\n",
    "    f\"Elapsed Time = {elapsed_time:.6f} seconds\",\n",
    "    sep=\"\\n\",\n",
    ")\n",
    "\n",
    "# Tensor shape = [564, 564, 3]\n",
    "# Best Rank = [1, 212, 3, 1]\n",
    "# Frobenius Error = 0.893109%\n",
    "# Compression Ratio = 50.119146%\n",
    "# Elapsed Time = 55.487687 seconds"
   ]
  },
  {
   "cell_type": "markdown",
   "id": "216f70918e1c8a88",
   "metadata": {},
   "source": "## scipy algs"
  },
  {
   "cell_type": "markdown",
   "id": "f9427aa76a63cf25",
   "metadata": {},
   "source": "### Funcs for check scipy algs"
  },
  {
   "cell_type": "code",
   "execution_count": 157,
   "id": "5fb46639b1953452",
   "metadata": {
    "ExecuteTime": {
     "end_time": "2025-01-30T16:25:41.707619Z",
     "start_time": "2025-01-30T16:25:41.662503Z"
    }
   },
   "outputs": [],
   "source": [
    "def loss_function(\n",
    "    rank: list,\n",
    "    tensor: np.ndarray,\n",
    "    target_compression_ratio: float,\n",
    "    tensor_train_args: dict[str, str],\n",
    "    frobenius_error_coef: float = 1.0,\n",
    "    compression_ratio_coef: float = 10.0,\n",
    "):\n",
    "    try:\n",
    "        tt_factors = tl.decomposition.tensor_train(tensor, rank=rank, **tensor_train_args)\n",
    "        reconstructed_tensor = tl.tt_to_tensor(tt_factors)\n",
    "\n",
    "        frobenius_error = (tl.norm(reconstructed_tensor - tensor) / tl.norm(tensor)).item()\n",
    "        compression_ratio = IMetricCalculator.get_tensors_size(*tt_factors) / IMetricCalculator.get_tensors_size(tensor)\n",
    "\n",
    "        target_compression_ratio /= 100\n",
    "\n",
    "        compression_penalty = (target_compression_ratio - compression_ratio) ** 2\n",
    "\n",
    "        # compression_penalty = target_compression_ratio - compression_ratio\n",
    "        #\n",
    "        # if compression_ratio > 1.0 or compression_ratio < 0.0 or compression_penalty < 0.0 or compression_penalty > 1.0:\n",
    "        #     compression_penalty = float(\"inf\")\n",
    "\n",
    "        return frobenius_error_coef * frobenius_error + compression_ratio_coef * compression_penalty\n",
    "\n",
    "    except Exception:\n",
    "        return float(\"inf\")"
   ]
  },
  {
   "cell_type": "code",
   "execution_count": 162,
   "id": "4c83578ff8fa7ab7",
   "metadata": {
    "ExecuteTime": {
     "end_time": "2025-01-30T16:26:58.561070Z",
     "start_time": "2025-01-30T16:26:58.506689Z"
    }
   },
   "outputs": [],
   "source": [
    "def optimize_rank(\n",
    "    tensor: np.ndarray,\n",
    "    target_compression_ratio: float,\n",
    "    tensor_train_args: dict[str, str],\n",
    "    initial_rank: list[int],\n",
    "    frobenius_error_coef: float = 1.0,\n",
    "    compression_ratio_coef: float = 2.0,\n",
    "    optimization_method: str = \"nelder-mead\",\n",
    "    jac: str | None = None,\n",
    "    hess: str | None = None,\n",
    "):\n",
    "    def loss_wrapper(free_rank: list):\n",
    "        full_rank = [1] + list(np.clip(np.round(free_rank).astype(int), 1, None)) + [1]  # noqa: RUF005\n",
    "        return loss_function(\n",
    "            rank=full_rank,\n",
    "            tensor=tensor,\n",
    "            target_compression_ratio=target_compression_ratio,\n",
    "            tensor_train_args=tensor_train_args,\n",
    "            frobenius_error_coef=frobenius_error_coef,\n",
    "            compression_ratio_coef=compression_ratio_coef,\n",
    "        )\n",
    "\n",
    "    def calculate_tt_bounds(tensor_shape: tuple | list) -> list:\n",
    "        \"\"\"\n",
    "        Calculates the bounds for TT-ranks of a tensor based on its shape.\n",
    "\n",
    "        Parameters\n",
    "        ----------\n",
    "        tensor_shape : tuple or list\n",
    "            List or tuple of tensor dimensions. Each element represents the size of the tensor along that dimension.\n",
    "\n",
    "        Returns\n",
    "        -------\n",
    "        list\n",
    "            List of rank bounds in the format [(1, 1), (1, r1_max), ..., (1, 1)].\n",
    "\n",
    "        \"\"\"\n",
    "        d = len(tensor_shape)\n",
    "        bounds = [(1, 1)]\n",
    "\n",
    "        for k in range(1, d):\n",
    "            prod_left = 1\n",
    "            for i in range(k):\n",
    "                prod_left *= tensor_shape[i]\n",
    "\n",
    "            prod_right = 1\n",
    "            for j in range(k, d):\n",
    "                prod_right *= tensor_shape[j]\n",
    "\n",
    "            rk_max = min(prod_left, prod_right)\n",
    "            bounds.append((1, rk_max))\n",
    "\n",
    "        bounds.append((1, 1))\n",
    "        return bounds\n",
    "\n",
    "    class OptimizationLogger:\n",
    "        def __init__(self):\n",
    "            self.logs = []\n",
    "            self.current_iteration = -1\n",
    "\n",
    "        def callback(self, xk):\n",
    "            self.current_iteration += 1\n",
    "            rank = [1] + list(np.round(xk).astype(int)) + [1] # noqa: RUF005\n",
    "            self.logs.append(\n",
    "                {\n",
    "                    \"step\": self.current_iteration,\n",
    "                    \"rank\": rank,\n",
    "                    \"loss_evals\": [],\n",
    "                    \"raw_xk\": xk,\n",
    "                }\n",
    "            )\n",
    "            print(f\"\\n=== Iteration {self.current_iteration} complete ===\", f\"New rank estimate: {rank}\\n\", sep=\"\\n\")\n",
    "\n",
    "    optimization_logger = OptimizationLogger()\n",
    "\n",
    "    free_rank = initial_rank[1:-1]\n",
    "\n",
    "    # params\n",
    "    is_bounds_variable_usable = [\n",
    "        \"nelder-mead\",\n",
    "        \"l-bfgs-b\",\n",
    "        \"tnc\",\n",
    "        \"slsqp\",\n",
    "        \"powell\",\n",
    "        \"trust-constr\",\n",
    "        \"cobyla\",\n",
    "        \"cobyqa\",\n",
    "    ]\n",
    "\n",
    "    is_adaptive_variable_usable = [\"nelder-mead\"]\n",
    "\n",
    "    is_jac_variable_usable = [\n",
    "        \"cg\",\n",
    "        \"bfgs\",\n",
    "        \"newton-cg\",\n",
    "        \"l-bfgs-b\",\n",
    "        \"tnc\",\n",
    "        \"slsqp\",\n",
    "        \"trust-ncg\",\n",
    "        \"trust-krylov\",\n",
    "        \"trust-exact\",\n",
    "        \"trust-constr\",\n",
    "    ]\n",
    "\n",
    "    is_hess_variable_usable = [\"newton-cg\", \"dogleg\", \"trust-ncg\", \"trust-krylov\", \"trust-exact\", \" trust-constr\"]\n",
    "\n",
    "    is_callback_variable_not_usable = [\"tnc\", \"slsqp\", \"cobyla\"]\n",
    "\n",
    "    free_bounds = calculate_tt_bounds(tensor.shape)[1:-1] if optimization_method in is_bounds_variable_usable else None\n",
    "\n",
    "    callback_param = (\n",
    "        optimization_logger.callback if optimization_method not in is_callback_variable_not_usable else None\n",
    "    )\n",
    "\n",
    "    adaptive = optimization_method.lower() in is_adaptive_variable_usable\n",
    "\n",
    "    jac = jac if optimization_method.lower() in is_jac_variable_usable else None\n",
    "\n",
    "    hess = hess if optimization_method.lower() in is_hess_variable_usable else None\n",
    "\n",
    "    minimize_kwargs = {\n",
    "        \"fun\": loss_wrapper,\n",
    "        \"x0\": free_rank,\n",
    "        \"method\": optimization_method,\n",
    "        \"jac\": jac,\n",
    "        \"hess\": hess,\n",
    "        \"bounds\": free_bounds,\n",
    "        \"callback\": callback_param,\n",
    "        \"options\": {\n",
    "            \"disp\": True,\n",
    "            # \"maxiter\": 1000,\n",
    "        },\n",
    "    }\n",
    "\n",
    "    if adaptive:\n",
    "        minimize_kwargs[\"options\"][\"adaptive\"] = adaptive\n",
    "\n",
    "    if jac:\n",
    "        minimize_kwargs[\"jac\"] = jac\n",
    "\n",
    "    if hess:\n",
    "        minimize_kwargs[\"hess\"] = hess\n",
    "\n",
    "    # params\n",
    "\n",
    "    result = minimize(**minimize_kwargs)\n",
    "\n",
    "    optimal_rank = [1] + list(np.clip(np.round(result.x).astype(int), 1, None)) + [1]  # noqa: RUF005\n",
    "    final_loss = result.fun\n",
    "\n",
    "    return optimal_rank, final_loss, result, optimization_logger.logs"
   ]
  },
  {
   "cell_type": "markdown",
   "id": "c5e8778bf1c8039e",
   "metadata": {},
   "source": "### args for algs"
  },
  {
   "cell_type": "code",
   "execution_count": 163,
   "id": "ff2f1a80323dce02",
   "metadata": {
    "ExecuteTime": {
     "end_time": "2025-01-30T16:27:00.530219Z",
     "start_time": "2025-01-30T16:27:00.490288Z"
    }
   },
   "outputs": [
    {
     "data": {
      "text/plain": [
       "[1, 282, 2, 1]"
      ]
     },
     "execution_count": 163,
     "metadata": {},
     "output_type": "execute_result"
    }
   ],
   "source": [
    "example_tensor_initial_rank"
   ]
  },
  {
   "cell_type": "markdown",
   "id": "8a1d3afa3b42f0dc",
   "metadata": {},
   "source": "### check algs"
  },
  {
   "cell_type": "markdown",
   "id": "507524217c8835c5",
   "metadata": {},
   "source": "https://docs.scipy.org/doc/scipy-1.15.0/tutorial/optimize.html#"
  },
  {
   "cell_type": "markdown",
   "id": "8d94cd9ca1f2b93d",
   "metadata": {},
   "source": "#### nelder-mead"
  },
  {
   "cell_type": "code",
   "execution_count": 164,
   "id": "d5102823305656d0",
   "metadata": {
    "ExecuteTime": {
     "end_time": "2025-01-30T16:27:02.993041Z",
     "start_time": "2025-01-30T16:27:02.954452Z"
    }
   },
   "outputs": [],
   "source": [
    "method = \"nelder-mead\"\n",
    "frobenius_error_coef = 1.0\n",
    "compression_ratio_coef = 10.0"
   ]
  },
  {
   "cell_type": "code",
   "execution_count": 165,
   "id": "1380a61aaa1e4fe3",
   "metadata": {
    "ExecuteTime": {
     "end_time": "2025-01-30T16:28:15.055753Z",
     "start_time": "2025-01-30T16:27:03.556319Z"
    }
   },
   "outputs": [
    {
     "name": "stdout",
     "output_type": "stream",
     "text": [
      "Testing optimization method: nelder-mead\n",
      "Tensor shape: (564, 564, 3)\n",
      "Initial rank: [1, 282, 2, 1]\n",
      "\n",
      "=== Iteration 0 complete ===\n",
      "New rank estimate: [1, 282, 2, 1]\n",
      "\n",
      "\n",
      "=== Iteration 1 complete ===\n",
      "New rank estimate: [1, 282, 2, 1]\n",
      "\n",
      "\n",
      "=== Iteration 2 complete ===\n",
      "New rank estimate: [1, 282, 2, 1]\n",
      "\n",
      "\n",
      "=== Iteration 3 complete ===\n",
      "New rank estimate: [1, 282, 2, 1]\n",
      "\n",
      "\n",
      "=== Iteration 4 complete ===\n",
      "New rank estimate: [1, 282, 2, 1]\n",
      "\n",
      "\n",
      "=== Iteration 5 complete ===\n",
      "New rank estimate: [1, 282, 2, 1]\n",
      "\n",
      "\n",
      "=== Iteration 6 complete ===\n",
      "New rank estimate: [1, 282, 2, 1]\n",
      "\n",
      "\n",
      "=== Iteration 7 complete ===\n",
      "New rank estimate: [1, 282, 2, 1]\n",
      "\n",
      "\n",
      "=== Iteration 8 complete ===\n",
      "New rank estimate: [1, 282, 2, 1]\n",
      "\n",
      "\n",
      "=== Iteration 9 complete ===\n",
      "New rank estimate: [1, 282, 2, 1]\n",
      "\n",
      "\n",
      "=== Iteration 10 complete ===\n",
      "New rank estimate: [1, 282, 2, 1]\n",
      "\n",
      "\n",
      "=== Iteration 11 complete ===\n",
      "New rank estimate: [1, 282, 2, 1]\n",
      "\n",
      "\n",
      "=== Iteration 12 complete ===\n",
      "New rank estimate: [1, 282, 2, 1]\n",
      "\n",
      "\n",
      "=== Iteration 13 complete ===\n",
      "New rank estimate: [1, 282, 2, 1]\n",
      "\n",
      "\n",
      "=== Iteration 14 complete ===\n",
      "New rank estimate: [1, 282, 2, 1]\n",
      "\n",
      "\n",
      "=== Iteration 15 complete ===\n",
      "New rank estimate: [1, 282, 2, 1]\n",
      "\n",
      "\n",
      "=== Iteration 16 complete ===\n",
      "New rank estimate: [1, 282, 2, 1]\n",
      "\n",
      "\n",
      "=== Iteration 17 complete ===\n",
      "New rank estimate: [1, 282, 2, 1]\n",
      "\n",
      "\n",
      "=== Iteration 18 complete ===\n",
      "New rank estimate: [1, 282, 2, 1]\n",
      "\n",
      "Optimization terminated successfully.\n",
      "         Current function value: 0.021653\n",
      "         Iterations: 19\n",
      "         Function evaluations: 65\n",
      "Optimal rank: [1, 282, 2, 1]\n",
      "Elapsed time: 70.803095 seconds\n",
      "Frobenius Error: 2.165262%\n",
      "Compression Ratio: 50.000629%\n",
      "\n"
     ]
    }
   ],
   "source": [
    "print(\n",
    "    f\"Testing optimization method: {method}\",\n",
    "    f\"Tensor shape: {example_tensor.shape}\",\n",
    "    f\"Initial rank: {example_tensor_initial_rank}\",\n",
    "    sep=\"\\n\",\n",
    ")\n",
    "try:\n",
    "    # check optimizer method\n",
    "    start_time = time.perf_counter()\n",
    "    optimal_rank, final_loss, minimize_result_nelder_mead, iteration_logs_nelder_mead = optimize_rank(\n",
    "        tensor=example_tensor,\n",
    "        target_compression_ratio=50.0,\n",
    "        tensor_train_args=tensor_train_args,\n",
    "        initial_rank=example_tensor_initial_rank,\n",
    "        optimization_method=method,\n",
    "        frobenius_error_coef=frobenius_error_coef,\n",
    "        compression_ratio_coef=compression_ratio_coef,\n",
    "    )\n",
    "    elapsed_time = time.perf_counter() - start_time\n",
    "\n",
    "    # check final frobenius error and compression ratio\n",
    "    tt_factors = tl.decomposition.tensor_train(example_tensor, rank=optimal_rank, **tensor_train_args)\n",
    "    reconstructed_tensor = tl.tt_to_tensor(tt_factors)\n",
    "\n",
    "    frobenius_error = 100.0 * (tl.norm(reconstructed_tensor - example_tensor) / tl.norm(example_tensor)).item()\n",
    "    compression_ratio = (\n",
    "        100.0 * IMetricCalculator.get_tensors_size(*tt_factors) / IMetricCalculator.get_tensors_size(example_tensor)\n",
    "    )\n",
    "\n",
    "    print(\n",
    "        f\"Optimal rank: {optimal_rank}\",\n",
    "        f\"Elapsed time: {elapsed_time:.6f} seconds\",\n",
    "        f\"Frobenius Error: {frobenius_error:.6f}%\",\n",
    "        f\"Compression Ratio: {compression_ratio:.6f}%\",\n",
    "        sep=\"\\n\",\n",
    "        end=\"\\n\\n\",\n",
    "    )\n",
    "except Exception as e:\n",
    "    print(f\"Error with method {method}: {e}\")"
   ]
  },
  {
   "cell_type": "code",
   "execution_count": 166,
   "id": "bf3a5c5f9a9d67df",
   "metadata": {
    "ExecuteTime": {
     "end_time": "2025-01-30T16:28:15.185614Z",
     "start_time": "2025-01-30T16:28:15.121297Z"
    }
   },
   "outputs": [
    {
     "data": {
      "text/plain": [
       "       message: Optimization terminated successfully.\n",
       "       success: True\n",
       "        status: 0\n",
       "           fun: 0.021652618818419542\n",
       "             x: [ 2.820e+02  2.000e+00]\n",
       "           nit: 19\n",
       "          nfev: 65\n",
       " final_simplex: (array([[ 2.820e+02,  2.000e+00],\n",
       "                       [ 2.820e+02,  2.000e+00],\n",
       "                       [ 2.820e+02,  2.000e+00]]), array([ 2.165e-02,  2.165e-02,  2.165e-02]))"
      ]
     },
     "execution_count": 166,
     "metadata": {},
     "output_type": "execute_result"
    }
   ],
   "source": [
    "minimize_result_nelder_mead"
   ]
  },
  {
   "cell_type": "code",
   "execution_count": 167,
   "id": "106066278c6f6c89",
   "metadata": {
    "ExecuteTime": {
     "end_time": "2025-01-30T16:28:15.436334Z",
     "start_time": "2025-01-30T16:28:15.384905Z"
    }
   },
   "outputs": [
    {
     "data": {
      "text/plain": [
       "[{'step': 0,\n",
       "  'rank': [1, 282, 2, 1],\n",
       "  'loss_evals': [],\n",
       "  'raw_xk': array([282.,   2.])},\n",
       " {'step': 1,\n",
       "  'rank': [1, 282, 2, 1],\n",
       "  'loss_evals': [],\n",
       "  'raw_xk': array([282.,   2.])},\n",
       " {'step': 2,\n",
       "  'rank': [1, 282, 2, 1],\n",
       "  'loss_evals': [],\n",
       "  'raw_xk': array([282.,   2.])},\n",
       " {'step': 3,\n",
       "  'rank': [1, 282, 2, 1],\n",
       "  'loss_evals': [],\n",
       "  'raw_xk': array([282.,   2.])},\n",
       " {'step': 4,\n",
       "  'rank': [1, 282, 2, 1],\n",
       "  'loss_evals': [],\n",
       "  'raw_xk': array([282.,   2.])},\n",
       " {'step': 5,\n",
       "  'rank': [1, 282, 2, 1],\n",
       "  'loss_evals': [],\n",
       "  'raw_xk': array([282.,   2.])},\n",
       " {'step': 6,\n",
       "  'rank': [1, 282, 2, 1],\n",
       "  'loss_evals': [],\n",
       "  'raw_xk': array([282.,   2.])},\n",
       " {'step': 7,\n",
       "  'rank': [1, 282, 2, 1],\n",
       "  'loss_evals': [],\n",
       "  'raw_xk': array([282.,   2.])},\n",
       " {'step': 8,\n",
       "  'rank': [1, 282, 2, 1],\n",
       "  'loss_evals': [],\n",
       "  'raw_xk': array([282.,   2.])},\n",
       " {'step': 9,\n",
       "  'rank': [1, 282, 2, 1],\n",
       "  'loss_evals': [],\n",
       "  'raw_xk': array([282.,   2.])},\n",
       " {'step': 10,\n",
       "  'rank': [1, 282, 2, 1],\n",
       "  'loss_evals': [],\n",
       "  'raw_xk': array([282.,   2.])},\n",
       " {'step': 11,\n",
       "  'rank': [1, 282, 2, 1],\n",
       "  'loss_evals': [],\n",
       "  'raw_xk': array([282.,   2.])},\n",
       " {'step': 12,\n",
       "  'rank': [1, 282, 2, 1],\n",
       "  'loss_evals': [],\n",
       "  'raw_xk': array([282.,   2.])},\n",
       " {'step': 13,\n",
       "  'rank': [1, 282, 2, 1],\n",
       "  'loss_evals': [],\n",
       "  'raw_xk': array([282.,   2.])},\n",
       " {'step': 14,\n",
       "  'rank': [1, 282, 2, 1],\n",
       "  'loss_evals': [],\n",
       "  'raw_xk': array([282.,   2.])},\n",
       " {'step': 15,\n",
       "  'rank': [1, 282, 2, 1],\n",
       "  'loss_evals': [],\n",
       "  'raw_xk': array([282.,   2.])},\n",
       " {'step': 16,\n",
       "  'rank': [1, 282, 2, 1],\n",
       "  'loss_evals': [],\n",
       "  'raw_xk': array([282.,   2.])},\n",
       " {'step': 17,\n",
       "  'rank': [1, 282, 2, 1],\n",
       "  'loss_evals': [],\n",
       "  'raw_xk': array([282.,   2.])},\n",
       " {'step': 18,\n",
       "  'rank': [1, 282, 2, 1],\n",
       "  'loss_evals': [],\n",
       "  'raw_xk': array([282.,   2.])}]"
      ]
     },
     "execution_count": 167,
     "metadata": {},
     "output_type": "execute_result"
    }
   ],
   "source": [
    "iteration_logs_nelder_mead"
   ]
  },
  {
   "cell_type": "markdown",
   "id": "a29300ad6d9542a7",
   "metadata": {},
   "source": "#### powell"
  },
  {
   "cell_type": "code",
   "execution_count": 176,
   "id": "f91a5d4ff2441701",
   "metadata": {
    "ExecuteTime": {
     "end_time": "2025-01-30T16:54:18.004442Z",
     "start_time": "2025-01-30T16:54:17.967496Z"
    }
   },
   "outputs": [],
   "source": [
    "method = \"powell\"\n",
    "frobenius_error_coef = 1.0\n",
    "compression_ratio_coef = 10.0"
   ]
  },
  {
   "cell_type": "code",
   "execution_count": 177,
   "id": "8d7614caf309c4d4",
   "metadata": {
    "ExecuteTime": {
     "end_time": "2025-01-30T16:54:48.286093Z",
     "start_time": "2025-01-30T16:54:18.346938Z"
    }
   },
   "outputs": [
    {
     "name": "stdout",
     "output_type": "stream",
     "text": [
      "Testing optimization method: powell\n",
      "Tensor shape: (564, 564, 3)\n",
      "Initial rank: [1, 282, 2, 1]\n",
      "\n",
      "=== Iteration 0 complete ===\n",
      "New rank estimate: [1, 282, 2, 1]\n",
      "\n",
      "Optimization terminated successfully.\n",
      "         Current function value: 0.021653\n",
      "         Iterations: 1\n",
      "         Function evaluations: 31\n",
      "Optimal rank: [1, 282, 2, 1]\n",
      "Elapsed time: 29.645255 seconds\n",
      "Frobenius Error: 2.165262%\n",
      "Compression Ratio: 50.000629%\n",
      "\n"
     ]
    }
   ],
   "source": [
    "print(\n",
    "    f\"Testing optimization method: {method}\",\n",
    "    f\"Tensor shape: {example_tensor.shape}\",\n",
    "    f\"Initial rank: {example_tensor_initial_rank}\",\n",
    "    sep=\"\\n\",\n",
    ")\n",
    "try:\n",
    "    # check optimizer method\n",
    "    start_time = time.perf_counter()\n",
    "    optimal_rank, final_loss, minimize_result_powell, iteration_logs_powell = optimize_rank(\n",
    "        tensor=example_tensor,\n",
    "        target_compression_ratio=50.0,\n",
    "        tensor_train_args=tensor_train_args,\n",
    "        initial_rank=example_tensor_initial_rank,\n",
    "        optimization_method=method,\n",
    "        frobenius_error_coef=frobenius_error_coef,\n",
    "        compression_ratio_coef=compression_ratio_coef,\n",
    "    )\n",
    "    elapsed_time = time.perf_counter() - start_time\n",
    "\n",
    "    # check final frobenius error and compression ratio\n",
    "    tt_factors = tl.decomposition.tensor_train(example_tensor, rank=optimal_rank, **tensor_train_args)\n",
    "    reconstructed_tensor = tl.tt_to_tensor(tt_factors)\n",
    "\n",
    "    frobenius_error = 100.0 * (tl.norm(reconstructed_tensor - example_tensor) / tl.norm(example_tensor)).item()\n",
    "    compression_ratio = (\n",
    "        100.0 * IMetricCalculator.get_tensors_size(*tt_factors) / IMetricCalculator.get_tensors_size(example_tensor)\n",
    "    )\n",
    "\n",
    "    print(\n",
    "        f\"Optimal rank: {optimal_rank}\",\n",
    "        f\"Elapsed time: {elapsed_time:.6f} seconds\",\n",
    "        f\"Frobenius Error: {frobenius_error:.6f}%\",\n",
    "        f\"Compression Ratio: {compression_ratio:.6f}%\",\n",
    "        sep=\"\\n\",\n",
    "        end=\"\\n\\n\",\n",
    "    )\n",
    "except Exception as e:\n",
    "    print(f\"Error with method {method}: {e}\")"
   ]
  },
  {
   "cell_type": "code",
   "execution_count": 178,
   "id": "51e286b64f73dbdb",
   "metadata": {
    "ExecuteTime": {
     "end_time": "2025-01-30T16:54:48.441516Z",
     "start_time": "2025-01-30T16:54:48.397968Z"
    }
   },
   "outputs": [
    {
     "data": {
      "text/plain": [
       " message: Optimization terminated successfully.\n",
       " success: True\n",
       "  status: 0\n",
       "     fun: 0.021652618818419542\n",
       "       x: [ 2.822e+02  1.764e+00]\n",
       "     nit: 1\n",
       "   direc: [[ 1.000e+00  0.000e+00]\n",
       "           [ 0.000e+00  1.000e+00]]\n",
       "    nfev: 31"
      ]
     },
     "execution_count": 178,
     "metadata": {},
     "output_type": "execute_result"
    }
   ],
   "source": [
    "minimize_result_powell"
   ]
  },
  {
   "cell_type": "code",
   "execution_count": 179,
   "id": "50aed1e373ab5bd",
   "metadata": {
    "ExecuteTime": {
     "end_time": "2025-01-30T16:54:48.522825Z",
     "start_time": "2025-01-30T16:54:48.478722Z"
    }
   },
   "outputs": [
    {
     "data": {
      "text/plain": [
       "[{'step': 0,\n",
       "  'rank': [1, 282, 2, 1],\n",
       "  'loss_evals': [],\n",
       "  'raw_xk': array([282.17175425,   1.76399813])}]"
      ]
     },
     "execution_count": 179,
     "metadata": {},
     "output_type": "execute_result"
    }
   ],
   "source": [
    "iteration_logs_powell"
   ]
  },
  {
   "cell_type": "markdown",
   "id": "b40dfbe474c71fbb",
   "metadata": {},
   "source": "#### SLSQP"
  },
  {
   "cell_type": "code",
   "execution_count": 180,
   "id": "1b6c94ec1e90c2ca",
   "metadata": {
    "ExecuteTime": {
     "end_time": "2025-01-30T16:54:48.589797Z",
     "start_time": "2025-01-30T16:54:48.553232Z"
    }
   },
   "outputs": [],
   "source": [
    "method = \"slsqp\"\n",
    "frobenius_error_coef = 1.0\n",
    "compression_ratio_coef = 10.0"
   ]
  },
  {
   "cell_type": "code",
   "execution_count": 181,
   "id": "59dc3ff48ce74270",
   "metadata": {
    "ExecuteTime": {
     "end_time": "2025-01-30T16:54:50.108374Z",
     "start_time": "2025-01-30T16:54:48.624884Z"
    }
   },
   "outputs": [
    {
     "name": "stdout",
     "output_type": "stream",
     "text": [
      "Testing optimization method: slsqp\n",
      "Tensor shape: (564, 564, 3)\n",
      "Initial rank: [1, 282, 2, 1]\n",
      "Optimization terminated successfully    (Exit mode 0)\n",
      "            Current function value: 0.021652618818419542\n",
      "            Iterations: 1\n",
      "            Function evaluations: 3\n",
      "            Gradient evaluations: 1\n",
      "Optimal rank: [1, 282, 2, 1]\n",
      "Elapsed time: 1.102972 seconds\n",
      "Frobenius Error: 2.165262%\n",
      "Compression Ratio: 50.000629%\n",
      "\n"
     ]
    }
   ],
   "source": [
    "print(\n",
    "    f\"Testing optimization method: {method}\",\n",
    "    f\"Tensor shape: {example_tensor.shape}\",\n",
    "    f\"Initial rank: {example_tensor_initial_rank}\",\n",
    "    sep=\"\\n\",\n",
    ")\n",
    "try:\n",
    "    # check optimizer method\n",
    "    start_time = time.perf_counter()\n",
    "    optimal_rank, final_loss, minimize_result_slsqp, iteration_logs_slsqp = optimize_rank(\n",
    "        tensor=example_tensor,\n",
    "        target_compression_ratio=50.0,\n",
    "        tensor_train_args=tensor_train_args,\n",
    "        initial_rank=example_tensor_initial_rank,\n",
    "        optimization_method=method,\n",
    "        frobenius_error_coef=frobenius_error_coef,\n",
    "        compression_ratio_coef=compression_ratio_coef,\n",
    "        jac=None,\n",
    "    )\n",
    "    elapsed_time = time.perf_counter() - start_time\n",
    "\n",
    "    # check final frobenius error and compression ratio\n",
    "    tt_factors = tl.decomposition.tensor_train(example_tensor, rank=optimal_rank, **tensor_train_args)\n",
    "    reconstructed_tensor = tl.tt_to_tensor(tt_factors)\n",
    "\n",
    "    frobenius_error = 100.0 * (tl.norm(reconstructed_tensor - example_tensor) / tl.norm(example_tensor)).item()\n",
    "    compression_ratio = (\n",
    "        100.0 * IMetricCalculator.get_tensors_size(*tt_factors) / IMetricCalculator.get_tensors_size(example_tensor)\n",
    "    )\n",
    "\n",
    "    print(\n",
    "        f\"Optimal rank: {optimal_rank}\",\n",
    "        f\"Elapsed time: {elapsed_time:.6f} seconds\",\n",
    "        f\"Frobenius Error: {frobenius_error:.6f}%\",\n",
    "        f\"Compression Ratio: {compression_ratio:.6f}%\",\n",
    "        sep=\"\\n\",\n",
    "        end=\"\\n\\n\",\n",
    "    )\n",
    "except Exception as e:\n",
    "    print(f\"Error with method {method}: {e}\")"
   ]
  },
  {
   "cell_type": "code",
   "execution_count": 182,
   "id": "7559a24586b872da",
   "metadata": {
    "ExecuteTime": {
     "end_time": "2025-01-30T16:54:50.204682Z",
     "start_time": "2025-01-30T16:54:50.167222Z"
    }
   },
   "outputs": [
    {
     "data": {
      "text/plain": [
       " message: Optimization terminated successfully\n",
       " success: True\n",
       "  status: 0\n",
       "     fun: 0.021652618818419542\n",
       "       x: [ 2.820e+02  2.000e+00]\n",
       "     nit: 1\n",
       "     jac: [ 0.000e+00  0.000e+00]\n",
       "    nfev: 3\n",
       "    njev: 1"
      ]
     },
     "execution_count": 182,
     "metadata": {},
     "output_type": "execute_result"
    }
   ],
   "source": [
    "minimize_result_slsqp"
   ]
  },
  {
   "cell_type": "code",
   "execution_count": 183,
   "id": "7280881b45d74fb5",
   "metadata": {
    "ExecuteTime": {
     "end_time": "2025-01-30T16:54:50.378810Z",
     "start_time": "2025-01-30T16:54:50.341428Z"
    }
   },
   "outputs": [
    {
     "data": {
      "text/plain": [
       "[]"
      ]
     },
     "execution_count": 183,
     "metadata": {},
     "output_type": "execute_result"
    }
   ],
   "source": [
    "iteration_logs_slsqp"
   ]
  },
  {
   "cell_type": "markdown",
   "id": "19310a6838ac0e87",
   "metadata": {},
   "source": "# some graphs"
  },
  {
   "cell_type": "markdown",
   "id": "7f6206d3cb364a6e",
   "metadata": {},
   "source": "## search area example"
  },
  {
   "cell_type": "code",
   "execution_count": 67,
   "id": "df5c062292b0020f",
   "metadata": {
    "ExecuteTime": {
     "end_time": "2025-01-30T15:07:06.836928Z",
     "start_time": "2025-01-30T15:07:06.734549Z"
    }
   },
   "outputs": [],
   "source": [
    "internal_indices = np.array(list(search_area_example_results.keys()))\n",
    "metrics = [\"frobenius_error\", \"compression_ratio\", \"compression_penalty\", \"loss_function_result\"]\n",
    "\n",
    "figs = []\n",
    "\n",
    "for metric in metrics:\n",
    "    z_values = np.array([search_area_example_results[key].get(metric, np.nan) for key in search_area_example_results])\n",
    "    x_indices = internal_indices[:, 0]\n",
    "    y_indices = internal_indices[:, 1]\n",
    "\n",
    "    fig = go.Figure(\n",
    "        data=go.Scatter3d(\n",
    "            x=x_indices,\n",
    "            y=y_indices,\n",
    "            z=z_values,\n",
    "            mode=\"markers\",\n",
    "            marker={\"size\": 5, \"color\": z_values, \"colorscale\": \"Viridis\", \"opacity\": 0.8},\n",
    "        )\n",
    "    )\n",
    "\n",
    "    fig.update_layout(\n",
    "        title=f\"Search area for example tensor of {metric.replace('_', ' ').title()}\",\n",
    "        scene={\n",
    "            \"xaxis_title\": \"Rank Index 1\",\n",
    "            \"yaxis_title\": \"Rank Index 2\",\n",
    "            \"zaxis_title\": metric.replace(\"_\", \" \").title(),\n",
    "            # \"xaxis\": { \"tickmode\": \"array\", \"tickvals\": list(set(x_indices.astype(int))) },\n",
    "            \"yaxis\": {\"tickmode\": \"array\", \"tickvals\": list(set(y_indices.astype(int)))},\n",
    "        },\n",
    "        margin={\"l\": 0, \"r\": 0, \"t\": 40, \"b\": 0},\n",
    "        template=\"plotly_white\",\n",
    "    )\n",
    "\n",
    "    figs.append(fig)"
   ]
  },
  {
   "cell_type": "code",
   "execution_count": 68,
   "id": "e923034ab90c955c",
   "metadata": {
    "ExecuteTime": {
     "end_time": "2025-01-30T15:07:06.938761Z",
     "start_time": "2025-01-30T15:07:06.860966Z"
    }
   },
   "outputs": [],
   "source": [
    "html_str = \"\"\n",
    "for fig in figs:\n",
    "    html_str += go.Figure(fig).to_html(full_html=False, include_plotlyjs=False)\n",
    "\n",
    "html_file = f\"\"\"\n",
    "<!DOCTYPE html>\n",
    "<html>\n",
    "<head>\n",
    "    <script src=\"https://cdn.plot.ly/plotly-latest.min.js\"></script>\n",
    "</head>\n",
    "<body>\n",
    "<h1>Search area by some metrics</h1>\n",
    "{html_str}\n",
    "</body>\n",
    "</html>\n",
    "\"\"\"\n",
    "\n",
    "output_path = \"../.cache/data_analyze/optimization_algs_for_tensor_train_search_area.html\"\n",
    "with open(output_path, \"w\", encoding=\"utf-8\") as f:  # noqa: PTH123\n",
    "    f.write(html_file)"
   ]
  },
  {
   "cell_type": "markdown",
   "id": "729090dbcf9ea577",
   "metadata": {},
   "source": "### custom alg"
  },
  {
   "cell_type": "code",
   "execution_count": 69,
   "id": "f49e5d6990140d22",
   "metadata": {
    "ExecuteTime": {
     "end_time": "2025-01-30T15:07:06.993998Z",
     "start_time": "2025-01-30T15:07:06.961795Z"
    }
   },
   "outputs": [],
   "source": [
    "target_compression_ratio_for_graphs_percent = 50.0\n",
    "frobenius_error_coef_for_graphs = 1.0\n",
    "compression_ratio_coef_for_graphs = 10.0"
   ]
  },
  {
   "cell_type": "code",
   "execution_count": 70,
   "id": "77d481718c173e29",
   "metadata": {
    "ExecuteTime": {
     "end_time": "2025-01-30T15:07:07.050165Z",
     "start_time": "2025-01-30T15:07:07.016859Z"
    }
   },
   "outputs": [],
   "source": [
    "(\n",
    "    custom_alg_compression_ratios,\n",
    "    custom_alg_frobenius_errors,\n",
    "    custom_alg_compression_penalties,\n",
    "    custom_alg_loss_function_results,\n",
    ") = [], [], [], []\n",
    "for element in find_rank_logs:\n",
    "    compression_ratio = element[\"compression_ratio\"] / 100.0\n",
    "    frobenius_error = element[\"frobenius_error\"] / 100.0\n",
    "    target_compression_ratio_for_graphs = target_compression_ratio_for_graphs_percent / 100.0\n",
    "\n",
    "    custom_alg_compression_ratios.append(compression_ratio)\n",
    "    custom_alg_frobenius_errors.append(frobenius_error)\n",
    "\n",
    "    compression_penalty = (target_compression_ratio_for_graphs - compression_ratio) ** 2\n",
    "    loss_function_result = (\n",
    "        frobenius_error_coef_for_graphs * frobenius_error + compression_ratio_coef_for_graphs * compression_penalty\n",
    "    )\n",
    "\n",
    "    custom_alg_compression_penalties.append(compression_penalty)\n",
    "    custom_alg_loss_function_results.append(loss_function_result)"
   ]
  },
  {
   "cell_type": "markdown",
   "id": "f2f596fca98a8a9a",
   "metadata": {},
   "source": "### path in search area"
  },
  {
   "cell_type": "code",
   "execution_count": 71,
   "id": "3a77c92e4b45ae07",
   "metadata": {
    "ExecuteTime": {
     "end_time": "2025-01-30T15:07:07.498708Z",
     "start_time": "2025-01-30T15:07:07.073731Z"
    }
   },
   "outputs": [],
   "source": [
    "figs = []\n",
    "\n",
    "for metric, metric_data in zip(\n",
    "    metrics,\n",
    "    [\n",
    "        custom_alg_frobenius_errors,\n",
    "        custom_alg_compression_ratios,\n",
    "        custom_alg_compression_penalties,\n",
    "        custom_alg_loss_function_results,\n",
    "    ],\n",
    "    strict=False,\n",
    "):\n",
    "    z_values = np.array([search_area_example_results[key].get(metric, np.nan) for key in search_area_example_results])\n",
    "    x_indices = internal_indices[:, 0]\n",
    "    y_indices = internal_indices[:, 1]\n",
    "\n",
    "    fig = go.Figure(\n",
    "        data=go.Scatter3d(\n",
    "            x=x_indices,\n",
    "            y=y_indices,\n",
    "            z=z_values,\n",
    "            mode=\"markers\",\n",
    "            marker={\"size\": 5, \"color\": z_values, \"colorscale\": \"Viridis\", \"opacity\": 0.8},\n",
    "        )\n",
    "    )\n",
    "\n",
    "    path_x = []\n",
    "    path_y = []\n",
    "    path_z = []\n",
    "\n",
    "    for i, log in enumerate(find_rank_logs):\n",
    "        rank = log[\"rank\"]\n",
    "        if metric == \"frobenius_error\":\n",
    "            z_value = custom_alg_frobenius_errors[i]\n",
    "        elif metric == \"compression_ratio\":\n",
    "            z_value = custom_alg_compression_ratios[i]\n",
    "        elif metric == \"compression_penalty\":\n",
    "            z_value = custom_alg_compression_penalties[i]\n",
    "        elif metric == \"loss_function_result\":\n",
    "            z_value = custom_alg_loss_function_results[i]\n",
    "\n",
    "        path_x.append(rank[1])\n",
    "        path_y.append(rank[2])\n",
    "        path_z.append(z_value)\n",
    "\n",
    "        if i == 0 or i == len(find_rank_logs) - 1:\n",
    "            fig.add_trace(\n",
    "                go.Scatter3d(\n",
    "                    x=[rank[1]],\n",
    "                    y=[rank[2]],\n",
    "                    z=[z_value],\n",
    "                    mode=\"markers\",\n",
    "                    marker={\n",
    "                        \"size\": 10 if i == 0 or i == len(find_rank_logs) - 1 else 5,\n",
    "                        \"color\": \"yellow\" if i == 0 or i == len(find_rank_logs) - 1 else z_value,\n",
    "                        \"opacity\": 0.8,\n",
    "                    },\n",
    "                )\n",
    "            )\n",
    "        else:\n",
    "            fig.add_trace(\n",
    "                go.Scatter3d(\n",
    "                    x=[rank[1]],\n",
    "                    y=[rank[2]],\n",
    "                    z=[z_value],\n",
    "                    mode=\"markers\",\n",
    "                    marker={\"size\": 5, \"color\": \"red\", \"opacity\": 0.8},\n",
    "                )\n",
    "            )\n",
    "\n",
    "    fig.add_trace(\n",
    "        go.Scatter3d(\n",
    "            x=path_x,\n",
    "            y=path_y,\n",
    "            z=path_z,\n",
    "            mode=\"lines+markers\",\n",
    "            marker={\"size\": 5, \"color\": \"red\", \"opacity\": 0.8},\n",
    "            line={\"color\": \"red\", \"width\": 3},\n",
    "        )\n",
    "    )\n",
    "\n",
    "    fig.update_layout(\n",
    "        title=f\"Search area for example tensor of {metric.replace('_', ' ').title()} with custom alg path\",\n",
    "        scene={\n",
    "            \"xaxis_title\": \"Rank Index 1\",\n",
    "            \"yaxis_title\": \"Rank Index 2\",\n",
    "            \"zaxis_title\": metric.replace(\"_\", \" \").title(),\n",
    "            # \"xaxis\": { \"tickmode\": \"array\", \"tickvals\": list(set(x_indices.astype(int))) },\n",
    "            \"yaxis\": {\"tickmode\": \"array\", \"tickvals\": list(set(y_indices.astype(int)))},\n",
    "        },\n",
    "        margin={\"l\": 0, \"r\": 0, \"t\": 40, \"b\": 0},\n",
    "        template=\"plotly_white\",\n",
    "        showlegend=False,\n",
    "    )\n",
    "\n",
    "    figs.append(fig)"
   ]
  },
  {
   "cell_type": "code",
   "execution_count": 72,
   "id": "e4db931312136077",
   "metadata": {
    "ExecuteTime": {
     "end_time": "2025-01-30T15:07:08.031692Z",
     "start_time": "2025-01-30T15:07:07.528854Z"
    }
   },
   "outputs": [],
   "source": [
    "html_str = \"\"\n",
    "for fig in figs:\n",
    "    html_str += go.Figure(fig).to_html(full_html=False, include_plotlyjs=False)\n",
    "\n",
    "html_file = f\"\"\"\n",
    "<!DOCTYPE html>\n",
    "<html>\n",
    "<head>\n",
    "    <script src=\"https://cdn.plot.ly/plotly-latest.min.js\"></script>\n",
    "</head>\n",
    "<body>\n",
    "<h1>Search area by some metrics</h1>\n",
    "{html_str}\n",
    "</body>\n",
    "</html>\n",
    "\"\"\"\n",
    "\n",
    "output_path = \"../.cache/data_analyze/optimization_algs_for_tensor_train_search_area_with_custom_alg.html\"\n",
    "with open(output_path, \"w\", encoding=\"utf-8\") as f:  # noqa: PTH123\n",
    "    f.write(html_file)"
   ]
  },
  {
   "cell_type": "markdown",
   "id": "f27d29ac1fa2f80b",
   "metadata": {},
   "source": "### only path"
  },
  {
   "cell_type": "code",
   "execution_count": 73,
   "id": "1ce22f9e7c083051",
   "metadata": {
    "ExecuteTime": {
     "end_time": "2025-01-30T15:07:08.157138Z",
     "start_time": "2025-01-30T15:07:08.069729Z"
    }
   },
   "outputs": [],
   "source": [
    "figs = []\n",
    "\n",
    "# График 1: Compression Ratios\n",
    "fig1 = go.Figure()\n",
    "fig1.add_trace(\n",
    "    go.Scatter(\n",
    "        x=list(range(len(custom_alg_compression_ratios))),\n",
    "        y=custom_alg_compression_ratios,\n",
    "        mode=\"lines+markers\",\n",
    "        marker={\"size\": 5},\n",
    "        name=\"Compression Ratios\",\n",
    "    )\n",
    ")\n",
    "fig1.update_layout(\n",
    "    title=\"Compression Ratios\",\n",
    "    xaxis_title=\"Index\",\n",
    "    yaxis_title=\"Values\",\n",
    "    template=\"plotly_white\",\n",
    "    margin={\"l\": 20, \"r\": 20, \"t\": 40, \"b\": 20},\n",
    ")\n",
    "figs.append(fig1)\n",
    "\n",
    "# График 2: Frobenius Errors\n",
    "fig2 = go.Figure()\n",
    "fig2.add_trace(\n",
    "    go.Scatter(\n",
    "        x=list(range(len(custom_alg_frobenius_errors))),\n",
    "        y=custom_alg_frobenius_errors,\n",
    "        mode=\"lines+markers\",\n",
    "        marker={\"size\": 5},\n",
    "        name=\"Frobenius Errors\",\n",
    "    )\n",
    ")\n",
    "fig2.update_layout(\n",
    "    title=\"Frobenius Errors\",\n",
    "    xaxis_title=\"Index\",\n",
    "    yaxis_title=\"Values\",\n",
    "    template=\"plotly_white\",\n",
    "    margin={\"l\": 20, \"r\": 20, \"t\": 40, \"b\": 20},\n",
    ")\n",
    "figs.append(fig2)\n",
    "\n",
    "# График 3: Compression Penalties\n",
    "fig3 = go.Figure()\n",
    "fig3.add_trace(\n",
    "    go.Scatter(\n",
    "        x=list(range(len(custom_alg_compression_penalties))),\n",
    "        y=custom_alg_compression_penalties,\n",
    "        mode=\"lines+markers\",\n",
    "        marker={\"size\": 5},\n",
    "        name=\"Compression Penalties\",\n",
    "    )\n",
    ")\n",
    "fig3.update_layout(\n",
    "    title=\"Compression Penalties\",\n",
    "    xaxis_title=\"Index\",\n",
    "    yaxis_title=\"Values\",\n",
    "    template=\"plotly_white\",\n",
    "    margin={\"l\": 20, \"r\": 20, \"t\": 40, \"b\": 20},\n",
    ")\n",
    "figs.append(fig3)\n",
    "\n",
    "# График 4: Loss Function Results\n",
    "fig4 = go.Figure()\n",
    "fig4.add_trace(\n",
    "    go.Scatter(\n",
    "        x=list(range(len(custom_alg_loss_function_results))),\n",
    "        y=custom_alg_loss_function_results,\n",
    "        mode=\"lines+markers\",\n",
    "        marker={\"size\": 5},\n",
    "        name=\"Loss Function Results\",\n",
    "    )\n",
    ")\n",
    "fig4.update_layout(\n",
    "    title=\"Loss Function Results\",\n",
    "    xaxis_title=\"Index\",\n",
    "    yaxis_title=\"Values\",\n",
    "    template=\"plotly_white\",\n",
    "    margin={\"l\": 20, \"r\": 20, \"t\": 40, \"b\": 20},\n",
    ")\n",
    "figs.append(fig4)"
   ]
  },
  {
   "cell_type": "code",
   "execution_count": 74,
   "id": "88a0a964c37f7280",
   "metadata": {
    "ExecuteTime": {
     "end_time": "2025-01-30T15:07:08.222004Z",
     "start_time": "2025-01-30T15:07:08.184023Z"
    }
   },
   "outputs": [],
   "source": [
    "html_str = \"\"\n",
    "for i, fig in enumerate(figs):\n",
    "    html_str += pio.to_html(fig, full_html=False, include_plotlyjs=False)\n",
    "\n",
    "html_file = f\"\"\"\n",
    "<!DOCTYPE html>\n",
    "<html>\n",
    "<head>\n",
    "    <script src=\"https://cdn.plot.ly/plotly-latest.min.js\"></script>\n",
    "</head>\n",
    "<body>\n",
    "<h1>\n",
    "Custom alg metrics\n",
    "</h1>\n",
    "{html_str}\n",
    "</body>\n",
    "</html>\n",
    "\"\"\"\n",
    "\n",
    "with open(\"../.cache/data_analyze/optimization_algs_for_tensor_train_custom_alg.html\", \"w\", encoding=\"utf-8\") as f: #noqa: PTH123\n",
    "    f.write(html_file)"
   ]
  },
  {
   "cell_type": "markdown",
   "id": "fa0c2306b25992af",
   "metadata": {},
   "source": "# optimize with scipy alg for tensor"
  },
  {
   "cell_type": "code",
   "execution_count": 75,
   "id": "3cc323b29f6e68e7",
   "metadata": {
    "ExecuteTime": {
     "end_time": "2025-01-30T15:07:17.131410Z",
     "start_time": "2025-01-30T15:07:08.245973Z"
    }
   },
   "outputs": [],
   "source": [
    "# cache_dir_eeg = \"../.cache/eeg\"\n",
    "#\n",
    "# target_tensor = create_eeg_limo_data_tensor(cache_dir_eeg=cache_dir_eeg)"
   ]
  },
  {
   "cell_type": "code",
   "execution_count": 76,
   "id": "477ee2cb7c1c193b",
   "metadata": {
    "ExecuteTime": {
     "end_time": "2025-01-30T15:07:17.223987Z",
     "start_time": "2025-01-30T15:07:17.155532Z"
    }
   },
   "outputs": [
    {
     "ename": "TypeError",
     "evalue": "cannot unpack non-iterable int object",
     "output_type": "error",
     "traceback": [
      "\u001B[0;31m---------------------------------------------------------------------------\u001B[0m",
      "\u001B[0;31mTypeError\u001B[0m                                 Traceback (most recent call last)",
      "Cell \u001B[0;32mIn[76], line 1\u001B[0m\n\u001B[0;32m----> 1\u001B[0m target_initial_rank \u001B[38;5;241m=\u001B[39m \u001B[43mcalculate_tensor_train_initial_rank\u001B[49m\u001B[43m(\u001B[49m\u001B[43mtarget_tensor\u001B[49m\u001B[38;5;241;43m.\u001B[39;49m\u001B[43mshape\u001B[49m\u001B[43m)\u001B[49m\n",
      "Cell \u001B[0;32mIn[31], line 2\u001B[0m, in \u001B[0;36mcalculate_tensor_train_initial_rank\u001B[0;34m(tensor_shape)\u001B[0m\n\u001B[1;32m      1\u001B[0m \u001B[38;5;28;01mdef\u001B[39;00m \u001B[38;5;21mcalculate_tensor_train_initial_rank\u001B[39m(tensor_shape: \u001B[38;5;28mtuple\u001B[39m) \u001B[38;5;241m-\u001B[39m\u001B[38;5;241m>\u001B[39m \u001B[38;5;28mlist\u001B[39m[\u001B[38;5;28mint\u001B[39m]:\n\u001B[0;32m----> 2\u001B[0m     \u001B[38;5;28;01mreturn\u001B[39;00m \u001B[43m[\u001B[49m\u001B[43m(\u001B[49m\u001B[43mleft\u001B[49m\u001B[43m \u001B[49m\u001B[38;5;241;43m+\u001B[39;49m\u001B[43m \u001B[49m\u001B[43mright\u001B[49m\u001B[43m)\u001B[49m\u001B[43m \u001B[49m\u001B[38;5;241;43m/\u001B[39;49m\u001B[38;5;241;43m/\u001B[39;49m\u001B[43m \u001B[49m\u001B[38;5;241;43m2\u001B[39;49m\u001B[43m \u001B[49m\u001B[38;5;28;43;01mfor\u001B[39;49;00m\u001B[43m \u001B[49m\u001B[43mleft\u001B[49m\u001B[43m,\u001B[49m\u001B[43m \u001B[49m\u001B[43mright\u001B[49m\u001B[43m \u001B[49m\u001B[38;5;129;43;01min\u001B[39;49;00m\u001B[43m \u001B[49m\u001B[43mtensor_shape\u001B[49m\u001B[43m]\u001B[49m\n",
      "Cell \u001B[0;32mIn[31], line 2\u001B[0m, in \u001B[0;36m<listcomp>\u001B[0;34m(.0)\u001B[0m\n\u001B[1;32m      1\u001B[0m \u001B[38;5;28;01mdef\u001B[39;00m \u001B[38;5;21mcalculate_tensor_train_initial_rank\u001B[39m(tensor_shape: \u001B[38;5;28mtuple\u001B[39m) \u001B[38;5;241m-\u001B[39m\u001B[38;5;241m>\u001B[39m \u001B[38;5;28mlist\u001B[39m[\u001B[38;5;28mint\u001B[39m]:\n\u001B[0;32m----> 2\u001B[0m     \u001B[38;5;28;01mreturn\u001B[39;00m [(left \u001B[38;5;241m+\u001B[39m right) \u001B[38;5;241m/\u001B[39m\u001B[38;5;241m/\u001B[39m \u001B[38;5;241m2\u001B[39m \u001B[38;5;28;01mfor\u001B[39;00m left, right \u001B[38;5;129;01min\u001B[39;00m tensor_shape]\n",
      "\u001B[0;31mTypeError\u001B[0m: cannot unpack non-iterable int object"
     ]
    }
   ],
   "source": [
    "# target_initial_rank = calculate_tensor_train_initial_rank(target_tensor.shape)"
   ]
  },
  {
   "cell_type": "code",
   "execution_count": 21,
   "id": "4d892902ddb6d7a0",
   "metadata": {
    "ExecuteTime": {
     "end_time": "2025-01-30T15:07:17.244046200Z",
     "start_time": "2025-01-23T10:44:13.435705Z"
    }
   },
   "outputs": [],
   "source": [
    "# method = \"powell\"\n",
    "# frobenius_error_coef = 1.0\n",
    "# compression_ratio_coef = 10.0"
   ]
  },
  {
   "cell_type": "code",
   "execution_count": null,
   "id": "aa468b3cc51f4149",
   "metadata": {
    "ExecuteTime": {
     "end_time": "2025-01-30T15:07:17.244046200Z",
     "start_time": "2025-01-23T10:44:14.927795Z"
    },
    "jupyter": {
     "is_executing": true
    }
   },
   "outputs": [
    {
     "name": "stdout",
     "output_type": "stream",
     "text": [
      "Testing optimization method: powell\n",
      "Tensor shape: (3, 1050, 2, 132, 201)\n",
      "Initial rank: [1, 1, 1, 1, 1, 1]\n"
     ]
    }
   ],
   "source": [
    "# print(\n",
    "#     f\"Testing optimization method: {method}\",\n",
    "#     f\"Tensor shape: {target_tensor.shape}\",\n",
    "#     f\"Initial rank: {target_initial_rank}\",\n",
    "#     sep=\"\\n\",\n",
    "# )\n",
    "# try:\n",
    "#     # check optimizer method\n",
    "#     start_time = time.perf_counter()\n",
    "#     optimal_rank, final_loss = optimize_rank(\n",
    "#         tensor=target_tensor,\n",
    "#         target_compression_ratio=50.0,\n",
    "#         method_max_bound=max(target_tensor.shape),\n",
    "#         tensor_train_args=tensor_train_args,\n",
    "#         initial_rank=target_initial_rank,\n",
    "#         optimization_method=method,\n",
    "#         frobenius_error_coef=frobenius_error_coef,\n",
    "#         compression_ratio_coef=compression_ratio_coef,\n",
    "#     )\n",
    "#     elapsed_time = time.perf_counter() - start_time\n",
    "#\n",
    "#     # check final frobenius error and compression ratio\n",
    "#     tt_factors = tl.decomposition.tensor_train(target_tensor, rank=optimal_rank, **tensor_train_args)\n",
    "#     reconstructed_tensor = tl.tt_to_tensor(tt_factors)\n",
    "#\n",
    "#     frobenius_error = 100.0 * (tl.norm(reconstructed_tensor - target_tensor) / tl.norm(target_tensor)).item()\n",
    "#     compression_ratio = (\n",
    "#         100.0 * IMetricCalculator.get_tensors_size(*tt_factors) / IMetricCalculator.get_tensors_size(target_tensor)\n",
    "#     )\n",
    "#\n",
    "#     print(\n",
    "#         f\"Optimal rank: {optimal_rank}\",\n",
    "#         f\"Elapsed time: {elapsed_time:.6f} seconds\",\n",
    "#         f\"Frobenius Error: {frobenius_error:.6f}%\",\n",
    "#         f\"Compression Ratio: {compression_ratio:.6f}%\",\n",
    "#         sep=\"\\n\",\n",
    "#         end=\"\\n\\n\",\n",
    "#     )\n",
    "# except Exception as e:\n",
    "#     print(f\"Error with method {method}: {e}\")"
   ]
  },
  {
   "cell_type": "code",
   "execution_count": null,
   "id": "bd9288c635449536",
   "metadata": {},
   "outputs": [],
   "source": []
  }
 ],
 "metadata": {
  "kernelspec": {
   "display_name": "Python 3",
   "language": "python",
   "name": "python3"
  },
  "language_info": {
   "codemirror_mode": {
    "name": "ipython",
    "version": 2
   },
   "file_extension": ".py",
   "mimetype": "text/x-python",
   "name": "python",
   "nbconvert_exporter": "python",
   "pygments_lexer": "ipython2",
   "version": "2.7.6"
  }
 },
 "nbformat": 4,
 "nbformat_minor": 5
}
