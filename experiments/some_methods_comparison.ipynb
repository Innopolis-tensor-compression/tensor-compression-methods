{
 "cells": [
  {
   "cell_type": "markdown",
   "metadata": {
    "collapsed": false
   },
   "source": [
    "# Imports"
   ]
  },
  {
   "cell_type": "code",
   "execution_count": 53,
   "metadata": {
    "ExecuteTime": {
     "end_time": "2024-10-11T13:48:12.843419Z",
     "start_time": "2024-10-11T13:48:12.076822Z"
    },
    "collapsed": false
   },
   "outputs": [
    {
     "name": "stdout",
     "output_type": "stream",
     "text": [
      "The memory_profiler extension is already loaded. To reload it, use:\n",
      "  %reload_ext memory_profiler\n",
      "The autoreload extension is already loaded. To reload it, use:\n",
      "  %reload_ext autoreload\n"
     ]
    },
    {
     "data": {
      "text/plain": [
       "True"
      ]
     },
     "execution_count": 53,
     "metadata": {},
     "output_type": "execute_result"
    }
   ],
   "source": [
    "import sys\n",
    "\n",
    "modules_to_reload = [\n",
    "    \"src.utils.method_loggers\",\n",
    "    \"src.utils.method_runners\",\n",
    "    \"src.utils.metrics_calculators\",\n",
    "    \"src.utils.tensor_handlers\",\n",
    "    \"src.utils.trackers\",\n",
    "    \"src.utils.video_controller\",\n",
    "]\n",
    "\n",
    "for module in modules_to_reload:\n",
    "    if module in sys.modules:\n",
    "        del sys.modules[module]\n",
    "\n",
    "%load_ext memory_profiler\n",
    "%load_ext autoreload\n",
    "%autoreload 2\n",
    "\n",
    "import gc\n",
    "import os\n",
    "from itertools import product\n",
    "\n",
    "import numpy as np\n",
    "import t3f\n",
    "\n",
    "# import tensorflow as tf\n",
    "import tensorly as tl\n",
    "import torch\n",
    "from dotenv import load_dotenv\n",
    "from tqdm import tqdm\n",
    "\n",
    "from src.utils.method_loggers import MethodLogger\n",
    "from src.utils.method_runners import MethodRunner\n",
    "from src.utils.save_frames import SaveFramesFactory\n",
    "from src.utils.tensor_handlers import normalize_frames\n",
    "from src.utils.trackers import GPUTorchMemoryTracker, RAMMemoryTracker, TimeTracker\n",
    "from src.utils.video_controller import download_youtube_video, extract_frames\n",
    "\n",
    "load_dotenv()"
   ]
  },
  {
   "cell_type": "code",
   "execution_count": 32,
   "metadata": {
    "ExecuteTime": {
     "end_time": "2024-10-10T18:09:06.229137Z",
     "start_time": "2024-10-10T18:09:06.183959Z"
    }
   },
   "outputs": [
    {
     "data": {
      "text/plain": [
       "device(type='cuda')"
      ]
     },
     "execution_count": 32,
     "metadata": {},
     "output_type": "execute_result"
    }
   ],
   "source": [
    "torch_device = torch.device(\"cuda\" if torch.cuda.is_available() else \"cpu\")\n",
    "torch_device"
   ]
  },
  {
   "cell_type": "code",
   "execution_count": 33,
   "metadata": {
    "ExecuteTime": {
     "end_time": "2024-10-10T18:09:06.394795Z",
     "start_time": "2024-10-10T18:09:06.346862Z"
    }
   },
   "outputs": [],
   "source": [
    "torch.cuda.empty_cache()"
   ]
  },
  {
   "cell_type": "code",
   "execution_count": 34,
   "metadata": {
    "ExecuteTime": {
     "end_time": "2024-10-10T18:09:06.459102Z",
     "start_time": "2024-10-10T18:09:06.412716Z"
    }
   },
   "outputs": [],
   "source": [
    "# tf_device = tf.config.list_physical_devices(\"GPU\")[0].name\n",
    "# tf_device"
   ]
  },
  {
   "cell_type": "markdown",
   "metadata": {
    "collapsed": false
   },
   "source": [
    "## Some params"
   ]
  },
  {
   "cell_type": "code",
   "execution_count": 60,
   "metadata": {
    "ExecuteTime": {
     "end_time": "2024-10-11T14:16:43.319918Z",
     "start_time": "2024-10-11T14:16:43.287336Z"
    },
    "collapsed": false
   },
   "outputs": [],
   "source": [
    "video_url = \"https://www.youtube.com/watch?v=eSKe2Vx-rpY\"\n",
    "proxy_url = os.getenv(\"PROXY_URL\")\n",
    "cache_dir = \"../.cache/youtube\"\n",
    "\n",
    "log_file_path = \"../.cache/method_logs.json\"\n",
    "\n",
    "method_logs_list = []"
   ]
  },
  {
   "cell_type": "markdown",
   "metadata": {
    "collapsed": false
   },
   "source": [
    "## Check how functions work"
   ]
  },
  {
   "cell_type": "code",
   "execution_count": 36,
   "metadata": {
    "ExecuteTime": {
     "end_time": "2024-10-10T18:09:06.598597Z",
     "start_time": "2024-10-10T18:09:06.558890Z"
    },
    "collapsed": false
   },
   "outputs": [
    {
     "name": "stdout",
     "output_type": "stream",
     "text": [
      "Видео уже загружено и закешировано: ../.cache/youtube/eSKe2Vx-rpY.mp4\n"
     ]
    }
   ],
   "source": [
    "video_path = download_youtube_video(video_url, cache_dir=cache_dir.__str__(), proxy_url=proxy_url)"
   ]
  },
  {
   "cell_type": "code",
   "execution_count": 37,
   "metadata": {
    "ExecuteTime": {
     "end_time": "2024-10-10T18:09:06.797756Z",
     "start_time": "2024-10-10T18:09:06.628012Z"
    },
    "collapsed": false
   },
   "outputs": [],
   "source": [
    "video_frames, original_fps, frame_size = extract_frames(video_path)"
   ]
  },
  {
   "cell_type": "code",
   "execution_count": 38,
   "metadata": {
    "ExecuteTime": {
     "end_time": "2024-10-10T18:09:06.860162Z",
     "start_time": "2024-10-10T18:09:06.824028Z"
    }
   },
   "outputs": [
    {
     "data": {
      "text/plain": [
       "(440, 360, 202, 3)"
      ]
     },
     "execution_count": 38,
     "metadata": {},
     "output_type": "execute_result"
    }
   ],
   "source": [
    "video_frames.shape"
   ]
  },
  {
   "cell_type": "code",
   "execution_count": 39,
   "metadata": {
    "ExecuteTime": {
     "end_time": "2024-10-10T18:09:06.926845Z",
     "start_time": "2024-10-10T18:09:06.889698Z"
    },
    "collapsed": false
   },
   "outputs": [],
   "source": [
    "# processed_video_frames = process_frames(video_frames)"
   ]
  },
  {
   "cell_type": "markdown",
   "metadata": {
    "collapsed": false
   },
   "source": [
    "## Check original video"
   ]
  },
  {
   "cell_type": "code",
   "execution_count": 40,
   "metadata": {
    "ExecuteTime": {
     "end_time": "2024-10-10T18:09:06.992511Z",
     "start_time": "2024-10-10T18:09:06.957612Z"
    },
    "collapsed": false
   },
   "outputs": [],
   "source": [
    "# show_frames_as_video(processed_video_frames)"
   ]
  },
  {
   "cell_type": "markdown",
   "metadata": {},
   "source": "# Implementations of Decompositions methods"
  },
  {
   "cell_type": "markdown",
   "metadata": {},
   "source": [
    "Some packages which can decompose some dense type of tensors, from [this](https://arxiv.org/pdf/2103.13756) paper\n",
    "\n",
    "\n",
    "Decomposition methods which used:\n",
    "1. Canonical Polyadic Decomposition as PARAllel FACtors analysis (aka PARAFAC aka CPD aka CP)\n",
    "2. Tucker Decomposition\n",
    "3. Tensor Train\n",
    "4. some variants of its (Other)\n",
    "\n",
    "Tensor types:\n",
    "1. Dense (D)\n",
    "2. Sparse (S)\n",
    "3. BlockSparse (BS)\n",
    "4. Symmetric\n",
    "5. Supersymmetric\n",
    "\n",
    "Target system:\n",
    "1. CPU (C)\n",
    "2. GPU(G)\n",
    "3. Distributed Memory (D)\n",
    "\n",
    "\n",
    "\n",
    "| Method name                                                                             | Decomposition methods implemented | Tensor Type | Platform | Language         | Git | PyPI | Want to check | Checked     |\n",
    "|-----------------------------------------------------------------------------------------|-----------------------------------|------------|----------|------------------|------|------|--------------|-------------|\n",
    "| [AdaTM](https://github.com/hpcgarage/AdaTM)                                             | CP                                | S          | C        | C                | +    | ?    |              |             |\n",
    "| [BTAS](https://github.com/ValeevGroup/BTAS)                                             | CP, Tucker                        | nan        | C        | C++              | +    | ?    |              |             |\n",
    "| [CP-CALS](https://github.com/HPAC/CP-CALS)                                              | CP, Other                         | D          | C, G     | C++, Mat         | +    |      | +            |             |\n",
    "| [CSTF](https://github.com/ZacBlanco/cstf)                                               | Other                             | S          | D        | Scala            | +    | ?    |              |             |\n",
    "| [D-Tucker](https://datalab.snu.ac.kr/dtucker/resources/DTucker-v1.0.tar.gz)             | Tucker, Other                     | D          | C        | Matlab           |      | ?    |              |             |\n",
    "| [DFacTo](http://www.joonheechoi.com/research.)                                          | CP                                | S          | C, D     | C++              |      | ?    |              |             |\n",
    "| [EXATN](https://github.com/ORNL-QCI/exatn)                                              | TensorTrain                       | D          | C, D, G  | C++, Py          | +    |      | +            |             |\n",
    "| [Genten](https://gitlab.com/tensors/genten)                                             | CP                                | D, S       | C, G     | C++              | +    |      | +            |             |\n",
    "| GigaTensor                                                                              | CP                                | D          | C        | C++, Python      |      | ?    |              |             |\n",
    "| [ITensor](https://github.com/ITensor/ITensor)                                           | TensorTrain                       | D, BS      | C, G     | C++, Julia       | +    |      | +            |             |\n",
    "| [multiway](https://cran.r-project.org/web/packages/multiway/index.html)                 | CP, Tucker, Other                 | D          | C        | R                |      | ?    |              |             |\n",
    "| [N-way toolbox](http://www.models.life.ku.dk/nwaytoolbox/download)                      | CP, Tucker, Other                 | D          | C        | Matlab           |      | ?    |              |             |\n",
    "| [ParCube](https://www.cs.ucr.edu/~epapalex/src/parCube.zip)                             | CP                                | S          | C        | Matlab           |      | ?    |              |             |\n",
    "| [ParTensor](https://github.com/neurocom/partensor-toolbox)                              | CP                                | D          | C, G     | C++              | +    |      | +            |             |\n",
    "| [ParTI!](https://github.com/hpcgarage/ParTI)                                            | CP, Tucker                        | S          | C, G     | C, CUDA, Mat     | +    | ?    |              |             |\n",
    "| [PLANC](https://github.com/ramkikannan/planc)                                           | CP                                | S          | C, D     | C++              | +    | ?    |              |             |\n",
    "| [PLS toolbox](https://eigenvector.com/software/pls-toolbox/)                            | CP          , Tucker              | D          | C        | Matlab           |      | ?    |              |             |\n",
    "| [Pytensor](https://code.google.com/archive/p/pytensor/source/default/source)            | Tucker                            | D, S       | C        | Python           |      | ?    |              |             |\n",
    "| [rTensor](https://github.com/jamesyili/rTensor)                                         | CP, Tucker, Other                 | D          | C        | R                | +    |      | +            |             |\n",
    "| [rTensor (randomized)](https://github.com/erichson/rTensor)                             | CP                                | D          | C        | Python           | +    |      | +       +    |             |\n",
    "| [scikit-tensor](https://github.com/mnick/scikit-tensor)                                 | CP, Tucker, Other                 | D, S       | C        | Python           | +    | +    | +    +   +   | too old     |\n",
    "| [Scikit-TT](https://github.com/PGelss/scikit_tt)                                        | TensorTrain                       | D          | C        | Python           | +    |      |     +   +    |             |\n",
    "| [SPALS](https://github.com/dehuacheng/SpAls)                                            | CP                                | S          | C        | C++              | +    | ?    |              |             |\n",
    "| [SPARTan](https://github.com/kperros/SPARTan)                                           | Other                             | S          | C        | Matlab           | +    | ?    |              |             |\n",
    "| [SPLATT](https://github.com/ShadenSmith/splatt)                                         | CP                                | S          | C, D     | C, C++, Oct, Mat | +    | ?    |              |             |\n",
    "| [SuSMoST](https://susmost.com/downloads.html)                                           | TensorTrain, Other                | D          | C        | Python           |      | ?    |              |             |\n",
    "| [T3F](https://github.com/Bihaqo/t3f)                                                    | TensorTrain                       | D          | C, G     | Python           | +    | +    | +    + +     | in progress |\n",
    "| [TDALAB](https://github.com/andrewssobral/TDALAB)                                       | CP                                | D, S       | C        | Python, Matlab   | +    |      | +         +  |             |\n",
    "| [TeNPy](https://github.com/tenpy/tenpy)                                        | TensorTrain                       | D          | C        | Python           | +    | +    | +      + +   | in progress |\n",
    "| [Tensor Fox](https://github.com/felipebottega/Tensor-Fox)                               | CP                                | D, S       | C        | Python, Matlab   | +    | +    | +    + +     | ?           |\n",
    "| [Tensor package](http://www.gipsa-lab.fr/~pierre.comon/TensorPackage/tensorPackage.html) | CP                                | D          | C        | Matlab           |      | ?    |              |             |\n",
    "| [Tensor Toolbox](https://gitlab.com/tensors/tensor_toolbox)                             | CP, Tucker, Other                 | D, S       | C        | Matlab           | +    |      | +            |             |\n",
    "| [tensor_decomposition](https://github.com/cyclops-community/tensor_decomposition)       | CP, Tucker                        | D          | C, D     | Python           | +    |      | +        +   |             |\n",
    "| [TensorBox](https://github.com/phananhhuy/TensorBox)                                    | CP, Tucker, Other                 | D, S       | C        | Matlab           | +    |      | +            |             |\n",
    "| [TensorD](https://github.com/Large-Scale-Tensor-Decomposition/tensorD)                  | CP, Tucker                        | D          | C, G     | Python           | ?    | ?    |              |             |\n",
    "| [TensorLab](https://www.tensorlab.net)                                                  | CP, Tucker, Other                 | D, S       | C        | Matlab           |      | ?    |              |             |\n",
    "| [TensorLab+](https://www.tensorlabplus.net)                                             | CP, Other                         | D, S       | C        | Matlab           |      | ?    |              |             |\n",
    "| [TensorLy](https://github.com/tensorly/tensorly)                                        | CP, Tucker, TensorTrain, Other    | D          | C, G     | Python           | +    | +    | +       + +  | in progress |\n",
    "| [Three-Way](https://github.com/cran/ThreeWay)                                           | CP, Tucker                        | D          | C        | R                | +    |      | +            |             |\n",
    "| [TNR](https://github.com/ycyuustc/matlab)                                               | Other                             | D          | C        | Matlab           | +    |      | +            |             |\n",
    "| [TT-Toolbox](https://github.com/oseledets/TT-Toolbox)                                   | TensorTrain                       | D          | C, D, G  | Matlab, Python   | +    |      | +       +    |             |\n",
    "| [xerus](https://git.hemio.de/xerus/xerus/)                                              | TensorTrain                       | D, S       | C        | C++              | +    |      | +            |             |"
   ]
  },
  {
   "cell_type": "markdown",
   "metadata": {},
   "source": "## TensorLy"
  },
  {
   "cell_type": "code",
   "execution_count": 41,
   "metadata": {
    "ExecuteTime": {
     "end_time": "2024-10-10T18:09:07.052493Z",
     "start_time": "2024-10-10T18:09:07.020211Z"
    }
   },
   "outputs": [],
   "source": [
    "# {‘numpy’, ‘mxnet’, ‘pytorch’, ‘tensorflow’, ‘cupy’}\n",
    "# backend variants for tensorly\n",
    "# tl.set_backend('pytorch')\n",
    "# with tl.backend_context(‘pytorch’): ... pass\n",
    "\n",
    "# video_frames_cuda = tl.tensor(video_frames.copy()).to(device)\n",
    "# video_frames_cuda = tl.tensor(video_frames.copy())"
   ]
  },
  {
   "cell_type": "markdown",
   "metadata": {},
   "source": "### Params"
  },
  {
   "cell_type": "code",
   "execution_count": 42,
   "metadata": {
    "ExecuteTime": {
     "end_time": "2024-10-10T18:09:07.109547Z",
     "start_time": "2024-10-10T18:09:07.078403Z"
    }
   },
   "outputs": [],
   "source": [
    "# video_frames"
   ]
  },
  {
   "cell_type": "markdown",
   "metadata": {},
   "source": "### Tucker (tl.decomposition.tucker)"
  },
  {
   "cell_type": "markdown",
   "metadata": {},
   "source": "#### Params"
  },
  {
   "cell_type": "code",
   "execution_count": 43,
   "metadata": {
    "ExecuteTime": {
     "end_time": "2024-10-10T18:09:05.719285Z",
     "start_time": "2024-10-10T18:09:07.146657Z"
    }
   },
   "outputs": [
    {
     "data": {
      "text/plain": [
       "['truncated_svd', 'symeig_svd', 'randomized_svd']"
      ]
     },
     "execution_count": 43,
     "metadata": {},
     "output_type": "execute_result"
    }
   ],
   "source": [
    "tl.SVD_FUNS"
   ]
  },
  {
   "cell_type": "code",
   "execution_count": 44,
   "metadata": {
    "ExecuteTime": {
     "end_time": "2024-10-10T18:09:05.806588Z",
     "start_time": "2024-10-10T18:09:05.753053Z"
    }
   },
   "outputs": [],
   "source": [
    "tensor_rank_mapping = {\n",
    "    \"video\": (video_frames.shape[0] // 2, video_frames.shape[1], video_frames.shape[2], video_frames.shape[3]),\n",
    "}\n",
    "\n",
    "input_tensors = {\n",
    "    \"video\": video_frames.copy(),\n",
    "}\n",
    "\n",
    "n_iter_max_param = 100\n",
    "\n",
    "svd_params = [\"truncated_svd\", \"symeig_svd\", \"randomized_svd\"]\n",
    "\n",
    "init_params = [\"svd\", \"random\"]\n",
    "\n",
    "backend_params = [\"pytorch\", \"numpy\"]\n",
    "\n",
    "random_state_param = 42\n",
    "\n",
    "total_iterations = len(list(product(svd_params, init_params, backend_params))) * len(input_tensors)"
   ]
  },
  {
   "cell_type": "markdown",
   "metadata": {},
   "source": "#### Implementation"
  },
  {
   "cell_type": "code",
   "execution_count": 45,
   "metadata": {
    "ExecuteTime": {
     "end_time": "2024-10-11T03:37:17.748964Z",
     "start_time": "2024-10-10T18:09:05.851848Z"
    }
   },
   "outputs": [
    {
     "name": "stdout",
     "output_type": "stream",
     "text": [
      "Файл .cache/method_logs.json не найден.\n"
     ]
    },
    {
     "name": "stderr",
     "output_type": "stream",
     "text": [
      "Проверка набора параметров:   0%|          | 0/12 [00:00<?, ?it/s]\n",
      "Эксперимент набора параметров:   0%|          | 0/10 [00:00<?, ?it/s]\u001b[A\n",
      "Эксперимент набора параметров:  10%|█         | 1/10 [00:18<02:43, 18.16s/it]\u001b[A\n",
      "Эксперимент набора параметров:  20%|██        | 2/10 [00:34<02:16, 17.07s/it]\u001b[A\n",
      "Эксперимент набора параметров:  30%|███       | 3/10 [00:52<02:02, 17.43s/it]\u001b[A\n",
      "Эксперимент набора параметров:  40%|████      | 4/10 [01:08<01:42, 17.01s/it]\u001b[A\n",
      "Эксперимент набора параметров:  50%|█████     | 5/10 [01:26<01:26, 17.34s/it]\u001b[A\n",
      "Эксперимент набора параметров:  60%|██████    | 6/10 [01:42<01:08, 17.01s/it]\u001b[A\n",
      "Эксперимент набора параметров:  70%|███████   | 7/10 [02:00<00:51, 17.26s/it]\u001b[A\n",
      "Эксперимент набора параметров:  80%|████████  | 8/10 [02:17<00:34, 17.01s/it]\u001b[A\n",
      "Эксперимент набора параметров:  90%|█████████ | 9/10 [02:33<00:16, 16.81s/it]\u001b[A\n",
      "Эксперимент набора параметров: 100%|██████████| 10/10 [02:51<00:00, 17.15s/it]\u001b[A\n",
      "Проверка набора параметров:   8%|▊         | 1/12 [02:52<31:38, 172.56s/it]"
     ]
    },
    {
     "name": "stdout",
     "output_type": "stream",
     "text": [
      "Видео сохранено как /home/johndoe_19/git-projects/tensor-methods-comparison/.cache/output/TensorLy_Tucker_video_pytorch_truncated_svd_svd.mp4\n"
     ]
    },
    {
     "name": "stderr",
     "output_type": "stream",
     "text": [
      "\n",
      "Эксперимент набора параметров:   0%|          | 0/10 [00:00<?, ?it/s]\u001b[A\n",
      "Эксперимент набора параметров:  10%|█         | 1/10 [00:09<01:24,  9.43s/it]\u001b[A\n",
      "Эксперимент набора параметров:  20%|██        | 2/10 [00:17<01:08,  8.53s/it]\u001b[A\n",
      "Эксперимент набора параметров:  30%|███       | 3/10 [00:26<01:02,  8.88s/it]\u001b[A\n",
      "Эксперимент набора параметров:  40%|████      | 4/10 [00:36<00:54,  9.09s/it]\u001b[A\n",
      "Эксперимент набора параметров:  50%|█████     | 5/10 [00:43<00:43,  8.66s/it]\u001b[A\n",
      "Эксперимент набора параметров:  60%|██████    | 6/10 [00:53<00:35,  8.92s/it]\u001b[A\n",
      "Эксперимент набора параметров:  70%|███████   | 7/10 [01:02<00:27,  9.07s/it]\u001b[A\n",
      "Эксперимент набора параметров:  80%|████████  | 8/10 [01:12<00:18,  9.19s/it]\u001b[A\n",
      "Эксперимент набора параметров:  90%|█████████ | 9/10 [01:20<00:08,  8.80s/it]\u001b[A\n",
      "Эксперимент набора параметров: 100%|██████████| 10/10 [01:29<00:00,  8.95s/it]\u001b[A\n",
      "Проверка набора параметров:  17%|█▋        | 2/12 [04:23<20:43, 124.35s/it]"
     ]
    },
    {
     "name": "stdout",
     "output_type": "stream",
     "text": [
      "Видео сохранено как /home/johndoe_19/git-projects/tensor-methods-comparison/.cache/output/TensorLy_Tucker_video_pytorch_truncated_svd_random.mp4\n"
     ]
    },
    {
     "name": "stderr",
     "output_type": "stream",
     "text": [
      "\n",
      "Эксперимент набора параметров:   0%|          | 0/10 [00:07<?, ?it/s]\u001b[A\n",
      "Проверка набора параметров:  25%|██▌       | 3/12 [04:30<10:39, 71.11s/it] "
     ]
    },
    {
     "name": "stdout",
     "output_type": "stream",
     "text": [
      "Пропущена итерация из-за недостатка памяти: pytorch, symeig_svd, svd. Ошибка: CUDA out of memory. Tried to allocate 177.30 GiB (GPU 0; 11.00 GiB total capacity; 1.26 GiB already allocated; 8.08 GiB free; 1.80 GiB reserved in total by PyTorch) If reserved memory is >> allocated memory try setting max_split_size_mb to avoid fragmentation.  See documentation for Memory Management and PYTORCH_CUDA_ALLOC_CONF\n"
     ]
    },
    {
     "name": "stderr",
     "output_type": "stream",
     "text": [
      "\n",
      "Эксперимент набора параметров:   0%|          | 0/10 [00:00<?, ?it/s]\u001b[A\n",
      "Эксперимент набора параметров:  10%|█         | 1/10 [00:07<01:11,  7.91s/it]\u001b[A\n",
      "Эксперимент набора параметров:  20%|██        | 2/10 [00:17<01:10,  8.77s/it]\u001b[A\n",
      "Эксперимент набора параметров:  30%|███       | 3/10 [00:26<01:03,  9.06s/it]\u001b[A\n",
      "Эксперимент набора параметров:  40%|████      | 4/10 [00:36<00:54,  9.16s/it]\u001b[A\n",
      "Эксперимент набора параметров:  50%|█████     | 5/10 [00:43<00:43,  8.70s/it]\u001b[A\n",
      "Эксперимент набора параметров:  60%|██████    | 6/10 [00:53<00:35,  8.89s/it]\u001b[A\n",
      "Эксперимент набора параметров:  70%|███████   | 7/10 [01:02<00:26,  8.99s/it]\u001b[A\n",
      "Эксперимент набора параметров:  80%|████████  | 8/10 [01:10<00:17,  8.64s/it]\u001b[A\n",
      "Эксперимент набора параметров:  90%|█████████ | 9/10 [01:19<00:08,  8.84s/it]\u001b[A\n",
      "Эксперимент набора параметров: 100%|██████████| 10/10 [01:28<00:00,  8.88s/it]\u001b[A\n",
      "Проверка набора параметров:  33%|███▎      | 4/12 [06:00<10:28, 78.54s/it]"
     ]
    },
    {
     "name": "stdout",
     "output_type": "stream",
     "text": [
      "Видео сохранено как /home/johndoe_19/git-projects/tensor-methods-comparison/.cache/output/TensorLy_Tucker_video_pytorch_symeig_svd_random.mp4\n"
     ]
    },
    {
     "name": "stderr",
     "output_type": "stream",
     "text": [
      "\n",
      "Эксперимент набора параметров:   0%|          | 0/10 [00:00<?, ?it/s]\u001b[A\n",
      "Эксперимент набора параметров:  10%|█         | 1/10 [00:51<07:40, 51.18s/it]\u001b[A\n",
      "Эксперимент набора параметров:  20%|██        | 2/10 [01:42<06:49, 51.16s/it]\u001b[A\n",
      "Эксперимент набора параметров:  30%|███       | 3/10 [02:35<06:03, 51.92s/it]\u001b[A\n",
      "Эксперимент набора параметров:  40%|████      | 4/10 [03:26<05:10, 51.70s/it]\u001b[A\n",
      "Эксперимент набора параметров:  50%|█████     | 5/10 [04:17<04:17, 51.57s/it]\u001b[A\n",
      "Эксперимент набора параметров:  60%|██████    | 6/10 [05:10<03:27, 51.85s/it]\u001b[A\n",
      "Эксперимент набора параметров:  70%|███████   | 7/10 [06:01<02:35, 51.71s/it]\u001b[A\n",
      "Эксперимент набора параметров:  80%|████████  | 8/10 [06:52<01:43, 51.51s/it]\u001b[A\n",
      "Эксперимент набора параметров:  90%|█████████ | 9/10 [07:45<00:51, 51.75s/it]\u001b[A\n",
      "Эксперимент набора параметров: 100%|██████████| 10/10 [08:43<00:00, 52.32s/it]\u001b[A\n",
      "Проверка набора параметров:  42%|████▏     | 5/12 [14:45<27:55, 239.29s/it]"
     ]
    },
    {
     "name": "stdout",
     "output_type": "stream",
     "text": [
      "Видео сохранено как /home/johndoe_19/git-projects/tensor-methods-comparison/.cache/output/TensorLy_Tucker_video_pytorch_randomized_svd_svd.mp4\n"
     ]
    },
    {
     "name": "stderr",
     "output_type": "stream",
     "text": [
      "\n",
      "Эксперимент набора параметров:   0%|          | 0/10 [00:00<?, ?it/s]\u001b[A\n",
      "Эксперимент набора параметров:  10%|█         | 1/10 [00:07<01:09,  7.77s/it]\u001b[A\n",
      "Эксперимент набора параметров:  20%|██        | 2/10 [00:16<01:07,  8.45s/it]\u001b[A\n",
      "Эксперимент набора параметров:  30%|███       | 3/10 [00:25<01:01,  8.78s/it]\u001b[A\n",
      "Эксперимент набора параметров:  40%|████      | 4/10 [00:34<00:53,  8.87s/it]\u001b[A\n",
      "Эксперимент набора параметров:  50%|█████     | 5/10 [00:42<00:42,  8.41s/it]\u001b[A\n",
      "Эксперимент набора параметров:  60%|██████    | 6/10 [00:51<00:34,  8.63s/it]\u001b[A\n",
      "Эксперимент набора параметров:  70%|███████   | 7/10 [01:00<00:26,  8.74s/it]\u001b[A\n",
      "Эксперимент набора параметров:  80%|████████  | 8/10 [01:09<00:17,  8.88s/it]\u001b[A\n",
      "Эксперимент набора параметров:  90%|█████████ | 9/10 [01:17<00:08,  8.45s/it]\u001b[A\n",
      "Эксперимент набора параметров: 100%|██████████| 10/10 [01:26<00:00,  8.62s/it]\u001b[A\n",
      "Проверка набора параметров:  50%|█████     | 6/12 [16:12<18:45, 187.62s/it]"
     ]
    },
    {
     "name": "stdout",
     "output_type": "stream",
     "text": [
      "Видео сохранено как /home/johndoe_19/git-projects/tensor-methods-comparison/.cache/output/TensorLy_Tucker_video_pytorch_randomized_svd_random.mp4\n"
     ]
    },
    {
     "name": "stderr",
     "output_type": "stream",
     "text": [
      "\n",
      "Эксперимент набора параметров:   0%|          | 0/10 [00:00<?, ?it/s]\u001b[A\n",
      "Эксперимент набора параметров:  10%|█         | 1/10 [09:47<1:28:08, 587.57s/it]\u001b[A\n",
      "Эксперимент набора параметров:  20%|██        | 2/10 [19:29<1:17:52, 584.02s/it]\u001b[A\n",
      "Эксперимент набора параметров:  30%|███       | 3/10 [29:28<1:08:57, 591.03s/it]\u001b[A\n",
      "Эксперимент набора параметров:  40%|████      | 4/10 [39:14<58:54, 589.15s/it]  \u001b[A\n",
      "Эксперимент набора параметров:  50%|█████     | 5/10 [48:58<48:55, 587.13s/it]\u001b[A\n",
      "Эксперимент набора параметров:  60%|██████    | 6/10 [58:45<39:07, 587.00s/it]\u001b[A\n",
      "Эксперимент набора параметров:  70%|███████   | 7/10 [1:08:35<29:24, 588.01s/it]\u001b[A\n",
      "Эксперимент набора параметров:  80%|████████  | 8/10 [1:18:16<19:31, 586.00s/it]\u001b[A\n",
      "Эксперимент набора параметров:  90%|█████████ | 9/10 [1:28:00<09:45, 585.14s/it]\u001b[A\n",
      "Эксперимент набора параметров: 100%|██████████| 10/10 [1:37:43<00:00, 586.32s/it]\u001b[A\n",
      "Проверка набора параметров:  58%|█████▊    | 7/12 [1:53:56<2:50:17, 2043.53s/it]"
     ]
    },
    {
     "name": "stdout",
     "output_type": "stream",
     "text": [
      "Видео сохранено как /home/johndoe_19/git-projects/tensor-methods-comparison/.cache/output/TensorLy_Tucker_video_numpy_truncated_svd_svd.mp4\n"
     ]
    },
    {
     "name": "stderr",
     "output_type": "stream",
     "text": [
      "\n",
      "Эксперимент набора параметров:   0%|          | 0/10 [00:00<?, ?it/s]\u001b[A\n",
      "Эксперимент набора параметров:  10%|█         | 1/10 [06:56<1:02:25, 416.18s/it]\u001b[A\n",
      "Эксперимент набора параметров:  20%|██        | 2/10 [14:00<56:05, 420.73s/it]  \u001b[A\n",
      "Эксперимент набора параметров:  30%|███       | 3/10 [21:01<49:05, 420.82s/it]\u001b[A\n",
      "Эксперимент набора параметров:  40%|████      | 4/10 [27:55<41:50, 418.45s/it]\u001b[A\n",
      "Эксперимент набора параметров:  50%|█████     | 5/10 [34:59<35:01, 420.37s/it]\u001b[A\n",
      "Эксперимент набора параметров:  60%|██████    | 6/10 [42:04<28:07, 421.98s/it]\u001b[A\n",
      "Эксперимент набора параметров:  70%|███████   | 7/10 [49:03<21:03, 421.02s/it]\u001b[A\n",
      "Эксперимент набора параметров:  80%|████████  | 8/10 [56:06<14:03, 421.68s/it]\u001b[A\n",
      "Эксперимент набора параметров:  90%|█████████ | 9/10 [1:03:07<07:01, 421.44s/it]\u001b[A\n",
      "Эксперимент набора параметров: 100%|██████████| 10/10 [1:10:08<00:00, 420.84s/it]\u001b[A\n",
      "Проверка набора параметров:  67%|██████▋   | 8/12 [3:04:06<3:02:12, 2733.14s/it]"
     ]
    },
    {
     "name": "stdout",
     "output_type": "stream",
     "text": [
      "Видео сохранено как /home/johndoe_19/git-projects/tensor-methods-comparison/.cache/output/TensorLy_Tucker_video_numpy_truncated_svd_random.mp4\n"
     ]
    },
    {
     "name": "stderr",
     "output_type": "stream",
     "text": [
      "\n",
      "Эксперимент набора параметров:   0%|          | 0/10 [00:00<?, ?it/s]\u001b[A\n",
      "Проверка набора параметров:  75%|███████▌  | 9/12 [3:04:07<1:33:56, 1878.99s/it]"
     ]
    },
    {
     "name": "stdout",
     "output_type": "stream",
     "text": [
      "Пропущена итерация из-за недостатка памяти: numpy, symeig_svd, svd. Ошибка: Unable to allocate 44.3 GiB for an array with shape (218160, 218160) and data type uint8\n"
     ]
    },
    {
     "name": "stderr",
     "output_type": "stream",
     "text": [
      "\n",
      "Эксперимент набора параметров:   0%|          | 0/10 [00:00<?, ?it/s]\u001b[A\n",
      "Эксперимент набора параметров:  10%|█         | 1/10 [07:16<1:05:26, 436.30s/it]\u001b[A\n",
      "Эксперимент набора параметров:  20%|██        | 2/10 [14:20<57:14, 429.30s/it]  \u001b[A\n",
      "Эксперимент набора параметров:  30%|███       | 3/10 [21:23<49:45, 426.47s/it]\u001b[A\n",
      "Эксперимент набора параметров:  40%|████      | 4/10 [28:27<42:31, 425.20s/it]\u001b[A\n",
      "Эксперимент набора параметров:  50%|█████     | 5/10 [35:27<35:17, 423.47s/it]\u001b[A\n",
      "Эксперимент набора параметров:  60%|██████    | 6/10 [42:33<28:17, 424.28s/it]\u001b[A\n",
      "Эксперимент набора параметров:  70%|███████   | 7/10 [49:41<21:16, 425.52s/it]\u001b[A\n",
      "Эксперимент набора параметров:  80%|████████  | 8/10 [56:45<14:10, 425.05s/it]\u001b[A\n",
      "Эксперимент набора параметров:  90%|█████████ | 9/10 [1:03:52<07:05, 425.83s/it]\u001b[A\n",
      "Эксперимент набора параметров: 100%|██████████| 10/10 [1:11:05<00:00, 426.54s/it]\u001b[A\n",
      "Проверка набора параметров:  83%|████████▎ | 10/12 [4:15:12<1:27:11, 2615.59s/it]"
     ]
    },
    {
     "name": "stdout",
     "output_type": "stream",
     "text": [
      "Видео сохранено как /home/johndoe_19/git-projects/tensor-methods-comparison/.cache/output/TensorLy_Tucker_video_numpy_symeig_svd_random.mp4\n"
     ]
    },
    {
     "name": "stderr",
     "output_type": "stream",
     "text": [
      "\n",
      "Эксперимент набора параметров:   0%|          | 0/10 [00:00<?, ?it/s]\u001b[A\n",
      "Эксперимент набора параметров:  10%|█         | 1/10 [22:55<3:26:19, 1375.51s/it]\u001b[A\n",
      "Эксперимент набора параметров:  20%|██        | 2/10 [46:40<3:07:16, 1404.61s/it]\u001b[A\n",
      "Эксперимент набора параметров:  30%|███       | 3/10 [1:11:05<2:47:04, 1432.08s/it]\u001b[A\n",
      "Эксперимент набора параметров:  40%|████      | 4/10 [1:37:37<2:29:32, 1495.39s/it]\u001b[A\n",
      "Эксперимент набора параметров:  50%|█████     | 5/10 [2:01:15<2:02:17, 1467.48s/it]\u001b[A\n",
      "Эксперимент набора параметров:  60%|██████    | 6/10 [2:24:24<1:36:03, 1440.86s/it]\u001b[A\n",
      "Эксперимент набора параметров:  70%|███████   | 7/10 [2:48:51<1:12:27, 1449.22s/it]\u001b[A\n",
      "Эксперимент набора параметров:  80%|████████  | 8/10 [3:13:20<48:31, 1455.55s/it]  \u001b[A\n",
      "Эксперимент набора параметров:  90%|█████████ | 9/10 [3:36:44<23:59, 1439.59s/it]\u001b[A\n",
      "Эксперимент набора параметров: 100%|██████████| 10/10 [4:00:17<00:00, 1441.72s/it]\u001b[A\n",
      "Проверка набора параметров:  92%|█████████▏| 11/12 [8:15:31<1:43:47, 6227.89s/it]"
     ]
    },
    {
     "name": "stdout",
     "output_type": "stream",
     "text": [
      "Видео сохранено как /home/johndoe_19/git-projects/tensor-methods-comparison/.cache/output/TensorLy_Tucker_video_numpy_randomized_svd_svd.mp4\n"
     ]
    },
    {
     "name": "stderr",
     "output_type": "stream",
     "text": [
      "\n",
      "Эксперимент набора параметров:   0%|          | 0/10 [00:00<?, ?it/s]\u001b[A\n",
      "Эксперимент набора параметров:  10%|█         | 1/10 [07:11<1:04:47, 431.90s/it]\u001b[A\n",
      "Эксперимент набора параметров:  20%|██        | 2/10 [14:32<58:14, 436.78s/it]  \u001b[A\n",
      "Эксперимент набора параметров:  30%|███       | 3/10 [21:43<50:40, 434.34s/it]\u001b[A\n",
      "Эксперимент набора параметров:  40%|████      | 4/10 [28:53<43:16, 432.69s/it]\u001b[A\n",
      "Эксперимент набора параметров:  50%|█████     | 5/10 [36:12<36:14, 434.90s/it]\u001b[A\n",
      "Эксперимент набора параметров:  60%|██████    | 6/10 [43:30<29:03, 435.91s/it]\u001b[A\n",
      "Эксперимент набора параметров:  70%|███████   | 7/10 [50:43<21:45, 435.08s/it]\u001b[A\n",
      "Эксперимент набора параметров:  80%|████████  | 8/10 [58:06<14:35, 437.56s/it]\u001b[A\n",
      "Эксперимент набора параметров:  90%|█████████ | 9/10 [1:05:23<07:17, 437.34s/it]\u001b[A\n",
      "Эксперимент набора параметров: 100%|██████████| 10/10 [1:12:39<00:00, 435.96s/it]\u001b[A\n",
      "Проверка набора параметров: 100%|██████████| 12/12 [9:28:11<00:00, 2840.99s/it]  "
     ]
    },
    {
     "name": "stdout",
     "output_type": "stream",
     "text": [
      "Видео сохранено как /home/johndoe_19/git-projects/tensor-methods-comparison/.cache/output/TensorLy_Tucker_video_numpy_randomized_svd_random.mp4\n"
     ]
    },
    {
     "name": "stderr",
     "output_type": "stream",
     "text": [
      "\n"
     ]
    }
   ],
   "source": [
    "logs = MethodLogger.load_logs_from_file(log_file_path)\n",
    "\n",
    "for tensor_name, input_tensor in input_tensors.items():\n",
    "    rank_param = tensor_rank_mapping[tensor_name]\n",
    "\n",
    "    for backend, svd_func, init_method in tqdm(\n",
    "        product(backend_params, svd_params, init_params), desc=\"Проверка набора параметров\", total=total_iterations\n",
    "    ):\n",
    "        library_method_name = \"TensorLy_Tucker\"\n",
    "        method_name = f\"{library_method_name}_{tensor_name}_{backend}_{svd_func}_{init_method}\"\n",
    "\n",
    "        if logs:\n",
    "            existing_log = next(\n",
    "                (\n",
    "                    log\n",
    "                    for log in logs\n",
    "                    if log[\"method_name\"] == method_name\n",
    "                    and log[\"method_args\"].get(\"init\") == init_method\n",
    "                    and log[\"method_args\"].get(\"svd\") == svd_func\n",
    "                    and log[\"qualitative_metrics\"].get(\"TensorLy backend\") == backend\n",
    "                ),\n",
    "                None,\n",
    "            )\n",
    "            if existing_log:\n",
    "                print(f\"Пропущена итерация: логи уже существуют для {method_name}\")\n",
    "                continue\n",
    "\n",
    "        torch.cuda.synchronize()\n",
    "        torch.cuda.empty_cache()\n",
    "        gc.collect()\n",
    "\n",
    "        try:\n",
    "            with tl.backend_context(backend):\n",
    "                if backend == \"pytorch\":\n",
    "                    tensor_param = tl.tensor(input_tensor).to(torch_device)\n",
    "                elif backend == \"numpy\" or backend is None:\n",
    "                    tensor_param = tl.tensor(input_tensor)\n",
    "\n",
    "                method_runner = MethodRunner(\n",
    "                    func=tl.decomposition.tucker,\n",
    "                    method_input_tensor=tensor_param,\n",
    "                    library_method_name=library_method_name,\n",
    "                    backend_name=backend,\n",
    "                    gpu_memory_tracker=GPUTorchMemoryTracker(),\n",
    "                    ram_memory_tracker=RAMMemoryTracker(),\n",
    "                    time_tracker=TimeTracker(),\n",
    "                )\n",
    "\n",
    "                method_logger = MethodLogger(\n",
    "                    method_name=method_name,\n",
    "                    qualitative_metrics={\n",
    "                        \"Language\": \"Python\",\n",
    "                        \"Library\": \"TensorLy\",\n",
    "                        \"TensorLy backend\": f\"{backend}\",\n",
    "                        \"Tensor type\": \"Dense\",\n",
    "                        \"Data type\": tensor_name,\n",
    "                        \"Platform\": \"CPU, GPU\",\n",
    "                        \"Decomposition method\": \"Tucker\",\n",
    "                    },\n",
    "                    method_args={\n",
    "                        \"tensor\": tensor_param,\n",
    "                        \"rank\": rank_param,\n",
    "                        \"n_iter_max\": n_iter_max_param,\n",
    "                        \"init\": init_method,\n",
    "                        \"svd\": svd_func,\n",
    "                        \"random_state\": random_state_param,\n",
    "                    },\n",
    "                    runner=method_runner,\n",
    "                )\n",
    "\n",
    "            reconstructed_tensor = method_runner.reconstructed_tensor\n",
    "\n",
    "            method_logger.save_logs_to_file(is_test=False)\n",
    "\n",
    "            reconstructed_frames = []\n",
    "\n",
    "            if backend == \"pytorch\":\n",
    "                reconstructed_tensor = reconstructed_tensor.cpu().numpy()\n",
    "            reconstructed_frames = [normalize_frames(frame) for frame in reconstructed_tensor]\n",
    "\n",
    "            save_params_combinations = {\n",
    "                \"video\": {\"name\": method_logger.name, \"frames\": reconstructed_frames, \"fps\": original_fps, \"frame_size\": frame_size}\n",
    "            }\n",
    "            save_params = save_params_combinations[tensor_name]\n",
    "\n",
    "            SaveFramesFactory.get_save_methods(frame_name=tensor_name).save_frames(**save_params)\n",
    "\n",
    "        except (torch.cuda.OutOfMemoryError, MemoryError) as e:\n",
    "            print(f\"Пропущена итерация из-за недостатка памяти: {backend}, {svd_func}, {init_method}. Ошибка: {e!s}\")\n",
    "            torch.cuda.synchronize()\n",
    "            torch.cuda.empty_cache()\n",
    "            gc.collect()\n",
    "            continue"
   ]
  },
  {
   "cell_type": "code",
   "execution_count": 46,
   "metadata": {
    "ExecuteTime": {
     "end_time": "2024-10-11T03:37:17.986908Z",
     "start_time": "2024-10-11T03:37:17.787261Z"
    }
   },
   "outputs": [
    {
     "data": {
      "text/plain": [
       "485"
      ]
     },
     "execution_count": 46,
     "metadata": {},
     "output_type": "execute_result"
    }
   ],
   "source": [
    "del method_runner, method_logger, tensor_param\n",
    "\n",
    "torch.cuda.synchronize()\n",
    "torch.cuda.empty_cache()\n",
    "gc.collect()"
   ]
  },
  {
   "cell_type": "markdown",
   "metadata": {},
   "source": "### Tensor Train - MPS (tensorly.decomposition.tensor_train)"
  },
  {
   "cell_type": "markdown",
   "metadata": {},
   "source": "#### Params"
  },
  {
   "cell_type": "code",
   "execution_count": 47,
   "metadata": {
    "ExecuteTime": {
     "end_time": "2024-10-11T03:37:18.363301Z",
     "start_time": "2024-10-11T03:37:18.013869Z"
    }
   },
   "outputs": [],
   "source": [
    "tensor_rank_mapping = {\n",
    "    \"video\": [1, 500, 302, 500, 1],\n",
    "}\n",
    "\n",
    "input_tensors = {\n",
    "    \"video\": video_frames.copy(),\n",
    "}\n",
    "\n",
    "svd_params = [\"truncated_svd\", \"symeig_svd\", \"randomized_svd\"]\n",
    "\n",
    "backend_params = [\"pytorch\", \"numpy\"]\n",
    "\n",
    "total_iterations = len(list(product(backend_params, svd_params))) * len(input_tensors)"
   ]
  },
  {
   "cell_type": "markdown",
   "metadata": {},
   "source": "#### Implementation"
  },
  {
   "cell_type": "code",
   "execution_count": 49,
   "metadata": {
    "ExecuteTime": {
     "end_time": "2024-10-11T12:02:13.024574Z",
     "start_time": "2024-10-11T09:46:09.342850Z"
    }
   },
   "outputs": [
    {
     "name": "stdout",
     "output_type": "stream",
     "text": [
      "Файл .cache/method_logs.json не найден.\n"
     ]
    },
    {
     "name": "stderr",
     "output_type": "stream",
     "text": [
      "Проверка набора параметров:   0%|          | 0/6 [00:00<?, ?it/s]\n",
      "Эксперимент набора параметров:   0%|          | 0/10 [00:00<?, ?it/s]\u001b[A\n",
      "Эксперимент набора параметров:  10%|█         | 1/10 [00:03<00:29,  3.31s/it]\u001b[A\n",
      "Эксперимент набора параметров:  20%|██        | 2/10 [00:06<00:24,  3.07s/it]\u001b[A\n",
      "Эксперимент набора параметров:  30%|███       | 3/10 [00:09<00:20,  2.99s/it]\u001b[A\n",
      "Эксперимент набора параметров:  40%|████      | 4/10 [00:11<00:16,  2.70s/it]\u001b[A\n",
      "Эксперимент набора параметров:  50%|█████     | 5/10 [00:14<00:13,  2.76s/it]\u001b[A\n",
      "Эксперимент набора параметров:  60%|██████    | 6/10 [00:17<00:11,  2.80s/it]\u001b[A\n",
      "Эксперимент набора параметров:  70%|███████   | 7/10 [00:19<00:08,  2.82s/it]\u001b[A\n",
      "Эксперимент набора параметров:  80%|████████  | 8/10 [00:22<00:05,  2.86s/it]\u001b[A\n",
      "Эксперимент набора параметров:  90%|█████████ | 9/10 [00:25<00:02,  2.86s/it]\u001b[A\n",
      "Эксперимент набора параметров: 100%|██████████| 10/10 [00:28<00:00,  2.86s/it]\u001b[A\n",
      "Проверка набора параметров:  17%|█▋        | 1/6 [00:29<02:28, 29.78s/it]"
     ]
    },
    {
     "name": "stdout",
     "output_type": "stream",
     "text": [
      "Видео сохранено как /home/johndoe_19/git-projects/tensor-methods-comparison/.cache/output/TensorLy_TensorTrain_video_pytorch_truncated_svd.mp4\n"
     ]
    },
    {
     "name": "stderr",
     "output_type": "stream",
     "text": [
      "\n",
      "Эксперимент набора параметров:   0%|          | 0/10 [00:07<?, ?it/s]\u001b[A\n",
      "Проверка набора параметров:  33%|███▎      | 2/6 [00:37<01:06, 16.69s/it]"
     ]
    },
    {
     "name": "stdout",
     "output_type": "stream",
     "text": [
      "Пропущена итерация из-за недостатка памяти: pytorch, symeig_svd. Ошибка: CUDA out of memory. Tried to allocate 177.30 GiB (GPU 0; 11.00 GiB total capacity; 2.16 GiB already allocated; 7.36 GiB free; 2.53 GiB reserved in total by PyTorch) If reserved memory is >> allocated memory try setting max_split_size_mb to avoid fragmentation.  See documentation for Memory Management and PYTORCH_CUDA_ALLOC_CONF\n"
     ]
    },
    {
     "name": "stderr",
     "output_type": "stream",
     "text": [
      "\n",
      "Эксперимент набора параметров:   0%|          | 0/10 [00:00<?, ?it/s]\u001b[A\n",
      "Эксперимент набора параметров:  10%|█         | 1/10 [00:08<01:20,  8.90s/it]\u001b[A\n",
      "Эксперимент набора параметров:  20%|██        | 2/10 [00:18<01:14,  9.31s/it]\u001b[A\n",
      "Эксперимент набора параметров:  30%|███       | 3/10 [00:29<01:09,  9.97s/it]\u001b[A\n",
      "Эксперимент набора параметров:  40%|████      | 4/10 [00:38<00:57,  9.59s/it]\u001b[A\n",
      "Эксперимент набора параметров:  50%|█████     | 5/10 [00:47<00:47,  9.57s/it]\u001b[A\n",
      "Эксперимент набора параметров:  60%|██████    | 6/10 [00:57<00:38,  9.66s/it]\u001b[A\n",
      "Эксперимент набора параметров:  70%|███████   | 7/10 [01:08<00:29,  9.91s/it]\u001b[A\n",
      "Эксперимент набора параметров:  80%|████████  | 8/10 [01:19<00:20, 10.37s/it]\u001b[A\n",
      "Эксперимент набора параметров:  90%|█████████ | 9/10 [01:29<00:10, 10.14s/it]\u001b[A\n",
      "Эксперимент набора параметров: 100%|██████████| 10/10 [01:38<00:00,  9.86s/it]\u001b[A\n",
      "Проверка набора параметров:  50%|█████     | 3/6 [02:17<02:43, 54.62s/it]"
     ]
    },
    {
     "name": "stdout",
     "output_type": "stream",
     "text": [
      "Видео сохранено как /home/johndoe_19/git-projects/tensor-methods-comparison/.cache/output/TensorLy_TensorTrain_video_pytorch_randomized_svd.mp4\n"
     ]
    },
    {
     "name": "stderr",
     "output_type": "stream",
     "text": [
      "\n",
      "Эксперимент набора параметров:   0%|          | 0/10 [00:00<?, ?it/s]\u001b[A\n",
      "Эксперимент набора параметров:  10%|█         | 1/10 [01:44<15:38, 104.26s/it]\u001b[A\n",
      "Эксперимент набора параметров:  20%|██        | 2/10 [03:27<13:50, 103.84s/it]\u001b[A\n",
      "Эксперимент набора параметров:  30%|███       | 3/10 [05:08<11:58, 102.60s/it]\u001b[A\n",
      "Эксперимент набора параметров:  40%|████      | 4/10 [06:49<10:09, 101.66s/it]\u001b[A\n",
      "Эксперимент набора параметров:  50%|█████     | 5/10 [08:28<08:23, 100.71s/it]\u001b[A\n",
      "Эксперимент набора параметров:  60%|██████    | 6/10 [10:07<06:41, 100.27s/it]\u001b[A\n",
      "Эксперимент набора параметров:  70%|███████   | 7/10 [11:47<05:00, 100.07s/it]\u001b[A\n",
      "Эксперимент набора параметров:  80%|████████  | 8/10 [13:26<03:19, 99.70s/it] \u001b[A\n",
      "Эксперимент набора параметров:  90%|█████████ | 9/10 [15:05<01:39, 99.71s/it]\u001b[A\n",
      "Эксперимент набора параметров: 100%|██████████| 10/10 [16:46<00:00, 100.62s/it][A\n",
      "Проверка набора параметров:  67%|██████▋   | 4/6 [19:04<14:21, 430.76s/it]"
     ]
    },
    {
     "name": "stdout",
     "output_type": "stream",
     "text": [
      "Видео сохранено как /home/johndoe_19/git-projects/tensor-methods-comparison/.cache/output/TensorLy_TensorTrain_video_numpy_truncated_svd.mp4\n"
     ]
    },
    {
     "name": "stderr",
     "output_type": "stream",
     "text": [
      "\n",
      "Эксперимент набора параметров:   0%|          | 0/10 [00:00<?, ?it/s]\u001b[A\n",
      "Проверка набора параметров:  83%|████████▎ | 5/6 [19:05<04:35, 275.89s/it]"
     ]
    },
    {
     "name": "stdout",
     "output_type": "stream",
     "text": [
      "Пропущена итерация из-за недостатка памяти: numpy, symeig_svd. Ошибка: Unable to allocate 44.3 GiB for an array with shape (218160, 218160) and data type uint8\n"
     ]
    },
    {
     "name": "stderr",
     "output_type": "stream",
     "text": [
      "\n",
      "Эксперимент набора параметров:   0%|          | 0/10 [00:00<?, ?it/s]\u001b[A\n",
      "Эксперимент набора параметров:  10%|█         | 1/10 [11:59<1:47:55, 719.54s/it]\u001b[A\n",
      "Эксперимент набора параметров:  20%|██        | 2/10 [23:52<1:35:25, 715.70s/it]\u001b[A\n",
      "Эксперимент набора параметров:  30%|███       | 3/10 [35:25<1:22:16, 705.23s/it]\u001b[A\n",
      "Эксперимент набора параметров:  40%|████      | 4/10 [46:57<1:10:01, 700.21s/it]\u001b[A\n",
      "Эксперимент набора параметров:  50%|█████     | 5/10 [58:33<58:12, 698.55s/it]  \u001b[A\n",
      "Эксперимент набора параметров:  60%|██████    | 6/10 [1:10:18<46:42, 700.65s/it]\u001b[A\n",
      "Эксперимент набора параметров:  70%|███████   | 7/10 [1:21:54<34:57, 699.27s/it]\u001b[A\n",
      "Эксперимент набора параметров:  80%|████████  | 8/10 [1:33:37<23:20, 700.32s/it]\u001b[A\n",
      "Эксперимент набора параметров:  90%|█████████ | 9/10 [1:45:16<11:39, 699.99s/it]\u001b[A\n",
      "Эксперимент набора параметров: 100%|██████████| 10/10 [1:56:56<00:00, 701.67s/it]\u001b[A\n",
      "Проверка набора параметров: 100%|██████████| 6/6 [2:16:03<00:00, 1360.60s/it]"
     ]
    },
    {
     "name": "stdout",
     "output_type": "stream",
     "text": [
      "Видео сохранено как /home/johndoe_19/git-projects/tensor-methods-comparison/.cache/output/TensorLy_TensorTrain_video_numpy_randomized_svd.mp4\n"
     ]
    },
    {
     "name": "stderr",
     "output_type": "stream",
     "text": [
      "\n"
     ]
    }
   ],
   "source": [
    "logs = MethodLogger.load_logs_from_file(log_file_path)\n",
    "\n",
    "for tensor_name, input_tensor in input_tensors.items():\n",
    "    rank_param = tensor_rank_mapping[tensor_name]\n",
    "    for backend, svd_func in tqdm(product(backend_params, svd_params), desc=\"Проверка набора параметров\", total=total_iterations):\n",
    "        library_method_name = \"TensorLy_TensorTrain\"\n",
    "        method_name = f\"{library_method_name}_{tensor_name}_{backend}_{svd_func}\"\n",
    "\n",
    "        if logs:\n",
    "            existing_log = next(\n",
    "                (\n",
    "                    log\n",
    "                    for log in logs\n",
    "                    if log[\"method_name\"] == method_name\n",
    "                    and log[\"method_args\"].get(\"svd\") == svd_func\n",
    "                    and log[\"qualitative_metrics\"].get(\"TensorLy backend\") == backend\n",
    "                ),\n",
    "                None,\n",
    "            )\n",
    "            if existing_log:\n",
    "                print(f\"Пропущена итерация: логи уже существуют для {method_name}\")\n",
    "                continue\n",
    "\n",
    "        gc.collect()\n",
    "        torch.cuda.empty_cache()\n",
    "        torch.cuda.synchronize()\n",
    "\n",
    "        try:\n",
    "            with tl.backend_context(backend):\n",
    "                if backend == \"pytorch\":\n",
    "                    tensor_param = tl.tensor(input_tensor).to(torch_device)\n",
    "                elif backend == \"numpy\" or backend is None:\n",
    "                    tensor_param = tl.tensor(input_tensor)\n",
    "\n",
    "                method_runner = MethodRunner(\n",
    "                    func=tl.decomposition.tensor_train,\n",
    "                    method_input_tensor=tensor_param,\n",
    "                    library_method_name=library_method_name,\n",
    "                    backend_name=backend,\n",
    "                    gpu_memory_tracker=GPUTorchMemoryTracker(),\n",
    "                    ram_memory_tracker=RAMMemoryTracker(),\n",
    "                    time_tracker=TimeTracker(),\n",
    "                )\n",
    "\n",
    "                method_logger = MethodLogger(\n",
    "                    method_name=method_name,\n",
    "                    qualitative_metrics={\n",
    "                        \"Language\": \"Python\",\n",
    "                        \"Library\": \"TensorLy\",\n",
    "                        \"TensorLy backend\": f\"{backend}\",\n",
    "                        \"Tensor type\": \"Dense\",\n",
    "                        \"Data type\": tensor_name,\n",
    "                        \"Platform\": \"CPU, GPU\",\n",
    "                        \"Decomposition method\": \"TensorTrain\",\n",
    "                    },\n",
    "                    method_args={\n",
    "                        \"input_tensor\": tensor_param,\n",
    "                        \"rank\": rank_param,\n",
    "                        \"svd\": svd_func,\n",
    "                    },\n",
    "                    runner=method_runner,\n",
    "                )\n",
    "\n",
    "            reconstructed_tensor_from_tt_factors = method_runner.reconstructed_tensor\n",
    "\n",
    "            method_logger.save_logs_to_file(is_test=False)\n",
    "\n",
    "            reconstructed_frames = []\n",
    "\n",
    "            for tt_factor in reconstructed_tensor_from_tt_factors:\n",
    "                if backend == \"pytorch\":\n",
    "                    reconstructed_frames.append(normalize_frames(tt_factor.cpu().numpy()))\n",
    "                else:\n",
    "                    reconstructed_frames.append(normalize_frames(tt_factor))\n",
    "\n",
    "            save_params_combinations = {\n",
    "                \"video\": {\"name\": method_logger.name, \"frames\": reconstructed_frames, \"fps\": original_fps, \"frame_size\": frame_size}\n",
    "            }\n",
    "            save_params = save_params_combinations[tensor_name]\n",
    "\n",
    "            SaveFramesFactory.get_save_methods(frame_name=tensor_name).save_frames(**save_params)\n",
    "\n",
    "        except (torch.cuda.OutOfMemoryError, MemoryError) as e:\n",
    "            print(f\"Пропущена итерация из-за недостатка памяти: {backend}, {svd_func}. Ошибка: {e!s}\")\n",
    "            gc.collect()\n",
    "            torch.cuda.empty_cache()\n",
    "            torch.cuda.synchronize()\n",
    "            continue"
   ]
  },
  {
   "cell_type": "code",
   "execution_count": 50,
   "metadata": {
    "ExecuteTime": {
     "end_time": "2024-10-11T12:02:13.563805Z",
     "start_time": "2024-10-11T12:02:13.314714Z"
    }
   },
   "outputs": [
    {
     "data": {
      "text/plain": [
       "0"
      ]
     },
     "execution_count": 50,
     "metadata": {},
     "output_type": "execute_result"
    }
   ],
   "source": [
    "del method_runner, method_logger, tensor_param\n",
    "\n",
    "torch.cuda.synchronize()\n",
    "torch.cuda.empty_cache()\n",
    "gc.collect()"
   ]
  },
  {
   "cell_type": "markdown",
   "metadata": {},
   "source": "## T3F"
  },
  {
   "cell_type": "markdown",
   "metadata": {},
   "source": "### Params"
  },
  {
   "cell_type": "code",
   "execution_count": 51,
   "metadata": {
    "ExecuteTime": {
     "end_time": "2024-10-11T12:02:13.945789Z",
     "start_time": "2024-10-11T12:02:13.695166Z"
    }
   },
   "outputs": [],
   "source": [
    "tensor_rank_mapping = {\n",
    "    \"video\": [1, 500, 302, 500, 1],\n",
    "}\n",
    "\n",
    "input_tensors = {\n",
    "    \"video\": video_frames.copy().astype(np.float32),\n",
    "}\n",
    "\n",
    "backend_param = \"tensorflow\"\n",
    "\n",
    "total_iterations = len(input_tensors)"
   ]
  },
  {
   "cell_type": "markdown",
   "metadata": {},
   "source": "### Implementation"
  },
  {
   "cell_type": "code",
   "execution_count": 57,
   "metadata": {
    "ExecuteTime": {
     "end_time": "2024-10-11T13:59:56.615908Z",
     "start_time": "2024-10-11T13:59:15.943352Z"
    }
   },
   "outputs": [
    {
     "name": "stdout",
     "output_type": "stream",
     "text": [
      "Файл .cache/method_logs.json не найден.\n"
     ]
    },
    {
     "name": "stderr",
     "output_type": "stream",
     "text": [
      "Проверка набора параметров:   0%|          | 0/1 [00:00<?, ?it/s]\n",
      "Эксперимент набора параметров:   0%|          | 0/10 [00:00<?, ?it/s]\u001b[A\n",
      "Эксперимент набора параметров:  10%|█         | 1/10 [00:04<00:43,  4.81s/it]\u001b[A\n",
      "Эксперимент набора параметров:  20%|██        | 2/10 [00:08<00:31,  3.93s/it]\u001b[A\n",
      "Эксперимент набора параметров:  30%|███       | 3/10 [00:12<00:27,  3.94s/it]\u001b[A\n",
      "Эксперимент набора параметров:  40%|████      | 4/10 [00:15<00:23,  3.91s/it]\u001b[A\n",
      "Эксперимент набора параметров:  50%|█████     | 5/10 [00:20<00:19,  3.99s/it]\u001b[A\n",
      "Эксперимент набора параметров:  60%|██████    | 6/10 [00:24<00:15,  3.98s/it]\u001b[A\n",
      "Эксперимент набора параметров:  70%|███████   | 7/10 [00:27<00:11,  3.97s/it]\u001b[A\n",
      "Эксперимент набора параметров:  80%|████████  | 8/10 [00:32<00:07,  3.99s/it]\u001b[A\n",
      "Эксперимент набора параметров:  90%|█████████ | 9/10 [00:35<00:03,  3.91s/it]\u001b[A\n",
      "Эксперимент набора параметров: 100%|██████████| 10/10 [00:38<00:00,  3.87s/it]\u001b[A\n",
      "Проверка набора параметров: 100%|██████████| 1/1 [00:40<00:00, 40.63s/it]"
     ]
    },
    {
     "name": "stdout",
     "output_type": "stream",
     "text": [
      "Видео сохранено как /home/johndoe_19/git-projects/tensor-methods-comparison/.cache/output/T3F_TensorTrain_video.mp4\n"
     ]
    },
    {
     "name": "stderr",
     "output_type": "stream",
     "text": [
      "\n"
     ]
    }
   ],
   "source": [
    "logs = MethodLogger.load_logs_from_file(log_file_path)\n",
    "\n",
    "for tensor_name, input_tensor in tqdm(input_tensors.items(), desc=\"Проверка набора параметров\", total=total_iterations):\n",
    "    rank_param = tensor_rank_mapping[tensor_name]\n",
    "    tensor_param = input_tensor\n",
    "\n",
    "    library_method_name = \"T3F_TensorTrain\"\n",
    "    method_name = f\"{library_method_name}_{tensor_name}\"\n",
    "\n",
    "    if logs:\n",
    "        existing_log = next((log for log in logs if log[\"method_name\"] == method_name), None)\n",
    "        if existing_log:\n",
    "            error_message = f\"Пропущена итерация: логи уже существуют для {method_name}\"\n",
    "            raise error_message\n",
    "\n",
    "    gc.collect()\n",
    "\n",
    "    method_runner = MethodRunner(\n",
    "        func=t3f.to_tt_tensor,\n",
    "        method_input_tensor=tensor_param,\n",
    "        library_method_name=library_method_name,\n",
    "        backend_name=backend_param,\n",
    "        gpu_memory_tracker=GPUTorchMemoryTracker(),\n",
    "        ram_memory_tracker=RAMMemoryTracker(),\n",
    "        time_tracker=TimeTracker(),\n",
    "    )\n",
    "\n",
    "    method_logger = MethodLogger(\n",
    "        method_name=method_name,\n",
    "        qualitative_metrics={\n",
    "            \"Language\": \"Python\",\n",
    "            \"Library\": \"T3F\",\n",
    "            \"T3F backend\": f\"{backend_param}\",\n",
    "            \"Tensor type\": \"Dense\",\n",
    "            \"Data type\": tensor_name,\n",
    "            \"Platform\": \"CPU, GPU\",\n",
    "            \"Decomposition method\": \"TensorTrain\",\n",
    "        },\n",
    "        method_args={\n",
    "            \"tens\": tensor_param,\n",
    "            \"max_tt_rank\": rank_param,\n",
    "        },\n",
    "        runner=method_runner,\n",
    "    )\n",
    "\n",
    "    reconstructed_tensor_t3f = method_runner.reconstructed_tensor\n",
    "\n",
    "    method_logger.save_logs_to_file(is_test=False)\n",
    "\n",
    "    reconstructed_frames = []\n",
    "\n",
    "    for frame in reconstructed_tensor_t3f:\n",
    "        reconstructed_frames.append(normalize_frames(frame))\n",
    "\n",
    "    save_params_combinations = {\"video\": {\"name\": method_logger.name, \"frames\": reconstructed_frames, \"fps\": original_fps, \"frame_size\": frame_size}}\n",
    "    save_params = save_params_combinations[tensor_name]\n",
    "\n",
    "    SaveFramesFactory.get_save_methods(frame_name=tensor_name).save_frames(**save_params)"
   ]
  },
  {
   "cell_type": "code",
   "execution_count": 58,
   "metadata": {
    "ExecuteTime": {
     "end_time": "2024-10-11T13:59:57.060896Z",
     "start_time": "2024-10-11T13:59:56.862020Z"
    }
   },
   "outputs": [
    {
     "data": {
      "text/plain": [
       "0"
      ]
     },
     "execution_count": 58,
     "metadata": {},
     "output_type": "execute_result"
    }
   ],
   "source": [
    "del method_runner, method_logger, tensor_param\n",
    "\n",
    "torch.cuda.synchronize()\n",
    "torch.cuda.empty_cache()\n",
    "gc.collect()"
   ]
  },
  {
   "cell_type": "markdown",
   "metadata": {},
   "source": "## TeNPy"
  },
  {
   "cell_type": "markdown",
   "metadata": {},
   "source": "### Params"
  },
  {
   "cell_type": "code",
   "execution_count": 25,
   "metadata": {
    "ExecuteTime": {
     "end_time": "2024-10-11T03:37:43.182718300Z",
     "start_time": "2024-10-03T00:15:40.286018Z"
    }
   },
   "outputs": [],
   "source": [
    "# tensor_param = video_frames.copy().astype(np.float32)\n",
    "#\n",
    "# # Размерность физического индекса\n",
    "# d = tensor_param.shape[-1]  # в вашем случае это 3\n",
    "#\n",
    "# # Создаем объект LegCharge\n",
    "# leg = LegCharge.from_trivial(d)\n",
    "#\n",
    "# # Создаем объекты Site для каждого физического индекса, кроме последнего\n",
    "# sites = [Site(leg) for _ in range(tensor_param.ndim - 1)]\n",
    "#\n",
    "# rank_param = [1, 500, 302, 500, 1]"
   ]
  },
  {
   "cell_type": "markdown",
   "metadata": {},
   "source": "### Implementation"
  },
  {
   "cell_type": "code",
   "execution_count": 26,
   "metadata": {
    "ExecuteTime": {
     "end_time": "2024-10-11T03:37:43.182718300Z",
     "start_time": "2024-10-03T00:15:49.865401Z"
    }
   },
   "outputs": [
    {
     "ename": "AttributeError",
     "evalue": "'numpy.ndarray' object has no attribute 'has_label'",
     "output_type": "error",
     "traceback": [
      "\u001b[1;31m---------------------------------------------------------------------------\u001b[0m",
      "\u001b[1;31mAttributeError\u001b[0m                            Traceback (most recent call last)",
      "Cell \u001b[1;32mIn[26], line 1\u001b[0m\n\u001b[1;32m----> 1\u001b[0m mps \u001b[38;5;241m=\u001b[39m \u001b[43mMPS\u001b[49m\u001b[38;5;241;43m.\u001b[39;49m\u001b[43mfrom_full\u001b[49m\u001b[43m(\u001b[49m\u001b[43msites\u001b[49m\u001b[38;5;241;43m=\u001b[39;49m\u001b[43msites\u001b[49m\u001b[43m,\u001b[49m\u001b[43m \u001b[49m\u001b[43mpsi\u001b[49m\u001b[38;5;241;43m=\u001b[39;49m\u001b[43mtensor_param\u001b[49m\u001b[43m,\u001b[49m\u001b[43m \u001b[49m\u001b[43mnormalize\u001b[49m\u001b[38;5;241;43m=\u001b[39;49m\u001b[38;5;28;43;01mFalse\u001b[39;49;00m\u001b[43m)\u001b[49m\n\u001b[0;32m      3\u001b[0m reconstructed_tensor \u001b[38;5;241m=\u001b[39m mps\u001b[38;5;241m.\u001b[39mto_full_tensor()\n",
      "File \u001b[1;32mE:\\__git_projects\\tensor-compression-methods\\.venv\\Lib\\site-packages\\tenpy\\networks\\mps.py:2039\u001b[0m, in \u001b[0;36mMPS.from_full\u001b[1;34m(cls, sites, psi, form, cutoff, normalize, bc, outer_S)\u001b[0m\n\u001b[0;32m   2037\u001b[0m S_list \u001b[38;5;241m=\u001b[39m [\u001b[38;5;28;01mNone\u001b[39;00m] \u001b[38;5;241m*\u001b[39m (L \u001b[38;5;241m+\u001b[39m \u001b[38;5;241m1\u001b[39m)\n\u001b[0;32m   2038\u001b[0m norm \u001b[38;5;241m=\u001b[39m \u001b[38;5;241m1.\u001b[39m \u001b[38;5;28;01mif\u001b[39;00m normalize \u001b[38;5;28;01melse\u001b[39;00m npc\u001b[38;5;241m.\u001b[39mnorm(psi)\n\u001b[1;32m-> 2039\u001b[0m \u001b[38;5;28;01mif\u001b[39;00m \u001b[38;5;129;01mnot\u001b[39;00m \u001b[43mpsi\u001b[49m\u001b[38;5;241;43m.\u001b[39;49m\u001b[43mhas_label\u001b[49m(\u001b[38;5;124m'\u001b[39m\u001b[38;5;124mvL\u001b[39m\u001b[38;5;124m'\u001b[39m):\n\u001b[0;32m   2040\u001b[0m     psi \u001b[38;5;241m=\u001b[39m psi\u001b[38;5;241m.\u001b[39madd_trivial_leg(\u001b[38;5;241m0\u001b[39m, label\u001b[38;5;241m=\u001b[39m\u001b[38;5;124m'\u001b[39m\u001b[38;5;124mvL\u001b[39m\u001b[38;5;124m'\u001b[39m, qconj\u001b[38;5;241m=\u001b[39m\u001b[38;5;241m+\u001b[39m\u001b[38;5;241m1\u001b[39m)\n\u001b[0;32m   2041\u001b[0m \u001b[38;5;28;01melif\u001b[39;00m bc \u001b[38;5;241m==\u001b[39m \u001b[38;5;124m'\u001b[39m\u001b[38;5;124mfinite\u001b[39m\u001b[38;5;124m'\u001b[39m \u001b[38;5;129;01mand\u001b[39;00m psi\u001b[38;5;241m.\u001b[39mget_leg(\u001b[38;5;124m'\u001b[39m\u001b[38;5;124mvL\u001b[39m\u001b[38;5;124m'\u001b[39m)\u001b[38;5;241m.\u001b[39mind_len \u001b[38;5;241m!=\u001b[39m \u001b[38;5;241m1\u001b[39m:\n",
      "\u001b[1;31mAttributeError\u001b[0m: 'numpy.ndarray' object has no attribute 'has_label'"
     ]
    }
   ],
   "source": [
    "# mps = MPS.from_full(sites=sites, psi=tensor_param, normalize=False)\n",
    "#\n",
    "# reconstructed_tensor = mps.to_full_tensor()"
   ]
  },
  {
   "cell_type": "code",
   "execution_count": 16,
   "metadata": {
    "ExecuteTime": {
     "end_time": "2024-10-11T03:37:43.183690200Z",
     "start_time": "2024-10-02T23:55:07.923523Z"
    }
   },
   "outputs": [
    {
     "name": "stderr",
     "output_type": "stream",
     "text": [
      "Эксперимент набора параметров:   0%|          | 0/1 [00:00<?, ?it/s]\n"
     ]
    },
    {
     "ename": "ValueError",
     "evalue": "unknown type of a",
     "output_type": "error",
     "traceback": [
      "\u001b[1;31m---------------------------------------------------------------------------\u001b[0m",
      "\u001b[1;31mValueError\u001b[0m                                Traceback (most recent call last)",
      "Cell \u001b[1;32mIn[16], line 19\u001b[0m\n\u001b[0;32m     16\u001b[0m torch\u001b[38;5;241m.\u001b[39mcuda\u001b[38;5;241m.\u001b[39mempty_cache()\n\u001b[0;32m     17\u001b[0m torch\u001b[38;5;241m.\u001b[39mcuda\u001b[38;5;241m.\u001b[39msynchronize()\n\u001b[1;32m---> 19\u001b[0m method_logs \u001b[38;5;241m=\u001b[39m \u001b[43mMethodLogger\u001b[49m\u001b[43m(\u001b[49m\n\u001b[0;32m     20\u001b[0m \u001b[43m    \u001b[49m\u001b[43mmethod_name\u001b[49m\u001b[38;5;241;43m=\u001b[39;49m\u001b[43mmethod_name\u001b[49m\u001b[43m,\u001b[49m\n\u001b[0;32m     21\u001b[0m \u001b[43m    \u001b[49m\u001b[43mmethod_input_tensor\u001b[49m\u001b[38;5;241;43m=\u001b[39;49m\u001b[43mtensor_param\u001b[49m\u001b[43m,\u001b[49m\n\u001b[0;32m     22\u001b[0m \u001b[43m    \u001b[49m\u001b[43mqualitative_metrics\u001b[49m\u001b[38;5;241;43m=\u001b[39;49m\u001b[43m{\u001b[49m\n\u001b[0;32m     23\u001b[0m \u001b[43m        \u001b[49m\u001b[38;5;124;43m\"\u001b[39;49m\u001b[38;5;124;43mLanguage\u001b[39;49m\u001b[38;5;124;43m\"\u001b[39;49m\u001b[43m:\u001b[49m\u001b[43m \u001b[49m\u001b[38;5;124;43m\"\u001b[39;49m\u001b[38;5;124;43mPython\u001b[39;49m\u001b[38;5;124;43m\"\u001b[39;49m\u001b[43m,\u001b[49m\n\u001b[0;32m     24\u001b[0m \u001b[43m        \u001b[49m\u001b[38;5;124;43m\"\u001b[39;49m\u001b[38;5;124;43mLibrary\u001b[39;49m\u001b[38;5;124;43m\"\u001b[39;49m\u001b[43m:\u001b[49m\u001b[43m \u001b[49m\u001b[38;5;124;43m\"\u001b[39;49m\u001b[38;5;124;43mTeNPy\u001b[39;49m\u001b[38;5;124;43m\"\u001b[39;49m\u001b[43m,\u001b[49m\n\u001b[0;32m     25\u001b[0m \u001b[43m        \u001b[49m\u001b[38;5;124;43m\"\u001b[39;49m\u001b[38;5;124;43mTensor type\u001b[39;49m\u001b[38;5;124;43m\"\u001b[39;49m\u001b[43m:\u001b[49m\u001b[43m \u001b[49m\u001b[38;5;124;43m\"\u001b[39;49m\u001b[38;5;124;43mDense\u001b[39;49m\u001b[38;5;124;43m\"\u001b[39;49m\u001b[43m,\u001b[49m\n\u001b[0;32m     26\u001b[0m \u001b[43m        \u001b[49m\u001b[38;5;124;43m\"\u001b[39;49m\u001b[38;5;124;43mPlatform\u001b[39;49m\u001b[38;5;124;43m\"\u001b[39;49m\u001b[43m:\u001b[49m\u001b[43m \u001b[49m\u001b[38;5;124;43m\"\u001b[39;49m\u001b[38;5;124;43mCPU\u001b[39;49m\u001b[38;5;124;43m\"\u001b[39;49m\u001b[43m,\u001b[49m\n\u001b[0;32m     27\u001b[0m \u001b[43m        \u001b[49m\u001b[38;5;124;43m\"\u001b[39;49m\u001b[38;5;124;43mDecomposition method\u001b[39;49m\u001b[38;5;124;43m\"\u001b[39;49m\u001b[43m:\u001b[49m\u001b[43m \u001b[49m\u001b[38;5;124;43m\"\u001b[39;49m\u001b[38;5;124;43mTensorTrain\u001b[39;49m\u001b[38;5;124;43m\"\u001b[39;49m\u001b[43m,\u001b[49m\n\u001b[0;32m     28\u001b[0m \u001b[43m    \u001b[49m\u001b[43m}\u001b[49m\u001b[43m,\u001b[49m\n\u001b[0;32m     29\u001b[0m \u001b[43m    \u001b[49m\u001b[43mmethod_args\u001b[49m\u001b[38;5;241;43m=\u001b[39;49m\u001b[43m{\u001b[49m\n\u001b[0;32m     30\u001b[0m \u001b[43m        \u001b[49m\u001b[38;5;124;43m\"\u001b[39;49m\u001b[38;5;124;43msites\u001b[39;49m\u001b[38;5;124;43m\"\u001b[39;49m\u001b[43m:\u001b[49m\u001b[43m \u001b[49m\u001b[43mtensor_param\u001b[49m\u001b[43m,\u001b[49m\n\u001b[0;32m     31\u001b[0m \u001b[43m        \u001b[49m\u001b[38;5;124;43m\"\u001b[39;49m\u001b[38;5;124;43mpsi\u001b[39;49m\u001b[38;5;124;43m\"\u001b[39;49m\u001b[43m:\u001b[49m\u001b[43m \u001b[49m\u001b[43mrank_param\u001b[49m\u001b[43m,\u001b[49m\n\u001b[0;32m     32\u001b[0m \u001b[43m        \u001b[49m\u001b[38;5;124;43m\"\u001b[39;49m\u001b[38;5;124;43mnormalize\u001b[39;49m\u001b[38;5;124;43m\"\u001b[39;49m\u001b[43m:\u001b[49m\u001b[43m \u001b[49m\u001b[38;5;28;43;01mFalse\u001b[39;49;00m\u001b[43m,\u001b[49m\n\u001b[0;32m     33\u001b[0m \u001b[43m    \u001b[49m\u001b[43m}\u001b[49m\u001b[43m,\u001b[49m\n\u001b[0;32m     34\u001b[0m \u001b[43m    \u001b[49m\u001b[43mfunc\u001b[49m\u001b[38;5;241;43m=\u001b[39;49m\u001b[43mtenpy\u001b[49m\u001b[38;5;241;43m.\u001b[39;49m\u001b[43mnetworks\u001b[49m\u001b[38;5;241;43m.\u001b[39;49m\u001b[43mmps\u001b[49m\u001b[38;5;241;43m.\u001b[39;49m\u001b[43mMPS\u001b[49m\u001b[38;5;241;43m.\u001b[39;49m\u001b[43mfrom_full\u001b[49m\n\u001b[0;32m     35\u001b[0m \u001b[43m)\u001b[49m\n\u001b[0;32m     37\u001b[0m method_logs_list\u001b[38;5;241m.\u001b[39mappend(method_logs)\n\u001b[0;32m     39\u001b[0m tt_factors \u001b[38;5;241m=\u001b[39m method_logs\u001b[38;5;241m.\u001b[39mmethod_result\n",
      "Cell \u001b[1;32mIn[4], line 13\u001b[0m, in \u001b[0;36mMethodLogger.__init__\u001b[1;34m(self, method_name, method_input_tensor, qualitative_metrics, func, method_args)\u001b[0m\n\u001b[0;32m      9\u001b[0m \u001b[38;5;28mself\u001b[39m\u001b[38;5;241m.\u001b[39mmethod_input_tensor \u001b[38;5;241m=\u001b[39m method_input_tensor\n\u001b[0;32m     11\u001b[0m \u001b[38;5;28mself\u001b[39m\u001b[38;5;241m.\u001b[39mfunc \u001b[38;5;241m=\u001b[39m func\n\u001b[1;32m---> 13\u001b[0m gpu_allocated_mem_usages, gpu_cached_mem_usages, ram_mem_usages, durations, result \u001b[38;5;241m=\u001b[39m \u001b[38;5;28;43mself\u001b[39;49m\u001b[38;5;241;43m.\u001b[39;49m\u001b[43m_run_method_with_tracking\u001b[49m\u001b[43m(\u001b[49m\u001b[43mfunc\u001b[49m\u001b[43m,\u001b[49m\u001b[43m \u001b[49m\u001b[38;5;241;43m*\u001b[39;49m\u001b[38;5;241;43m*\u001b[39;49m\u001b[43mmethod_args\u001b[49m\u001b[43m)\u001b[49m\n\u001b[0;32m     15\u001b[0m \u001b[38;5;28mself\u001b[39m\u001b[38;5;241m.\u001b[39mmethod_result \u001b[38;5;241m=\u001b[39m result\n\u001b[0;32m     17\u001b[0m \u001b[38;5;28mself\u001b[39m\u001b[38;5;241m.\u001b[39mquantitative_metrics \u001b[38;5;241m=\u001b[39m {\n\u001b[0;32m     18\u001b[0m     \u001b[38;5;124m'\u001b[39m\u001b[38;5;124mgpu_allocated_mem_usage\u001b[39m\u001b[38;5;124m'\u001b[39m: gpu_allocated_mem_usages,\n\u001b[0;32m     19\u001b[0m     \u001b[38;5;124m'\u001b[39m\u001b[38;5;124mgpu_cached_mem_usages\u001b[39m\u001b[38;5;124m'\u001b[39m: gpu_cached_mem_usages,\n\u001b[0;32m     20\u001b[0m     \u001b[38;5;124m'\u001b[39m\u001b[38;5;124mram_mem_usage\u001b[39m\u001b[38;5;124m'\u001b[39m: ram_mem_usages,\n\u001b[0;32m     21\u001b[0m     \u001b[38;5;124m'\u001b[39m\u001b[38;5;124mduration\u001b[39m\u001b[38;5;124m'\u001b[39m: durations,\n\u001b[0;32m     22\u001b[0m }\n",
      "Cell \u001b[1;32mIn[4], line 62\u001b[0m, in \u001b[0;36mMethodLogger._run_method_with_tracking\u001b[1;34m(self, func, *args, **kwargs)\u001b[0m\n\u001b[0;32m     59\u001b[0m     \u001b[38;5;28;01mreturn\u001b[39;00m gpu_allocated_memory_used, gpu_cached_memory_used, ram_memory_used, duration, result\n\u001b[0;32m     61\u001b[0m \u001b[38;5;28;01mfor\u001b[39;00m _ \u001b[38;5;129;01min\u001b[39;00m tqdm(\u001b[38;5;28mrange\u001b[39m(MethodLogger\u001b[38;5;241m.\u001b[39mexperiments_count), desc\u001b[38;5;241m=\u001b[39m\u001b[38;5;124m\"\u001b[39m\u001b[38;5;124mЭксперимент набора параметров\u001b[39m\u001b[38;5;124m\"\u001b[39m):\n\u001b[1;32m---> 62\u001b[0m     gpu_allocated_memory_used, gpu_cached_memory_used, ram_memory_used, duration, result \u001b[38;5;241m=\u001b[39m \u001b[43mwrapper\u001b[49m\u001b[43m(\u001b[49m\u001b[43m)\u001b[49m\n\u001b[0;32m     64\u001b[0m     gpu_allocated_mem_usages\u001b[38;5;241m.\u001b[39mappend(gpu_allocated_memory_used)\n\u001b[0;32m     65\u001b[0m     gpu_cached_mem_usages\u001b[38;5;241m.\u001b[39mappend(gpu_cached_memory_used)\n",
      "Cell \u001b[1;32mIn[4], line 42\u001b[0m, in \u001b[0;36mMethodLogger._run_method_with_tracking.<locals>.wrapper\u001b[1;34m()\u001b[0m\n\u001b[0;32m     38\u001b[0m gpu_cached_memory_before \u001b[38;5;241m=\u001b[39m torch\u001b[38;5;241m.\u001b[39mcuda\u001b[38;5;241m.\u001b[39mmemory_reserved()\n\u001b[0;32m     40\u001b[0m start_time \u001b[38;5;241m=\u001b[39m time\u001b[38;5;241m.\u001b[39mtime()\n\u001b[1;32m---> 42\u001b[0m result \u001b[38;5;241m=\u001b[39m \u001b[43mfunc\u001b[49m\u001b[43m(\u001b[49m\u001b[38;5;241;43m*\u001b[39;49m\u001b[43margs\u001b[49m\u001b[43m,\u001b[49m\u001b[43m \u001b[49m\u001b[38;5;241;43m*\u001b[39;49m\u001b[38;5;241;43m*\u001b[39;49m\u001b[43mkwargs\u001b[49m\u001b[43m)\u001b[49m\n\u001b[0;32m     44\u001b[0m torch\u001b[38;5;241m.\u001b[39mcuda\u001b[38;5;241m.\u001b[39msynchronize()\n\u001b[0;32m     45\u001b[0m end_time \u001b[38;5;241m=\u001b[39m time\u001b[38;5;241m.\u001b[39mtime()\n",
      "File \u001b[1;32mE:\\__git_projects\\tensor-compression-methods\\.venv\\Lib\\site-packages\\tenpy\\networks\\mps.py:2038\u001b[0m, in \u001b[0;36mMPS.from_full\u001b[1;34m(cls, sites, psi, form, cutoff, normalize, bc, outer_S)\u001b[0m\n\u001b[0;32m   2036\u001b[0m B_list \u001b[38;5;241m=\u001b[39m [\u001b[38;5;28;01mNone\u001b[39;00m] \u001b[38;5;241m*\u001b[39m L\n\u001b[0;32m   2037\u001b[0m S_list \u001b[38;5;241m=\u001b[39m [\u001b[38;5;28;01mNone\u001b[39;00m] \u001b[38;5;241m*\u001b[39m (L \u001b[38;5;241m+\u001b[39m \u001b[38;5;241m1\u001b[39m)\n\u001b[1;32m-> 2038\u001b[0m norm \u001b[38;5;241m=\u001b[39m \u001b[38;5;241m1.\u001b[39m \u001b[38;5;28;01mif\u001b[39;00m normalize \u001b[38;5;28;01melse\u001b[39;00m \u001b[43mnpc\u001b[49m\u001b[38;5;241;43m.\u001b[39;49m\u001b[43mnorm\u001b[49m\u001b[43m(\u001b[49m\u001b[43mpsi\u001b[49m\u001b[43m)\u001b[49m\n\u001b[0;32m   2039\u001b[0m \u001b[38;5;28;01mif\u001b[39;00m \u001b[38;5;129;01mnot\u001b[39;00m psi\u001b[38;5;241m.\u001b[39mhas_label(\u001b[38;5;124m'\u001b[39m\u001b[38;5;124mvL\u001b[39m\u001b[38;5;124m'\u001b[39m):\n\u001b[0;32m   2040\u001b[0m     psi \u001b[38;5;241m=\u001b[39m psi\u001b[38;5;241m.\u001b[39madd_trivial_leg(\u001b[38;5;241m0\u001b[39m, label\u001b[38;5;241m=\u001b[39m\u001b[38;5;124m'\u001b[39m\u001b[38;5;124mvL\u001b[39m\u001b[38;5;124m'\u001b[39m, qconj\u001b[38;5;241m=\u001b[39m\u001b[38;5;241m+\u001b[39m\u001b[38;5;241m1\u001b[39m)\n",
      "File \u001b[1;32mE:\\__git_projects\\tensor-compression-methods\\.venv\\Lib\\site-packages\\tenpy\\linalg\\np_conserved.py:3719\u001b[0m, in \u001b[0;36mnorm\u001b[1;34m(a, ord, convert_to_float)\u001b[0m\n\u001b[0;32m   3717\u001b[0m     \u001b[38;5;28;01mreturn\u001b[39;00m np\u001b[38;5;241m.\u001b[39mlinalg\u001b[38;5;241m.\u001b[39mnorm(a\u001b[38;5;241m.\u001b[39mreshape((\u001b[38;5;241m-\u001b[39m\u001b[38;5;241m1\u001b[39m, )), \u001b[38;5;28mord\u001b[39m)\n\u001b[0;32m   3718\u001b[0m \u001b[38;5;28;01melif\u001b[39;00m \u001b[38;5;28misinstance\u001b[39m(a, \u001b[38;5;28mlist\u001b[39m):\n\u001b[1;32m-> 3719\u001b[0m     \u001b[38;5;28;01mreturn\u001b[39;00m np\u001b[38;5;241m.\u001b[39mlinalg\u001b[38;5;241m.\u001b[39mnorm(\u001b[43m[\u001b[49m\u001b[43mnorm\u001b[49m\u001b[43m(\u001b[49m\u001b[43mp\u001b[49m\u001b[43m)\u001b[49m\u001b[43m \u001b[49m\u001b[38;5;28;43;01mfor\u001b[39;49;00m\u001b[43m \u001b[49m\u001b[43mp\u001b[49m\u001b[43m \u001b[49m\u001b[38;5;129;43;01min\u001b[39;49;00m\u001b[43m \u001b[49m\u001b[43ma\u001b[49m\u001b[43m]\u001b[49m \u001b[38;5;241m+\u001b[39m [\u001b[38;5;241m0\u001b[39m])\n\u001b[0;32m   3720\u001b[0m \u001b[38;5;28;01melse\u001b[39;00m:\n\u001b[0;32m   3721\u001b[0m     \u001b[38;5;28;01mraise\u001b[39;00m \u001b[38;5;167;01mValueError\u001b[39;00m(\u001b[38;5;124m\"\u001b[39m\u001b[38;5;124munknown type of a\u001b[39m\u001b[38;5;124m\"\u001b[39m)\n",
      "File \u001b[1;32mE:\\__git_projects\\tensor-compression-methods\\.venv\\Lib\\site-packages\\tenpy\\linalg\\np_conserved.py:3719\u001b[0m, in \u001b[0;36m<listcomp>\u001b[1;34m(.0)\u001b[0m\n\u001b[0;32m   3717\u001b[0m     \u001b[38;5;28;01mreturn\u001b[39;00m np\u001b[38;5;241m.\u001b[39mlinalg\u001b[38;5;241m.\u001b[39mnorm(a\u001b[38;5;241m.\u001b[39mreshape((\u001b[38;5;241m-\u001b[39m\u001b[38;5;241m1\u001b[39m, )), \u001b[38;5;28mord\u001b[39m)\n\u001b[0;32m   3718\u001b[0m \u001b[38;5;28;01melif\u001b[39;00m \u001b[38;5;28misinstance\u001b[39m(a, \u001b[38;5;28mlist\u001b[39m):\n\u001b[1;32m-> 3719\u001b[0m     \u001b[38;5;28;01mreturn\u001b[39;00m np\u001b[38;5;241m.\u001b[39mlinalg\u001b[38;5;241m.\u001b[39mnorm([\u001b[43mnorm\u001b[49m\u001b[43m(\u001b[49m\u001b[43mp\u001b[49m\u001b[43m)\u001b[49m \u001b[38;5;28;01mfor\u001b[39;00m p \u001b[38;5;129;01min\u001b[39;00m a] \u001b[38;5;241m+\u001b[39m [\u001b[38;5;241m0\u001b[39m])\n\u001b[0;32m   3720\u001b[0m \u001b[38;5;28;01melse\u001b[39;00m:\n\u001b[0;32m   3721\u001b[0m     \u001b[38;5;28;01mraise\u001b[39;00m \u001b[38;5;167;01mValueError\u001b[39;00m(\u001b[38;5;124m\"\u001b[39m\u001b[38;5;124munknown type of a\u001b[39m\u001b[38;5;124m\"\u001b[39m)\n",
      "File \u001b[1;32mE:\\__git_projects\\tensor-compression-methods\\.venv\\Lib\\site-packages\\tenpy\\linalg\\np_conserved.py:3721\u001b[0m, in \u001b[0;36mnorm\u001b[1;34m(a, ord, convert_to_float)\u001b[0m\n\u001b[0;32m   3719\u001b[0m     \u001b[38;5;28;01mreturn\u001b[39;00m np\u001b[38;5;241m.\u001b[39mlinalg\u001b[38;5;241m.\u001b[39mnorm([norm(p) \u001b[38;5;28;01mfor\u001b[39;00m p \u001b[38;5;129;01min\u001b[39;00m a] \u001b[38;5;241m+\u001b[39m [\u001b[38;5;241m0\u001b[39m])\n\u001b[0;32m   3720\u001b[0m \u001b[38;5;28;01melse\u001b[39;00m:\n\u001b[1;32m-> 3721\u001b[0m     \u001b[38;5;28;01mraise\u001b[39;00m \u001b[38;5;167;01mValueError\u001b[39;00m(\u001b[38;5;124m\"\u001b[39m\u001b[38;5;124munknown type of a\u001b[39m\u001b[38;5;124m\"\u001b[39m)\n",
      "\u001b[1;31mValueError\u001b[0m: unknown type of a"
     ]
    }
   ],
   "source": [
    "# logs = load_logs_from_file(log_file_path)\n",
    "#\n",
    "# method_name = f\"TeNPy_TensorTrain\"\n",
    "#\n",
    "# if logs:\n",
    "#     existing_log = next(\n",
    "#         (log for log in logs if log['method_name'] == method_name),\n",
    "#         None\n",
    "#     )\n",
    "#     if existing_log:\n",
    "#         error_message = f\"Пропущена итерация: логи уже существуют для {method_name}\"\n",
    "#         raise error_message\n",
    "#\n",
    "# gc.collect()\n",
    "# torch.cuda.empty_cache()\n",
    "# torch.cuda.synchronize()\n",
    "#\n",
    "# method_logs = MethodLogger(\n",
    "#     method_name=method_name,\n",
    "#     method_input_tensor=tensor_param,\n",
    "#     qualitative_metrics={\n",
    "#         \"Language\": \"Python\",\n",
    "#         \"Library\": \"TeNPy\",\n",
    "#         \"Tensor type\": \"Dense\",\n",
    "#         \"Platform\": \"CPU\",\n",
    "#         \"Decomposition method\": \"TensorTrain\",\n",
    "#     },\n",
    "#     method_args={\n",
    "#         \"sites\": tensor_param,\n",
    "#         \"psi\": rank_param,\n",
    "#         \"normalize\": False,\n",
    "#     },\n",
    "#     func=tenpy.networks.mps.MPS.from_full\n",
    "# )\n",
    "#\n",
    "# method_logs_list.append(method_logs)\n",
    "#\n",
    "# tt_factors = method_logs.method_result\n",
    "#\n",
    "# reconstruct_frames_from_tenpy_tt_factors = tt_factors.to_full_tensor()"
   ]
  },
  {
   "cell_type": "code",
   "execution_count": null,
   "metadata": {},
   "outputs": [],
   "source": [
    "# method_logs.quantitative_metrics['compression_ratio'] = (100.0 * get_tensors_size(*tt_factors) / get_tensors_size(tensor_param))\n",
    "\n",
    "# method_logs.quantitative_metrics['frobenius_error'] = (\n",
    "#         100.0 * np.linalg.norm(reconstruct_frames_from_tenpy_tt_factors - tensor_param) / tl.norm(\n",
    "#         tensor_param))\n",
    "#\n",
    "# save_logs_to_file(method_logs=method_logs, is_test=True)\n",
    "#\n",
    "# reconstructed_frames = []\n",
    "#\n",
    "# for i in range(len(reconstruct_frames_from_tenpy_tt_factors)):\n",
    "#     reconstructed_frames.append(normalize_frame_tensorly_tensortrain(reconstruct_frames_from_tenpy_tt_factors[i]))\n",
    "#\n",
    "# save_frames_as_video(name=method_logs.name, frames=reconstructed_frames, fps=original_fps, frame_size=frame_size)"
   ]
  }
 ],
 "metadata": {
  "kernelspec": {
   "display_name": "Python 3",
   "language": "python",
   "name": "python3"
  },
  "language_info": {
   "codemirror_mode": {
    "name": "ipython",
    "version": 2
   },
   "file_extension": ".py",
   "mimetype": "text/x-python",
   "name": "python",
   "nbconvert_exporter": "python",
   "pygments_lexer": "ipython2",
   "version": "2.7.6"
  }
 },
 "nbformat": 4,
 "nbformat_minor": 0
}
