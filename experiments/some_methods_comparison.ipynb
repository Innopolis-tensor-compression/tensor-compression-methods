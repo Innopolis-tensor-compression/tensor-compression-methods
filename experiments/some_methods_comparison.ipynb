{
 "cells": [
  {
   "cell_type": "markdown",
   "metadata": {
    "collapsed": false
   },
   "source": [
    "# Imports"
   ]
  },
  {
   "cell_type": "code",
   "execution_count": 30,
   "metadata": {
    "ExecuteTime": {
     "end_time": "2024-10-22T11:51:22.687772Z",
     "start_time": "2024-10-22T11:51:22.540492Z"
    },
    "collapsed": false
   },
   "outputs": [
    {
     "name": "stdout",
     "output_type": "stream",
     "text": [
      "The memory_profiler extension is already loaded. To reload it, use:\n",
      "  %reload_ext memory_profiler\n",
      "The autoreload extension is already loaded. To reload it, use:\n",
      "  %reload_ext autoreload\n"
     ]
    },
    {
     "data": {
      "text/plain": [
       "True"
      ]
     },
     "execution_count": 30,
     "metadata": {},
     "output_type": "execute_result"
    }
   ],
   "source": [
    "import sys\n",
    "\n",
    "modules_to_reload = [\n",
    "    \"src.utils.method_loggers\",\n",
    "    \"src.utils.method_runners\",\n",
    "    \"src.utils.metrics_calculators\",\n",
    "    \"src.utils.tensor_handlers\",\n",
    "    \"src.utils.trackers\",\n",
    "    \"src.utils.video_controller\",\n",
    "]\n",
    "\n",
    "for module in modules_to_reload:\n",
    "    if module in sys.modules:\n",
    "        del sys.modules[module]\n",
    "\n",
    "%load_ext memory_profiler\n",
    "%load_ext autoreload\n",
    "%autoreload 2\n",
    "\n",
    "import contextlib\n",
    "import gc\n",
    "import os\n",
    "from itertools import product\n",
    "\n",
    "import numpy as np\n",
    "import tensorflow as tf\n",
    "from numba import cuda\n",
    "\n",
    "np.random.seed(42)\n",
    "os.environ[\"OPENBLAS_NUM_THREADS\"] = \"8\"\n",
    "os.environ[\"MKL_NUM_THREADS\"] = \"8\"\n",
    "\n",
    "tf.random.set_seed(42)\n",
    "\n",
    "import t3f\n",
    "import tensorly as tl\n",
    "import torch\n",
    "from dotenv import load_dotenv\n",
    "from tqdm import tqdm\n",
    "\n",
    "from src.utils.image_controller import download_image, extract_image_frames\n",
    "from src.utils.method_loggers import MethodLogger\n",
    "from src.utils.method_runners import MethodRunner\n",
    "from src.utils.read_logs import LogReader\n",
    "from src.utils.save_frames import SaveFramesFactory\n",
    "from src.utils.tensor_handlers import normalize_frames\n",
    "from src.utils.trackers import GPUTensorflowMemoryTracker, GPUTorchMemoryTracker, RAMMemoryTracker, TimeTracker\n",
    "from src.utils.video_controller import download_youtube_video, extract_frames\n",
    "\n",
    "load_dotenv()"
   ]
  },
  {
   "cell_type": "code",
   "execution_count": 31,
   "metadata": {
    "ExecuteTime": {
     "end_time": "2024-10-22T11:51:22.830654Z",
     "start_time": "2024-10-22T11:51:22.785844Z"
    }
   },
   "outputs": [
    {
     "data": {
      "text/plain": [
       "device(type='cuda')"
      ]
     },
     "execution_count": 31,
     "metadata": {},
     "output_type": "execute_result"
    }
   ],
   "source": [
    "torch_device = torch.device(\"cuda\" if torch.cuda.is_available() else \"cpu\")\n",
    "torch_device"
   ]
  },
  {
   "cell_type": "code",
   "execution_count": 32,
   "metadata": {
    "ExecuteTime": {
     "end_time": "2024-10-22T11:51:22.944181Z",
     "start_time": "2024-10-22T11:51:22.900345Z"
    }
   },
   "outputs": [],
   "source": [
    "torch.cuda.empty_cache()"
   ]
  },
  {
   "cell_type": "code",
   "execution_count": 33,
   "metadata": {
    "ExecuteTime": {
     "end_time": "2024-10-22T11:51:23.045105Z",
     "start_time": "2024-10-22T11:51:22.998846Z"
    }
   },
   "outputs": [
    {
     "data": {
      "text/plain": [
       "'/physical_device:GPU:0'"
      ]
     },
     "execution_count": 33,
     "metadata": {},
     "output_type": "execute_result"
    }
   ],
   "source": [
    "tf_physical_device = tf.config.list_physical_devices(\"GPU\")[0].name\n",
    "tf_device = \":\".join(tf_physical_device.split(\":\")[1:3])\n",
    "tf_devices = [tf_device]\n",
    "tf_physical_device"
   ]
  },
  {
   "cell_type": "markdown",
   "metadata": {},
   "source": "# Get tensors"
  },
  {
   "cell_type": "markdown",
   "metadata": {
    "collapsed": false
   },
   "source": [
    "## Some params"
   ]
  },
  {
   "cell_type": "code",
   "execution_count": 34,
   "metadata": {
    "ExecuteTime": {
     "end_time": "2024-10-22T11:51:23.110079Z",
     "start_time": "2024-10-22T11:51:23.076898Z"
    },
    "collapsed": false
   },
   "outputs": [],
   "source": [
    "video_url = \"https://www.youtube.com/watch?v=eSKe2Vx-rpY\"\n",
    "proxy_url = os.getenv(\"PROXY_URL\")\n",
    "cache_dir_video = \"../.cache/video\"\n",
    "\n",
    "image_url = \"https://i.pinimg.com/564x/04/b2/68/04b26838bdd5e2ba54d0144558685bae.jpg\"\n",
    "cache_dir_image = \"../.cache/image\"\n",
    "\n",
    "log_file_path = \"../.cache/method_logs.json\"\n",
    "\n",
    "method_logs_list = []"
   ]
  },
  {
   "cell_type": "markdown",
   "metadata": {
    "collapsed": false
   },
   "source": "## Get some tensors from different data types"
  },
  {
   "cell_type": "markdown",
   "metadata": {},
   "source": "### Video"
  },
  {
   "cell_type": "code",
   "execution_count": 35,
   "metadata": {
    "ExecuteTime": {
     "end_time": "2024-10-22T11:51:23.188734Z",
     "start_time": "2024-10-22T11:51:23.147179Z"
    },
    "collapsed": false
   },
   "outputs": [
    {
     "name": "stdout",
     "output_type": "stream",
     "text": [
      "Видео уже загружено и закешировано: ../.cache/video/eSKe2Vx-rpY.mp4\n"
     ]
    }
   ],
   "source": [
    "video_path = download_youtube_video(video_url, cache_dir=cache_dir_video.__str__(), proxy_url=proxy_url)"
   ]
  },
  {
   "cell_type": "code",
   "execution_count": 36,
   "metadata": {
    "ExecuteTime": {
     "end_time": "2024-10-22T11:51:23.396612Z",
     "start_time": "2024-10-22T11:51:23.217963Z"
    },
    "collapsed": false
   },
   "outputs": [],
   "source": [
    "video_frames, original_fps, frame_size = extract_frames(video_path)"
   ]
  },
  {
   "cell_type": "code",
   "execution_count": 37,
   "metadata": {
    "ExecuteTime": {
     "end_time": "2024-10-22T11:51:23.456492Z",
     "start_time": "2024-10-22T11:51:23.421118Z"
    }
   },
   "outputs": [
    {
     "data": {
      "text/plain": [
       "(440, 426, 240, 3)"
      ]
     },
     "execution_count": 37,
     "metadata": {},
     "output_type": "execute_result"
    }
   ],
   "source": [
    "video_frames.shape"
   ]
  },
  {
   "cell_type": "markdown",
   "metadata": {},
   "source": "### Image"
  },
  {
   "cell_type": "code",
   "execution_count": 38,
   "metadata": {
    "ExecuteTime": {
     "end_time": "2024-10-22T11:51:23.550748Z",
     "start_time": "2024-10-22T11:51:23.504753Z"
    }
   },
   "outputs": [
    {
     "name": "stdout",
     "output_type": "stream",
     "text": [
      "Изображение уже загружено и закешировано: ../.cache/image/04b26838bdd5e2ba54d0144558685bae.jpg\n"
     ]
    }
   ],
   "source": [
    "image_path = download_image(image_url, cache_dir_image)\n",
    "image_frames = extract_image_frames(image_path)"
   ]
  },
  {
   "cell_type": "code",
   "execution_count": 39,
   "metadata": {
    "ExecuteTime": {
     "end_time": "2024-10-22T11:51:23.648871Z",
     "start_time": "2024-10-22T11:51:23.612195Z"
    }
   },
   "outputs": [
    {
     "data": {
      "text/plain": [
       "(564, 564, 3)"
      ]
     },
     "execution_count": 39,
     "metadata": {},
     "output_type": "execute_result"
    }
   ],
   "source": [
    "image_frames.shape"
   ]
  },
  {
   "cell_type": "markdown",
   "metadata": {},
   "source": "# Theoretical comparison of some libraries and implementations"
  },
  {
   "cell_type": "markdown",
   "metadata": {},
   "source": [
    "Some packages which can decompose some dense type of tensors, from [this](https://arxiv.org/pdf/2103.13756) paper\n",
    "\n",
    "\n",
    "Decomposition methods which used:\n",
    "1. Canonical Polyadic Decomposition as PARAllel FACtors analysis (aka PARAFAC aka CPD aka CP)\n",
    "2. Tucker Decomposition\n",
    "3. Tensor Train\n",
    "4. some variants of its (Other)\n",
    "\n",
    "Tensor types:\n",
    "1. Dense (D)\n",
    "2. Sparse (S)\n",
    "3. BlockSparse (BS)\n",
    "4. Symmetric\n",
    "5. Supersymmetric\n",
    "\n",
    "Target system:\n",
    "1. CPU (C)\n",
    "2. GPU(G)\n",
    "3. Distributed Memory (D)\n",
    "\n",
    "\n",
    "\n",
    "| Method name                                                                             | Decomposition methods implemented | Tensor Type | Platform | Language         | Git | PyPI | Want to check | Checked     |\n",
    "|-----------------------------------------------------------------------------------------|-----------------------------------|------------|----------|------------------|------|------|--------------|-------------|\n",
    "| [AdaTM](https://github.com/hpcgarage/AdaTM)                                             | CP                                | S          | C        | C                | +    | ?    |              |             |\n",
    "| [BTAS](https://github.com/ValeevGroup/BTAS)                                             | CP, Tucker                        | nan        | C        | C++              | +    | ?    |              |             |\n",
    "| [CP-CALS](https://github.com/HPAC/CP-CALS)                                              | CP, Other                         | D          | C, G     | C++, Mat         | +    |      | +            |             |\n",
    "| [CSTF](https://github.com/ZacBlanco/cstf)                                               | Other                             | S          | D        | Scala            | +    | ?    |              |             |\n",
    "| [D-Tucker](https://datalab.snu.ac.kr/dtucker/resources/DTucker-v1.0.tar.gz)             | Tucker, Other                     | D          | C        | Matlab           |      | ?    |              |             |\n",
    "| [DFacTo](http://www.joonheechoi.com/research.)                                          | CP                                | S          | C, D     | C++              |      | ?    |              |             |\n",
    "| [EXATN](https://github.com/ORNL-QCI/exatn)                                              | TensorTrain                       | D          | C, D, G  | C++, Py          | +    |      | +            |             |\n",
    "| [Genten](https://gitlab.com/tensors/genten)                                             | CP                                | D, S       | C, G     | C++              | +    |      | +            |             |\n",
    "| GigaTensor                                                                              | CP                                | D          | C        | C++, Python      |      | ?    |              |             |\n",
    "| [ITensor](https://github.com/ITensor/ITensor)                                           | TensorTrain                       | D, BS      | C, G     | C++, Julia       | +    |      | +            |             |\n",
    "| [multiway](https://cran.r-project.org/web/packages/multiway/index.html)                 | CP, Tucker, Other                 | D          | C        | R                |      | ?    |              |             |\n",
    "| [N-way toolbox](http://www.models.life.ku.dk/nwaytoolbox/download)                      | CP, Tucker, Other                 | D          | C        | Matlab           |      | ?    |              |             |\n",
    "| [ParCube](https://www.cs.ucr.edu/~epapalex/src/parCube.zip)                             | CP                                | S          | C        | Matlab           |      | ?    |              |             |\n",
    "| [ParTensor](https://github.com/neurocom/partensor-toolbox)                              | CP                                | D          | C, G     | C++              | +    |      | +            |             |\n",
    "| [ParTI!](https://github.com/hpcgarage/ParTI)                                            | CP, Tucker                        | S          | C, G     | C, CUDA, Mat     | +    | ?    |              |             |\n",
    "| [PLANC](https://github.com/ramkikannan/planc)                                           | CP                                | S          | C, D     | C++              | +    | ?    |              |             |\n",
    "| [PLS toolbox](https://eigenvector.com/software/pls-toolbox/)                            | CP          , Tucker              | D          | C        | Matlab           |      | ?    |              |             |\n",
    "| [Pytensor](https://code.google.com/archive/p/pytensor/source/default/source)            | Tucker                            | D, S       | C        | Python           |      | ?    |              |             |\n",
    "| [rTensor](https://github.com/jamesyili/rTensor)                                         | CP, Tucker, Other                 | D          | C        | R                | +    |      | +            |             |\n",
    "| [rTensor (randomized)](https://github.com/erichson/rTensor)                             | CP                                | D          | C        | Python           | +    |      | +       +    |             |\n",
    "| [scikit-tensor](https://github.com/mnick/scikit-tensor)                                 | CP, Tucker, Other                 | D, S       | C        | Python           | +    | +    | +    +   +   | too old     |\n",
    "| [Scikit-TT](https://github.com/PGelss/scikit_tt)                                        | TensorTrain                       | D          | C        | Python           | +    |      |     +   +    |             |\n",
    "| [SPALS](https://github.com/dehuacheng/SpAls)                                            | CP                                | S          | C        | C++              | +    | ?    |              |             |\n",
    "| [SPARTan](https://github.com/kperros/SPARTan)                                           | Other                             | S          | C        | Matlab           | +    | ?    |              |             |\n",
    "| [SPLATT](https://github.com/ShadenSmith/splatt)                                         | CP                                | S          | C, D     | C, C++, Oct, Mat | +    | ?    |              |             |\n",
    "| [SuSMoST](https://susmost.com/downloads.html)                                           | TensorTrain, Other                | D          | C        | Python           |      | ?    |              |             |\n",
    "| [T3F](https://github.com/Bihaqo/t3f)                                                    | TensorTrain                       | D          | C, G     | Python           | +    | +    | +    + +     | in progress |\n",
    "| [TDALAB](https://github.com/andrewssobral/TDALAB)                                       | CP                                | D, S       | C        | Python, Matlab   | +    |      | +         +  |             |\n",
    "| [TeNPy](https://github.com/tenpy/tenpy)                                        | TensorTrain                       | D          | C        | Python           | +    | +    | +      + +   | in progress |\n",
    "| [Tensor Fox](https://github.com/felipebottega/Tensor-Fox)                               | CP                                | D, S       | C        | Python, Matlab   | +    | +    | +    + +     | ?           |\n",
    "| [Tensor package](http://www.gipsa-lab.fr/~pierre.comon/TensorPackage/tensorPackage.html) | CP                                | D          | C        | Matlab           |      | ?    |              |             |\n",
    "| [Tensor Toolbox](https://gitlab.com/tensors/tensor_toolbox)                             | CP, Tucker, Other                 | D, S       | C        | Matlab           | +    |      | +            |             |\n",
    "| [tensor_decomposition](https://github.com/cyclops-community/tensor_decomposition)       | CP, Tucker                        | D          | C, D     | Python           | +    |      | +        +   |             |\n",
    "| [TensorBox](https://github.com/phananhhuy/TensorBox)                                    | CP, Tucker, Other                 | D, S       | C        | Matlab           | +    |      | +            |             |\n",
    "| [TensorD](https://github.com/Large-Scale-Tensor-Decomposition/tensorD)                  | CP, Tucker                        | D          | C, G     | Python           | ?    | ?    |              |             |\n",
    "| [TensorLab](https://www.tensorlab.net)                                                  | CP, Tucker, Other                 | D, S       | C        | Matlab           |      | ?    |              |             |\n",
    "| [TensorLab+](https://www.tensorlabplus.net)                                             | CP, Other                         | D, S       | C        | Matlab           |      | ?    |              |             |\n",
    "| [TensorLy](https://github.com/tensorly/tensorly)                                        | CP, Tucker, TensorTrain, Other    | D          | C, G     | Python           | +    | +    | +       + +  | in progress |\n",
    "| [Three-Way](https://github.com/cran/ThreeWay)                                           | CP, Tucker                        | D          | C        | R                | +    |      | +            |             |\n",
    "| [TNR](https://github.com/ycyuustc/matlab)                                               | Other                             | D          | C        | Matlab           | +    |      | +            |             |\n",
    "| [TT-Toolbox](https://github.com/oseledets/TT-Toolbox)                                   | TensorTrain                       | D          | C, D, G  | Matlab, Python   | +    |      | +       +    |             |\n",
    "| [xerus](https://git.hemio.de/xerus/xerus/)                                              | TensorTrain                       | D, S       | C        | C++              | +    |      | +            |             |"
   ]
  },
  {
   "cell_type": "markdown",
   "metadata": {},
   "source": "# Implementations of Decompositions methods"
  },
  {
   "cell_type": "markdown",
   "metadata": {},
   "source": "## TensorLy"
  },
  {
   "cell_type": "code",
   "execution_count": 11,
   "metadata": {
    "ExecuteTime": {
     "end_time": "2024-10-21T13:00:53.276373Z",
     "start_time": "2024-10-21T13:00:53.219634Z"
    }
   },
   "outputs": [],
   "source": [
    "# {‘numpy’, ‘mxnet’, ‘pytorch’, ‘tensorflow’, ‘cupy’}\n",
    "# backend variants for tensorly\n",
    "# tl.set_backend('pytorch')\n",
    "# with tl.backend_context(‘pytorch’): ... pass\n",
    "\n",
    "# video_frames_cuda = tl.tensor(video_frames.copy()).to(device)\n",
    "# video_frames_cuda = tl.tensor(video_frames.copy())"
   ]
  },
  {
   "cell_type": "markdown",
   "metadata": {},
   "source": "### Tucker (tl.decomposition.tucker)"
  },
  {
   "cell_type": "code",
   "execution_count": 12,
   "metadata": {
    "ExecuteTime": {
     "end_time": "2024-10-21T13:00:53.588947Z",
     "start_time": "2024-10-21T13:00:53.513667Z"
    }
   },
   "outputs": [
    {
     "name": "stdout",
     "output_type": "stream",
     "text": [
      "Файл ../.cache/method_logs.json не найден.\n"
     ]
    }
   ],
   "source": [
    "logs = LogReader.load_logs_from_file(log_file_path)"
   ]
  },
  {
   "cell_type": "markdown",
   "metadata": {},
   "source": "#### Params"
  },
  {
   "cell_type": "code",
   "execution_count": 13,
   "metadata": {
    "ExecuteTime": {
     "end_time": "2024-10-21T13:00:53.772700Z",
     "start_time": "2024-10-21T13:00:53.692758Z"
    }
   },
   "outputs": [
    {
     "data": {
      "text/plain": [
       "['truncated_svd', 'symeig_svd', 'randomized_svd']"
      ]
     },
     "execution_count": 13,
     "metadata": {},
     "output_type": "execute_result"
    }
   ],
   "source": [
    "tl.SVD_FUNS"
   ]
  },
  {
   "cell_type": "code",
   "execution_count": 14,
   "metadata": {
    "ExecuteTime": {
     "end_time": "2024-10-21T13:00:54.197972Z",
     "start_time": "2024-10-21T13:00:53.972242Z"
    }
   },
   "outputs": [],
   "source": [
    "tensor_rank_mapping = {\n",
    "    \"video\": (video_frames.shape[0] // 2, video_frames.shape[1], video_frames.shape[2], video_frames.shape[3]),\n",
    "    \"image\": (round(image_frames.shape[0] / 7.9), image_frames.shape[1], image_frames.shape[2]),\n",
    "}\n",
    "\n",
    "input_tensors = {\n",
    "    \"video\": video_frames.copy(),\n",
    "    \"image\": image_frames.copy(),\n",
    "}\n",
    "\n",
    "n_iter_max_param = 100\n",
    "\n",
    "svd_params = [\"truncated_svd\", \"symeig_svd\", \"randomized_svd\"]\n",
    "\n",
    "init_params = [\"svd\", \"random\"]\n",
    "\n",
    "backend_params = [\"pytorch\", \"numpy\"]\n",
    "\n",
    "random_state_param = 42\n",
    "\n",
    "total_iterations = len(list(product(svd_params, init_params, backend_params))) * len(input_tensors)"
   ]
  },
  {
   "cell_type": "code",
   "execution_count": 15,
   "metadata": {
    "ExecuteTime": {
     "end_time": "2024-10-21T13:00:54.464763Z",
     "start_time": "2024-10-21T13:00:54.417662Z"
    }
   },
   "outputs": [],
   "source": [
    "# with tl.backend_context('pytorch'):\n",
    "#     test = tl.tensor(image_frames.copy()).to(torch_device)\n",
    "#     tl.decomposition.tucker(test, rank={image_frames.shape[0] // 2, image_frames.shape[1], image_frames.shape[2])"
   ]
  },
  {
   "cell_type": "markdown",
   "metadata": {},
   "source": "#### Compare method with some params and log it"
  },
  {
   "cell_type": "code",
   "execution_count": 16,
   "metadata": {
    "ExecuteTime": {
     "end_time": "2024-10-21T20:03:38.765709Z",
     "start_time": "2024-10-21T13:00:54.517719Z"
    }
   },
   "outputs": [
    {
     "name": "stderr",
     "output_type": "stream",
     "text": [
      "Проверка набора параметров:   0%|          | 0/24 [00:00<?, ?it/s]"
     ]
    },
    {
     "name": "stdout",
     "output_type": "stream",
     "text": [
      "Current method: TensorLy_Tucker_video_pytorch_truncated_svd_svd\n"
     ]
    },
    {
     "name": "stderr",
     "output_type": "stream",
     "text": [
      "\n",
      "Эксперимент набора параметров:   0%|          | 0/5 [00:00<?, ?it/s]\u001B[A/home/johndoe_19/git-projects/tensor-methods-comparison/.venv/lib/python3.11/site-packages/torch/distributed/distributed_c10d.py:293: UserWarning: torch.distributed.reduce_op is deprecated, please use torch.distributed.ReduceOp instead\n",
      "  warnings.warn(\n",
      "\n",
      "Эксперимент набора параметров:  20%|██        | 1/5 [00:15<01:03, 15.96s/it]\u001B[A\n",
      "Эксперимент набора параметров:  40%|████      | 2/5 [00:29<00:43, 14.34s/it]\u001B[A\n",
      "Эксперимент набора параметров:  60%|██████    | 3/5 [00:42<00:27, 13.67s/it]\u001B[A\n",
      "Эксперимент набора параметров:  80%|████████  | 4/5 [00:53<00:12, 12.68s/it]\u001B[A\n",
      "Эксперимент набора параметров: 100%|██████████| 5/5 [01:06<00:00, 13.28s/it]\u001B[A\n",
      "Проверка набора параметров:   4%|▍         | 1/24 [01:12<27:45, 72.43s/it]"
     ]
    },
    {
     "name": "stdout",
     "output_type": "stream",
     "text": [
      "Видео сохранено как /home/johndoe_19/git-projects/tensor-methods-comparison/.cache/output/TensorLy_Tucker_video_pytorch_truncated_svd_svd.mp4\n",
      "Current method: TensorLy_Tucker_video_pytorch_truncated_svd_random\n"
     ]
    },
    {
     "name": "stderr",
     "output_type": "stream",
     "text": [
      "\n",
      "Эксперимент набора параметров:   0%|          | 0/5 [00:00<?, ?it/s]\u001B[A\n",
      "Эксперимент набора параметров:  20%|██        | 1/5 [00:17<01:08, 17.23s/it]\u001B[A\n",
      "Эксперимент набора параметров:  40%|████      | 2/5 [00:34<00:51, 17.27s/it]\u001B[A\n",
      "Эксперимент набора параметров:  60%|██████    | 3/5 [00:53<00:36, 18.09s/it]\u001B[A\n",
      "Эксперимент набора параметров:  80%|████████  | 4/5 [01:10<00:17, 17.70s/it]\u001B[A\n",
      "Эксперимент набора параметров: 100%|██████████| 5/5 [01:30<00:00, 18.00s/it]\u001B[A\n",
      "Проверка набора параметров:   8%|▊         | 2/24 [02:43<30:38, 83.57s/it]"
     ]
    },
    {
     "name": "stdout",
     "output_type": "stream",
     "text": [
      "Видео сохранено как /home/johndoe_19/git-projects/tensor-methods-comparison/.cache/output/TensorLy_Tucker_video_pytorch_truncated_svd_random.mp4\n",
      "Current method: TensorLy_Tucker_video_pytorch_symeig_svd_svd\n"
     ]
    },
    {
     "name": "stderr",
     "output_type": "stream",
     "text": [
      "\n",
      "Эксперимент набора параметров:   0%|          | 0/5 [00:05<?, ?it/s]\u001B[A\n",
      "Проверка набора параметров:  12%|█▎        | 3/24 [02:49<16:47, 47.95s/it]"
     ]
    },
    {
     "name": "stdout",
     "output_type": "stream",
     "text": [
      "Пропущена итерация из-за недостатка памяти: pytorch, symeig_svd, svd. Ошибка: CUDA out of memory. Tried to allocate 350.46 GiB (GPU 0; 11.00 GiB total capacity; 1.77 GiB already allocated; 7.38 GiB free; 2.52 GiB reserved in total by PyTorch) If reserved memory is >> allocated memory try setting max_split_size_mb to avoid fragmentation.  See documentation for Memory Management and PYTORCH_CUDA_ALLOC_CONF\n",
      "Current method: TensorLy_Tucker_video_pytorch_symeig_svd_random\n"
     ]
    },
    {
     "name": "stderr",
     "output_type": "stream",
     "text": [
      "\n",
      "Эксперимент набора параметров:   0%|          | 0/5 [00:00<?, ?it/s]\u001B[A\n",
      "Эксперимент набора параметров:  20%|██        | 1/5 [00:18<01:15, 18.99s/it]\u001B[A\n",
      "Эксперимент набора параметров:  40%|████      | 2/5 [00:36<00:53, 17.87s/it]\u001B[A\n",
      "Эксперимент набора параметров:  60%|██████    | 3/5 [00:55<00:36, 18.41s/it]\u001B[A\n",
      "Эксперимент набора параметров:  80%|████████  | 4/5 [01:12<00:18, 18.01s/it]\u001B[A\n",
      "Эксперимент набора параметров: 100%|██████████| 5/5 [01:29<00:00, 17.92s/it]\u001B[A\n",
      "Проверка набора параметров:  17%|█▋        | 4/24 [04:20<21:38, 64.94s/it]"
     ]
    },
    {
     "name": "stdout",
     "output_type": "stream",
     "text": [
      "Видео сохранено как /home/johndoe_19/git-projects/tensor-methods-comparison/.cache/output/TensorLy_Tucker_video_pytorch_symeig_svd_random.mp4\n",
      "Current method: TensorLy_Tucker_video_pytorch_randomized_svd_svd\n"
     ]
    },
    {
     "name": "stderr",
     "output_type": "stream",
     "text": [
      "\n",
      "Эксперимент набора параметров:   0%|          | 0/5 [00:00<?, ?it/s]\u001B[A\n",
      "Эксперимент набора параметров:  20%|██        | 1/5 [01:29<05:59, 89.75s/it]\u001B[A\n",
      "Эксперимент набора параметров:  40%|████      | 2/5 [02:57<04:25, 88.61s/it]\u001B[A\n",
      "Эксперимент набора параметров:  60%|██████    | 3/5 [04:25<02:56, 88.33s/it]\u001B[A\n",
      "Эксперимент набора параметров:  80%|████████  | 4/5 [05:53<01:28, 88.08s/it]\u001B[A\n",
      "Эксперимент набора параметров: 100%|██████████| 5/5 [07:20<00:00, 88.13s/it]\u001B[A\n",
      "Проверка набора параметров:  21%|██        | 5/24 [11:42<1:03:37, 200.90s/it]"
     ]
    },
    {
     "name": "stdout",
     "output_type": "stream",
     "text": [
      "Видео сохранено как /home/johndoe_19/git-projects/tensor-methods-comparison/.cache/output/TensorLy_Tucker_video_pytorch_randomized_svd_svd.mp4\n",
      "Current method: TensorLy_Tucker_video_pytorch_randomized_svd_random\n"
     ]
    },
    {
     "name": "stderr",
     "output_type": "stream",
     "text": [
      "\n",
      "Эксперимент набора параметров:   0%|          | 0/5 [00:00<?, ?it/s]\u001B[A\n",
      "Эксперимент набора параметров:  20%|██        | 1/5 [00:17<01:08, 17.06s/it]\u001B[A\n",
      "Эксперимент набора параметров:  40%|████      | 2/5 [00:36<00:54, 18.17s/it]\u001B[A\n",
      "Эксперимент набора параметров:  60%|██████    | 3/5 [00:53<00:35, 17.80s/it]\u001B[A\n",
      "Эксперимент набора параметров:  80%|████████  | 4/5 [01:12<00:18, 18.34s/it]\u001B[A\n",
      "Эксперимент набора параметров: 100%|██████████| 5/5 [01:29<00:00, 17.95s/it]\u001B[A\n",
      "Проверка набора параметров:  25%|██▌       | 6/24 [13:13<49:03, 163.55s/it]  "
     ]
    },
    {
     "name": "stdout",
     "output_type": "stream",
     "text": [
      "Видео сохранено как /home/johndoe_19/git-projects/tensor-methods-comparison/.cache/output/TensorLy_Tucker_video_pytorch_randomized_svd_random.mp4\n",
      "Current method: TensorLy_Tucker_video_numpy_truncated_svd_svd\n"
     ]
    },
    {
     "name": "stderr",
     "output_type": "stream",
     "text": [
      "\n",
      "Эксперимент набора параметров:   0%|          | 0/5 [00:00<?, ?it/s]\u001B[A\n",
      "Эксперимент набора параметров:  20%|██        | 1/5 [13:59<55:58, 839.51s/it]\u001B[A\n",
      "Эксперимент набора параметров:  40%|████      | 2/5 [28:03<42:06, 842.05s/it]\u001B[A\n",
      "Эксперимент набора параметров:  60%|██████    | 3/5 [42:07<28:05, 842.98s/it]\u001B[A\n",
      "Эксперимент набора параметров:  80%|████████  | 4/5 [56:15<14:05, 845.04s/it]\u001B[A\n",
      "Эксперимент набора параметров: 100%|██████████| 5/5 [1:11:10<00:00, 854.15s/it]\u001B[A\n",
      "Проверка набора параметров:  29%|██▉       | 7/24 [1:24:26<7:06:57, 1506.93s/it]"
     ]
    },
    {
     "name": "stdout",
     "output_type": "stream",
     "text": [
      "Видео сохранено как /home/johndoe_19/git-projects/tensor-methods-comparison/.cache/output/TensorLy_Tucker_video_numpy_truncated_svd_svd.mp4\n",
      "Current method: TensorLy_Tucker_video_numpy_truncated_svd_random\n"
     ]
    },
    {
     "name": "stderr",
     "output_type": "stream",
     "text": [
      "\n",
      "Эксперимент набора параметров:   0%|          | 0/5 [00:00<?, ?it/s]\u001B[A\n",
      "Эксперимент набора параметров:  20%|██        | 1/5 [11:07<44:28, 667.09s/it]\u001B[A\n",
      "Эксперимент набора параметров:  40%|████      | 2/5 [21:42<32:25, 648.44s/it]\u001B[A\n",
      "Эксперимент набора параметров:  60%|██████    | 3/5 [32:09<21:17, 638.80s/it]\u001B[A\n",
      "Эксперимент набора параметров:  80%|████████  | 4/5 [42:35<10:33, 633.70s/it]\u001B[A\n",
      "Эксперимент набора параметров: 100%|██████████| 5/5 [53:02<00:00, 636.44s/it]\u001B[A\n",
      "Проверка набора параметров:  33%|███▎      | 8/24 [2:17:29<9:04:12, 2040.76s/it]"
     ]
    },
    {
     "name": "stdout",
     "output_type": "stream",
     "text": [
      "Видео сохранено как /home/johndoe_19/git-projects/tensor-methods-comparison/.cache/output/TensorLy_Tucker_video_numpy_truncated_svd_random.mp4\n",
      "Current method: TensorLy_Tucker_video_numpy_symeig_svd_svd\n"
     ]
    },
    {
     "name": "stderr",
     "output_type": "stream",
     "text": [
      "\n",
      "Эксперимент набора параметров:   0%|          | 0/5 [00:00<?, ?it/s]\u001B[A\n",
      "Проверка набора параметров:  38%|███▊      | 9/24 [2:17:30<5:50:45, 1403.03s/it]"
     ]
    },
    {
     "name": "stdout",
     "output_type": "stream",
     "text": [
      "Пропущена итерация из-за недостатка памяти: numpy, symeig_svd, svd. Ошибка: Unable to allocate 87.6 GiB for an array with shape (306720, 306720) and data type uint8\n",
      "Current method: TensorLy_Tucker_video_numpy_symeig_svd_random\n"
     ]
    },
    {
     "name": "stderr",
     "output_type": "stream",
     "text": [
      "\n",
      "Эксперимент набора параметров:   0%|          | 0/5 [00:00<?, ?it/s]\u001B[A\n",
      "Эксперимент набора параметров:  20%|██        | 1/5 [10:29<41:56, 629.23s/it]\u001B[A\n",
      "Эксперимент набора параметров:  40%|████      | 2/5 [20:52<31:18, 626.00s/it]\u001B[A\n",
      "Эксперимент набора параметров:  60%|██████    | 3/5 [31:15<20:48, 624.27s/it]\u001B[A\n",
      "Эксперимент набора параметров:  80%|████████  | 4/5 [41:37<10:23, 623.48s/it]\u001B[A\n",
      "Эксперимент набора параметров: 100%|██████████| 5/5 [51:59<00:00, 623.87s/it]\u001B[A\n",
      "Проверка набора параметров:  42%|████▏     | 10/24 [3:09:31<7:31:07, 1933.42s/it]"
     ]
    },
    {
     "name": "stdout",
     "output_type": "stream",
     "text": [
      "Видео сохранено как /home/johndoe_19/git-projects/tensor-methods-comparison/.cache/output/TensorLy_Tucker_video_numpy_symeig_svd_random.mp4\n",
      "Current method: TensorLy_Tucker_video_numpy_randomized_svd_svd\n"
     ]
    },
    {
     "name": "stderr",
     "output_type": "stream",
     "text": [
      "\n",
      "Эксперимент набора параметров:   0%|          | 0/5 [00:00<?, ?it/s]\u001B[A\n",
      "Эксперимент набора параметров:  20%|██        | 1/5 [35:38<2:22:34, 2138.68s/it]\u001B[A\n",
      "Эксперимент набора параметров:  40%|████      | 2/5 [1:11:15<1:46:52, 2137.34s/it]\u001B[A\n",
      "Эксперимент набора параметров:  60%|██████    | 3/5 [1:47:01<1:11:22, 2141.28s/it]\u001B[A\n",
      "Эксперимент набора параметров:  80%|████████  | 4/5 [2:22:34<35:38, 2138.20s/it]  \u001B[A\n",
      "Эксперимент набора параметров: 100%|██████████| 5/5 [2:58:19<00:00, 2139.84s/it]\u001B[A\n",
      "Проверка набора параметров:  46%|████▌     | 11/24 [6:07:52<16:40:16, 4616.69s/it]"
     ]
    },
    {
     "name": "stdout",
     "output_type": "stream",
     "text": [
      "Видео сохранено как /home/johndoe_19/git-projects/tensor-methods-comparison/.cache/output/TensorLy_Tucker_video_numpy_randomized_svd_svd.mp4\n",
      "Current method: TensorLy_Tucker_video_numpy_randomized_svd_random\n"
     ]
    },
    {
     "name": "stderr",
     "output_type": "stream",
     "text": [
      "\n",
      "Эксперимент набора параметров:   0%|          | 0/5 [00:00<?, ?it/s]\u001B[A\n",
      "Эксперимент набора параметров:  20%|██        | 1/5 [10:23<41:35, 623.86s/it]\u001B[A\n",
      "Эксперимент набора параметров:  40%|████      | 2/5 [20:49<31:14, 624.94s/it]\u001B[A\n",
      "Эксперимент набора параметров:  60%|██████    | 3/5 [31:14<20:49, 624.92s/it]\u001B[A\n",
      "Эксперимент набора параметров:  80%|████████  | 4/5 [41:43<10:26, 626.67s/it]\u001B[A\n",
      "Эксперимент набора параметров: 100%|██████████| 5/5 [52:10<00:00, 626.19s/it]\u001B[A\n",
      "Проверка набора параметров:  50%|█████     | 12/24 [7:00:05<7:00:05, 2100.43s/it] \n"
     ]
    },
    {
     "name": "stdout",
     "output_type": "stream",
     "text": [
      "Видео сохранено как /home/johndoe_19/git-projects/tensor-methods-comparison/.cache/output/TensorLy_Tucker_video_numpy_randomized_svd_random.mp4\n"
     ]
    },
    {
     "name": "stderr",
     "output_type": "stream",
     "text": [
      "Проверка набора параметров:   0%|          | 0/24 [00:00<?, ?it/s]"
     ]
    },
    {
     "name": "stdout",
     "output_type": "stream",
     "text": [
      "Current method: TensorLy_Tucker_image_pytorch_truncated_svd_svd\n"
     ]
    },
    {
     "name": "stderr",
     "output_type": "stream",
     "text": [
      "\n",
      "Эксперимент набора параметров:   0%|          | 0/5 [00:00<?, ?it/s]\u001B[A\n",
      "Эксперимент набора параметров:  20%|██        | 1/5 [00:03<00:14,  3.65s/it]\u001B[A\n",
      "Эксперимент набора параметров:  40%|████      | 2/5 [00:07<00:10,  3.59s/it]\u001B[A\n",
      "Эксперимент набора параметров:  60%|██████    | 3/5 [00:08<00:04,  2.45s/it]\u001B[A\n",
      "Эксперимент набора параметров:  80%|████████  | 4/5 [00:11<00:02,  2.73s/it]\u001B[A\n",
      "Эксперимент набора параметров: 100%|██████████| 5/5 [00:14<00:00,  2.97s/it]\u001B[A\n",
      "Проверка набора параметров:   4%|▍         | 1/24 [00:15<05:51, 15.30s/it]"
     ]
    },
    {
     "name": "stdout",
     "output_type": "stream",
     "text": [
      "Изображение сохранено как /home/johndoe_19/git-projects/tensor-methods-comparison/.cache/output/TensorLy_Tucker_image_pytorch_truncated_svd_svd.jpg\n",
      "Current method: TensorLy_Tucker_image_pytorch_truncated_svd_random\n"
     ]
    },
    {
     "name": "stderr",
     "output_type": "stream",
     "text": [
      "\n",
      "Эксперимент набора параметров:   0%|          | 0/5 [00:00<?, ?it/s]\u001B[A\n",
      "Эксперимент набора параметров:  20%|██        | 1/5 [00:02<00:08,  2.02s/it]\u001B[A\n",
      "Эксперимент набора параметров:  40%|████      | 2/5 [00:04<00:06,  2.00s/it]\u001B[A\n",
      "Эксперимент набора параметров:  60%|██████    | 3/5 [00:06<00:03,  2.00s/it]\u001B[A\n",
      "Эксперимент набора параметров:  80%|████████  | 4/5 [00:08<00:02,  2.12s/it]\u001B[A\n",
      "Эксперимент набора параметров: 100%|██████████| 5/5 [00:10<00:00,  2.08s/it]\u001B[A\n",
      "Проверка набора параметров:   8%|▊         | 2/24 [00:25<04:36, 12.55s/it]"
     ]
    },
    {
     "name": "stdout",
     "output_type": "stream",
     "text": [
      "Изображение сохранено как /home/johndoe_19/git-projects/tensor-methods-comparison/.cache/output/TensorLy_Tucker_image_pytorch_truncated_svd_random.jpg\n",
      "Current method: TensorLy_Tucker_image_pytorch_symeig_svd_svd\n"
     ]
    },
    {
     "name": "stderr",
     "output_type": "stream",
     "text": [
      "\n",
      "Эксперимент набора параметров:   0%|          | 0/5 [00:07<?, ?it/s]\u001B[A\n",
      "Проверка набора параметров:  12%|█▎        | 3/24 [00:33<03:31, 10.09s/it]"
     ]
    },
    {
     "name": "stdout",
     "output_type": "stream",
     "text": [
      "Пропущена итерация из-за недостатка памяти: pytorch, symeig_svd, svd. Ошибка: CUDA out of memory. Tried to allocate 376.95 GiB (GPU 0; 11.00 GiB total capacity; 25.88 MiB already allocated; 9.39 GiB free; 520.00 MiB reserved in total by PyTorch) If reserved memory is >> allocated memory try setting max_split_size_mb to avoid fragmentation.  See documentation for Memory Management and PYTORCH_CUDA_ALLOC_CONF\n",
      "Current method: TensorLy_Tucker_image_pytorch_symeig_svd_random\n"
     ]
    },
    {
     "name": "stderr",
     "output_type": "stream",
     "text": [
      "\n",
      "Эксперимент набора параметров:   0%|          | 0/5 [00:00<?, ?it/s]\u001B[A\n",
      "Эксперимент набора параметров:  20%|██        | 1/5 [00:01<00:07,  1.93s/it]\u001B[A\n",
      "Эксперимент набора параметров:  40%|████      | 2/5 [00:03<00:05,  1.91s/it]\u001B[A\n",
      "Эксперимент набора параметров:  60%|██████    | 3/5 [00:05<00:03,  1.94s/it]\u001B[A\n",
      "Эксперимент набора параметров: 100%|██████████| 5/5 [00:07<00:00,  1.49s/it]\u001B[A\n",
      "Проверка набора параметров:  17%|█▋        | 4/24 [00:40<03:02,  9.13s/it]"
     ]
    },
    {
     "name": "stdout",
     "output_type": "stream",
     "text": [
      "Изображение сохранено как /home/johndoe_19/git-projects/tensor-methods-comparison/.cache/output/TensorLy_Tucker_image_pytorch_symeig_svd_random.jpg\n",
      "Current method: TensorLy_Tucker_image_pytorch_randomized_svd_svd\n"
     ]
    },
    {
     "name": "stderr",
     "output_type": "stream",
     "text": [
      "\n",
      "Эксперимент набора параметров:   0%|          | 0/5 [00:00<?, ?it/s]\u001B[A\n",
      "Эксперимент набора параметров:  20%|██        | 1/5 [00:02<00:09,  2.25s/it]\u001B[A\n",
      "Эксперимент набора параметров:  40%|████      | 2/5 [00:04<00:06,  2.08s/it]\u001B[A\n",
      "Эксперимент набора параметров:  60%|██████    | 3/5 [00:06<00:04,  2.06s/it]\u001B[A\n",
      "Эксперимент набора параметров:  80%|████████  | 4/5 [00:08<00:02,  2.09s/it]\u001B[A\n",
      "Эксперимент набора параметров: 100%|██████████| 5/5 [00:10<00:00,  2.10s/it]\u001B[A\n",
      "Проверка набора параметров:  21%|██        | 5/24 [00:51<03:04,  9.72s/it]"
     ]
    },
    {
     "name": "stdout",
     "output_type": "stream",
     "text": [
      "Изображение сохранено как /home/johndoe_19/git-projects/tensor-methods-comparison/.cache/output/TensorLy_Tucker_image_pytorch_randomized_svd_svd.jpg\n",
      "Current method: TensorLy_Tucker_image_pytorch_randomized_svd_random\n"
     ]
    },
    {
     "name": "stderr",
     "output_type": "stream",
     "text": [
      "\n",
      "Эксперимент набора параметров:   0%|          | 0/5 [00:00<?, ?it/s]\u001B[A\n",
      "Эксперимент набора параметров:  20%|██        | 1/5 [00:01<00:07,  1.93s/it]\u001B[A\n",
      "Эксперимент набора параметров:  40%|████      | 2/5 [00:03<00:05,  1.95s/it]\u001B[A\n",
      "Эксперимент набора параметров:  60%|██████    | 3/5 [00:05<00:03,  1.95s/it]\u001B[A\n",
      "Эксперимент набора параметров:  80%|████████  | 4/5 [00:07<00:01,  1.95s/it]\u001B[A\n",
      "Эксперимент набора параметров: 100%|██████████| 5/5 [00:09<00:00,  1.98s/it]\u001B[A\n",
      "Проверка набора параметров:  25%|██▌       | 6/24 [01:01<02:57,  9.87s/it]"
     ]
    },
    {
     "name": "stdout",
     "output_type": "stream",
     "text": [
      "Изображение сохранено как /home/johndoe_19/git-projects/tensor-methods-comparison/.cache/output/TensorLy_Tucker_image_pytorch_randomized_svd_random.jpg\n",
      "Current method: TensorLy_Tucker_image_numpy_truncated_svd_svd\n"
     ]
    },
    {
     "name": "stderr",
     "output_type": "stream",
     "text": [
      "\n",
      "Эксперимент набора параметров:   0%|          | 0/5 [00:00<?, ?it/s]\u001B[A\n",
      "Эксперимент набора параметров:  20%|██        | 1/5 [00:03<00:15,  3.89s/it]\u001B[A\n",
      "Эксперимент набора параметров:  40%|████      | 2/5 [00:07<00:11,  3.71s/it]\u001B[A\n",
      "Эксперимент набора параметров:  60%|██████    | 3/5 [00:08<00:04,  2.42s/it]\u001B[A\n",
      "Эксперимент набора параметров:  80%|████████  | 4/5 [00:11<00:02,  2.82s/it]\u001B[A\n",
      "Эксперимент набора параметров: 100%|██████████| 5/5 [00:15<00:00,  3.10s/it]\u001B[A\n",
      "Проверка набора параметров:  29%|██▉       | 7/24 [01:17<03:20, 11.80s/it]"
     ]
    },
    {
     "name": "stdout",
     "output_type": "stream",
     "text": [
      "Изображение сохранено как /home/johndoe_19/git-projects/tensor-methods-comparison/.cache/output/TensorLy_Tucker_image_numpy_truncated_svd_svd.jpg\n",
      "Current method: TensorLy_Tucker_image_numpy_truncated_svd_random\n"
     ]
    },
    {
     "name": "stderr",
     "output_type": "stream",
     "text": [
      "\n",
      "Эксперимент набора параметров:   0%|          | 0/5 [00:00<?, ?it/s]\u001B[A\n",
      "Эксперимент набора параметров:  20%|██        | 1/5 [00:03<00:13,  3.33s/it]\u001B[A\n",
      "Эксперимент набора параметров:  40%|████      | 2/5 [00:06<00:10,  3.49s/it]\u001B[A\n",
      "Эксперимент набора параметров:  60%|██████    | 3/5 [00:10<00:06,  3.39s/it]\u001B[A\n",
      "Эксперимент набора параметров:  80%|████████  | 4/5 [00:13<00:03,  3.43s/it]\u001B[A\n",
      "Эксперимент набора параметров: 100%|██████████| 5/5 [00:17<00:00,  3.42s/it]\u001B[A\n",
      "Проверка набора параметров:  33%|███▎      | 8/24 [01:34<03:37, 13.58s/it]"
     ]
    },
    {
     "name": "stdout",
     "output_type": "stream",
     "text": [
      "Изображение сохранено как /home/johndoe_19/git-projects/tensor-methods-comparison/.cache/output/TensorLy_Tucker_image_numpy_truncated_svd_random.jpg\n",
      "Current method: TensorLy_Tucker_image_numpy_symeig_svd_svd\n"
     ]
    },
    {
     "name": "stderr",
     "output_type": "stream",
     "text": [
      "\n",
      "Эксперимент набора параметров:   0%|          | 0/5 [00:03<?, ?it/s]\u001B[A\n",
      "Проверка набора параметров:  38%|███▊      | 9/24 [01:38<02:36, 10.43s/it]"
     ]
    },
    {
     "name": "stdout",
     "output_type": "stream",
     "text": [
      "Пропущена итерация из-за недостатка памяти: numpy, symeig_svd, svd. Ошибка: Unable to allocate 94.2 GiB for an array with shape (318096, 318096) and data type uint8\n",
      "Current method: TensorLy_Tucker_image_numpy_symeig_svd_random\n"
     ]
    },
    {
     "name": "stderr",
     "output_type": "stream",
     "text": [
      "\n",
      "Эксперимент набора параметров:   0%|          | 0/5 [00:00<?, ?it/s]\u001B[A\n",
      "Эксперимент набора параметров:  20%|██        | 1/5 [00:03<00:13,  3.48s/it]\u001B[A\n",
      "Эксперимент набора параметров:  40%|████      | 2/5 [00:06<00:10,  3.36s/it]\u001B[A\n",
      "Эксперимент набора параметров:  60%|██████    | 3/5 [00:10<00:06,  3.42s/it]\u001B[A\n",
      "Эксперимент набора параметров:  80%|████████  | 4/5 [00:13<00:03,  3.38s/it]\u001B[A\n",
      "Эксперимент набора параметров: 100%|██████████| 5/5 [00:17<00:00,  3.56s/it]\u001B[A\n",
      "Проверка набора параметров:  42%|████▏     | 10/24 [01:56<02:59, 12.80s/it]"
     ]
    },
    {
     "name": "stdout",
     "output_type": "stream",
     "text": [
      "Изображение сохранено как /home/johndoe_19/git-projects/tensor-methods-comparison/.cache/output/TensorLy_Tucker_image_numpy_symeig_svd_random.jpg\n",
      "Current method: TensorLy_Tucker_image_numpy_randomized_svd_svd\n"
     ]
    },
    {
     "name": "stderr",
     "output_type": "stream",
     "text": [
      "\n",
      "Эксперимент набора параметров:   0%|          | 0/5 [00:00<?, ?it/s]\u001B[A\n",
      "Эксперимент набора параметров:  20%|██        | 1/5 [00:07<00:30,  7.55s/it]\u001B[A\n",
      "Эксперимент набора параметров:  40%|████      | 2/5 [00:12<00:18,  6.27s/it]\u001B[A\n",
      "Эксперимент набора параметров:  60%|██████    | 3/5 [00:16<00:09,  4.88s/it]\u001B[A\n",
      "Эксперимент набора параметров:  80%|████████  | 4/5 [00:21<00:05,  5.06s/it]\u001B[A\n",
      "Эксперимент набора параметров: 100%|██████████| 5/5 [00:27<00:00,  5.41s/it]\u001B[A\n",
      "Проверка набора параметров:  46%|████▌     | 11/24 [02:23<03:44, 17.25s/it]"
     ]
    },
    {
     "name": "stdout",
     "output_type": "stream",
     "text": [
      "Изображение сохранено как /home/johndoe_19/git-projects/tensor-methods-comparison/.cache/output/TensorLy_Tucker_image_numpy_randomized_svd_svd.jpg\n",
      "Current method: TensorLy_Tucker_image_numpy_randomized_svd_random\n"
     ]
    },
    {
     "name": "stderr",
     "output_type": "stream",
     "text": [
      "\n",
      "Эксперимент набора параметров:   0%|          | 0/5 [00:00<?, ?it/s]\u001B[A\n",
      "Эксперимент набора параметров:  20%|██        | 1/5 [00:03<00:13,  3.46s/it]\u001B[A\n",
      "Эксперимент набора параметров:  40%|████      | 2/5 [00:06<00:10,  3.45s/it]\u001B[A\n",
      "Эксперимент набора параметров:  60%|██████    | 3/5 [00:10<00:06,  3.40s/it]\u001B[A\n",
      "Эксперимент набора параметров:  80%|████████  | 4/5 [00:13<00:03,  3.45s/it]\u001B[A\n",
      "Эксперимент набора параметров: 100%|██████████| 5/5 [00:14<00:00,  2.98s/it]\u001B[A\n",
      "Проверка набора параметров:  50%|█████     | 12/24 [02:39<02:39, 13.25s/it]"
     ]
    },
    {
     "name": "stdout",
     "output_type": "stream",
     "text": [
      "Изображение сохранено как /home/johndoe_19/git-projects/tensor-methods-comparison/.cache/output/TensorLy_Tucker_image_numpy_randomized_svd_random.jpg\n"
     ]
    },
    {
     "name": "stderr",
     "output_type": "stream",
     "text": [
      "\n"
     ]
    }
   ],
   "source": [
    "for data_type_name, input_tensor in input_tensors.items():\n",
    "    rank_param = tensor_rank_mapping[data_type_name]\n",
    "\n",
    "    for backend, svd_func, init_method in tqdm(\n",
    "        product(backend_params, svd_params, init_params), desc=\"Проверка набора параметров\", total=total_iterations\n",
    "    ):\n",
    "        library_method_name = \"TensorLy_Tucker\"\n",
    "        method_name = f\"{library_method_name}_{data_type_name}_{backend}_{svd_func}_{init_method}\"\n",
    "\n",
    "        print(f\"Current method: {method_name}\")\n",
    "\n",
    "        if logs:\n",
    "            existing_log = next(\n",
    "                (\n",
    "                    log\n",
    "                    for log in logs\n",
    "                    if log[\"method_name\"] == method_name\n",
    "                    and log[\"method_args\"].get(\"init\") == init_method\n",
    "                    and log[\"method_args\"].get(\"svd\") == svd_func\n",
    "                    and log[\"qualitative_metrics\"].get(\"TensorLy backend\") == backend\n",
    "                ),\n",
    "                None,\n",
    "            )\n",
    "            if existing_log:\n",
    "                print(f\"Пропущена итерация: логи уже существуют для {method_name}\")\n",
    "                continue\n",
    "\n",
    "        try:\n",
    "            with tl.backend_context(backend):\n",
    "                if backend == \"pytorch\":\n",
    "                    tensor_param = tl.tensor(input_tensor).to(torch_device)\n",
    "                elif backend == \"numpy\" or backend is None:\n",
    "                    tensor_param = tl.tensor(input_tensor)\n",
    "\n",
    "                method_runner = MethodRunner(\n",
    "                    func=tl.decomposition.tucker,\n",
    "                    method_input_tensor=tensor_param,\n",
    "                    library_method_name=library_method_name,\n",
    "                    backend_name=backend,\n",
    "                    gpu_memory_tracker=GPUTorchMemoryTracker(),\n",
    "                    ram_memory_tracker=RAMMemoryTracker(),\n",
    "                    time_tracker=TimeTracker(),\n",
    "                )\n",
    "\n",
    "                method_logger = MethodLogger(\n",
    "                    method_name=method_name,\n",
    "                    qualitative_metrics={\n",
    "                        \"Language\": \"Python\",\n",
    "                        \"Library\": \"TensorLy\",\n",
    "                        \"TensorLy backend\": f\"{backend}\",\n",
    "                        \"Tensor type\": \"Dense\",\n",
    "                        \"Data type\": data_type_name,\n",
    "                        \"Platform\": \"CPU, GPU\",\n",
    "                        \"Decomposition method\": \"Tucker\",\n",
    "                    },\n",
    "                    method_args={\n",
    "                        \"tensor\": tensor_param,\n",
    "                        \"rank\": rank_param,\n",
    "                        \"n_iter_max\": n_iter_max_param,\n",
    "                        \"init\": init_method,\n",
    "                        \"svd\": svd_func,\n",
    "                        \"random_state\": random_state_param,\n",
    "                    },\n",
    "                    runner=method_runner,\n",
    "                )\n",
    "\n",
    "            reconstructed_tensor = method_runner.reconstructed_tensor\n",
    "\n",
    "            method_logger.save_logs_to_file(is_test=False)\n",
    "\n",
    "            reconstructed_frames = []\n",
    "\n",
    "            reconstructed_tensor = reconstructed_tensor.cpu().numpy() if backend == \"pytorch\" else reconstructed_tensor\n",
    "            reconstructed_frames = np.array([normalize_frames(frame) for frame in reconstructed_tensor])\n",
    "\n",
    "            save_params_combinations = {\n",
    "                \"image\": {\"name\": method_logger.name, \"frames\": reconstructed_frames},\n",
    "                \"video\": {\"name\": method_logger.name, \"frames\": reconstructed_frames, \"fps\": original_fps, \"frame_size\": frame_size},\n",
    "            }\n",
    "            save_params = save_params_combinations[data_type_name]\n",
    "\n",
    "            SaveFramesFactory.get_save_methods(frame_name=data_type_name).save_frames(**save_params)\n",
    "\n",
    "        except (torch.cuda.OutOfMemoryError, MemoryError) as e:\n",
    "            print(f\"Пропущена итерация из-за недостатка памяти: {backend}, {svd_func}, {init_method}. Ошибка: {e!s}\")\n",
    "            torch.cuda.synchronize()\n",
    "            torch.cuda.empty_cache()\n",
    "            gc.collect()\n",
    "            continue"
   ]
  },
  {
   "cell_type": "markdown",
   "metadata": {},
   "source": "#### Clear cache and gc collect"
  },
  {
   "cell_type": "code",
   "execution_count": 17,
   "metadata": {
    "ExecuteTime": {
     "end_time": "2024-10-21T20:03:39.202874Z",
     "start_time": "2024-10-21T20:03:39.006343Z"
    }
   },
   "outputs": [
    {
     "data": {
      "text/plain": [
       "0"
      ]
     },
     "execution_count": 17,
     "metadata": {},
     "output_type": "execute_result"
    }
   ],
   "source": [
    "torch.cuda.synchronize()\n",
    "torch.cuda.empty_cache()\n",
    "\n",
    "variables_to_delete = [\n",
    "    \"method_runner\",\n",
    "    \"method_logger\",\n",
    "    \"tensor_param\",\n",
    "    \"logs\",\n",
    "    \"tensor_rank_mapping\",\n",
    "    \"input_tensors\",\n",
    "    \"n_iter_max_param\",\n",
    "    \"svd_params\",\n",
    "    \"init_params\",\n",
    "    \"backend_params\",\n",
    "    \"random_state_param\",\n",
    "    \"total_iterations\",\n",
    "    \"data_type_name\",\n",
    "    \"input_tensor\",\n",
    "    \"rank_param\",\n",
    "    \"backend\",\n",
    "    \"svd_func\",\n",
    "    \"init_method\",\n",
    "    \"library_method_name\",\n",
    "    \"method_name\",\n",
    "    \"reconstructed_tensor\",\n",
    "    \"reconstructed_frames\",\n",
    "    \"save_params_combinations\",\n",
    "    \"save_params\",\n",
    "    \"frame\",\n",
    "]\n",
    "\n",
    "for var in variables_to_delete:\n",
    "    with contextlib.suppress(KeyError):\n",
    "        del globals()[var]\n",
    "\n",
    "gc.collect()"
   ]
  },
  {
   "cell_type": "markdown",
   "metadata": {},
   "source": "### Tensor Train - MPS (tensorly.decomposition.tensor_train)"
  },
  {
   "cell_type": "code",
   "execution_count": 18,
   "metadata": {
    "ExecuteTime": {
     "end_time": "2024-10-21T20:03:39.529941Z",
     "start_time": "2024-10-21T20:03:39.230314Z"
    }
   },
   "outputs": [],
   "source": [
    "logs = LogReader.load_logs_from_file(log_file_path)"
   ]
  },
  {
   "cell_type": "markdown",
   "metadata": {},
   "source": "#### Params"
  },
  {
   "cell_type": "code",
   "execution_count": 19,
   "metadata": {
    "ExecuteTime": {
     "end_time": "2024-10-21T20:03:39.618332Z",
     "start_time": "2024-10-21T20:03:39.554681Z"
    }
   },
   "outputs": [],
   "source": [
    "tensor_rank_mapping = {\n",
    "    \"image\": [1, 212, 212, 1],\n",
    "    \"video\": [1, 500, 360, 500, 1],\n",
    "}\n",
    "\n",
    "input_tensors = {\n",
    "    \"image\": image_frames.copy(),\n",
    "    \"video\": video_frames.copy(),\n",
    "}\n",
    "\n",
    "svd_params = [\"truncated_svd\", \"symeig_svd\", \"randomized_svd\"]\n",
    "\n",
    "backend_params = [\"pytorch\", \"numpy\"]\n",
    "\n",
    "total_iterations = len(list(product(backend_params, svd_params))) * len(input_tensors)"
   ]
  },
  {
   "cell_type": "markdown",
   "metadata": {},
   "source": "#### Compare method with some params and log it"
  },
  {
   "cell_type": "code",
   "execution_count": 20,
   "metadata": {
    "ExecuteTime": {
     "end_time": "2024-10-21T21:35:42.063065Z",
     "start_time": "2024-10-21T20:03:39.675945Z"
    }
   },
   "outputs": [
    {
     "name": "stderr",
     "output_type": "stream",
     "text": [
      "Проверка набора параметров:   0%|          | 0/12 [00:00<?, ?it/s]"
     ]
    },
    {
     "name": "stdout",
     "output_type": "stream",
     "text": [
      "TensorLy_TensorTrain_image_pytorch_truncated_svd\n"
     ]
    },
    {
     "name": "stderr",
     "output_type": "stream",
     "text": [
      "\n",
      "Эксперимент набора параметров:   0%|          | 0/5 [00:00<?, ?it/s]\u001B[A\n",
      "Эксперимент набора параметров:  20%|██        | 1/5 [00:01<00:04,  1.04s/it]\u001B[A\n",
      "Эксперимент набора параметров:  40%|████      | 2/5 [00:02<00:03,  1.04s/it]\u001B[A\n",
      "Эксперимент набора параметров:  60%|██████    | 3/5 [00:03<00:02,  1.05s/it]\u001B[A\n",
      "Эксперимент набора параметров:  80%|████████  | 4/5 [00:04<00:01,  1.06s/it]\u001B[A\n",
      "Эксперимент набора параметров: 100%|██████████| 5/5 [00:05<00:00,  1.05s/it]\u001B[A\n",
      "Проверка набора параметров:   8%|▊         | 1/12 [00:05<01:03,  5.80s/it]"
     ]
    },
    {
     "name": "stdout",
     "output_type": "stream",
     "text": [
      "Изображение сохранено как /home/johndoe_19/git-projects/tensor-methods-comparison/.cache/output/TensorLy_TensorTrain_image_pytorch_truncated_svd.jpg\n",
      "TensorLy_TensorTrain_image_pytorch_symeig_svd\n"
     ]
    },
    {
     "name": "stderr",
     "output_type": "stream",
     "text": [
      "\n",
      "Эксперимент набора параметров:   0%|          | 0/5 [00:06<?, ?it/s]\u001B[A\n",
      "Проверка набора параметров:  17%|█▋        | 2/12 [00:12<01:04,  6.42s/it]"
     ]
    },
    {
     "name": "stdout",
     "output_type": "stream",
     "text": [
      "Пропущена итерация из-за недостатка памяти: pytorch, symeig_svd. Ошибка: CUDA out of memory. Tried to allocate 53.26 GiB (GPU 0; 11.00 GiB total capacity; 24.82 MiB already allocated; 9.40 GiB free; 518.00 MiB reserved in total by PyTorch) If reserved memory is >> allocated memory try setting max_split_size_mb to avoid fragmentation.  See documentation for Memory Management and PYTORCH_CUDA_ALLOC_CONF\n",
      "TensorLy_TensorTrain_image_pytorch_randomized_svd\n"
     ]
    },
    {
     "name": "stderr",
     "output_type": "stream",
     "text": [
      "\n",
      "Эксперимент набора параметров:   0%|          | 0/5 [00:00<?, ?it/s]\u001B[A\n",
      "Эксперимент набора параметров:  20%|██        | 1/5 [00:00<00:03,  1.03it/s]\u001B[A\n",
      "Эксперимент набора параметров:  40%|████      | 2/5 [00:01<00:02,  1.04it/s]\u001B[A\n",
      "Эксперимент набора параметров:  60%|██████    | 3/5 [00:02<00:01,  1.06it/s]\u001B[A\n",
      "Эксперимент набора параметров:  80%|████████  | 4/5 [00:03<00:00,  1.10it/s]\u001B[A\n",
      "Эксперимент набора параметров: 100%|██████████| 5/5 [00:04<00:00,  1.09it/s]\u001B[A\n",
      "Проверка набора параметров:  25%|██▌       | 3/12 [00:17<00:52,  5.84s/it]"
     ]
    },
    {
     "name": "stdout",
     "output_type": "stream",
     "text": [
      "Изображение сохранено как /home/johndoe_19/git-projects/tensor-methods-comparison/.cache/output/TensorLy_TensorTrain_image_pytorch_randomized_svd.jpg\n",
      "TensorLy_TensorTrain_image_numpy_truncated_svd\n"
     ]
    },
    {
     "name": "stderr",
     "output_type": "stream",
     "text": [
      "\n",
      "Эксперимент набора параметров:   0%|          | 0/5 [00:00<?, ?it/s]\u001B[A\n",
      "Эксперимент набора параметров:  20%|██        | 1/5 [00:01<00:05,  1.41s/it]\u001B[A\n",
      "Эксперимент набора параметров:  40%|████      | 2/5 [00:02<00:04,  1.45s/it]\u001B[A\n",
      "Эксперимент набора параметров:  60%|██████    | 3/5 [00:04<00:02,  1.46s/it]\u001B[A\n",
      "Эксперимент набора параметров:  80%|████████  | 4/5 [00:05<00:01,  1.43s/it]\u001B[A\n",
      "Эксперимент набора параметров: 100%|██████████| 5/5 [00:07<00:00,  1.41s/it]\u001B[A\n",
      "Проверка набора параметров:  33%|███▎      | 4/12 [00:25<00:52,  6.52s/it]"
     ]
    },
    {
     "name": "stdout",
     "output_type": "stream",
     "text": [
      "Изображение сохранено как /home/johndoe_19/git-projects/tensor-methods-comparison/.cache/output/TensorLy_TensorTrain_image_numpy_truncated_svd.jpg\n",
      "TensorLy_TensorTrain_image_numpy_symeig_svd\n"
     ]
    },
    {
     "name": "stderr",
     "output_type": "stream",
     "text": [
      "\n",
      "Эксперимент набора параметров:   0%|          | 0/5 [00:02<?, ?it/s]\u001B[A\n",
      "Проверка набора параметров:  42%|████▏     | 5/12 [00:28<00:37,  5.35s/it]"
     ]
    },
    {
     "name": "stdout",
     "output_type": "stream",
     "text": [
      "Пропущена итерация из-за недостатка памяти: numpy, symeig_svd. Ошибка: Unable to allocate 107. GiB for an array with shape (119568, 119568) and data type float64\n",
      "TensorLy_TensorTrain_image_numpy_randomized_svd\n"
     ]
    },
    {
     "name": "stderr",
     "output_type": "stream",
     "text": [
      "\n",
      "Эксперимент набора параметров:   0%|          | 0/5 [00:00<?, ?it/s]\u001B[A\n",
      "Эксперимент набора параметров:  40%|████      | 2/5 [00:01<00:02,  1.47it/s]\u001B[A\n",
      "Эксперимент набора параметров:  60%|██████    | 3/5 [00:03<00:02,  1.10s/it]\u001B[A\n",
      "Эксперимент набора параметров:  80%|████████  | 4/5 [00:04<00:01,  1.28s/it]\u001B[A\n",
      "Эксперимент набора параметров: 100%|██████████| 5/5 [00:06<00:00,  1.27s/it]\u001B[A\n",
      "Проверка набора параметров:  50%|█████     | 6/12 [00:35<00:35,  5.93s/it]\n"
     ]
    },
    {
     "name": "stdout",
     "output_type": "stream",
     "text": [
      "Изображение сохранено как /home/johndoe_19/git-projects/tensor-methods-comparison/.cache/output/TensorLy_TensorTrain_image_numpy_randomized_svd.jpg\n"
     ]
    },
    {
     "name": "stderr",
     "output_type": "stream",
     "text": [
      "Проверка набора параметров:   0%|          | 0/12 [00:00<?, ?it/s]"
     ]
    },
    {
     "name": "stdout",
     "output_type": "stream",
     "text": [
      "TensorLy_TensorTrain_video_pytorch_truncated_svd\n"
     ]
    },
    {
     "name": "stderr",
     "output_type": "stream",
     "text": [
      "\n",
      "Эксперимент набора параметров:   0%|          | 0/5 [00:00<?, ?it/s]\u001B[A\n",
      "Эксперимент набора параметров:  20%|██        | 1/5 [00:03<00:13,  3.40s/it]\u001B[A\n",
      "Эксперимент набора параметров:  40%|████      | 2/5 [00:06<00:10,  3.34s/it]\u001B[A\n",
      "Эксперимент набора параметров:  60%|██████    | 3/5 [00:10<00:06,  3.40s/it]\u001B[A\n",
      "Эксперимент набора параметров:  80%|████████  | 4/5 [00:13<00:03,  3.36s/it]\u001B[A\n",
      "Эксперимент набора параметров: 100%|██████████| 5/5 [00:17<00:00,  3.40s/it]\u001B[A\n",
      "Проверка набора параметров:   8%|▊         | 1/12 [00:18<03:26, 18.77s/it]"
     ]
    },
    {
     "name": "stdout",
     "output_type": "stream",
     "text": [
      "Видео сохранено как /home/johndoe_19/git-projects/tensor-methods-comparison/.cache/output/TensorLy_TensorTrain_video_pytorch_truncated_svd.mp4\n",
      "TensorLy_TensorTrain_video_pytorch_symeig_svd\n"
     ]
    },
    {
     "name": "stderr",
     "output_type": "stream",
     "text": [
      "\n",
      "Эксперимент набора параметров:   0%|          | 0/5 [00:05<?, ?it/s]\u001B[A\n",
      "Проверка набора параметров:  17%|█▋        | 2/12 [00:24<01:51, 11.14s/it]"
     ]
    },
    {
     "name": "stdout",
     "output_type": "stream",
     "text": [
      "Пропущена итерация из-за недостатка памяти: pytorch, symeig_svd. Ошибка: CUDA out of memory. Tried to allocate 350.46 GiB (GPU 0; 11.00 GiB total capacity; 1.77 GiB already allocated; 7.88 GiB free; 2.02 GiB reserved in total by PyTorch) If reserved memory is >> allocated memory try setting max_split_size_mb to avoid fragmentation.  See documentation for Memory Management and PYTORCH_CUDA_ALLOC_CONF\n",
      "TensorLy_TensorTrain_video_pytorch_randomized_svd\n"
     ]
    },
    {
     "name": "stderr",
     "output_type": "stream",
     "text": [
      "\n",
      "Эксперимент набора параметров:   0%|          | 0/5 [00:00<?, ?it/s]\u001B[A\n",
      "Эксперимент набора параметров:  20%|██        | 1/5 [00:13<00:52, 13.25s/it]\u001B[A\n",
      "Эксперимент набора параметров:  40%|████      | 2/5 [00:26<00:40, 13.34s/it]\u001B[A\n",
      "Эксперимент набора параметров:  60%|██████    | 3/5 [00:37<00:24, 12.04s/it]\u001B[A\n",
      "Эксперимент набора параметров:  80%|████████  | 4/5 [00:50<00:12, 12.49s/it]\u001B[A\n",
      "Эксперимент набора параметров: 100%|██████████| 5/5 [01:01<00:00, 12.24s/it]\u001B[A\n",
      "Проверка набора параметров:  25%|██▌       | 3/12 [01:27<05:12, 34.75s/it]"
     ]
    },
    {
     "name": "stdout",
     "output_type": "stream",
     "text": [
      "Видео сохранено как /home/johndoe_19/git-projects/tensor-methods-comparison/.cache/output/TensorLy_TensorTrain_video_pytorch_randomized_svd.mp4\n",
      "TensorLy_TensorTrain_video_numpy_truncated_svd\n"
     ]
    },
    {
     "name": "stderr",
     "output_type": "stream",
     "text": [
      "\n",
      "Эксперимент набора параметров:   0%|          | 0/5 [00:00<?, ?it/s]\u001B[A\n",
      "Эксперимент набора параметров:  20%|██        | 1/5 [02:04<08:16, 124.12s/it]\u001B[A\n",
      "Эксперимент набора параметров:  40%|████      | 2/5 [04:08<06:12, 124.15s/it]\u001B[A\n",
      "Эксперимент набора параметров:  60%|██████    | 3/5 [06:13<04:09, 124.82s/it]\u001B[A\n",
      "Эксперимент набора параметров:  80%|████████  | 4/5 [08:18<02:04, 124.64s/it]\u001B[A\n",
      "Эксперимент набора параметров: 100%|██████████| 5/5 [10:22<00:00, 124.54s/it]\u001B[A\n",
      "Проверка набора параметров:  33%|███▎      | 4/12 [11:51<35:40, 267.59s/it]"
     ]
    },
    {
     "name": "stdout",
     "output_type": "stream",
     "text": [
      "Видео сохранено как /home/johndoe_19/git-projects/tensor-methods-comparison/.cache/output/TensorLy_TensorTrain_video_numpy_truncated_svd.mp4\n",
      "TensorLy_TensorTrain_video_numpy_symeig_svd\n"
     ]
    },
    {
     "name": "stderr",
     "output_type": "stream",
     "text": [
      "\n",
      "Эксперимент набора параметров:   0%|          | 0/5 [00:00<?, ?it/s]\u001B[A\n",
      "Проверка набора параметров:  42%|████▏     | 5/12 [11:52<20:00, 171.44s/it]"
     ]
    },
    {
     "name": "stdout",
     "output_type": "stream",
     "text": [
      "Пропущена итерация из-за недостатка памяти: numpy, symeig_svd. Ошибка: Unable to allocate 87.6 GiB for an array with shape (306720, 306720) and data type uint8\n",
      "TensorLy_TensorTrain_video_numpy_randomized_svd\n"
     ]
    },
    {
     "name": "stderr",
     "output_type": "stream",
     "text": [
      "\n",
      "Эксперимент набора параметров:   0%|          | 0/5 [00:00<?, ?it/s]\u001B[A\n",
      "Эксперимент набора параметров:  20%|██        | 1/5 [15:54<1:03:38, 954.51s/it]\u001B[A\n",
      "Эксперимент набора параметров:  40%|████      | 2/5 [31:50<47:45, 955.28s/it]  \u001B[A\n",
      "Эксперимент набора параметров:  60%|██████    | 3/5 [47:42<31:47, 953.93s/it]\u001B[A\n",
      "Эксперимент набора параметров:  80%|████████  | 4/5 [1:03:38<15:54, 954.62s/it]\u001B[A\n",
      "Эксперимент набора параметров: 100%|██████████| 5/5 [1:19:34<00:00, 954.85s/it]\u001B[A\n",
      "Проверка набора параметров:  50%|█████     | 6/12 [1:31:26<1:31:26, 914.46s/it] "
     ]
    },
    {
     "name": "stdout",
     "output_type": "stream",
     "text": [
      "Видео сохранено как /home/johndoe_19/git-projects/tensor-methods-comparison/.cache/output/TensorLy_TensorTrain_video_numpy_randomized_svd.mp4\n"
     ]
    },
    {
     "name": "stderr",
     "output_type": "stream",
     "text": [
      "\n"
     ]
    }
   ],
   "source": [
    "for data_type_name, input_tensor in input_tensors.items():\n",
    "    rank_param = tensor_rank_mapping[data_type_name]\n",
    "    for backend, svd_func in tqdm(product(backend_params, svd_params), desc=\"Проверка набора параметров\", total=total_iterations):\n",
    "        library_method_name = \"TensorLy_TensorTrain\"\n",
    "        method_name = f\"{library_method_name}_{data_type_name}_{backend}_{svd_func}\"\n",
    "\n",
    "        print(method_name)\n",
    "\n",
    "        if logs:\n",
    "            existing_log = next(\n",
    "                (\n",
    "                    log\n",
    "                    for log in logs\n",
    "                    if log[\"method_name\"] == method_name\n",
    "                    and log[\"method_args\"].get(\"svd\") == svd_func\n",
    "                    and log[\"qualitative_metrics\"].get(\"TensorLy backend\") == backend\n",
    "                ),\n",
    "                None,\n",
    "            )\n",
    "            if existing_log:\n",
    "                print(f\"Пропущена итерация: логи уже существуют для {method_name}\")\n",
    "                continue\n",
    "\n",
    "        gc.collect()\n",
    "        torch.cuda.empty_cache()\n",
    "        torch.cuda.synchronize()\n",
    "\n",
    "        try:\n",
    "            with tl.backend_context(backend):\n",
    "                if backend == \"pytorch\":\n",
    "                    tensor_param = tl.tensor(input_tensor).to(torch_device)\n",
    "                elif backend == \"numpy\" or backend is None:\n",
    "                    tensor_param = tl.tensor(input_tensor)\n",
    "\n",
    "                method_runner = MethodRunner(\n",
    "                    func=tl.decomposition.tensor_train,\n",
    "                    method_input_tensor=tensor_param,\n",
    "                    library_method_name=library_method_name,\n",
    "                    backend_name=backend,\n",
    "                    gpu_memory_tracker=GPUTorchMemoryTracker(),\n",
    "                    ram_memory_tracker=RAMMemoryTracker(),\n",
    "                    time_tracker=TimeTracker(),\n",
    "                )\n",
    "\n",
    "                method_logger = MethodLogger(\n",
    "                    method_name=method_name,\n",
    "                    qualitative_metrics={\n",
    "                        \"Language\": \"Python\",\n",
    "                        \"Library\": \"TensorLy\",\n",
    "                        \"TensorLy backend\": f\"{backend}\",\n",
    "                        \"Tensor type\": \"Dense\",\n",
    "                        \"Data type\": data_type_name,\n",
    "                        \"Platform\": \"CPU, GPU\",\n",
    "                        \"Decomposition method\": \"TensorTrain\",\n",
    "                    },\n",
    "                    method_args={\n",
    "                        \"input_tensor\": tensor_param,\n",
    "                        \"rank\": rank_param,\n",
    "                        \"svd\": svd_func,\n",
    "                    },\n",
    "                    runner=method_runner,\n",
    "                )\n",
    "\n",
    "            reconstructed_tensor_from_tt_factors = method_runner.reconstructed_tensor\n",
    "\n",
    "            method_logger.save_logs_to_file(is_test=False)\n",
    "\n",
    "            reconstructed_frames = []\n",
    "\n",
    "            for tt_factor in reconstructed_tensor_from_tt_factors:\n",
    "                if backend == \"pytorch\":\n",
    "                    reconstructed_frames.append(normalize_frames(tt_factor.cpu().numpy()))\n",
    "                else:\n",
    "                    reconstructed_frames.append(normalize_frames(tt_factor))\n",
    "            reconstructed_frames = np.array(reconstructed_frames)\n",
    "\n",
    "            save_params_combinations = {\n",
    "                \"image\": {\"name\": method_logger.name, \"frames\": reconstructed_frames},\n",
    "                \"video\": {\"name\": method_logger.name, \"frames\": reconstructed_frames, \"fps\": original_fps, \"frame_size\": frame_size},\n",
    "            }\n",
    "            save_params = save_params_combinations[data_type_name]\n",
    "\n",
    "            SaveFramesFactory.get_save_methods(frame_name=data_type_name).save_frames(**save_params)\n",
    "\n",
    "        except (torch.cuda.OutOfMemoryError, MemoryError) as e:\n",
    "            print(f\"Пропущена итерация из-за недостатка памяти: {backend}, {svd_func}. Ошибка: {e!s}\")\n",
    "            gc.collect()\n",
    "            torch.cuda.empty_cache()\n",
    "            torch.cuda.synchronize()\n",
    "            continue"
   ]
  },
  {
   "cell_type": "markdown",
   "metadata": {},
   "source": "#### Clear cache and gc collect"
  },
  {
   "cell_type": "code",
   "execution_count": 21,
   "metadata": {
    "ExecuteTime": {
     "end_time": "2024-10-21T21:35:42.291144Z",
     "start_time": "2024-10-21T21:35:42.107225Z"
    }
   },
   "outputs": [
    {
     "data": {
      "text/plain": [
       "0"
      ]
     },
     "execution_count": 21,
     "metadata": {},
     "output_type": "execute_result"
    }
   ],
   "source": [
    "torch.cuda.synchronize()\n",
    "torch.cuda.empty_cache()\n",
    "\n",
    "variables_to_delete = [\n",
    "    \"logs\",\n",
    "    \"tensor_rank_mapping\",\n",
    "    \"input_tensors\",\n",
    "    \"svd_params\",\n",
    "    \"backend_params\",\n",
    "    \"total_iterations\",\n",
    "    \"data_type_name\",\n",
    "    \"input_tensor\",\n",
    "    \"rank_param\",\n",
    "    \"backend\",\n",
    "    \"svd_func\",\n",
    "    \"library_method_name\",\n",
    "    \"method_name\",\n",
    "    \"reconstructed_tensor_from_tt_factors\",\n",
    "    \"method_runner\",\n",
    "    \"method_logger\",\n",
    "    \"reconstructed_frames\",\n",
    "    \"save_params_combinations\",\n",
    "    \"save_params\",\n",
    "    \"tt_factor\",\n",
    "]\n",
    "\n",
    "for var in variables_to_delete:\n",
    "    with contextlib.suppress(KeyError):\n",
    "        del globals()[var]\n",
    "\n",
    "gc.collect()"
   ]
  },
  {
   "cell_type": "markdown",
   "metadata": {},
   "source": "### CANDECOMP/PARAFAC (tensorly.decomposition.parafac)"
  },
  {
   "cell_type": "code",
   "execution_count": 100,
   "metadata": {
    "ExecuteTime": {
     "end_time": "2024-10-22T19:52:49.556763Z",
     "start_time": "2024-10-22T19:52:49.066127Z"
    }
   },
   "outputs": [],
   "source": [
    "logs = LogReader.load_logs_from_file(log_file_path)"
   ]
  },
  {
   "cell_type": "markdown",
   "metadata": {},
   "source": "#### params"
  },
  {
   "cell_type": "code",
   "execution_count": 101,
   "metadata": {
    "ExecuteTime": {
     "end_time": "2024-10-22T19:52:49.640414Z",
     "start_time": "2024-10-22T19:52:49.601352Z"
    }
   },
   "outputs": [],
   "source": [
    "tensor_rank_mapping = {\n",
    "    \"image\": 423,\n",
    "    \"video\": 28500,\n",
    "}\n",
    "\n",
    "input_tensors = {\n",
    "    # \"video\": video_frames.copy(),\n",
    "    \"image\": image_frames.copy(),\n",
    "}\n",
    "\n",
    "backend_params = [\"pytorch\", \"numpy\"]\n",
    "\n",
    "svd_params = [\"truncated_svd\", \"symeig_svd\", \"randomized_svd\"]\n",
    "\n",
    "init_params = [\"random\", \"svd\"]\n",
    "\n",
    "normalize_factors_params = [False, True]\n",
    "# normalize_factors_params = [False]\n",
    "\n",
    "orthogonalise_params = [False, True]\n",
    "# orthogonalise_params = [False]\n",
    "\n",
    "cvg_criterion_params = [\"abs_rec_error\", \"rec_error\"]\n",
    "\n",
    "l2_reg_params = [0, 0.0001, 0.001, 0.01, 0.1, 0.5, 1.0]\n",
    "# l2_reg_params = [0]\n",
    "\n",
    "tol_params = [1e-8, 1e-5, 1e-6, 1e-7, 1e-9]\n",
    "# tol_params = [1e-8]\n",
    "\n",
    "n_iter_max_param = 100\n",
    "\n",
    "random_state_param = 42\n",
    "\n",
    "total_iterations = len(\n",
    "    list(product(backend_params, svd_params, init_params, normalize_factors_params, orthogonalise_params, cvg_criterion_params, l2_reg_params, tol_params))\n",
    ") * len(input_tensors)"
   ]
  },
  {
   "cell_type": "markdown",
   "metadata": {},
   "source": "#### Compare method with some params and log it"
  },
  {
   "cell_type": "code",
   "execution_count": 102,
   "metadata": {
    "ExecuteTime": {
     "end_time": "2024-10-22T19:53:04.272737Z",
     "start_time": "2024-10-22T19:52:51.002075Z"
    }
   },
   "outputs": [
    {
     "name": "stderr",
     "output_type": "stream",
     "text": [
      "Проверка набора параметров:   0%|          | 0/3360 [00:00<?, ?it/s]"
     ]
    },
    {
     "name": "stdout",
     "output_type": "stream",
     "text": [
      "TensorLy_CP_image_pytorch_truncated_svd_random_False_False_abs_rec_error_0_1e-08\n"
     ]
    },
    {
     "name": "stderr",
     "output_type": "stream",
     "text": [
      "\n",
      "Эксперимент набора параметров:   0%|          | 0/1 [00:00<?, ?it/s]\u001B[A\n",
      "Эксперимент набора параметров: 100%|██████████| 1/1 [00:13<00:00, 13.02s/it]\u001B[A\n",
      "Проверка набора параметров:   0%|          | 0/3360 [00:13<?, ?it/s]"
     ]
    },
    {
     "name": "stdout",
     "output_type": "stream",
     "text": [
      "{'method_args': {'cvg_criterion': 'abs_rec_error',\n",
      "                 'init': 'random',\n",
      "                 'l2_reg': 0,\n",
      "                 'n_iter_max': 100,\n",
      "                 'normalize_factors': False,\n",
      "                 'orthogonalise': False,\n",
      "                 'random_state': 42,\n",
      "                 'rank': 423,\n",
      "                 'svd': 'truncated_svd',\n",
      "                 'tol': 1e-08},\n",
      " 'method_name': 'TensorLy_CP_image_pytorch_truncated_svd_random_False_False_abs_rec_error_0_1e-08',\n",
      " 'qualitative_metrics': {'Data type': 'image',\n",
      "                         'Decomposition method': 'Tucker',\n",
      "                         'Language': 'Python',\n",
      "                         'Library': 'TensorLy',\n",
      "                         'Platform': 'CPU, GPU',\n",
      "                         'Tensor type': 'Dense',\n",
      "                         'TensorLy backend': 'pytorch'},\n",
      " 'quantitative_metrics': {'compression_ratio': [50.177304964539005],\n",
      "                          'duration': [7.1006083488464355],\n",
      "                          'frobenius_error': [0.46598981134593487],\n",
      "                          'gpu_allocated_memory_used_mb': [1.8271484375],\n",
      "                          'gpu_cached_memory_used_mb': [8.0],\n",
      "                          'ram_mem_used_mb': [511.3984375]}}\n",
      "Изображение сохранено как /home/johndoe_19/git-projects/tensor-methods-comparison/.cache/output/TensorLy_CP_image_pytorch_truncated_svd_random_False_False_abs_rec_error_0_1e-08.jpg\n"
     ]
    },
    {
     "name": "stderr",
     "output_type": "stream",
     "text": [
      "\n"
     ]
    }
   ],
   "source": [
    "for data_type_name, input_tensor in input_tensors.items():\n",
    "    rank_param = tensor_rank_mapping[data_type_name]\n",
    "\n",
    "    for backend, normalize_factors, orthogonalise, cvg_criterion, l2_reg, tol, init_method, svd_func in tqdm(\n",
    "        product(backend_params, normalize_factors_params, orthogonalise_params, cvg_criterion_params, l2_reg_params, tol_params, init_params, svd_params),\n",
    "        desc=\"Проверка набора параметров\",\n",
    "        total=total_iterations,\n",
    "    ):\n",
    "        library_method_name = \"TensorLy_CP\"\n",
    "        method_name = (\n",
    "            f\"{library_method_name}_{data_type_name}_{backend}_{svd_func}_{init_method}_{normalize_factors}_{orthogonalise}_{cvg_criterion}_{l2_reg}_{tol}\"\n",
    "        )\n",
    "\n",
    "        print(method_name)\n",
    "\n",
    "        if logs:\n",
    "            existing_log = next(\n",
    "                (\n",
    "                    log\n",
    "                    for log in logs\n",
    "                    if log[\"method_name\"] == method_name\n",
    "                    and log[\"method_args\"].get(\"init\") == init_method\n",
    "                    and log[\"method_args\"].get(\"svd\") == svd_func\n",
    "                    and log[\"method_args\"].get(\"normalize_factors\") == normalize_factors\n",
    "                    and log[\"method_args\"].get(\"orthogonalise\") == orthogonalise\n",
    "                    and log[\"method_args\"].get(\"cvg_criterion\") == cvg_criterion\n",
    "                    and log[\"method_args\"].get(\"l2_reg\") == l2_reg\n",
    "                    and log[\"method_args\"].get(\"tol\") == tol\n",
    "                    and log[\"qualitative_metrics\"].get(\"TensorLy backend\") == backend\n",
    "                ),\n",
    "                None,\n",
    "            )\n",
    "            if existing_log:\n",
    "                print(f\"Пропущена итерация: логи уже существуют для {method_name}\")\n",
    "                continue\n",
    "\n",
    "        torch.cuda.synchronize()\n",
    "        torch.cuda.empty_cache()\n",
    "        gc.collect()\n",
    "\n",
    "        try:\n",
    "            with tl.backend_context(backend):\n",
    "                if backend == \"pytorch\":\n",
    "                    tensor_param = tl.tensor(input_tensor).to(torch_device)\n",
    "                elif backend == \"numpy\" or backend is None:\n",
    "                    tensor_param = tl.tensor(input_tensor)\n",
    "\n",
    "                method_runner = MethodRunner(\n",
    "                    func=tl.decomposition.parafac,\n",
    "                    method_input_tensor=tensor_param,\n",
    "                    library_method_name=library_method_name,\n",
    "                    backend_name=backend,\n",
    "                    gpu_memory_tracker=GPUTorchMemoryTracker(),\n",
    "                    ram_memory_tracker=RAMMemoryTracker(),\n",
    "                    time_tracker=TimeTracker(),\n",
    "                )\n",
    "\n",
    "                method_logger = MethodLogger(\n",
    "                    method_name=method_name,\n",
    "                    is_test=True,\n",
    "                    qualitative_metrics={\n",
    "                        \"Language\": \"Python\",\n",
    "                        \"Library\": \"TensorLy\",\n",
    "                        \"TensorLy backend\": f\"{backend}\",\n",
    "                        \"Tensor type\": \"Dense\",\n",
    "                        \"Data type\": data_type_name,\n",
    "                        \"Platform\": \"CPU, GPU\",\n",
    "                        \"Decomposition method\": \"Tucker\",\n",
    "                    },\n",
    "                    method_args={\n",
    "                        \"tensor\": tensor_param,\n",
    "                        \"rank\": rank_param,\n",
    "                        \"n_iter_max\": n_iter_max_param,\n",
    "                        \"init\": init_method,\n",
    "                        \"svd\": svd_func,\n",
    "                        \"normalize_factors\": normalize_factors,\n",
    "                        \"orthogonalise\": orthogonalise,\n",
    "                        \"tol\": tol,\n",
    "                        \"random_state\": random_state_param,\n",
    "                        \"l2_reg\": l2_reg,\n",
    "                        \"cvg_criterion\": cvg_criterion,\n",
    "                    },\n",
    "                    runner=method_runner,\n",
    "                )\n",
    "\n",
    "            reconstructed_tensor = method_runner.reconstructed_tensor\n",
    "\n",
    "            method_metrics = method_logger.save_logs_to_file(is_test=True)\n",
    "\n",
    "            reconstructed_frames = []\n",
    "\n",
    "            reconstructed_tensor = reconstructed_tensor.cpu().numpy() if backend == \"pytorch\" else reconstructed_tensor\n",
    "            reconstructed_frames = np.array([normalize_frames(frame) for frame in reconstructed_tensor])\n",
    "\n",
    "            save_params_combinations = {\n",
    "                \"image\": {\"name\": method_logger.name, \"frames\": reconstructed_frames},\n",
    "                \"video\": {\"name\": method_logger.name, \"frames\": reconstructed_frames, \"fps\": original_fps, \"frame_size\": frame_size},\n",
    "            }\n",
    "            save_params = save_params_combinations[data_type_name]\n",
    "\n",
    "            SaveFramesFactory.get_save_methods(frame_name=data_type_name).save_frames(**save_params)\n",
    "\n",
    "            break\n",
    "\n",
    "        except (torch.cuda.OutOfMemoryError, MemoryError) as e:\n",
    "            print(\n",
    "                f\"Пропущена итерация из-за недостатка памяти:\"\n",
    "                f\"{backend}, {svd_func}, {init_method}, {normalize_factors}, {orthogonalise}, {tol}, {l2_reg}, {cvg_criterion}. Ошибка: {e!s}\"\n",
    "            )\n",
    "            torch.cuda.synchronize()\n",
    "            torch.cuda.empty_cache()\n",
    "            gc.collect()\n",
    "            continue"
   ]
  },
  {
   "cell_type": "markdown",
   "metadata": {},
   "source": "#### Clear cache and gc collect"
  },
  {
   "cell_type": "code",
   "execution_count": 103,
   "metadata": {
    "ExecuteTime": {
     "end_time": "2024-10-22T19:53:04.756279Z",
     "start_time": "2024-10-22T19:53:04.553985Z"
    }
   },
   "outputs": [
    {
     "data": {
      "text/plain": [
       "0"
      ]
     },
     "execution_count": 103,
     "metadata": {},
     "output_type": "execute_result"
    }
   ],
   "source": [
    "torch.cuda.synchronize()\n",
    "torch.cuda.empty_cache()\n",
    "\n",
    "variables_to_delete = [\n",
    "    \"method_runner\",\n",
    "    \"method_logger\",\n",
    "    \"tensor_param\",\n",
    "    \"logs\",\n",
    "    \"tensor_rank_mapping\",\n",
    "    \"input_tensors\",\n",
    "    \"n_iter_max_param\",\n",
    "    \"svd_params\",\n",
    "    \"init_params\",\n",
    "    \"backend_params\",\n",
    "    \"random_state_param\",\n",
    "    \"total_iterations\",\n",
    "    \"data_type_name\",\n",
    "    \"input_tensor\",\n",
    "    \"rank_param\",\n",
    "    \"backend\",\n",
    "    \"svd_func\",\n",
    "    \"init_method\",\n",
    "    \"library_method_name\",\n",
    "    \"method_name\",\n",
    "    \"reconstructed_tensor\",\n",
    "    \"reconstructed_frames\",\n",
    "    \"save_params_combinations\",\n",
    "    \"save_params\",\n",
    "    \"frame\",\n",
    "    \"normalize_factors_params\",\n",
    "    \"orthogonalise_params\",\n",
    "    \"cvg_criterion_params\",\n",
    "    \"l2_reg_params\",\n",
    "    \"tol_params\",\n",
    "    \"normalize_factors\",\n",
    "    \"orthogonalise\",\n",
    "    \"cvg_criterion\",\n",
    "    \"tol\",\n",
    "]\n",
    "\n",
    "for var in variables_to_delete:\n",
    "    with contextlib.suppress(KeyError):\n",
    "        del globals()[var]\n",
    "\n",
    "gc.collect()"
   ]
  },
  {
   "cell_type": "markdown",
   "metadata": {},
   "source": "## T3F"
  },
  {
   "cell_type": "markdown",
   "metadata": {},
   "source": "### Tensor Train"
  },
  {
   "cell_type": "code",
   "execution_count": 22,
   "metadata": {
    "ExecuteTime": {
     "end_time": "2024-10-21T21:35:42.937804Z",
     "start_time": "2024-10-21T21:35:42.321336Z"
    }
   },
   "outputs": [],
   "source": [
    "logs = LogReader.load_logs_from_file(log_file_path)"
   ]
  },
  {
   "cell_type": "markdown",
   "metadata": {},
   "source": "#### Params"
  },
  {
   "cell_type": "code",
   "execution_count": 23,
   "metadata": {
    "ExecuteTime": {
     "end_time": "2024-10-21T21:35:43.085337Z",
     "start_time": "2024-10-21T21:35:42.961960Z"
    }
   },
   "outputs": [],
   "source": [
    "tensor_rank_mapping = {\n",
    "    \"image\": [1, 212, 212, 1],\n",
    "    \"video\": [1, 500, 360, 500, 1],\n",
    "}\n",
    "\n",
    "input_tensors = {\n",
    "    \"video\": video_frames.copy().astype(np.float32),\n",
    "    \"image\": image_frames.copy().astype(np.float32),\n",
    "}\n",
    "\n",
    "backend_param = \"tensorflow\"\n",
    "\n",
    "total_iterations = len(input_tensors)"
   ]
  },
  {
   "cell_type": "markdown",
   "metadata": {},
   "source": "#### Compare method with some params and log it"
  },
  {
   "cell_type": "code",
   "execution_count": 24,
   "metadata": {
    "ExecuteTime": {
     "end_time": "2024-10-21T21:36:16.498774Z",
     "start_time": "2024-10-21T21:35:43.138475Z"
    }
   },
   "outputs": [
    {
     "name": "stderr",
     "output_type": "stream",
     "text": [
      "Проверка набора параметров:   0%|          | 0/2 [00:00<?, ?it/s]"
     ]
    },
    {
     "name": "stdout",
     "output_type": "stream",
     "text": [
      "T3F_TensorTrain_video\n"
     ]
    },
    {
     "name": "stderr",
     "output_type": "stream",
     "text": [
      "\n",
      "Эксперимент набора параметров:   0%|          | 0/5 [00:00<?, ?it/s]\u001B[AI0000 00:00:1729546543.715288     933 cuda_executor.cc:1001] could not open file to read NUMA node: /sys/bus/pci/devices/0000:01:00.0/numa_node\n",
      "Your kernel may have been built without NUMA support.\n",
      "I0000 00:00:1729546543.715401     933 cuda_executor.cc:1001] could not open file to read NUMA node: /sys/bus/pci/devices/0000:01:00.0/numa_node\n",
      "Your kernel may have been built without NUMA support.\n",
      "I0000 00:00:1729546543.715435     933 cuda_executor.cc:1001] could not open file to read NUMA node: /sys/bus/pci/devices/0000:01:00.0/numa_node\n",
      "Your kernel may have been built without NUMA support.\n",
      "I0000 00:00:1729546543.721943     933 cuda_executor.cc:1001] could not open file to read NUMA node: /sys/bus/pci/devices/0000:01:00.0/numa_node\n",
      "Your kernel may have been built without NUMA support.\n",
      "I0000 00:00:1729546543.722050     933 cuda_executor.cc:1001] could not open file to read NUMA node: /sys/bus/pci/devices/0000:01:00.0/numa_node\n",
      "Your kernel may have been built without NUMA support.\n",
      "2024-10-22 02:35:43.722070: I tensorflow/core/common_runtime/gpu/gpu_device.cc:2112] Could not identify NUMA node of platform GPU id 0, defaulting to 0.  Your kernel may not have been built with NUMA support.\n",
      "I0000 00:00:1729546543.722128     933 cuda_executor.cc:1001] could not open file to read NUMA node: /sys/bus/pci/devices/0000:01:00.0/numa_node\n",
      "Your kernel may have been built without NUMA support.\n",
      "2024-10-22 02:35:43.727282: I tensorflow/core/common_runtime/gpu/gpu_device.cc:2021] Created device /job:localhost/replica:0/task:0/device:GPU:0 with 9124 MB memory:  -> device: 0, name: NVIDIA GeForce GTX 1080 Ti, pci bus id: 0000:01:00.0, compute capability: 6.1\n",
      "2024-10-22 02:35:44.446877: I tensorflow/core/util/cuda_solvers.cc:178] Creating GpuSolver handles for stream 0x7fec740be8e0\n",
      "\n",
      "Эксперимент набора параметров:  20%|██        | 1/5 [00:06<00:24,  6.02s/it]\u001B[A\n",
      "Эксперимент набора параметров:  40%|████      | 2/5 [00:10<00:15,  5.19s/it]\u001B[A\n",
      "Эксперимент набора параметров:  60%|██████    | 3/5 [00:15<00:10,  5.04s/it]\u001B[A\n",
      "Эксперимент набора параметров:  80%|████████  | 4/5 [00:17<00:03,  4.00s/it]\u001B[A\n",
      "Эксперимент набора параметров: 100%|██████████| 5/5 [00:22<00:00,  4.47s/it]\u001B[A\n",
      "Проверка набора параметров:  50%|█████     | 1/2 [00:24<00:24, 24.65s/it]"
     ]
    },
    {
     "name": "stdout",
     "output_type": "stream",
     "text": [
      "Видео сохранено как /home/johndoe_19/git-projects/tensor-methods-comparison/.cache/output/T3F_TensorTrain_video.mp4\n",
      "T3F_TensorTrain_image\n"
     ]
    },
    {
     "name": "stderr",
     "output_type": "stream",
     "text": [
      "\n",
      "Эксперимент набора параметров:   0%|          | 0/5 [00:00<?, ?it/s]\u001B[A\n",
      "Эксперимент набора параметров:  20%|██        | 1/5 [00:01<00:05,  1.48s/it]\u001B[A\n",
      "Эксперимент набора параметров:  40%|████      | 2/5 [00:02<00:04,  1.44s/it]\u001B[A\n",
      "Эксперимент набора параметров:  60%|██████    | 3/5 [00:04<00:02,  1.45s/it]\u001B[A\n",
      "Эксперимент набора параметров:  80%|████████  | 4/5 [00:05<00:01,  1.36s/it]\u001B[A\n",
      "Эксперимент набора параметров: 100%|██████████| 5/5 [00:06<00:00,  1.40s/it]\u001B[A\n",
      "Проверка набора параметров: 100%|██████████| 2/2 [00:33<00:00, 16.56s/it]"
     ]
    },
    {
     "name": "stdout",
     "output_type": "stream",
     "text": [
      "Изображение сохранено как /home/johndoe_19/git-projects/tensor-methods-comparison/.cache/output/T3F_TensorTrain_image.jpg\n"
     ]
    },
    {
     "name": "stderr",
     "output_type": "stream",
     "text": [
      "\n"
     ]
    }
   ],
   "source": [
    "for data_type_name, input_tensor in tqdm(input_tensors.items(), desc=\"Проверка набора параметров\", total=total_iterations):\n",
    "    rank_param = tensor_rank_mapping[data_type_name]\n",
    "    tensor_param = input_tensor\n",
    "\n",
    "    library_method_name = \"T3F_TensorTrain\"\n",
    "    method_name = f\"{library_method_name}_{data_type_name}\"\n",
    "\n",
    "    print(method_name)\n",
    "\n",
    "    if logs:\n",
    "        existing_log = next((log for log in logs if log[\"method_name\"] == method_name), None)\n",
    "        if existing_log:\n",
    "            print(f\"Пропущена итерация: логи уже существуют для {method_name}\")\n",
    "            continue\n",
    "\n",
    "    gc.collect()\n",
    "\n",
    "    method_runner = MethodRunner(\n",
    "        func=t3f.to_tt_tensor,\n",
    "        method_input_tensor=tensor_param,\n",
    "        library_method_name=library_method_name,\n",
    "        backend_name=backend_param,\n",
    "        gpu_memory_tracker=GPUTensorflowMemoryTracker(tf_devices=tf_devices),\n",
    "        ram_memory_tracker=RAMMemoryTracker(),\n",
    "        time_tracker=TimeTracker(),\n",
    "    )\n",
    "\n",
    "    method_logger = MethodLogger(\n",
    "        method_name=method_name,\n",
    "        qualitative_metrics={\n",
    "            \"Language\": \"Python\",\n",
    "            \"Library\": \"T3F\",\n",
    "            \"T3F backend\": f\"{backend_param}\",\n",
    "            \"Tensor type\": \"Dense\",\n",
    "            \"Data type\": data_type_name,\n",
    "            \"Platform\": \"CPU, GPU\",\n",
    "            \"Decomposition method\": \"TensorTrain\",\n",
    "        },\n",
    "        method_args={\n",
    "            \"tens\": tensor_param,\n",
    "            \"max_tt_rank\": rank_param,\n",
    "        },\n",
    "        runner=method_runner,\n",
    "    )\n",
    "\n",
    "    reconstructed_tensor_t3f = method_runner.reconstructed_tensor\n",
    "\n",
    "    method_logger.save_logs_to_file(is_test=False)\n",
    "\n",
    "    reconstructed_frames = []\n",
    "\n",
    "    for frame in reconstructed_tensor_t3f:\n",
    "        reconstructed_frames.append(normalize_frames(frame))\n",
    "    reconstructed_frames = np.array(reconstructed_frames)\n",
    "\n",
    "    save_params_combinations = {\n",
    "        \"image\": {\"name\": method_logger.name, \"frames\": reconstructed_frames},\n",
    "        \"video\": {\"name\": method_logger.name, \"frames\": reconstructed_frames, \"fps\": original_fps, \"frame_size\": frame_size},\n",
    "    }\n",
    "\n",
    "    save_params = save_params_combinations[data_type_name]\n",
    "\n",
    "    SaveFramesFactory.get_save_methods(frame_name=data_type_name).save_frames(**save_params)"
   ]
  },
  {
   "cell_type": "markdown",
   "metadata": {},
   "source": "#### Clear cache and gc collect"
  },
  {
   "cell_type": "code",
   "execution_count": 25,
   "metadata": {
    "ExecuteTime": {
     "end_time": "2024-10-21T21:36:17.061652Z",
     "start_time": "2024-10-21T21:36:16.517666Z"
    }
   },
   "outputs": [
    {
     "data": {
      "text/plain": [
       "19"
      ]
     },
     "execution_count": 25,
     "metadata": {},
     "output_type": "execute_result"
    }
   ],
   "source": [
    "torch.cuda.synchronize()\n",
    "torch.cuda.empty_cache()\n",
    "\n",
    "numba_device = cuda.get_current_device()\n",
    "numba_device.reset()\n",
    "\n",
    "variables_to_delete = [\n",
    "    \"logs\",\n",
    "    \"tensor_rank_mapping\",\n",
    "    \"input_tensors\",\n",
    "    \"backend_param\",\n",
    "    \"total_iterations\",\n",
    "    \"data_type_name\",\n",
    "    \"input_tensor\",\n",
    "    \"rank_param\",\n",
    "    \"tensor_param\",\n",
    "    \"library_method_name\",\n",
    "    \"method_name\",\n",
    "    \"method_runner\",\n",
    "    \"method_logger\",\n",
    "    \"reconstructed_tensor_t3f\",\n",
    "    \"reconstructed_frames\",\n",
    "    \"frame\",\n",
    "    \"save_params_combinations\",\n",
    "    \"save_params\",\n",
    "]\n",
    "\n",
    "for var in variables_to_delete:\n",
    "    with contextlib.suppress(KeyError):\n",
    "        del globals()[var]\n",
    "\n",
    "gc.collect()"
   ]
  },
  {
   "cell_type": "markdown",
   "metadata": {},
   "source": "## TeNPy (not implemented)"
  },
  {
   "cell_type": "markdown",
   "metadata": {},
   "source": "### Params"
  },
  {
   "cell_type": "code",
   "execution_count": 26,
   "metadata": {
    "ExecuteTime": {
     "end_time": "2024-10-21T21:36:17.125294Z",
     "start_time": "2024-10-21T21:36:17.090065Z"
    }
   },
   "outputs": [],
   "source": [
    "# tensor_param = video_frames.copy().astype(np.float32)\n",
    "#\n",
    "# # Размерность физического индекса\n",
    "# d = tensor_param.shape[-1]  # в вашем случае это 3\n",
    "#\n",
    "# # Создаем объект LegCharge\n",
    "# leg = LegCharge.from_trivial(d)\n",
    "#\n",
    "# # Создаем объекты Site для каждого физического индекса, кроме последнего\n",
    "# sites = [Site(leg) for _ in range(tensor_param.ndim - 1)]\n",
    "#\n",
    "# rank_param = [1, 500, 302, 500, 1]"
   ]
  },
  {
   "cell_type": "markdown",
   "metadata": {},
   "source": "### Implementation"
  },
  {
   "cell_type": "code",
   "execution_count": 27,
   "metadata": {
    "ExecuteTime": {
     "end_time": "2024-10-21T21:36:17.411485Z",
     "start_time": "2024-10-21T21:36:17.151098Z"
    }
   },
   "outputs": [],
   "source": [
    "# mps = MPS.from_full(sites=sites, psi=tensor_param, normalize=False)\n",
    "#\n",
    "# reconstructed_tensor = mps.to_full_tensor()"
   ]
  },
  {
   "cell_type": "code",
   "execution_count": 28,
   "metadata": {
    "ExecuteTime": {
     "end_time": "2024-10-21T21:36:17.601834Z",
     "start_time": "2024-10-21T21:36:17.491557Z"
    }
   },
   "outputs": [],
   "source": [
    "# logs = load_logs_from_file(log_file_path)\n",
    "#\n",
    "# method_name = f\"TeNPy_TensorTrain\"\n",
    "#\n",
    "# if logs:\n",
    "#     existing_log = next(\n",
    "#         (log for log in logs if log['method_name'] == method_name),\n",
    "#         None\n",
    "#     )\n",
    "#     if existing_log:\n",
    "#         error_message = f\"Пропущена итерация: логи уже существуют для {method_name}\"\n",
    "#         raise error_message\n",
    "#\n",
    "# gc.collect()\n",
    "# torch.cuda.empty_cache()\n",
    "# torch.cuda.synchronize()\n",
    "#\n",
    "# method_logs = MethodLogger(\n",
    "#     method_name=method_name,\n",
    "#     method_input_tensor=tensor_param,\n",
    "#     qualitative_metrics={\n",
    "#         \"Language\": \"Python\",\n",
    "#         \"Library\": \"TeNPy\",\n",
    "#         \"Tensor type\": \"Dense\",\n",
    "#         \"Platform\": \"CPU\",\n",
    "#         \"Decomposition method\": \"TensorTrain\",\n",
    "#     },\n",
    "#     method_args={\n",
    "#         \"sites\": tensor_param,\n",
    "#         \"psi\": rank_param,\n",
    "#         \"normalize\": False,\n",
    "#     },\n",
    "#     func=tenpy.networks.mps.MPS.from_full\n",
    "# )\n",
    "#\n",
    "# method_logs_list.append(method_logs)\n",
    "#\n",
    "# tt_factors = method_logs.method_result\n",
    "#\n",
    "# reconstruct_frames_from_tenpy_tt_factors = tt_factors.to_full_tensor()"
   ]
  },
  {
   "cell_type": "code",
   "execution_count": 29,
   "metadata": {
    "ExecuteTime": {
     "end_time": "2024-10-21T21:36:17.697250Z",
     "start_time": "2024-10-21T21:36:17.650064Z"
    }
   },
   "outputs": [],
   "source": [
    "# method_logs.quantitative_metrics['compression_ratio'] = (100.0 * get_tensors_size(*tt_factors) / get_tensors_size(tensor_param))\n",
    "\n",
    "# method_logs.quantitative_metrics['frobenius_error'] = (\n",
    "#         100.0 * np.linalg.norm(reconstruct_frames_from_tenpy_tt_factors - tensor_param) / tl.norm(\n",
    "#         tensor_param))\n",
    "#\n",
    "# save_logs_to_file(method_logs=method_logs, is_test=True)\n",
    "#\n",
    "# reconstructed_frames = []\n",
    "#\n",
    "# for i in range(len(reconstruct_frames_from_tenpy_tt_factors)):\n",
    "#     reconstructed_frames.append(normalize_frame_tensorly_tensortrain(reconstruct_frames_from_tenpy_tt_factors[i]))\n",
    "#\n",
    "# save_frames_as_video(name=method_logs.name, frames=reconstructed_frames, fps=original_fps, frame_size=frame_size)"
   ]
  }
 ],
 "metadata": {
  "kernelspec": {
   "display_name": "Python 3",
   "language": "python",
   "name": "python3"
  },
  "language_info": {
   "codemirror_mode": {
    "name": "ipython",
    "version": 2
   },
   "file_extension": ".py",
   "mimetype": "text/x-python",
   "name": "python",
   "nbconvert_exporter": "python",
   "pygments_lexer": "ipython2",
   "version": "2.7.6"
  }
 },
 "nbformat": 4,
 "nbformat_minor": 0
}
