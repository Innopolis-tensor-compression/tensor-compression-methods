{
 "cells": [
  {
   "cell_type": "markdown",
   "metadata": {
    "collapsed": false
   },
   "source": [
    "# Imports"
   ]
  },
  {
   "cell_type": "code",
   "execution_count": 1,
   "metadata": {
    "ExecuteTime": {
     "end_time": "2024-10-17T15:55:23.290424Z",
     "start_time": "2024-10-17T15:55:13.355157Z"
    },
    "collapsed": false
   },
   "outputs": [
    {
     "name": "stderr",
     "output_type": "stream",
     "text": [
      "2024-10-17 20:55:15.988371: E external/local_xla/xla/stream_executor/cuda/cuda_fft.cc:485] Unable to register cuFFT factory: Attempting to register factory for plugin cuFFT when one has already been registered\n",
      "2024-10-17 20:55:16.140139: E external/local_xla/xla/stream_executor/cuda/cuda_dnn.cc:8454] Unable to register cuDNN factory: Attempting to register factory for plugin cuDNN when one has already been registered\n",
      "2024-10-17 20:55:16.179049: E external/local_xla/xla/stream_executor/cuda/cuda_blas.cc:1452] Unable to register cuBLAS factory: Attempting to register factory for plugin cuBLAS when one has already been registered\n",
      "2024-10-17 20:55:16.446968: I tensorflow/core/platform/cpu_feature_guard.cc:210] This TensorFlow binary is optimized to use available CPU instructions in performance-critical operations.\n",
      "To enable the following instructions: AVX2 FMA, in other operations, rebuild TensorFlow with the appropriate compiler flags.\n",
      "2024-10-17 20:55:18.124572: W tensorflow/compiler/tf2tensorrt/utils/py_utils.cc:38] TF-TRT Warning: Could not find TensorRT\n"
     ]
    },
    {
     "data": {
      "text/plain": [
       "True"
      ]
     },
     "execution_count": 1,
     "metadata": {},
     "output_type": "execute_result"
    }
   ],
   "source": [
    "import sys\n",
    "\n",
    "modules_to_reload = [\n",
    "    \"src.utils.method_loggers\",\n",
    "    \"src.utils.method_runners\",\n",
    "    \"src.utils.metrics_calculators\",\n",
    "    \"src.utils.tensor_handlers\",\n",
    "    \"src.utils.trackers\",\n",
    "    \"src.utils.video_controller\",\n",
    "]\n",
    "\n",
    "for module in modules_to_reload:\n",
    "    if module in sys.modules:\n",
    "        del sys.modules[module]\n",
    "\n",
    "%load_ext memory_profiler\n",
    "%load_ext autoreload\n",
    "%autoreload 2\n",
    "\n",
    "import contextlib\n",
    "import gc\n",
    "import os\n",
    "from itertools import product\n",
    "\n",
    "import numpy as np\n",
    "import tensorflow as tf\n",
    "from numba import cuda\n",
    "\n",
    "tf.random.set_seed(42)\n",
    "\n",
    "import t3f\n",
    "import tensorly as tl\n",
    "import torch\n",
    "from dotenv import load_dotenv\n",
    "from tqdm import tqdm\n",
    "\n",
    "from src.utils.image_controller import download_image, extract_image_frames\n",
    "from src.utils.method_loggers import MethodLogger\n",
    "from src.utils.method_runners import MethodRunner\n",
    "from src.utils.read_logs import LogReader\n",
    "from src.utils.save_frames import SaveFramesFactory\n",
    "from src.utils.tensor_handlers import normalize_frames\n",
    "from src.utils.trackers import GPUTensorflowMemoryTracker, GPUTorchMemoryTracker, RAMMemoryTracker, TimeTracker\n",
    "from src.utils.video_controller import download_youtube_video, extract_frames\n",
    "\n",
    "load_dotenv()"
   ]
  },
  {
   "cell_type": "code",
   "execution_count": 2,
   "metadata": {
    "ExecuteTime": {
     "end_time": "2024-10-17T15:55:24.454855Z",
     "start_time": "2024-10-17T15:55:23.980299Z"
    }
   },
   "outputs": [
    {
     "data": {
      "text/plain": [
       "device(type='cuda')"
      ]
     },
     "execution_count": 2,
     "metadata": {},
     "output_type": "execute_result"
    }
   ],
   "source": [
    "torch_device = torch.device(\"cuda\" if torch.cuda.is_available() else \"cpu\")\n",
    "torch_device"
   ]
  },
  {
   "cell_type": "code",
   "execution_count": 3,
   "metadata": {
    "ExecuteTime": {
     "end_time": "2024-10-17T15:55:24.583963Z",
     "start_time": "2024-10-17T15:55:24.537408Z"
    }
   },
   "outputs": [],
   "source": [
    "torch.cuda.empty_cache()"
   ]
  },
  {
   "cell_type": "code",
   "execution_count": 4,
   "metadata": {
    "ExecuteTime": {
     "end_time": "2024-10-17T15:55:25.892102Z",
     "start_time": "2024-10-17T15:55:24.733820Z"
    }
   },
   "outputs": [
    {
     "name": "stderr",
     "output_type": "stream",
     "text": [
      "WARNING: All log messages before absl::InitializeLog() is called are written to STDERR\n",
      "I0000 00:00:1729180524.801251     884 cuda_executor.cc:1001] could not open file to read NUMA node: /sys/bus/pci/devices/0000:01:00.0/numa_node\n",
      "Your kernel may have been built without NUMA support.\n",
      "I0000 00:00:1729180525.884272     884 cuda_executor.cc:1001] could not open file to read NUMA node: /sys/bus/pci/devices/0000:01:00.0/numa_node\n",
      "Your kernel may have been built without NUMA support.\n",
      "I0000 00:00:1729180525.884355     884 cuda_executor.cc:1001] could not open file to read NUMA node: /sys/bus/pci/devices/0000:01:00.0/numa_node\n",
      "Your kernel may have been built without NUMA support.\n"
     ]
    },
    {
     "data": {
      "text/plain": [
       "'/physical_device:GPU:0'"
      ]
     },
     "execution_count": 4,
     "metadata": {},
     "output_type": "execute_result"
    }
   ],
   "source": [
    "tf_physical_device = tf.config.list_physical_devices(\"GPU\")[0].name\n",
    "tf_device = \":\".join(tf_physical_device.split(\":\")[1:3])\n",
    "tf_devices = [tf_device]\n",
    "tf_physical_device"
   ]
  },
  {
   "cell_type": "markdown",
   "metadata": {},
   "source": "# Get tensors"
  },
  {
   "cell_type": "markdown",
   "metadata": {
    "collapsed": false
   },
   "source": [
    "## Some params"
   ]
  },
  {
   "cell_type": "code",
   "execution_count": 5,
   "metadata": {
    "ExecuteTime": {
     "end_time": "2024-10-17T15:55:26.045321Z",
     "start_time": "2024-10-17T15:55:26.008862Z"
    },
    "collapsed": false
   },
   "outputs": [],
   "source": [
    "video_url = \"https://www.youtube.com/watch?v=eSKe2Vx-rpY\"\n",
    "proxy_url = os.getenv(\"PROXY_URL\")\n",
    "cache_dir_video = \"../.cache/video\"\n",
    "\n",
    "image_url = \"https://i.pinimg.com/564x/04/b2/68/04b26838bdd5e2ba54d0144558685bae.jpg\"\n",
    "cache_dir_image = \"../.cache/image\"\n",
    "\n",
    "log_file_path = \"../.cache/method_logs.json\"\n",
    "\n",
    "method_logs_list = []"
   ]
  },
  {
   "cell_type": "markdown",
   "metadata": {
    "collapsed": false
   },
   "source": "## Get some tensors from different data types"
  },
  {
   "cell_type": "markdown",
   "metadata": {},
   "source": "### Video"
  },
  {
   "cell_type": "code",
   "execution_count": 6,
   "metadata": {
    "ExecuteTime": {
     "end_time": "2024-10-17T15:55:26.164977Z",
     "start_time": "2024-10-17T15:55:26.118343Z"
    },
    "collapsed": false
   },
   "outputs": [
    {
     "name": "stdout",
     "output_type": "stream",
     "text": [
      "Видео уже загружено и закешировано: ../.cache/video/eSKe2Vx-rpY.mp4\n"
     ]
    }
   ],
   "source": [
    "video_path = download_youtube_video(video_url, cache_dir=cache_dir_video.__str__(), proxy_url=proxy_url)"
   ]
  },
  {
   "cell_type": "code",
   "execution_count": 7,
   "metadata": {
    "ExecuteTime": {
     "end_time": "2024-10-17T15:55:27.037777Z",
     "start_time": "2024-10-17T15:55:26.297208Z"
    },
    "collapsed": false
   },
   "outputs": [],
   "source": [
    "video_frames, original_fps, frame_size = extract_frames(video_path)"
   ]
  },
  {
   "cell_type": "code",
   "execution_count": 8,
   "metadata": {
    "ExecuteTime": {
     "end_time": "2024-10-17T15:55:27.179258Z",
     "start_time": "2024-10-17T15:55:27.096909Z"
    }
   },
   "outputs": [
    {
     "data": {
      "text/plain": [
       "(440, 640, 360, 3)"
      ]
     },
     "execution_count": 8,
     "metadata": {},
     "output_type": "execute_result"
    }
   ],
   "source": [
    "video_frames.shape"
   ]
  },
  {
   "cell_type": "markdown",
   "metadata": {},
   "source": "### Image"
  },
  {
   "cell_type": "code",
   "execution_count": 9,
   "metadata": {
    "ExecuteTime": {
     "end_time": "2024-10-17T15:55:27.440476Z",
     "start_time": "2024-10-17T15:55:27.337414Z"
    }
   },
   "outputs": [
    {
     "name": "stdout",
     "output_type": "stream",
     "text": [
      "Изображение уже загружено и закешировано: ../.cache/image/04b26838bdd5e2ba54d0144558685bae.jpg\n"
     ]
    }
   ],
   "source": [
    "image_path = download_image(image_url, cache_dir_image)\n",
    "image_frames = extract_image_frames(image_path)"
   ]
  },
  {
   "cell_type": "code",
   "execution_count": 10,
   "metadata": {
    "ExecuteTime": {
     "end_time": "2024-10-17T15:55:27.709262Z",
     "start_time": "2024-10-17T15:55:27.634382Z"
    }
   },
   "outputs": [
    {
     "data": {
      "text/plain": [
       "(564, 564, 3)"
      ]
     },
     "execution_count": 10,
     "metadata": {},
     "output_type": "execute_result"
    }
   ],
   "source": [
    "image_frames.shape"
   ]
  },
  {
   "cell_type": "markdown",
   "metadata": {},
   "source": "# Theoretical comparison of some libraries and implementations"
  },
  {
   "cell_type": "markdown",
   "metadata": {},
   "source": [
    "Some packages which can decompose some dense type of tensors, from [this](https://arxiv.org/pdf/2103.13756) paper\n",
    "\n",
    "\n",
    "Decomposition methods which used:\n",
    "1. Canonical Polyadic Decomposition as PARAllel FACtors analysis (aka PARAFAC aka CPD aka CP)\n",
    "2. Tucker Decomposition\n",
    "3. Tensor Train\n",
    "4. some variants of its (Other)\n",
    "\n",
    "Tensor types:\n",
    "1. Dense (D)\n",
    "2. Sparse (S)\n",
    "3. BlockSparse (BS)\n",
    "4. Symmetric\n",
    "5. Supersymmetric\n",
    "\n",
    "Target system:\n",
    "1. CPU (C)\n",
    "2. GPU(G)\n",
    "3. Distributed Memory (D)\n",
    "\n",
    "\n",
    "\n",
    "| Method name                                                                             | Decomposition methods implemented | Tensor Type | Platform | Language         | Git | PyPI | Want to check | Checked     |\n",
    "|-----------------------------------------------------------------------------------------|-----------------------------------|------------|----------|------------------|------|------|--------------|-------------|\n",
    "| [AdaTM](https://github.com/hpcgarage/AdaTM)                                             | CP                                | S          | C        | C                | +    | ?    |              |             |\n",
    "| [BTAS](https://github.com/ValeevGroup/BTAS)                                             | CP, Tucker                        | nan        | C        | C++              | +    | ?    |              |             |\n",
    "| [CP-CALS](https://github.com/HPAC/CP-CALS)                                              | CP, Other                         | D          | C, G     | C++, Mat         | +    |      | +            |             |\n",
    "| [CSTF](https://github.com/ZacBlanco/cstf)                                               | Other                             | S          | D        | Scala            | +    | ?    |              |             |\n",
    "| [D-Tucker](https://datalab.snu.ac.kr/dtucker/resources/DTucker-v1.0.tar.gz)             | Tucker, Other                     | D          | C        | Matlab           |      | ?    |              |             |\n",
    "| [DFacTo](http://www.joonheechoi.com/research.)                                          | CP                                | S          | C, D     | C++              |      | ?    |              |             |\n",
    "| [EXATN](https://github.com/ORNL-QCI/exatn)                                              | TensorTrain                       | D          | C, D, G  | C++, Py          | +    |      | +            |             |\n",
    "| [Genten](https://gitlab.com/tensors/genten)                                             | CP                                | D, S       | C, G     | C++              | +    |      | +            |             |\n",
    "| GigaTensor                                                                              | CP                                | D          | C        | C++, Python      |      | ?    |              |             |\n",
    "| [ITensor](https://github.com/ITensor/ITensor)                                           | TensorTrain                       | D, BS      | C, G     | C++, Julia       | +    |      | +            |             |\n",
    "| [multiway](https://cran.r-project.org/web/packages/multiway/index.html)                 | CP, Tucker, Other                 | D          | C        | R                |      | ?    |              |             |\n",
    "| [N-way toolbox](http://www.models.life.ku.dk/nwaytoolbox/download)                      | CP, Tucker, Other                 | D          | C        | Matlab           |      | ?    |              |             |\n",
    "| [ParCube](https://www.cs.ucr.edu/~epapalex/src/parCube.zip)                             | CP                                | S          | C        | Matlab           |      | ?    |              |             |\n",
    "| [ParTensor](https://github.com/neurocom/partensor-toolbox)                              | CP                                | D          | C, G     | C++              | +    |      | +            |             |\n",
    "| [ParTI!](https://github.com/hpcgarage/ParTI)                                            | CP, Tucker                        | S          | C, G     | C, CUDA, Mat     | +    | ?    |              |             |\n",
    "| [PLANC](https://github.com/ramkikannan/planc)                                           | CP                                | S          | C, D     | C++              | +    | ?    |              |             |\n",
    "| [PLS toolbox](https://eigenvector.com/software/pls-toolbox/)                            | CP          , Tucker              | D          | C        | Matlab           |      | ?    |              |             |\n",
    "| [Pytensor](https://code.google.com/archive/p/pytensor/source/default/source)            | Tucker                            | D, S       | C        | Python           |      | ?    |              |             |\n",
    "| [rTensor](https://github.com/jamesyili/rTensor)                                         | CP, Tucker, Other                 | D          | C        | R                | +    |      | +            |             |\n",
    "| [rTensor (randomized)](https://github.com/erichson/rTensor)                             | CP                                | D          | C        | Python           | +    |      | +       +    |             |\n",
    "| [scikit-tensor](https://github.com/mnick/scikit-tensor)                                 | CP, Tucker, Other                 | D, S       | C        | Python           | +    | +    | +    +   +   | too old     |\n",
    "| [Scikit-TT](https://github.com/PGelss/scikit_tt)                                        | TensorTrain                       | D          | C        | Python           | +    |      |     +   +    |             |\n",
    "| [SPALS](https://github.com/dehuacheng/SpAls)                                            | CP                                | S          | C        | C++              | +    | ?    |              |             |\n",
    "| [SPARTan](https://github.com/kperros/SPARTan)                                           | Other                             | S          | C        | Matlab           | +    | ?    |              |             |\n",
    "| [SPLATT](https://github.com/ShadenSmith/splatt)                                         | CP                                | S          | C, D     | C, C++, Oct, Mat | +    | ?    |              |             |\n",
    "| [SuSMoST](https://susmost.com/downloads.html)                                           | TensorTrain, Other                | D          | C        | Python           |      | ?    |              |             |\n",
    "| [T3F](https://github.com/Bihaqo/t3f)                                                    | TensorTrain                       | D          | C, G     | Python           | +    | +    | +    + +     | in progress |\n",
    "| [TDALAB](https://github.com/andrewssobral/TDALAB)                                       | CP                                | D, S       | C        | Python, Matlab   | +    |      | +         +  |             |\n",
    "| [TeNPy](https://github.com/tenpy/tenpy)                                        | TensorTrain                       | D          | C        | Python           | +    | +    | +      + +   | in progress |\n",
    "| [Tensor Fox](https://github.com/felipebottega/Tensor-Fox)                               | CP                                | D, S       | C        | Python, Matlab   | +    | +    | +    + +     | ?           |\n",
    "| [Tensor package](http://www.gipsa-lab.fr/~pierre.comon/TensorPackage/tensorPackage.html) | CP                                | D          | C        | Matlab           |      | ?    |              |             |\n",
    "| [Tensor Toolbox](https://gitlab.com/tensors/tensor_toolbox)                             | CP, Tucker, Other                 | D, S       | C        | Matlab           | +    |      | +            |             |\n",
    "| [tensor_decomposition](https://github.com/cyclops-community/tensor_decomposition)       | CP, Tucker                        | D          | C, D     | Python           | +    |      | +        +   |             |\n",
    "| [TensorBox](https://github.com/phananhhuy/TensorBox)                                    | CP, Tucker, Other                 | D, S       | C        | Matlab           | +    |      | +            |             |\n",
    "| [TensorD](https://github.com/Large-Scale-Tensor-Decomposition/tensorD)                  | CP, Tucker                        | D          | C, G     | Python           | ?    | ?    |              |             |\n",
    "| [TensorLab](https://www.tensorlab.net)                                                  | CP, Tucker, Other                 | D, S       | C        | Matlab           |      | ?    |              |             |\n",
    "| [TensorLab+](https://www.tensorlabplus.net)                                             | CP, Other                         | D, S       | C        | Matlab           |      | ?    |              |             |\n",
    "| [TensorLy](https://github.com/tensorly/tensorly)                                        | CP, Tucker, TensorTrain, Other    | D          | C, G     | Python           | +    | +    | +       + +  | in progress |\n",
    "| [Three-Way](https://github.com/cran/ThreeWay)                                           | CP, Tucker                        | D          | C        | R                | +    |      | +            |             |\n",
    "| [TNR](https://github.com/ycyuustc/matlab)                                               | Other                             | D          | C        | Matlab           | +    |      | +            |             |\n",
    "| [TT-Toolbox](https://github.com/oseledets/TT-Toolbox)                                   | TensorTrain                       | D          | C, D, G  | Matlab, Python   | +    |      | +       +    |             |\n",
    "| [xerus](https://git.hemio.de/xerus/xerus/)                                              | TensorTrain                       | D, S       | C        | C++              | +    |      | +            |             |"
   ]
  },
  {
   "cell_type": "markdown",
   "metadata": {},
   "source": "# Implementations of Decompositions methods"
  },
  {
   "cell_type": "markdown",
   "metadata": {},
   "source": "## TensorLy"
  },
  {
   "cell_type": "code",
   "execution_count": 11,
   "metadata": {
    "ExecuteTime": {
     "end_time": "2024-10-17T15:55:28.143034Z",
     "start_time": "2024-10-17T15:55:28.076889Z"
    }
   },
   "outputs": [],
   "source": [
    "# {‘numpy’, ‘mxnet’, ‘pytorch’, ‘tensorflow’, ‘cupy’}\n",
    "# backend variants for tensorly\n",
    "# tl.set_backend('pytorch')\n",
    "# with tl.backend_context(‘pytorch’): ... pass\n",
    "\n",
    "# video_frames_cuda = tl.tensor(video_frames.copy()).to(device)\n",
    "# video_frames_cuda = tl.tensor(video_frames.copy())"
   ]
  },
  {
   "cell_type": "markdown",
   "metadata": {},
   "source": "### Tucker (tl.decomposition.tucker)"
  },
  {
   "cell_type": "code",
   "execution_count": 12,
   "metadata": {
    "ExecuteTime": {
     "end_time": "2024-10-17T15:55:28.904313Z",
     "start_time": "2024-10-17T15:55:28.215864Z"
    }
   },
   "outputs": [],
   "source": [
    "logs = LogReader.load_logs_from_file(log_file_path)"
   ]
  },
  {
   "cell_type": "markdown",
   "metadata": {},
   "source": "#### Params"
  },
  {
   "cell_type": "code",
   "execution_count": 13,
   "metadata": {
    "ExecuteTime": {
     "end_time": "2024-10-17T15:55:28.993640Z",
     "start_time": "2024-10-17T15:55:28.940673Z"
    }
   },
   "outputs": [
    {
     "data": {
      "text/plain": [
       "['truncated_svd', 'symeig_svd', 'randomized_svd']"
      ]
     },
     "execution_count": 13,
     "metadata": {},
     "output_type": "execute_result"
    }
   ],
   "source": [
    "tl.SVD_FUNS"
   ]
  },
  {
   "cell_type": "code",
   "execution_count": 14,
   "metadata": {
    "ExecuteTime": {
     "end_time": "2024-10-17T15:55:29.212519Z",
     "start_time": "2024-10-17T15:55:29.027037Z"
    }
   },
   "outputs": [],
   "source": [
    "tensor_rank_mapping = {\n",
    "    \"image\": (image_frames.shape[0] // 2, image_frames.shape[1] // 2, image_frames.shape[2]),\n",
    "    \"video\": (video_frames.shape[0] // 2, video_frames.shape[1], video_frames.shape[2], video_frames.shape[3]),\n",
    "}\n",
    "\n",
    "input_tensors = {\n",
    "    \"image\": image_frames.copy(),\n",
    "    \"video\": video_frames.copy(),\n",
    "}\n",
    "\n",
    "n_iter_max_param = 100\n",
    "\n",
    "svd_params = [\"truncated_svd\", \"symeig_svd\", \"randomized_svd\"]\n",
    "\n",
    "init_params = [\"svd\", \"random\"]\n",
    "\n",
    "backend_params = [\"pytorch\", \"numpy\"]\n",
    "\n",
    "random_state_param = 42\n",
    "\n",
    "total_iterations = len(list(product(svd_params, init_params, backend_params))) * len(input_tensors)"
   ]
  },
  {
   "cell_type": "code",
   "execution_count": 15,
   "metadata": {
    "ExecuteTime": {
     "end_time": "2024-10-17T15:55:29.323629Z",
     "start_time": "2024-10-17T15:55:29.277117Z"
    }
   },
   "outputs": [],
   "source": [
    "# with tl.backend_context('pytorch'):\n",
    "#     test = tl.tensor(image_frames.copy()).to(torch_device)\n",
    "#     tl.decomposition.tucker(test, rank={image_frames.shape[0] // 2, image_frames.shape[1], image_frames.shape[2])"
   ]
  },
  {
   "cell_type": "markdown",
   "metadata": {},
   "source": "#### Compare method with some params and log it"
  },
  {
   "cell_type": "code",
   "execution_count": 16,
   "metadata": {
    "ExecuteTime": {
     "end_time": "2024-10-17T16:02:28.849908Z",
     "start_time": "2024-10-17T15:55:29.333275Z"
    }
   },
   "outputs": [
    {
     "name": "stderr",
     "output_type": "stream",
     "text": [
      "Проверка набора параметров:   0%|          | 0/24 [00:00<?, ?it/s]\n",
      "Эксперимент набора параметров:   0%|          | 0/10 [00:00<?, ?it/s]\u001b[A/home/johndoe_19/git-projects/tensor-methods-comparison/.venv/lib/python3.11/site-packages/torch/distributed/distributed_c10d.py:293: UserWarning: torch.distributed.reduce_op is deprecated, please use torch.distributed.ReduceOp instead\n",
      "  warnings.warn(\n",
      "\n",
      "Эксперимент набора параметров:  10%|█         | 1/10 [00:10<01:30, 10.11s/it]\u001b[A\n",
      "Эксперимент набора параметров:  20%|██        | 2/10 [00:14<00:54,  6.84s/it]\u001b[A\n",
      "Эксперимент набора параметров:  30%|███       | 3/10 [00:18<00:39,  5.66s/it]\u001b[A\n",
      "Эксперимент набора параметров:  40%|████      | 4/10 [00:22<00:29,  4.98s/it]\u001b[A\n",
      "Эксперимент набора параметров:  50%|█████     | 5/10 [00:26<00:23,  4.67s/it]\u001b[A\n",
      "Эксперимент набора параметров:  60%|██████    | 6/10 [00:30<00:17,  4.44s/it]\u001b[A\n",
      "Эксперимент набора параметров:  70%|███████   | 7/10 [00:35<00:12,  4.32s/it]\u001b[A\n",
      "Эксперимент набора параметров:  80%|████████  | 8/10 [00:39<00:08,  4.23s/it]\u001b[A\n",
      "Эксперимент набора параметров:  90%|█████████ | 9/10 [00:43<00:04,  4.17s/it]\u001b[A\n",
      "Эксперимент набора параметров: 100%|██████████| 10/10 [00:47<00:00,  4.72s/it]\u001b[A\n",
      "Проверка набора параметров:   4%|▍         | 1/24 [00:52<19:59, 52.16s/it]"
     ]
    },
    {
     "name": "stdout",
     "output_type": "stream",
     "text": [
      "Изображение сохранено как /home/johndoe_19/git-projects/tensor-methods-comparison/.cache/output/TensorLy_Tucker_image_pytorch_truncated_svd_svd.jpg\n"
     ]
    },
    {
     "name": "stderr",
     "output_type": "stream",
     "text": [
      "\n",
      "Эксперимент набора параметров:   0%|          | 0/10 [00:00<?, ?it/s]\u001b[A\n",
      "Эксперимент набора параметров:  10%|█         | 1/10 [00:03<00:35,  3.93s/it]\u001b[A\n",
      "Эксперимент набора параметров:  20%|██        | 2/10 [00:07<00:30,  3.80s/it]\u001b[A\n",
      "Эксперимент набора параметров:  30%|███       | 3/10 [00:11<00:26,  3.80s/it]\u001b[A\n",
      "Эксперимент набора параметров:  40%|████      | 4/10 [00:15<00:22,  3.74s/it]\u001b[A\n",
      "Эксперимент набора параметров:  50%|█████     | 5/10 [00:18<00:18,  3.71s/it]\u001b[A\n",
      "Эксперимент набора параметров:  60%|██████    | 6/10 [00:22<00:14,  3.73s/it]\u001b[A\n",
      "Эксперимент набора параметров:  70%|███████   | 7/10 [00:26<00:11,  3.72s/it]\u001b[A\n",
      "Эксперимент набора параметров:  80%|████████  | 8/10 [00:30<00:07,  3.75s/it]\u001b[A\n",
      "Эксперимент набора параметров:  90%|█████████ | 9/10 [00:33<00:03,  3.79s/it]\u001b[A\n",
      "Эксперимент набора параметров: 100%|██████████| 10/10 [00:37<00:00,  3.77s/it]\u001b[A\n",
      "Проверка набора параметров:   8%|▊         | 2/24 [01:30<16:07, 43.99s/it]"
     ]
    },
    {
     "name": "stdout",
     "output_type": "stream",
     "text": [
      "Изображение сохранено как /home/johndoe_19/git-projects/tensor-methods-comparison/.cache/output/TensorLy_Tucker_image_pytorch_truncated_svd_random.jpg\n"
     ]
    },
    {
     "name": "stderr",
     "output_type": "stream",
     "text": [
      "\n",
      "Эксперимент набора параметров:   0%|          | 0/10 [00:06<?, ?it/s]\u001b[A\n",
      "Проверка набора параметров:  12%|█▎        | 3/24 [01:37<09:26, 27.00s/it]"
     ]
    },
    {
     "name": "stdout",
     "output_type": "stream",
     "text": [
      "Пропущена итерация из-за недостатка памяти: pytorch, symeig_svd, svd. Ошибка: CUDA out of memory. Tried to allocate 376.95 GiB (GPU 0; 11.00 GiB total capacity; 25.16 MiB already allocated; 9.86 GiB free; 46.00 MiB reserved in total by PyTorch) If reserved memory is >> allocated memory try setting max_split_size_mb to avoid fragmentation.  See documentation for Memory Management and PYTORCH_CUDA_ALLOC_CONF\n"
     ]
    },
    {
     "name": "stderr",
     "output_type": "stream",
     "text": [
      "\n",
      "Эксперимент набора параметров:   0%|          | 0/10 [00:00<?, ?it/s]\u001b[A\n",
      "Эксперимент набора параметров:  10%|█         | 1/10 [00:03<00:34,  3.80s/it]\u001b[A\n",
      "Эксперимент набора параметров:  20%|██        | 2/10 [00:07<00:30,  3.78s/it]\u001b[A\n",
      "Эксперимент набора параметров:  30%|███       | 3/10 [00:11<00:26,  3.72s/it]\u001b[A\n",
      "Эксперимент набора параметров:  40%|████      | 4/10 [00:14<00:22,  3.67s/it]\u001b[A\n",
      "Эксперимент набора параметров:  50%|█████     | 5/10 [00:18<00:18,  3.69s/it]\u001b[A\n",
      "Эксперимент набора параметров:  60%|██████    | 6/10 [00:22<00:14,  3.70s/it]\u001b[A\n",
      "Эксперимент набора параметров:  70%|███████   | 7/10 [00:25<00:11,  3.67s/it]\u001b[A\n",
      "Эксперимент набора параметров:  80%|████████  | 8/10 [00:29<00:07,  3.68s/it]\u001b[A\n",
      "Эксперимент набора параметров:  90%|█████████ | 9/10 [00:33<00:03,  3.67s/it]\u001b[A\n",
      "Эксперимент набора параметров: 100%|██████████| 10/10 [00:36<00:00,  3.70s/it]\u001b[A\n",
      "Проверка набора параметров:  17%|█▋        | 4/24 [02:14<10:23, 31.17s/it]"
     ]
    },
    {
     "name": "stdout",
     "output_type": "stream",
     "text": [
      "Изображение сохранено как /home/johndoe_19/git-projects/tensor-methods-comparison/.cache/output/TensorLy_Tucker_image_pytorch_symeig_svd_random.jpg\n"
     ]
    },
    {
     "name": "stderr",
     "output_type": "stream",
     "text": [
      "\n",
      "Эксперимент набора параметров:   0%|          | 0/10 [00:00<?, ?it/s]\u001b[A\n",
      "Эксперимент набора параметров:  10%|█         | 1/10 [00:03<00:34,  3.88s/it]\u001b[A\n",
      "Эксперимент набора параметров:  20%|██        | 2/10 [00:07<00:30,  3.79s/it]\u001b[A\n",
      "Эксперимент набора параметров:  30%|███       | 3/10 [00:11<00:26,  3.80s/it]\u001b[A\n",
      "Эксперимент набора параметров:  40%|████      | 4/10 [00:15<00:22,  3.82s/it]\u001b[A\n",
      "Эксперимент набора параметров:  50%|█████     | 5/10 [00:19<00:19,  3.83s/it]\u001b[A\n",
      "Эксперимент набора параметров:  60%|██████    | 6/10 [00:22<00:15,  3.83s/it]\u001b[A\n",
      "Эксперимент набора параметров:  70%|███████   | 7/10 [00:26<00:11,  3.83s/it]\u001b[A\n",
      "Эксперимент набора параметров:  80%|████████  | 8/10 [00:30<00:07,  3.80s/it]\u001b[A\n",
      "Эксперимент набора параметров:  90%|█████████ | 9/10 [00:34<00:03,  3.80s/it]\u001b[A\n",
      "Эксперимент набора параметров: 100%|██████████| 10/10 [00:37<00:00,  3.80s/it]\u001b[A\n",
      "Проверка набора параметров:  21%|██        | 5/24 [02:53<10:43, 33.85s/it]"
     ]
    },
    {
     "name": "stdout",
     "output_type": "stream",
     "text": [
      "Изображение сохранено как /home/johndoe_19/git-projects/tensor-methods-comparison/.cache/output/TensorLy_Tucker_image_pytorch_randomized_svd_svd.jpg\n"
     ]
    },
    {
     "name": "stderr",
     "output_type": "stream",
     "text": [
      "\n",
      "Эксперимент набора параметров:   0%|          | 0/10 [00:00<?, ?it/s]\u001b[A\n",
      "Эксперимент набора параметров:  10%|█         | 1/10 [00:03<00:33,  3.72s/it]\u001b[A\n",
      "Эксперимент набора параметров:  20%|██        | 2/10 [00:07<00:29,  3.65s/it]\u001b[A\n",
      "Эксперимент набора параметров:  30%|███       | 3/10 [00:10<00:25,  3.64s/it]\u001b[A\n",
      "Эксперимент набора параметров:  40%|████      | 4/10 [00:14<00:21,  3.63s/it]\u001b[A\n",
      "Эксперимент набора параметров:  50%|█████     | 5/10 [00:18<00:18,  3.66s/it]\u001b[A\n",
      "Эксперимент набора параметров:  60%|██████    | 6/10 [00:22<00:14,  3.69s/it]\u001b[A\n",
      "Эксперимент набора параметров:  70%|███████   | 7/10 [00:25<00:11,  3.70s/it]\u001b[A\n",
      "Эксперимент набора параметров:  80%|████████  | 8/10 [00:29<00:07,  3.69s/it]\u001b[A\n",
      "Эксперимент набора параметров:  90%|█████████ | 9/10 [00:33<00:03,  3.73s/it]\u001b[A\n",
      "Эксперимент набора параметров: 100%|██████████| 10/10 [00:36<00:00,  3.69s/it]\u001b[A\n",
      "Проверка набора параметров:  25%|██▌       | 6/24 [03:30<10:32, 35.11s/it]"
     ]
    },
    {
     "name": "stdout",
     "output_type": "stream",
     "text": [
      "Изображение сохранено как /home/johndoe_19/git-projects/tensor-methods-comparison/.cache/output/TensorLy_Tucker_image_pytorch_randomized_svd_random.jpg\n"
     ]
    },
    {
     "name": "stderr",
     "output_type": "stream",
     "text": [
      "\n",
      "Эксперимент набора параметров:   0%|          | 0/10 [00:00<?, ?it/s]\u001b[A\n",
      "Эксперимент набора параметров:  10%|█         | 1/10 [00:03<00:31,  3.48s/it]\u001b[A\n",
      "Эксперимент набора параметров:  20%|██        | 2/10 [00:07<00:28,  3.62s/it]\u001b[A\n",
      "Эксперимент набора параметров:  30%|███       | 3/10 [00:10<00:25,  3.60s/it]\u001b[A\n",
      "Эксперимент набора параметров:  40%|████      | 4/10 [00:14<00:21,  3.59s/it]\u001b[A\n",
      "Эксперимент набора параметров:  50%|█████     | 5/10 [00:18<00:19,  3.81s/it]\u001b[A\n",
      "Эксперимент набора параметров:  60%|██████    | 6/10 [00:22<00:14,  3.69s/it]\u001b[A\n",
      "Эксперимент набора параметров:  70%|███████   | 7/10 [00:25<00:10,  3.64s/it]\u001b[A\n",
      "Эксперимент набора параметров:  80%|████████  | 8/10 [00:29<00:07,  3.58s/it]\u001b[A\n",
      "Эксперимент набора параметров:  90%|█████████ | 9/10 [00:32<00:03,  3.61s/it]\u001b[A\n",
      "Эксперимент набора параметров: 100%|██████████| 10/10 [00:36<00:00,  3.66s/it]\u001b[A\n",
      "Проверка набора параметров:  29%|██▉       | 7/24 [04:08<10:08, 35.80s/it]"
     ]
    },
    {
     "name": "stdout",
     "output_type": "stream",
     "text": [
      "Изображение сохранено как /home/johndoe_19/git-projects/tensor-methods-comparison/.cache/output/TensorLy_Tucker_image_numpy_truncated_svd_svd.jpg\n"
     ]
    },
    {
     "name": "stderr",
     "output_type": "stream",
     "text": [
      "\n",
      "Эксперимент набора параметров:   0%|          | 0/10 [00:00<?, ?it/s]\u001b[A\n",
      "Эксперимент набора параметров:  10%|█         | 1/10 [00:03<00:31,  3.45s/it]\u001b[A\n",
      "Эксперимент набора параметров:  20%|██        | 2/10 [00:06<00:27,  3.46s/it]\u001b[A\n",
      "Эксперимент набора параметров:  30%|███       | 3/10 [00:10<00:24,  3.45s/it]\u001b[A\n",
      "Эксперимент набора параметров:  40%|████      | 4/10 [00:13<00:20,  3.43s/it]\u001b[A\n",
      "Эксперимент набора параметров:  50%|█████     | 5/10 [00:17<00:18,  3.70s/it]\u001b[A\n",
      "Эксперимент набора параметров:  60%|██████    | 6/10 [00:21<00:14,  3.64s/it]\u001b[A\n",
      "Эксперимент набора параметров:  70%|███████   | 7/10 [00:24<00:10,  3.58s/it]\u001b[A\n",
      "Эксперимент набора параметров:  80%|████████  | 8/10 [00:28<00:07,  3.58s/it]\u001b[A\n",
      "Эксперимент набора параметров:  90%|█████████ | 9/10 [00:31<00:03,  3.55s/it]\u001b[A\n",
      "Эксперимент набора параметров: 100%|██████████| 10/10 [00:35<00:00,  3.55s/it]\u001b[A\n",
      "Проверка набора параметров:  33%|███▎      | 8/24 [04:44<09:34, 35.91s/it]"
     ]
    },
    {
     "name": "stdout",
     "output_type": "stream",
     "text": [
      "Изображение сохранено как /home/johndoe_19/git-projects/tensor-methods-comparison/.cache/output/TensorLy_Tucker_image_numpy_truncated_svd_random.jpg\n"
     ]
    },
    {
     "name": "stderr",
     "output_type": "stream",
     "text": [
      "\n",
      "Эксперимент набора параметров:   0%|          | 0/10 [00:05<?, ?it/s]\u001b[A\n",
      "Проверка набора параметров:  38%|███▊      | 9/24 [04:49<06:35, 26.34s/it]"
     ]
    },
    {
     "name": "stdout",
     "output_type": "stream",
     "text": [
      "Пропущена итерация из-за недостатка памяти: numpy, symeig_svd, svd. Ошибка: Unable to allocate 94.2 GiB for an array with shape (318096, 318096) and data type uint8\n"
     ]
    },
    {
     "name": "stderr",
     "output_type": "stream",
     "text": [
      "\n",
      "Эксперимент набора параметров:   0%|          | 0/10 [00:00<?, ?it/s]\u001b[A\n",
      "Эксперимент набора параметров:  10%|█         | 1/10 [00:03<00:31,  3.45s/it]\u001b[A\n",
      "Эксперимент набора параметров:  20%|██        | 2/10 [00:06<00:28,  3.51s/it]\u001b[A\n",
      "Эксперимент набора параметров:  30%|███       | 3/10 [00:10<00:24,  3.47s/it]\u001b[A\n",
      "Эксперимент набора параметров:  40%|████      | 4/10 [00:13<00:21,  3.50s/it]\u001b[A\n",
      "Эксперимент набора параметров:  50%|█████     | 5/10 [00:17<00:17,  3.53s/it]\u001b[A\n",
      "Эксперимент набора параметров:  60%|██████    | 6/10 [00:21<00:14,  3.53s/it]\u001b[A\n",
      "Эксперимент набора параметров:  70%|███████   | 7/10 [00:24<00:10,  3.59s/it]\u001b[A\n",
      "Эксперимент набора параметров:  80%|████████  | 8/10 [00:28<00:07,  3.54s/it]\u001b[A\n",
      "Эксперимент набора параметров:  90%|█████████ | 9/10 [00:31<00:03,  3.51s/it]\u001b[A\n",
      "Эксперимент набора параметров: 100%|██████████| 10/10 [00:35<00:00,  3.52s/it]\u001b[A\n",
      "Проверка набора параметров:  42%|████▏     | 10/24 [05:25<06:49, 29.28s/it]"
     ]
    },
    {
     "name": "stdout",
     "output_type": "stream",
     "text": [
      "Изображение сохранено как /home/johndoe_19/git-projects/tensor-methods-comparison/.cache/output/TensorLy_Tucker_image_numpy_symeig_svd_random.jpg\n"
     ]
    },
    {
     "name": "stderr",
     "output_type": "stream",
     "text": [
      "\n",
      "Эксперимент набора параметров:   0%|          | 0/10 [00:00<?, ?it/s]\u001b[A\n",
      "Эксперимент набора параметров:  10%|█         | 1/10 [00:04<00:42,  4.69s/it]\u001b[A\n",
      "Эксперимент набора параметров:  20%|██        | 2/10 [00:09<00:37,  4.72s/it]\u001b[A\n",
      "Эксперимент набора параметров:  30%|███       | 3/10 [00:14<00:32,  4.71s/it]\u001b[A\n",
      "Эксперимент набора параметров:  40%|████      | 4/10 [00:18<00:28,  4.72s/it]\u001b[A\n",
      "Эксперимент набора параметров:  50%|█████     | 5/10 [00:23<00:23,  4.76s/it]\u001b[A\n",
      "Эксперимент набора параметров:  60%|██████    | 6/10 [00:34<00:27,  6.88s/it]\u001b[A\n",
      "Эксперимент набора параметров:  70%|███████   | 7/10 [00:39<00:18,  6.26s/it]\u001b[A\n",
      "Эксперимент набора параметров:  80%|████████  | 8/10 [00:44<00:11,  5.84s/it]\u001b[A\n",
      "Эксперимент набора параметров:  90%|█████████ | 9/10 [00:50<00:05,  5.70s/it]\u001b[A\n",
      "Эксперимент набора параметров: 100%|██████████| 10/10 [00:54<00:00,  5.47s/it]\u001b[A\n",
      "Проверка набора параметров:  46%|████▌     | 11/24 [06:20<08:04, 37.30s/it]"
     ]
    },
    {
     "name": "stdout",
     "output_type": "stream",
     "text": [
      "Изображение сохранено как /home/johndoe_19/git-projects/tensor-methods-comparison/.cache/output/TensorLy_Tucker_image_numpy_randomized_svd_svd.jpg\n"
     ]
    },
    {
     "name": "stderr",
     "output_type": "stream",
     "text": [
      "\n",
      "Эксперимент набора параметров:   0%|          | 0/10 [00:00<?, ?it/s]\u001b[A\n",
      "Эксперимент набора параметров:  10%|█         | 1/10 [00:03<00:30,  3.40s/it]\u001b[A\n",
      "Эксперимент набора параметров:  20%|██        | 2/10 [00:06<00:27,  3.45s/it]\u001b[A\n",
      "Эксперимент набора параметров:  30%|███       | 3/10 [00:10<00:24,  3.49s/it]\u001b[A\n",
      "Эксперимент набора параметров:  40%|████      | 4/10 [00:13<00:20,  3.49s/it]\u001b[A\n",
      "Эксперимент набора параметров:  50%|█████     | 5/10 [00:17<00:17,  3.47s/it]\u001b[A\n",
      "Эксперимент набора параметров:  60%|██████    | 6/10 [00:20<00:13,  3.46s/it]\u001b[A\n",
      "Эксперимент набора параметров:  70%|███████   | 7/10 [00:24<00:10,  3.48s/it]\u001b[A\n",
      "Эксперимент набора параметров:  80%|████████  | 8/10 [00:27<00:06,  3.48s/it]\u001b[A\n",
      "Эксперимент набора параметров:  90%|█████████ | 9/10 [00:31<00:03,  3.48s/it]\u001b[A\n",
      "Эксперимент набора параметров: 100%|██████████| 10/10 [00:34<00:00,  3.48s/it]\u001b[A\n",
      "Проверка набора параметров:  50%|█████     | 12/24 [06:56<06:56, 34.71s/it]\n"
     ]
    },
    {
     "name": "stdout",
     "output_type": "stream",
     "text": [
      "Изображение сохранено как /home/johndoe_19/git-projects/tensor-methods-comparison/.cache/output/TensorLy_Tucker_image_numpy_randomized_svd_random.jpg\n"
     ]
    },
    {
     "name": "stderr",
     "output_type": "stream",
     "text": [
      "Проверка набора параметров:   0%|          | 0/24 [00:00<?, ?it/s]"
     ]
    },
    {
     "name": "stdout",
     "output_type": "stream",
     "text": [
      "Пропущена итерация: логи уже существуют для TensorLy_Tucker_video_pytorch_truncated_svd_svd\n",
      "Пропущена итерация: логи уже существуют для TensorLy_Tucker_video_pytorch_truncated_svd_random\n"
     ]
    },
    {
     "name": "stderr",
     "output_type": "stream",
     "text": [
      "\n",
      "Эксперимент набора параметров:   0%|          | 0/10 [00:01<?, ?it/s]\u001b[A\n",
      "Проверка набора параметров:  12%|█▎        | 3/24 [00:02<00:14,  1.45it/s]"
     ]
    },
    {
     "name": "stdout",
     "output_type": "stream",
     "text": [
      "Пропущена итерация из-за недостатка памяти: pytorch, symeig_svd, svd. Ошибка: CUDA out of memory. Tried to allocate 1779.79 GiB (GPU 0; 11.00 GiB total capacity; 1.14 GiB already allocated; 8.75 GiB free; 1.15 GiB reserved in total by PyTorch) If reserved memory is >> allocated memory try setting max_split_size_mb to avoid fragmentation.  See documentation for Memory Management and PYTORCH_CUDA_ALLOC_CONF\n",
      "Пропущена итерация: логи уже существуют для TensorLy_Tucker_video_pytorch_symeig_svd_random\n",
      "Пропущена итерация: логи уже существуют для TensorLy_Tucker_video_pytorch_randomized_svd_svd\n",
      "Пропущена итерация: логи уже существуют для TensorLy_Tucker_video_pytorch_randomized_svd_random\n",
      "Пропущена итерация: логи уже существуют для TensorLy_Tucker_video_numpy_truncated_svd_svd\n",
      "Пропущена итерация: логи уже существуют для TensorLy_Tucker_video_numpy_truncated_svd_random\n"
     ]
    },
    {
     "name": "stderr",
     "output_type": "stream",
     "text": [
      "\n",
      "Эксперимент набора параметров:   0%|          | 0/10 [00:00<?, ?it/s]\u001b[A\n",
      "Проверка набора параметров:  50%|█████     | 12/24 [00:02<00:02,  4.10it/s]"
     ]
    },
    {
     "name": "stdout",
     "output_type": "stream",
     "text": [
      "Пропущена итерация из-за недостатка памяти: numpy, symeig_svd, svd. Ошибка: Unable to allocate 445. GiB for an array with shape (691200, 691200) and data type uint8\n",
      "Пропущена итерация: логи уже существуют для TensorLy_Tucker_video_numpy_symeig_svd_random\n",
      "Пропущена итерация: логи уже существуют для TensorLy_Tucker_video_numpy_randomized_svd_svd\n",
      "Пропущена итерация: логи уже существуют для TensorLy_Tucker_video_numpy_randomized_svd_random\n"
     ]
    },
    {
     "name": "stderr",
     "output_type": "stream",
     "text": [
      "\n"
     ]
    }
   ],
   "source": [
    "for data_type_name, input_tensor in input_tensors.items():\n",
    "    rank_param = tensor_rank_mapping[data_type_name]\n",
    "\n",
    "    for backend, svd_func, init_method in tqdm(\n",
    "        product(backend_params, svd_params, init_params), desc=\"Проверка набора параметров\", total=total_iterations\n",
    "    ):\n",
    "        library_method_name = \"TensorLy_Tucker\"\n",
    "        method_name = f\"{library_method_name}_{data_type_name}_{backend}_{svd_func}_{init_method}\"\n",
    "\n",
    "        if logs:\n",
    "            existing_log = next(\n",
    "                (\n",
    "                    log\n",
    "                    for log in logs\n",
    "                    if log[\"method_name\"] == method_name\n",
    "                    and log[\"method_args\"].get(\"init\") == init_method\n",
    "                    and log[\"method_args\"].get(\"svd\") == svd_func\n",
    "                    and log[\"qualitative_metrics\"].get(\"TensorLy backend\") == backend\n",
    "                ),\n",
    "                None,\n",
    "            )\n",
    "            if existing_log:\n",
    "                print(f\"Пропущена итерация: логи уже существуют для {method_name}\")\n",
    "                continue\n",
    "\n",
    "        torch.cuda.synchronize()\n",
    "        torch.cuda.empty_cache()\n",
    "        gc.collect()\n",
    "\n",
    "        try:\n",
    "            with tl.backend_context(backend):\n",
    "                if backend == \"pytorch\":\n",
    "                    tensor_param = tl.tensor(input_tensor).to(torch_device)\n",
    "                elif backend == \"numpy\" or backend is None:\n",
    "                    tensor_param = tl.tensor(input_tensor)\n",
    "\n",
    "                method_runner = MethodRunner(\n",
    "                    func=tl.decomposition.tucker,\n",
    "                    method_input_tensor=tensor_param,\n",
    "                    library_method_name=library_method_name,\n",
    "                    backend_name=backend,\n",
    "                    gpu_memory_tracker=GPUTorchMemoryTracker(),\n",
    "                    ram_memory_tracker=RAMMemoryTracker(),\n",
    "                    time_tracker=TimeTracker(),\n",
    "                )\n",
    "\n",
    "                method_logger = MethodLogger(\n",
    "                    method_name=method_name,\n",
    "                    qualitative_metrics={\n",
    "                        \"Language\": \"Python\",\n",
    "                        \"Library\": \"TensorLy\",\n",
    "                        \"TensorLy backend\": f\"{backend}\",\n",
    "                        \"Tensor type\": \"Dense\",\n",
    "                        \"Data type\": data_type_name,\n",
    "                        \"Platform\": \"CPU, GPU\",\n",
    "                        \"Decomposition method\": \"Tucker\",\n",
    "                    },\n",
    "                    method_args={\n",
    "                        \"tensor\": tensor_param,\n",
    "                        \"rank\": rank_param,\n",
    "                        \"n_iter_max\": n_iter_max_param,\n",
    "                        \"init\": init_method,\n",
    "                        \"svd\": svd_func,\n",
    "                        \"random_state\": random_state_param,\n",
    "                    },\n",
    "                    runner=method_runner,\n",
    "                )\n",
    "\n",
    "            reconstructed_tensor = method_runner.reconstructed_tensor\n",
    "\n",
    "            method_logger.save_logs_to_file(is_test=False)\n",
    "\n",
    "            reconstructed_frames = []\n",
    "\n",
    "            reconstructed_tensor = reconstructed_tensor.cpu().numpy() if backend == \"pytorch\" else reconstructed_tensor\n",
    "            reconstructed_frames = np.array([normalize_frames(frame) for frame in reconstructed_tensor])\n",
    "\n",
    "            save_params_combinations = {\n",
    "                \"image\": {\"name\": method_logger.name, \"frames\": reconstructed_frames},\n",
    "                \"video\": {\"name\": method_logger.name, \"frames\": reconstructed_frames, \"fps\": original_fps, \"frame_size\": frame_size},\n",
    "            }\n",
    "            save_params = save_params_combinations[data_type_name]\n",
    "\n",
    "            SaveFramesFactory.get_save_methods(frame_name=data_type_name).save_frames(**save_params)\n",
    "\n",
    "        except (torch.cuda.OutOfMemoryError, MemoryError) as e:\n",
    "            print(f\"Пропущена итерация из-за недостатка памяти: {backend}, {svd_func}, {init_method}. Ошибка: {e!s}\")\n",
    "            torch.cuda.synchronize()\n",
    "            torch.cuda.empty_cache()\n",
    "            gc.collect()\n",
    "            continue"
   ]
  },
  {
   "cell_type": "markdown",
   "metadata": {},
   "source": "#### Clear cache and gc collect"
  },
  {
   "cell_type": "code",
   "execution_count": 17,
   "metadata": {
    "ExecuteTime": {
     "end_time": "2024-10-17T16:02:29.095787Z",
     "start_time": "2024-10-17T16:02:28.902254Z"
    }
   },
   "outputs": [
    {
     "data": {
      "text/plain": [
       "485"
      ]
     },
     "execution_count": 17,
     "metadata": {},
     "output_type": "execute_result"
    }
   ],
   "source": [
    "torch.cuda.synchronize()\n",
    "torch.cuda.empty_cache()\n",
    "\n",
    "variables_to_delete = [\n",
    "    \"method_runner\",\n",
    "    \"method_logger\",\n",
    "    \"tensor_param\",\n",
    "    \"logs\",\n",
    "    \"tensor_rank_mapping\",\n",
    "    \"input_tensors\",\n",
    "    \"n_iter_max_param\",\n",
    "    \"svd_params\",\n",
    "    \"init_params\",\n",
    "    \"backend_params\",\n",
    "    \"random_state_param\",\n",
    "    \"total_iterations\",\n",
    "    \"data_type_name\",\n",
    "    \"input_tensor\",\n",
    "    \"rank_param\",\n",
    "    \"backend\",\n",
    "    \"svd_func\",\n",
    "    \"init_method\",\n",
    "    \"library_method_name\",\n",
    "    \"method_name\",\n",
    "    \"reconstructed_tensor\",\n",
    "    \"reconstructed_frames\",\n",
    "    \"save_params_combinations\",\n",
    "    \"save_params\",\n",
    "    \"frame\",\n",
    "]\n",
    "\n",
    "for var in variables_to_delete:\n",
    "    with contextlib.suppress(KeyError):\n",
    "        del globals()[var]\n",
    "\n",
    "gc.collect()"
   ]
  },
  {
   "cell_type": "markdown",
   "metadata": {},
   "source": "### Tensor Train - MPS (tensorly.decomposition.tensor_train)"
  },
  {
   "cell_type": "code",
   "execution_count": 18,
   "metadata": {
    "ExecuteTime": {
     "end_time": "2024-10-17T16:02:29.675456Z",
     "start_time": "2024-10-17T16:02:29.127808Z"
    }
   },
   "outputs": [],
   "source": [
    "logs = LogReader.load_logs_from_file(log_file_path)"
   ]
  },
  {
   "cell_type": "markdown",
   "metadata": {},
   "source": "#### Params"
  },
  {
   "cell_type": "code",
   "execution_count": 19,
   "metadata": {
    "ExecuteTime": {
     "end_time": "2024-10-17T16:02:29.782844Z",
     "start_time": "2024-10-17T16:02:29.699400Z"
    }
   },
   "outputs": [],
   "source": [
    "tensor_rank_mapping = {\n",
    "    \"image\": [1, 212, 212, 1],\n",
    "    \"video\": [1, 500, 302, 500, 1],\n",
    "}\n",
    "\n",
    "input_tensors = {\n",
    "    \"image\": image_frames.copy(),\n",
    "    \"video\": video_frames.copy(),\n",
    "}\n",
    "\n",
    "svd_params = [\"truncated_svd\", \"symeig_svd\", \"randomized_svd\"]\n",
    "\n",
    "backend_params = [\"pytorch\", \"numpy\"]\n",
    "\n",
    "total_iterations = len(list(product(backend_params, svd_params))) * len(input_tensors)"
   ]
  },
  {
   "cell_type": "markdown",
   "metadata": {},
   "source": "#### Compare method with some params and log it"
  },
  {
   "cell_type": "code",
   "execution_count": 20,
   "metadata": {
    "ExecuteTime": {
     "end_time": "2024-10-17T16:03:44.700696Z",
     "start_time": "2024-10-17T16:02:29.807617Z"
    }
   },
   "outputs": [
    {
     "name": "stderr",
     "output_type": "stream",
     "text": [
      "Проверка набора параметров:   0%|          | 0/12 [00:00<?, ?it/s]\n",
      "Эксперимент набора параметров:   0%|          | 0/10 [00:00<?, ?it/s]\u001b[A\n",
      "Эксперимент набора параметров:  10%|█         | 1/10 [00:00<00:08,  1.03it/s]\u001b[A\n",
      "Эксперимент набора параметров:  20%|██        | 2/10 [00:02<00:08,  1.01s/it]\u001b[A\n",
      "Эксперимент набора параметров:  30%|███       | 3/10 [00:03<00:07,  1.05s/it]\u001b[A\n",
      "Эксперимент набора параметров:  40%|████      | 4/10 [00:04<00:06,  1.03s/it]\u001b[A\n",
      "Эксперимент набора параметров:  50%|█████     | 5/10 [00:05<00:05,  1.01s/it]\u001b[A\n",
      "Эксперимент набора параметров:  60%|██████    | 6/10 [00:06<00:03,  1.00it/s]\u001b[A\n",
      "Эксперимент набора параметров:  70%|███████   | 7/10 [00:07<00:02,  1.01it/s]\u001b[A\n",
      "Эксперимент набора параметров:  80%|████████  | 8/10 [00:07<00:01,  1.02it/s]\u001b[A\n",
      "Эксперимент набора параметров:  90%|█████████ | 9/10 [00:08<00:00,  1.02it/s]\u001b[A\n",
      "Эксперимент набора параметров: 100%|██████████| 10/10 [00:09<00:00,  1.01it/s]\u001b[A\n",
      "Проверка набора параметров:   8%|▊         | 1/12 [00:10<01:58, 10.80s/it]"
     ]
    },
    {
     "name": "stdout",
     "output_type": "stream",
     "text": [
      "Изображение сохранено как /home/johndoe_19/git-projects/tensor-methods-comparison/.cache/output/TensorLy_TensorTrain_image_pytorch_truncated_svd.jpg\n"
     ]
    },
    {
     "name": "stderr",
     "output_type": "stream",
     "text": [
      "\n",
      "Эксперимент набора параметров:   0%|          | 0/10 [00:06<?, ?it/s]\u001b[A\n",
      "Проверка набора параметров:  17%|█▋        | 2/12 [00:17<01:23,  8.33s/it]"
     ]
    },
    {
     "name": "stdout",
     "output_type": "stream",
     "text": [
      "Пропущена итерация из-за недостатка памяти: pytorch, symeig_svd. Ошибка: CUDA out of memory. Tried to allocate 53.26 GiB (GPU 0; 11.00 GiB total capacity; 24.52 MiB already allocated; 9.86 GiB free; 42.00 MiB reserved in total by PyTorch) If reserved memory is >> allocated memory try setting max_split_size_mb to avoid fragmentation.  See documentation for Memory Management and PYTORCH_CUDA_ALLOC_CONF\n"
     ]
    },
    {
     "name": "stderr",
     "output_type": "stream",
     "text": [
      "\n",
      "Эксперимент набора параметров:   0%|          | 0/10 [00:00<?, ?it/s]\u001b[A\n",
      "Эксперимент набора параметров:  10%|█         | 1/10 [00:00<00:08,  1.08it/s]\u001b[A\n",
      "Эксперимент набора параметров:  20%|██        | 2/10 [00:01<00:07,  1.09it/s]\u001b[A\n",
      "Эксперимент набора параметров:  30%|███       | 3/10 [00:02<00:06,  1.10it/s]\u001b[A\n",
      "Эксперимент набора параметров:  40%|████      | 4/10 [00:03<00:05,  1.11it/s]\u001b[A\n",
      "Эксперимент набора параметров:  50%|█████     | 5/10 [00:04<00:04,  1.11it/s]\u001b[A\n",
      "Эксперимент набора параметров:  60%|██████    | 6/10 [00:05<00:03,  1.10it/s]\u001b[A\n",
      "Эксперимент набора параметров:  70%|███████   | 7/10 [00:06<00:02,  1.08it/s]\u001b[A\n",
      "Эксперимент набора параметров:  80%|████████  | 8/10 [00:07<00:01,  1.09it/s]\u001b[A\n",
      "Эксперимент набора параметров:  90%|█████████ | 9/10 [00:08<00:00,  1.10it/s]\u001b[A\n",
      "Эксперимент набора параметров: 100%|██████████| 10/10 [00:09<00:00,  1.09it/s]\u001b[A\n",
      "Проверка набора параметров:  25%|██▌       | 3/12 [00:27<01:21,  9.09s/it]"
     ]
    },
    {
     "name": "stdout",
     "output_type": "stream",
     "text": [
      "Изображение сохранено как /home/johndoe_19/git-projects/tensor-methods-comparison/.cache/output/TensorLy_TensorTrain_image_pytorch_randomized_svd.jpg\n"
     ]
    },
    {
     "name": "stderr",
     "output_type": "stream",
     "text": [
      "\n",
      "Эксперимент набора параметров:   0%|          | 0/10 [00:00<?, ?it/s]\u001b[A\n",
      "Эксперимент набора параметров:  10%|█         | 1/10 [00:01<00:11,  1.26s/it]\u001b[A\n",
      "Эксперимент набора параметров:  20%|██        | 2/10 [00:02<00:10,  1.29s/it]\u001b[A\n",
      "Эксперимент набора параметров:  30%|███       | 3/10 [00:03<00:08,  1.28s/it]\u001b[A\n",
      "Эксперимент набора параметров:  40%|████      | 4/10 [00:05<00:07,  1.27s/it]\u001b[A\n",
      "Эксперимент набора параметров:  50%|█████     | 5/10 [00:06<00:06,  1.28s/it]\u001b[A\n",
      "Эксперимент набора параметров:  60%|██████    | 6/10 [00:07<00:05,  1.30s/it]\u001b[A\n",
      "Эксперимент набора параметров:  70%|███████   | 7/10 [00:08<00:03,  1.28s/it]\u001b[A\n",
      "Эксперимент набора параметров:  80%|████████  | 8/10 [00:10<00:02,  1.26s/it]\u001b[A\n",
      "Эксперимент набора параметров:  90%|█████████ | 9/10 [00:11<00:01,  1.28s/it]\u001b[A\n",
      "Эксперимент набора параметров: 100%|██████████| 10/10 [00:23<00:00,  2.32s/it]\u001b[A\n",
      "Проверка набора параметров:  33%|███▎      | 4/12 [00:51<01:59, 15.00s/it]"
     ]
    },
    {
     "name": "stdout",
     "output_type": "stream",
     "text": [
      "Изображение сохранено как /home/johndoe_19/git-projects/tensor-methods-comparison/.cache/output/TensorLy_TensorTrain_image_numpy_truncated_svd.jpg\n"
     ]
    },
    {
     "name": "stderr",
     "output_type": "stream",
     "text": [
      "\n",
      "Эксперимент набора параметров:   0%|          | 0/10 [00:02<?, ?it/s]\u001b[A\n",
      "Проверка набора параметров:  42%|████▏     | 5/12 [00:54<01:15, 10.72s/it]"
     ]
    },
    {
     "name": "stdout",
     "output_type": "stream",
     "text": [
      "Пропущена итерация из-за недостатка памяти: numpy, symeig_svd. Ошибка: Unable to allocate 107. GiB for an array with shape (119568, 119568) and data type float64\n"
     ]
    },
    {
     "name": "stderr",
     "output_type": "stream",
     "text": [
      "\n",
      "Эксперимент набора параметров:   0%|          | 0/10 [00:00<?, ?it/s]\u001b[A\n",
      "Эксперимент набора параметров:  10%|█         | 1/10 [00:01<00:15,  1.72s/it]\u001b[A\n",
      "Эксперимент набора параметров:  20%|██        | 2/10 [00:03<00:13,  1.65s/it]\u001b[A\n",
      "Эксперимент набора параметров:  30%|███       | 3/10 [00:04<00:11,  1.62s/it]\u001b[A\n",
      "Эксперимент набора параметров:  40%|████      | 4/10 [00:06<00:09,  1.60s/it]\u001b[A\n",
      "Эксперимент набора параметров:  50%|█████     | 5/10 [00:08<00:08,  1.61s/it]\u001b[A\n",
      "Эксперимент набора параметров:  60%|██████    | 6/10 [00:09<00:06,  1.63s/it]\u001b[A\n",
      "Эксперимент набора параметров:  70%|███████   | 7/10 [00:11<00:04,  1.66s/it]\u001b[A\n",
      "Эксперимент набора параметров:  80%|████████  | 8/10 [00:13<00:03,  1.64s/it]\u001b[A\n",
      "Эксперимент набора параметров:  90%|█████████ | 9/10 [00:14<00:01,  1.67s/it]\u001b[A\n",
      "Эксперимент набора параметров: 100%|██████████| 10/10 [00:16<00:00,  1.65s/it]\u001b[A\n",
      "Проверка набора параметров:  50%|█████     | 6/12 [01:11<01:11, 11.99s/it]\n"
     ]
    },
    {
     "name": "stdout",
     "output_type": "stream",
     "text": [
      "Изображение сохранено как /home/johndoe_19/git-projects/tensor-methods-comparison/.cache/output/TensorLy_TensorTrain_image_numpy_randomized_svd.jpg\n"
     ]
    },
    {
     "name": "stderr",
     "output_type": "stream",
     "text": [
      "Проверка набора параметров:   0%|          | 0/12 [00:00<?, ?it/s]"
     ]
    },
    {
     "name": "stdout",
     "output_type": "stream",
     "text": [
      "Пропущена итерация: логи уже существуют для TensorLy_TensorTrain_video_pytorch_truncated_svd\n"
     ]
    },
    {
     "name": "stderr",
     "output_type": "stream",
     "text": [
      "\n",
      "Эксперимент набора параметров:   0%|          | 0/10 [00:01<?, ?it/s]\u001b[A\n",
      "Проверка набора параметров:  17%|█▋        | 2/12 [00:02<00:10,  1.00s/it]"
     ]
    },
    {
     "name": "stdout",
     "output_type": "stream",
     "text": [
      "Пропущена итерация из-за недостатка памяти: pytorch, symeig_svd. Ошибка: CUDA out of memory. Tried to allocate 1779.79 GiB (GPU 0; 11.00 GiB total capacity; 1.14 GiB already allocated; 8.75 GiB free; 1.15 GiB reserved in total by PyTorch) If reserved memory is >> allocated memory try setting max_split_size_mb to avoid fragmentation.  See documentation for Memory Management and PYTORCH_CUDA_ALLOC_CONF\n",
      "Пропущена итерация: логи уже существуют для TensorLy_TensorTrain_video_pytorch_randomized_svd\n",
      "Пропущена итерация: логи уже существуют для TensorLy_TensorTrain_video_numpy_truncated_svd\n"
     ]
    },
    {
     "name": "stderr",
     "output_type": "stream",
     "text": [
      "\n",
      "Эксперимент набора параметров:   0%|          | 0/10 [00:00<?, ?it/s]\u001b[A\n",
      "Проверка набора параметров:  50%|█████     | 6/12 [00:02<00:02,  2.08it/s]"
     ]
    },
    {
     "name": "stdout",
     "output_type": "stream",
     "text": [
      "Пропущена итерация из-за недостатка памяти: numpy, symeig_svd. Ошибка: Unable to allocate 445. GiB for an array with shape (691200, 691200) and data type uint8\n",
      "Пропущена итерация: логи уже существуют для TensorLy_TensorTrain_video_numpy_randomized_svd\n"
     ]
    },
    {
     "name": "stderr",
     "output_type": "stream",
     "text": [
      "\n"
     ]
    }
   ],
   "source": [
    "for data_type_name, input_tensor in input_tensors.items():\n",
    "    rank_param = tensor_rank_mapping[data_type_name]\n",
    "    for backend, svd_func in tqdm(product(backend_params, svd_params), desc=\"Проверка набора параметров\", total=total_iterations):\n",
    "        library_method_name = \"TensorLy_TensorTrain\"\n",
    "        method_name = f\"{library_method_name}_{data_type_name}_{backend}_{svd_func}\"\n",
    "\n",
    "        if logs:\n",
    "            existing_log = next(\n",
    "                (\n",
    "                    log\n",
    "                    for log in logs\n",
    "                    if log[\"method_name\"] == method_name\n",
    "                    and log[\"method_args\"].get(\"svd\") == svd_func\n",
    "                    and log[\"qualitative_metrics\"].get(\"TensorLy backend\") == backend\n",
    "                ),\n",
    "                None,\n",
    "            )\n",
    "            if existing_log:\n",
    "                print(f\"Пропущена итерация: логи уже существуют для {method_name}\")\n",
    "                continue\n",
    "\n",
    "        gc.collect()\n",
    "        torch.cuda.empty_cache()\n",
    "        torch.cuda.synchronize()\n",
    "\n",
    "        try:\n",
    "            with tl.backend_context(backend):\n",
    "                if backend == \"pytorch\":\n",
    "                    tensor_param = tl.tensor(input_tensor).to(torch_device)\n",
    "                elif backend == \"numpy\" or backend is None:\n",
    "                    tensor_param = tl.tensor(input_tensor)\n",
    "\n",
    "                method_runner = MethodRunner(\n",
    "                    func=tl.decomposition.tensor_train,\n",
    "                    method_input_tensor=tensor_param,\n",
    "                    library_method_name=library_method_name,\n",
    "                    backend_name=backend,\n",
    "                    gpu_memory_tracker=GPUTorchMemoryTracker(),\n",
    "                    ram_memory_tracker=RAMMemoryTracker(),\n",
    "                    time_tracker=TimeTracker(),\n",
    "                )\n",
    "\n",
    "                method_logger = MethodLogger(\n",
    "                    method_name=method_name,\n",
    "                    qualitative_metrics={\n",
    "                        \"Language\": \"Python\",\n",
    "                        \"Library\": \"TensorLy\",\n",
    "                        \"TensorLy backend\": f\"{backend}\",\n",
    "                        \"Tensor type\": \"Dense\",\n",
    "                        \"Data type\": data_type_name,\n",
    "                        \"Platform\": \"CPU, GPU\",\n",
    "                        \"Decomposition method\": \"TensorTrain\",\n",
    "                    },\n",
    "                    method_args={\n",
    "                        \"input_tensor\": tensor_param,\n",
    "                        \"rank\": rank_param,\n",
    "                        \"svd\": svd_func,\n",
    "                    },\n",
    "                    runner=method_runner,\n",
    "                )\n",
    "\n",
    "            reconstructed_tensor_from_tt_factors = method_runner.reconstructed_tensor\n",
    "\n",
    "            method_logger.save_logs_to_file(is_test=False)\n",
    "\n",
    "            reconstructed_frames = []\n",
    "\n",
    "            for tt_factor in reconstructed_tensor_from_tt_factors:\n",
    "                if backend == \"pytorch\":\n",
    "                    reconstructed_frames.append(normalize_frames(tt_factor.cpu().numpy()))\n",
    "                else:\n",
    "                    reconstructed_frames.append(normalize_frames(tt_factor))\n",
    "            reconstructed_frames = np.array(reconstructed_frames)\n",
    "\n",
    "            save_params_combinations = {\n",
    "                \"image\": {\"name\": method_logger.name, \"frames\": reconstructed_frames},\n",
    "                \"video\": {\"name\": method_logger.name, \"frames\": reconstructed_frames, \"fps\": original_fps, \"frame_size\": frame_size},\n",
    "            }\n",
    "            save_params = save_params_combinations[data_type_name]\n",
    "\n",
    "            SaveFramesFactory.get_save_methods(frame_name=data_type_name).save_frames(**save_params)\n",
    "\n",
    "        except (torch.cuda.OutOfMemoryError, MemoryError) as e:\n",
    "            print(f\"Пропущена итерация из-за недостатка памяти: {backend}, {svd_func}. Ошибка: {e!s}\")\n",
    "            gc.collect()\n",
    "            torch.cuda.empty_cache()\n",
    "            torch.cuda.synchronize()\n",
    "            continue"
   ]
  },
  {
   "cell_type": "markdown",
   "metadata": {},
   "source": "#### Clear cache and gc collect"
  },
  {
   "cell_type": "code",
   "execution_count": 21,
   "metadata": {
    "ExecuteTime": {
     "end_time": "2024-10-17T16:03:44.926915Z",
     "start_time": "2024-10-17T16:03:44.745696Z"
    }
   },
   "outputs": [
    {
     "data": {
      "text/plain": [
       "485"
      ]
     },
     "execution_count": 21,
     "metadata": {},
     "output_type": "execute_result"
    }
   ],
   "source": [
    "torch.cuda.synchronize()\n",
    "torch.cuda.empty_cache()\n",
    "\n",
    "variables_to_delete = [\n",
    "    \"logs\",\n",
    "    \"tensor_rank_mapping\",\n",
    "    \"input_tensors\",\n",
    "    \"svd_params\",\n",
    "    \"backend_params\",\n",
    "    \"total_iterations\",\n",
    "    \"data_type_name\",\n",
    "    \"input_tensor\",\n",
    "    \"rank_param\",\n",
    "    \"backend\",\n",
    "    \"svd_func\",\n",
    "    \"library_method_name\",\n",
    "    \"method_name\",\n",
    "    \"reconstructed_tensor_from_tt_factors\",\n",
    "    \"method_runner\",\n",
    "    \"method_logger\",\n",
    "    \"reconstructed_frames\",\n",
    "    \"save_params_combinations\",\n",
    "    \"save_params\",\n",
    "    \"tt_factor\",\n",
    "]\n",
    "\n",
    "for var in variables_to_delete:\n",
    "    with contextlib.suppress(KeyError):\n",
    "        del globals()[var]\n",
    "\n",
    "gc.collect()"
   ]
  },
  {
   "cell_type": "markdown",
   "metadata": {},
   "source": "## T3F"
  },
  {
   "cell_type": "markdown",
   "metadata": {},
   "source": "### Tensor Train"
  },
  {
   "cell_type": "code",
   "execution_count": 22,
   "metadata": {
    "ExecuteTime": {
     "end_time": "2024-10-17T16:03:45.577879Z",
     "start_time": "2024-10-17T16:03:44.957330Z"
    }
   },
   "outputs": [],
   "source": [
    "logs = LogReader.load_logs_from_file(log_file_path)"
   ]
  },
  {
   "cell_type": "markdown",
   "metadata": {},
   "source": "#### Params"
  },
  {
   "cell_type": "code",
   "execution_count": 23,
   "metadata": {
    "ExecuteTime": {
     "end_time": "2024-10-17T16:03:45.848589Z",
     "start_time": "2024-10-17T16:03:45.601937Z"
    }
   },
   "outputs": [],
   "source": [
    "tensor_rank_mapping = {\n",
    "    \"image\": [1, 212, 212, 1],\n",
    "    \"video\": [1, 500, 302, 500, 1],\n",
    "}\n",
    "\n",
    "input_tensors = {\n",
    "    \"image\": image_frames.copy().astype(np.float32),\n",
    "    \"video\": video_frames.copy().astype(np.float32),\n",
    "}\n",
    "\n",
    "backend_param = \"tensorflow\"\n",
    "\n",
    "total_iterations = len(input_tensors)"
   ]
  },
  {
   "cell_type": "markdown",
   "metadata": {},
   "source": "#### Compare method with some params and log it"
  },
  {
   "cell_type": "code",
   "execution_count": 24,
   "metadata": {
    "ExecuteTime": {
     "end_time": "2024-10-17T16:04:01.291962Z",
     "start_time": "2024-10-17T16:03:45.874367Z"
    }
   },
   "outputs": [
    {
     "name": "stderr",
     "output_type": "stream",
     "text": [
      "Проверка набора параметров:   0%|          | 0/2 [00:00<?, ?it/s]\n",
      "Эксперимент набора параметров:   0%|          | 0/10 [00:00<?, ?it/s]\u001b[AI0000 00:00:1729181026.199732     884 cuda_executor.cc:1001] could not open file to read NUMA node: /sys/bus/pci/devices/0000:01:00.0/numa_node\n",
      "Your kernel may have been built without NUMA support.\n",
      "I0000 00:00:1729181026.199829     884 cuda_executor.cc:1001] could not open file to read NUMA node: /sys/bus/pci/devices/0000:01:00.0/numa_node\n",
      "Your kernel may have been built without NUMA support.\n",
      "I0000 00:00:1729181026.199885     884 cuda_executor.cc:1001] could not open file to read NUMA node: /sys/bus/pci/devices/0000:01:00.0/numa_node\n",
      "Your kernel may have been built without NUMA support.\n",
      "I0000 00:00:1729181026.205476     884 cuda_executor.cc:1001] could not open file to read NUMA node: /sys/bus/pci/devices/0000:01:00.0/numa_node\n",
      "Your kernel may have been built without NUMA support.\n",
      "I0000 00:00:1729181026.205522     884 cuda_executor.cc:1001] could not open file to read NUMA node: /sys/bus/pci/devices/0000:01:00.0/numa_node\n",
      "Your kernel may have been built without NUMA support.\n",
      "2024-10-17 21:03:46.205532: I tensorflow/core/common_runtime/gpu/gpu_device.cc:2112] Could not identify NUMA node of platform GPU id 0, defaulting to 0.  Your kernel may not have been built with NUMA support.\n",
      "I0000 00:00:1729181026.205573     884 cuda_executor.cc:1001] could not open file to read NUMA node: /sys/bus/pci/devices/0000:01:00.0/numa_node\n",
      "Your kernel may have been built without NUMA support.\n",
      "2024-10-17 21:03:46.206440: I tensorflow/core/common_runtime/gpu/gpu_device.cc:2021] Created device /job:localhost/replica:0/task:0/device:GPU:0 with 9620 MB memory:  -> device: 0, name: NVIDIA GeForce GTX 1080 Ti, pci bus id: 0000:01:00.0, compute capability: 6.1\n",
      "2024-10-17 21:03:46.562984: I tensorflow/core/util/cuda_solvers.cc:178] Creating GpuSolver handles for stream 0x7f6304001b00\n",
      "\n",
      "Эксперимент набора параметров:  10%|█         | 1/10 [00:01<00:14,  1.65s/it]\u001b[A\n",
      "Эксперимент набора параметров:  20%|██        | 2/10 [00:02<00:10,  1.36s/it]\u001b[A\n",
      "Эксперимент набора параметров:  30%|███       | 3/10 [00:04<00:09,  1.37s/it]\u001b[A\n",
      "Эксперимент набора параметров:  40%|████      | 4/10 [00:05<00:07,  1.27s/it]\u001b[A\n",
      "Эксперимент набора параметров:  50%|█████     | 5/10 [00:06<00:06,  1.34s/it]\u001b[A\n",
      "Эксперимент набора параметров:  60%|██████    | 6/10 [00:08<00:05,  1.40s/it]\u001b[A\n",
      "Эксперимент набора параметров:  70%|███████   | 7/10 [00:09<00:04,  1.39s/it]\u001b[A\n",
      "Эксперимент набора параметров:  80%|████████  | 8/10 [00:10<00:02,  1.34s/it]\u001b[A\n",
      "Эксперимент набора параметров:  90%|█████████ | 9/10 [00:12<00:01,  1.33s/it]\u001b[A\n",
      "Эксперимент набора параметров: 100%|██████████| 10/10 [00:13<00:00,  1.36s/it]\u001b[A\n",
      "Проверка набора параметров: 100%|██████████| 2/2 [00:15<00:00,  7.69s/it]"
     ]
    },
    {
     "name": "stdout",
     "output_type": "stream",
     "text": [
      "Изображение сохранено как /home/johndoe_19/git-projects/tensor-methods-comparison/.cache/output/T3F_TensorTrain_image.jpg\n",
      "Пропущена итерация: логи уже существуют для T3F_TensorTrain_video\n"
     ]
    },
    {
     "name": "stderr",
     "output_type": "stream",
     "text": [
      "\n"
     ]
    }
   ],
   "source": [
    "for data_type_name, input_tensor in tqdm(input_tensors.items(), desc=\"Проверка набора параметров\", total=total_iterations):\n",
    "    rank_param = tensor_rank_mapping[data_type_name]\n",
    "    tensor_param = input_tensor\n",
    "\n",
    "    library_method_name = \"T3F_TensorTrain\"\n",
    "    method_name = f\"{library_method_name}_{data_type_name}\"\n",
    "\n",
    "    if logs:\n",
    "        existing_log = next((log for log in logs if log[\"method_name\"] == method_name), None)\n",
    "        if existing_log:\n",
    "            print(f\"Пропущена итерация: логи уже существуют для {method_name}\")\n",
    "            continue\n",
    "\n",
    "    gc.collect()\n",
    "\n",
    "    method_runner = MethodRunner(\n",
    "        func=t3f.to_tt_tensor,\n",
    "        method_input_tensor=tensor_param,\n",
    "        library_method_name=library_method_name,\n",
    "        backend_name=backend_param,\n",
    "        gpu_memory_tracker=GPUTensorflowMemoryTracker(tf_devices=tf_devices),\n",
    "        ram_memory_tracker=RAMMemoryTracker(),\n",
    "        time_tracker=TimeTracker(),\n",
    "    )\n",
    "\n",
    "    method_logger = MethodLogger(\n",
    "        method_name=method_name,\n",
    "        qualitative_metrics={\n",
    "            \"Language\": \"Python\",\n",
    "            \"Library\": \"T3F\",\n",
    "            \"T3F backend\": f\"{backend_param}\",\n",
    "            \"Tensor type\": \"Dense\",\n",
    "            \"Data type\": data_type_name,\n",
    "            \"Platform\": \"CPU, GPU\",\n",
    "            \"Decomposition method\": \"TensorTrain\",\n",
    "        },\n",
    "        method_args={\n",
    "            \"tens\": tensor_param,\n",
    "            \"max_tt_rank\": rank_param,\n",
    "        },\n",
    "        runner=method_runner,\n",
    "    )\n",
    "\n",
    "    reconstructed_tensor_t3f = method_runner.reconstructed_tensor\n",
    "\n",
    "    method_logger.save_logs_to_file(is_test=False)\n",
    "\n",
    "    reconstructed_frames = []\n",
    "\n",
    "    for frame in reconstructed_tensor_t3f:\n",
    "        reconstructed_frames.append(normalize_frames(frame))\n",
    "    reconstructed_frames = np.array(reconstructed_frames)\n",
    "\n",
    "    save_params_combinations = {\n",
    "        \"image\": {\"name\": method_logger.name, \"frames\": reconstructed_frames},\n",
    "        \"video\": {\"name\": method_logger.name, \"frames\": reconstructed_frames, \"fps\": original_fps, \"frame_size\": frame_size},\n",
    "    }\n",
    "\n",
    "    save_params = save_params_combinations[data_type_name]\n",
    "\n",
    "    SaveFramesFactory.get_save_methods(frame_name=data_type_name).save_frames(**save_params)"
   ]
  },
  {
   "cell_type": "markdown",
   "metadata": {},
   "source": "#### Clear cache and gc collect"
  },
  {
   "cell_type": "code",
   "execution_count": 25,
   "metadata": {
    "ExecuteTime": {
     "end_time": "2024-10-17T16:04:01.811661Z",
     "start_time": "2024-10-17T16:04:01.331893Z"
    }
   },
   "outputs": [
    {
     "data": {
      "text/plain": [
       "504"
      ]
     },
     "execution_count": 25,
     "metadata": {},
     "output_type": "execute_result"
    }
   ],
   "source": [
    "torch.cuda.synchronize()\n",
    "torch.cuda.empty_cache()\n",
    "\n",
    "numba_device = cuda.get_current_device()\n",
    "numba_device.reset()\n",
    "\n",
    "variables_to_delete = [\n",
    "    \"logs\",\n",
    "    \"tensor_rank_mapping\",\n",
    "    \"input_tensors\",\n",
    "    \"backend_param\",\n",
    "    \"total_iterations\",\n",
    "    \"data_type_name\",\n",
    "    \"input_tensor\",\n",
    "    \"rank_param\",\n",
    "    \"tensor_param\",\n",
    "    \"library_method_name\",\n",
    "    \"method_name\",\n",
    "    \"method_runner\",\n",
    "    \"method_logger\",\n",
    "    \"reconstructed_tensor_t3f\",\n",
    "    \"reconstructed_frames\",\n",
    "    \"frame\",\n",
    "    \"save_params_combinations\",\n",
    "    \"save_params\",\n",
    "]\n",
    "\n",
    "for var in variables_to_delete:\n",
    "    with contextlib.suppress(KeyError):\n",
    "        del globals()[var]\n",
    "\n",
    "gc.collect()"
   ]
  },
  {
   "cell_type": "markdown",
   "metadata": {},
   "source": "## TeNPy (not implemented)"
  },
  {
   "cell_type": "markdown",
   "metadata": {},
   "source": "### Params"
  },
  {
   "cell_type": "code",
   "execution_count": 26,
   "metadata": {
    "ExecuteTime": {
     "end_time": "2024-10-17T16:04:01.877686Z",
     "start_time": "2024-10-17T16:04:01.841610Z"
    }
   },
   "outputs": [],
   "source": [
    "# tensor_param = video_frames.copy().astype(np.float32)\n",
    "#\n",
    "# # Размерность физического индекса\n",
    "# d = tensor_param.shape[-1]  # в вашем случае это 3\n",
    "#\n",
    "# # Создаем объект LegCharge\n",
    "# leg = LegCharge.from_trivial(d)\n",
    "#\n",
    "# # Создаем объекты Site для каждого физического индекса, кроме последнего\n",
    "# sites = [Site(leg) for _ in range(tensor_param.ndim - 1)]\n",
    "#\n",
    "# rank_param = [1, 500, 302, 500, 1]"
   ]
  },
  {
   "cell_type": "markdown",
   "metadata": {},
   "source": "### Implementation"
  },
  {
   "cell_type": "code",
   "execution_count": 27,
   "metadata": {
    "ExecuteTime": {
     "end_time": "2024-10-17T16:04:01.930525Z",
     "start_time": "2024-10-17T16:04:01.900568Z"
    }
   },
   "outputs": [],
   "source": [
    "# mps = MPS.from_full(sites=sites, psi=tensor_param, normalize=False)\n",
    "#\n",
    "# reconstructed_tensor = mps.to_full_tensor()"
   ]
  },
  {
   "cell_type": "code",
   "execution_count": 28,
   "metadata": {
    "ExecuteTime": {
     "end_time": "2024-10-17T16:04:01.987142Z",
     "start_time": "2024-10-17T16:04:01.954797Z"
    }
   },
   "outputs": [],
   "source": [
    "# logs = load_logs_from_file(log_file_path)\n",
    "#\n",
    "# method_name = f\"TeNPy_TensorTrain\"\n",
    "#\n",
    "# if logs:\n",
    "#     existing_log = next(\n",
    "#         (log for log in logs if log['method_name'] == method_name),\n",
    "#         None\n",
    "#     )\n",
    "#     if existing_log:\n",
    "#         error_message = f\"Пропущена итерация: логи уже существуют для {method_name}\"\n",
    "#         raise error_message\n",
    "#\n",
    "# gc.collect()\n",
    "# torch.cuda.empty_cache()\n",
    "# torch.cuda.synchronize()\n",
    "#\n",
    "# method_logs = MethodLogger(\n",
    "#     method_name=method_name,\n",
    "#     method_input_tensor=tensor_param,\n",
    "#     qualitative_metrics={\n",
    "#         \"Language\": \"Python\",\n",
    "#         \"Library\": \"TeNPy\",\n",
    "#         \"Tensor type\": \"Dense\",\n",
    "#         \"Platform\": \"CPU\",\n",
    "#         \"Decomposition method\": \"TensorTrain\",\n",
    "#     },\n",
    "#     method_args={\n",
    "#         \"sites\": tensor_param,\n",
    "#         \"psi\": rank_param,\n",
    "#         \"normalize\": False,\n",
    "#     },\n",
    "#     func=tenpy.networks.mps.MPS.from_full\n",
    "# )\n",
    "#\n",
    "# method_logs_list.append(method_logs)\n",
    "#\n",
    "# tt_factors = method_logs.method_result\n",
    "#\n",
    "# reconstruct_frames_from_tenpy_tt_factors = tt_factors.to_full_tensor()"
   ]
  },
  {
   "cell_type": "code",
   "execution_count": 29,
   "metadata": {
    "ExecuteTime": {
     "end_time": "2024-10-17T16:04:02.041775Z",
     "start_time": "2024-10-17T16:04:02.011189Z"
    }
   },
   "outputs": [],
   "source": [
    "# method_logs.quantitative_metrics['compression_ratio'] = (100.0 * get_tensors_size(*tt_factors) / get_tensors_size(tensor_param))\n",
    "\n",
    "# method_logs.quantitative_metrics['frobenius_error'] = (\n",
    "#         100.0 * np.linalg.norm(reconstruct_frames_from_tenpy_tt_factors - tensor_param) / tl.norm(\n",
    "#         tensor_param))\n",
    "#\n",
    "# save_logs_to_file(method_logs=method_logs, is_test=True)\n",
    "#\n",
    "# reconstructed_frames = []\n",
    "#\n",
    "# for i in range(len(reconstruct_frames_from_tenpy_tt_factors)):\n",
    "#     reconstructed_frames.append(normalize_frame_tensorly_tensortrain(reconstruct_frames_from_tenpy_tt_factors[i]))\n",
    "#\n",
    "# save_frames_as_video(name=method_logs.name, frames=reconstructed_frames, fps=original_fps, frame_size=frame_size)"
   ]
  }
 ],
 "metadata": {
  "kernelspec": {
   "display_name": "Python 3",
   "language": "python",
   "name": "python3"
  },
  "language_info": {
   "codemirror_mode": {
    "name": "ipython",
    "version": 2
   },
   "file_extension": ".py",
   "mimetype": "text/x-python",
   "name": "python",
   "nbconvert_exporter": "python",
   "pygments_lexer": "ipython2",
   "version": "2.7.6"
  }
 },
 "nbformat": 4,
 "nbformat_minor": 0
}
