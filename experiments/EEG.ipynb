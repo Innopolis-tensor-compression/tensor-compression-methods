{
 "cells": [
  {
   "cell_type": "code",
   "execution_count": 31,
   "id": "6537d078b29282c",
   "metadata": {
    "ExecuteTime": {
     "end_time": "2024-10-23T15:25:26.004579Z",
     "start_time": "2024-10-23T15:25:25.866902Z"
    }
   },
   "outputs": [
    {
     "name": "stdout",
     "output_type": "stream",
     "text": [
      "The autoreload extension is already loaded. To reload it, use:\n",
      "  %reload_ext autoreload\n"
     ]
    }
   ],
   "source": [
    "import sys\n",
    "\n",
    "modules_to_reload = [\n",
    "    \"src.utils.eeg_controller\",\n",
    "]\n",
    "\n",
    "for module in modules_to_reload:\n",
    "    if module in sys.modules:\n",
    "        del sys.modules[module]\n",
    "\n",
    "%load_ext autoreload\n",
    "%autoreload 2\n",
    "\n",
    "import gc\n",
    "import os\n",
    "\n",
    "from dotenv import load_dotenv\n",
    "\n",
    "from src.utils.eeg_controller import download_mat_file, extract_mat_data"
   ]
  },
  {
   "cell_type": "code",
   "execution_count": 32,
   "id": "2c30e87e49943f5d",
   "metadata": {
    "ExecuteTime": {
     "end_time": "2024-10-23T15:25:26.069786Z",
     "start_time": "2024-10-23T15:25:26.026731Z"
    }
   },
   "outputs": [
    {
     "data": {
      "text/plain": [
       "True"
      ]
     },
     "execution_count": 32,
     "metadata": {},
     "output_type": "execute_result"
    }
   ],
   "source": [
    "load_dotenv()"
   ]
  },
  {
   "cell_type": "code",
   "execution_count": 33,
   "id": "8b546b59608c6c63",
   "metadata": {
    "ExecuteTime": {
     "end_time": "2024-10-23T15:26:15.275307Z",
     "start_time": "2024-10-23T15:26:15.229500Z"
    }
   },
   "outputs": [],
   "source": [
    "mat_url = os.getenv(\"EEG_URL\")\n",
    "cache_dir = \"../.cache/mat\""
   ]
  },
  {
   "cell_type": "code",
   "execution_count": 34,
   "id": "fc83c58cca02e0e6",
   "metadata": {
    "ExecuteTime": {
     "end_time": "2024-10-23T15:27:04.267826Z",
     "start_time": "2024-10-23T15:27:03.482104Z"
    }
   },
   "outputs": [
    {
     "name": "stdout",
     "output_type": "stream",
     "text": [
      "Файл уже загружен и закеширован: ..\\.cache\\mat\\sub_all_bgr.mat\n"
     ]
    }
   ],
   "source": [
    "mat_path = download_mat_file(mat_url, cache_dir)"
   ]
  },
  {
   "cell_type": "code",
   "execution_count": 35,
   "id": "f4be776039dc19e0",
   "metadata": {
    "ExecuteTime": {
     "end_time": "2024-10-23T15:27:56.059284Z",
     "start_time": "2024-10-23T15:27:50.673113Z"
    }
   },
   "outputs": [],
   "source": [
    "mat_file = extract_mat_data(mat_path)"
   ]
  },
  {
   "cell_type": "code",
   "execution_count": 36,
   "id": "c104dd2c1d549f17",
   "metadata": {
    "ExecuteTime": {
     "end_time": "2024-10-23T15:29:34.946352Z",
     "start_time": "2024-10-23T15:29:34.889934Z"
    }
   },
   "outputs": [
    {
     "data": {
      "text/plain": [
       "dict_keys(['__header__', '__version__', '__globals__', 'subs_ica_bgr'])"
      ]
     },
     "execution_count": 36,
     "metadata": {},
     "output_type": "execute_result"
    }
   ],
   "source": [
    "mat_file.keys()"
   ]
  },
  {
   "cell_type": "code",
   "execution_count": null,
   "id": "e0332b7f26fe2e0b",
   "metadata": {
    "jupyter": {
     "is_executing": true
    }
   },
   "outputs": [],
   "source": [
    "mat_header = mat_file.get(\"__header__\")\n",
    "mat_version = mat_file.get(\"__version__\")\n",
    "mat_globals = mat_file.get(\"__globals__\")"
   ]
  },
  {
   "cell_type": "code",
   "execution_count": null,
   "id": "be58a7a72b334a12",
   "metadata": {},
   "outputs": [],
   "source": [
    "mat_subs_ica_bgr = mat_file.get(\"subs_ica_bgr\")"
   ]
  },
  {
   "cell_type": "code",
   "execution_count": null,
   "id": "d7f8bb9bded3ef7d",
   "metadata": {},
   "outputs": [],
   "source": [
    "del mat_file\n",
    "gc.collect()"
   ]
  },
  {
   "cell_type": "code",
   "execution_count": null,
   "id": "efb4a7f83e9e9d52",
   "metadata": {},
   "outputs": [],
   "source": [
    "print(mat_header, mat_version, mat_globals, sep=\"\\n\")"
   ]
  },
  {
   "cell_type": "code",
   "execution_count": null,
   "id": "12d21a2beb67c98e",
   "metadata": {},
   "outputs": [],
   "source": [
    "mat_subs_ica_bgr.shape"
   ]
  },
  {
   "cell_type": "code",
   "execution_count": 24,
   "id": "3f7369633c5f249d",
   "metadata": {
    "ExecuteTime": {
     "end_time": "2024-10-23T15:19:29.681430Z",
     "start_time": "2024-10-23T15:19:29.635712Z"
    }
   },
   "outputs": [
    {
     "data": {
      "text/plain": [
       "(15,)"
      ]
     },
     "execution_count": 24,
     "metadata": {},
     "output_type": "execute_result"
    }
   ],
   "source": [
    "mat_subs_ica_bgr[0].shape"
   ]
  },
  {
   "cell_type": "code",
   "execution_count": null,
   "id": "3c6f6f79c4f17c03",
   "metadata": {},
   "outputs": [],
   "source": []
  }
 ],
 "metadata": {
  "kernelspec": {
   "display_name": "Python 3",
   "language": "python",
   "name": "python3"
  },
  "language_info": {
   "codemirror_mode": {
    "name": "ipython",
    "version": 2
   },
   "file_extension": ".py",
   "mimetype": "text/x-python",
   "name": "python",
   "nbconvert_exporter": "python",
   "pygments_lexer": "ipython2",
   "version": "2.7.6"
  }
 },
 "nbformat": 4,
 "nbformat_minor": 5
}
